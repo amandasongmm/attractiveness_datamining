{
 "cells": [
  {
   "cell_type": "code",
   "execution_count": 56,
   "metadata": {
    "collapsed": true
   },
   "outputs": [],
   "source": [
    "import numpy as np\n",
    "import pandas as pd\n",
    "from sklearn.cross_validation import train_test_split\n",
    "from scipy.stats import pearsonr, spearmanr\n",
    "from sklearn import cross_validation\n",
    "from sklearn import linear_model\n",
    "from sklearn.decomposition import PCA\n",
    "import matplotlib.pyplot as plt\n",
    "%matplotlib inline\n",
    "\n",
    "import numpy as np\n",
    "import pandas as pd\n",
    "from sklearn import linear_model\n",
    "from sklearn.metrics import explained_variance_score\n",
    "from sklearn import cross_validation\n",
    "from scipy.stats import spearmanr\n",
    "__author__ = 'amanda'\n",
    "\n",
    "feature_arr = pd.read_csv('../clean_data/reordered_social_feature.csv')\n",
    "\n",
    "attract_y = feature_arr['attractive']\n",
    "attract_y = attract_y.values\n",
    "\n",
    "feature_x = feature_arr.drop(['attractive','unattractive'], axis=1)\n",
    "x_fields = list(feature_x.columns.values)\n",
    "feature_x = feature_x.values\n",
    "\n",
    "pca = PCA()\n",
    "pca_feature = pca.fit_transform(feature_x)\n",
    "pca_score = pca.explained_variance_ratio_\n",
    "pca_components = pca.components_\n",
    "# pca_score\n",
    "# pca_score.cumsum()"
   ]
  },
  {
   "cell_type": "code",
   "execution_count": 57,
   "metadata": {
    "collapsed": false
   },
   "outputs": [
    {
     "name": "stdout",
     "output_type": "stream",
     "text": [
      "(2207, 38)\n"
     ]
    }
   ],
   "source": [
    "# To check if PCA helps improving the performance. \n",
    "print pca_feature.shape"
   ]
  },
  {
   "cell_type": "code",
   "execution_count": 61,
   "metadata": {
    "collapsed": false
   },
   "outputs": [],
   "source": [
    "test_error_list = np.zeros((pca_feature.shape[1], 1))\n",
    "\n",
    "for cur_feature_num in range(pca_feature.shape[1]):\n",
    "    # Run linear regression multiple times. \n",
    "    itr_num = 100\n",
    "    test_corr_list = np.zeros((itr_num, 1))\n",
    "\n",
    "#     coef_list = np.zeros((len(x_fields), itr_num))\n",
    "#     intercept_list = np.zeros((itr_num, 1))\n",
    "#     alpha_list = np.zeros((itr_num, 1))\n",
    "\n",
    "    feature_x = pca_feature[:, :cur_feature_num+1]\n",
    "    for cur_itr in range(itr_num):\n",
    "        \n",
    "        x_train, x_test, y_train, y_test = cross_validation.train_test_split(feature_x, attract_y, test_size=0.5)\n",
    "        clf = linear_model.RidgeCV(alphas=np.logspace(-4, 10, num=30))\n",
    "        clf.fit(x_train, y_train)\n",
    "\n",
    "#         coef_list[:, cur_itr] = clf.coef_\n",
    "#         intercept_list[cur_itr] = clf.intercept_\n",
    "#         alpha_list[cur_itr] = clf.alpha_    \n",
    "\n",
    "        y_test_pred = clf.predict(x_test)\n",
    "        corr = spearmanr(y_test, y_test_pred)\n",
    "        test_corr_list[cur_itr] = corr[0]\n",
    "\n",
    "    test_error_list[cur_feature_num] = test_corr_list.mean()"
   ]
  },
  {
   "cell_type": "code",
   "execution_count": 62,
   "metadata": {
    "collapsed": false
   },
   "outputs": [
    {
     "data": {
      "text/plain": [
       "array([[ 0.52968416],\n",
       "       [ 0.67436261],\n",
       "       [ 0.68514336],\n",
       "       [ 0.72217029],\n",
       "       [ 0.72456231],\n",
       "       [ 0.74619211],\n",
       "       [ 0.78146533],\n",
       "       [ 0.78500997],\n",
       "       [ 0.78643962],\n",
       "       [ 0.78926819],\n",
       "       [ 0.78939796],\n",
       "       [ 0.79213615],\n",
       "       [ 0.80122791],\n",
       "       [ 0.80930792],\n",
       "       [ 0.81133514],\n",
       "       [ 0.81074589],\n",
       "       [ 0.81687841],\n",
       "       [ 0.81427925],\n",
       "       [ 0.81596652],\n",
       "       [ 0.81594068],\n",
       "       [ 0.81671638],\n",
       "       [ 0.81702654],\n",
       "       [ 0.81784546],\n",
       "       [ 0.81667015],\n",
       "       [ 0.8175009 ],\n",
       "       [ 0.81887668],\n",
       "       [ 0.82007124],\n",
       "       [ 0.8210931 ],\n",
       "       [ 0.81994965],\n",
       "       [ 0.81854785],\n",
       "       [ 0.81937621],\n",
       "       [ 0.81993744],\n",
       "       [ 0.82064051],\n",
       "       [ 0.82055931],\n",
       "       [ 0.81864433],\n",
       "       [ 0.81859709],\n",
       "       [ 0.8193018 ],\n",
       "       [ 0.8189851 ]])"
      ]
     },
     "execution_count": 62,
     "metadata": {},
     "output_type": "execute_result"
    }
   ],
   "source": [
    "test_error_list"
   ]
  },
  {
   "cell_type": "code",
   "execution_count": 79,
   "metadata": {
    "collapsed": false
   },
   "outputs": [
    {
     "data": {
      "image/png": "[encoded data removed]",
      "text/plain": [
       "<matplotlib.figure.Figure at 0x7fd79e4a7b50>"
      ]
     },
     "metadata": {},
     "output_type": "display_data"
    }
   ],
   "source": [
    "N = len(test_error_list)\n",
    "x = np.arange(1, N+1)\n",
    "\n",
    "fig, ax = plt.subplots()\n",
    "ax.plot(x, test_error_list, 'k--', alpha=0.9, label='Correlation on test set')\n",
    "ax.plot(x, pca_score.cumsum(), 'r:', alpha=0.9, label='Cumulated explained variance')\n",
    "\n",
    "# Now add the legend with some customizations.\n",
    "legend = ax.legend(loc='lower right', shadow=True)\n",
    "\n",
    "# The frame is matplotlib.patches.Rectangle instance surrounding the legend.\n",
    "frame = legend.get_frame()\n",
    "frame.set_facecolor('0.90')\n",
    "\n",
    "# Set the fontsize\n",
    "for label in legend.get_texts():\n",
    "    label.set_fontsize('large')\n",
    "\n",
    "for label in legend.get_lines():\n",
    "    label.set_linewidth(1.5)  # the legend line width\n",
    "    \n",
    "\n",
    "plt.xlabel('Number of PCA features', fontsize=18)\n",
    "\n",
    "fig.savefig('../figs/corr_var_featNum.jpg')  \n",
    "plt.show()\n"
   ]
  },
  {
   "cell_type": "code",
   "execution_count": null,
   "metadata": {
    "collapsed": false
   },
   "outputs": [],
   "source": [
    "\n"
   ]
  },
  {
   "cell_type": "code",
   "execution_count": null,
   "metadata": {
    "collapsed": true
   },
   "outputs": [],
   "source": []
  }
 ],
 "metadata": {
  "kernelspec": {
   "display_name": "Python 2",
   "language": "python",
   "name": "python2"
  },
  "language_info": {
   "codemirror_mode": {
    "name": "ipython",
    "version": 2
   },
   "file_extension": ".py",
   "mimetype": "text/x-python",
   "name": "python",
   "nbconvert_exporter": "python",
   "pygments_lexer": "ipython2",
   "version": "2.7.6"
  }
 },
 "nbformat": 4,
 "nbformat_minor": 0
}
