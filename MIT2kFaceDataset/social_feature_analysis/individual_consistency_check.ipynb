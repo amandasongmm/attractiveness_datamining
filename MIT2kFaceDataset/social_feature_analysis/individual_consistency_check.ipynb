{
 "cells": [
  {
   "cell_type": "code",
   "execution_count": 24,
   "metadata": {
    "collapsed": true
   },
   "outputs": [],
   "source": [
    "import numpy as np\n",
    "import pandas as pd\n",
    "from scipy.stats import spearmanr\n",
    "from sklearn.cross_validation import train_test_split"
   ]
  },
  {
   "cell_type": "code",
   "execution_count": 15,
   "metadata": {
    "collapsed": false
   },
   "outputs": [],
   "source": [
    "twin_ratings = np.load('../../example_code/tmp/clean_rating_data.npz')\n",
    "twin_ratings = twin_ratings['full_rating']"
   ]
  },
  {
   "cell_type": "code",
   "execution_count": 22,
   "metadata": {
    "collapsed": false
   },
   "outputs": [
    {
     "data": {
      "text/plain": [
       "(1540, 200)"
      ]
     },
     "execution_count": 22,
     "metadata": {},
     "output_type": "execute_result"
    }
   ],
   "source": [
    "twin_ratings.shape"
   ]
  },
  {
   "cell_type": "code",
   "execution_count": 19,
   "metadata": {
    "collapsed": false
   },
   "outputs": [],
   "source": [
    "group_ave = np.mean(twin_ratings, axis=0)"
   ]
  },
  {
   "cell_type": "code",
   "execution_count": 23,
   "metadata": {
    "collapsed": false
   },
   "outputs": [
    {
     "name": "stdout",
     "output_type": "stream",
     "text": [
      "0.727884709282 0.106570137661\n"
     ]
    }
   ],
   "source": [
    "indiv_cor_list = np.zeros((twin_ratings.shape[0], 1))\n",
    "for cur_ind in range(twin_ratings.shape[0]):\n",
    "    cur_rating = twin_ratings[cur_ind, :]\n",
    "    rho, pval = spearmanr(cur_rating, group_ave)\n",
    "    indiv_cor_list[cur_ind] = rho\n",
    "print indiv_cor_list.mean(), indiv_cor_list.std()"
   ]
  },
  {
   "cell_type": "code",
   "execution_count": 27,
   "metadata": {
    "collapsed": false
   },
   "outputs": [
    {
     "name": "stdout",
     "output_type": "stream",
     "text": [
      "0.998636811631 0.000237722186887\n"
     ]
    }
   ],
   "source": [
    "itr_num = 1000\n",
    "group_corr_list = np.zeros((itr_num, 1))\n",
    "for cur_itr in range(itr_num):\n",
    "    group_1, group_2 = train_test_split(twin_ratings, test_size=0.5)\n",
    "    rho, pval = spearmanr(group_1.mean(axis=0), group_2.mean(axis=0))\n",
    "    group_corr_list[cur_itr] = rho\n",
    "\n",
    "print group_corr_list.mean(), group_corr_list.std()"
   ]
  },
  {
   "cell_type": "code",
   "execution_count": 26,
   "metadata": {
    "collapsed": false
   },
   "outputs": [
    {
     "data": {
      "text/plain": [
       "(200,)"
      ]
     },
     "execution_count": 26,
     "metadata": {},
     "output_type": "execute_result"
    }
   ],
   "source": [
    "twin_ratings.mean(axis=0)"
   ]
  },
  {
   "cell_type": "code",
   "execution_count": null,
   "metadata": {
    "collapsed": true
   },
   "outputs": [],
   "source": []
  }
 ],
 "metadata": {
  "kernelspec": {
   "display_name": "Python 2",
   "language": "python",
   "name": "python2"
  },
  "language_info": {
   "codemirror_mode": {
    "name": "ipython",
    "version": 2
   },
   "file_extension": ".py",
   "mimetype": "text/x-python",
   "name": "python",
   "nbconvert_exporter": "python",
   "pygments_lexer": "ipython2",
   "version": "2.7.6"
  }
 },
 "nbformat": 4,
 "nbformat_minor": 0
}
