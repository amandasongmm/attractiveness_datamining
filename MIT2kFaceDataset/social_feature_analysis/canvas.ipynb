{
 "cells": [
  {
   "cell_type": "code",
   "execution_count": 1,
   "metadata": {
    "collapsed": true
   },
   "outputs": [],
   "source": [
    "import numpy as np\n",
    "import pandas as pd\n",
    "from sklearn.cross_validation import train_test_split\n",
    "from scipy.stats import pearsonr\n",
    "from sklearn import cross_validation\n",
    "from sklearn import linear_model\n",
    "__author__ = 'amanda'"
   ]
  },
  {
   "cell_type": "code",
   "execution_count": 3,
   "metadata": {
    "collapsed": false
   },
   "outputs": [],
   "source": [
    "df_consist = pd.read_csv('../clean_data/consistency.csv')\n",
    "df_corr = pd.read_csv('../clean_data/correlation_with_attr.csv')\n",
    "df_coef = pd.read_csv('../clean_data/coefficient_ave_social_fea.csv')"
   ]
  },
  {
   "cell_type": "code",
   "execution_count": 5,
   "metadata": {
    "collapsed": false
   },
   "outputs": [
    {
     "data": {
      "text/html": [
       "<div>\n",
       "<table border=\"1\" class=\"dataframe\">\n",
       "  <thead>\n",
       "    <tr style=\"text-align: right;\">\n",
       "      <th></th>\n",
       "      <th>Unnamed: 0</th>\n",
       "      <th>consistency</th>\n",
       "    </tr>\n",
       "  </thead>\n",
       "  <tbody>\n",
       "    <tr>\n",
       "      <th>0</th>\n",
       "      <td>atypical</td>\n",
       "      <td>0.232631</td>\n",
       "    </tr>\n",
       "    <tr>\n",
       "      <th>1</th>\n",
       "      <td>boring</td>\n",
       "      <td>0.395219</td>\n",
       "    </tr>\n",
       "    <tr>\n",
       "      <th>2</th>\n",
       "      <td>calm</td>\n",
       "      <td>0.401479</td>\n",
       "    </tr>\n",
       "    <tr>\n",
       "      <th>3</th>\n",
       "      <td>cold</td>\n",
       "      <td>0.714462</td>\n",
       "    </tr>\n",
       "    <tr>\n",
       "      <th>4</th>\n",
       "      <td>common</td>\n",
       "      <td>0.251129</td>\n",
       "    </tr>\n",
       "  </tbody>\n",
       "</table>\n",
       "</div>"
      ],
      "text/plain": [
       "  Unnamed: 0  consistency\n",
       "0   atypical     0.232631\n",
       "1     boring     0.395219\n",
       "2       calm     0.401479\n",
       "3       cold     0.714462\n",
       "4     common     0.251129"
      ]
     },
     "execution_count": 5,
     "metadata": {},
     "output_type": "execute_result"
    }
   ],
   "source": [
    "df_consist.head()"
   ]
  },
  {
   "cell_type": "code",
   "execution_count": 6,
   "metadata": {
    "collapsed": false
   },
   "outputs": [
    {
     "data": {
      "text/html": [
       "<div>\n",
       "<table border=\"1\" class=\"dataframe\">\n",
       "  <thead>\n",
       "    <tr style=\"text-align: right;\">\n",
       "      <th></th>\n",
       "      <th>Unnamed: 0</th>\n",
       "      <th>correlation</th>\n",
       "    </tr>\n",
       "  </thead>\n",
       "  <tbody>\n",
       "    <tr>\n",
       "      <th>0</th>\n",
       "      <td>atypical</td>\n",
       "      <td>-0.243762</td>\n",
       "    </tr>\n",
       "    <tr>\n",
       "      <th>1</th>\n",
       "      <td>boring</td>\n",
       "      <td>-0.589037</td>\n",
       "    </tr>\n",
       "    <tr>\n",
       "      <th>2</th>\n",
       "      <td>calm</td>\n",
       "      <td>0.347890</td>\n",
       "    </tr>\n",
       "    <tr>\n",
       "      <th>3</th>\n",
       "      <td>cold</td>\n",
       "      <td>-0.417346</td>\n",
       "    </tr>\n",
       "    <tr>\n",
       "      <th>4</th>\n",
       "      <td>common</td>\n",
       "      <td>-0.008995</td>\n",
       "    </tr>\n",
       "  </tbody>\n",
       "</table>\n",
       "</div>"
      ],
      "text/plain": [
       "  Unnamed: 0  correlation\n",
       "0   atypical    -0.243762\n",
       "1     boring    -0.589037\n",
       "2       calm     0.347890\n",
       "3       cold    -0.417346\n",
       "4     common    -0.008995"
      ]
     },
     "execution_count": 6,
     "metadata": {},
     "output_type": "execute_result"
    }
   ],
   "source": [
    "df_corr.head()"
   ]
  },
  {
   "cell_type": "code",
   "execution_count": 7,
   "metadata": {
    "collapsed": false
   },
   "outputs": [
    {
     "data": {
      "text/html": [
       "<div>\n",
       "<table border=\"1\" class=\"dataframe\">\n",
       "  <thead>\n",
       "    <tr style=\"text-align: right;\">\n",
       "      <th></th>\n",
       "      <th>Unnamed: 0</th>\n",
       "      <th>coefficient</th>\n",
       "    </tr>\n",
       "  </thead>\n",
       "  <tbody>\n",
       "    <tr>\n",
       "      <th>0</th>\n",
       "      <td>atypical</td>\n",
       "      <td>-0.046538</td>\n",
       "    </tr>\n",
       "    <tr>\n",
       "      <th>1</th>\n",
       "      <td>boring</td>\n",
       "      <td>-0.227089</td>\n",
       "    </tr>\n",
       "    <tr>\n",
       "      <th>2</th>\n",
       "      <td>calm</td>\n",
       "      <td>0.169083</td>\n",
       "    </tr>\n",
       "    <tr>\n",
       "      <th>3</th>\n",
       "      <td>cold</td>\n",
       "      <td>0.111892</td>\n",
       "    </tr>\n",
       "    <tr>\n",
       "      <th>4</th>\n",
       "      <td>common</td>\n",
       "      <td>-0.026528</td>\n",
       "    </tr>\n",
       "  </tbody>\n",
       "</table>\n",
       "</div>"
      ],
      "text/plain": [
       "  Unnamed: 0  coefficient\n",
       "0   atypical    -0.046538\n",
       "1     boring    -0.227089\n",
       "2       calm     0.169083\n",
       "3       cold     0.111892\n",
       "4     common    -0.026528"
      ]
     },
     "execution_count": 7,
     "metadata": {},
     "output_type": "execute_result"
    }
   ],
   "source": [
    "df_coef.head()"
   ]
  },
  {
   "cell_type": "code",
   "execution_count": 8,
   "metadata": {
    "collapsed": false
   },
   "outputs": [
    {
     "data": {
      "text/plain": [
       "(38, 2)"
      ]
     },
     "execution_count": 8,
     "metadata": {},
     "output_type": "execute_result"
    }
   ],
   "source": [
    "df_coef.shape"
   ]
  },
  {
   "cell_type": "code",
   "execution_count": 9,
   "metadata": {
    "collapsed": false
   },
   "outputs": [
    {
     "data": {
      "text/plain": [
       "(40, 2)"
      ]
     },
     "execution_count": 9,
     "metadata": {},
     "output_type": "execute_result"
    }
   ],
   "source": [
    "df_corr.shape"
   ]
  },
  {
   "cell_type": "code",
   "execution_count": 11,
   "metadata": {
    "collapsed": false
   },
   "outputs": [
    {
     "name": "stdout",
     "output_type": "stream",
     "text": [
      " atypical -0.243762358761\n",
      "boring -0.589037069039\n",
      "calm 0.347889551043\n",
      "cold -0.417346433974\n",
      "common -0.00899460879199\n",
      "confident 0.536259804175\n",
      "egotistic -0.0950696057978\n",
      "emotUnstable -0.3995739621\n",
      "forgettable -0.515524753679\n",
      "intelligent 0.407677911238\n",
      "introverted -0.488501002308\n",
      "kind 0.434774797875\n",
      "responsible 0.331343724035\n",
      "trustworthy 0.40003783088\n",
      "unattractive -0.830195008624\n",
      "unemotional -0.393157527912\n",
      "unfamiliar -0.386319507334\n",
      "unfriendly -0.448020727085\n",
      "unhappy -0.47134862534\n",
      "weird -0.561111074487\n",
      "aggressive -0.397372571065\n",
      "attractive 1.0\n",
      "caring 0.47873607334\n",
      "emotStable 0.484594136219\n",
      "emotional 0.356601140365\n",
      "familiar 0.450889172612\n",
      "friendly 0.506046766321\n",
      "happy 0.497655940982\n",
      "humble 0.208077761671\n",
      "interesting 0.660073792011\n",
      "irresponsible -0.333959097832\n",
      "mean -0.454974777753\n",
      "memorable 0.540219878243\n",
      "normal 0.532423304724\n",
      "sociable 0.591346853345\n",
      "typical 0.179669747039\n",
      "uncertain -0.469333573721\n",
      "uncommon -0.188584699509\n",
      "unintelligent -0.449688169783\n",
      "untrustworthy -0.430741511428\n"
     ]
    }
   ],
   "source": [
    "for index, row in df_corr.iterrows():\n",
    "    print row['Unnamed: 0'], row['correlation']"
   ]
  },
  {
   "cell_type": "code",
   "execution_count": null,
   "metadata": {
    "collapsed": true
   },
   "outputs": [],
   "source": []
  }
 ],
 "metadata": {
  "kernelspec": {
   "display_name": "Python 2",
   "language": "python",
   "name": "python2"
  },
  "language_info": {
   "codemirror_mode": {
    "name": "ipython",
    "version": 2
   },
   "file_extension": ".py",
   "mimetype": "text/x-python",
   "name": "python",
   "nbconvert_exporter": "python",
   "pygments_lexer": "ipython2",
   "version": "2.7.6"
  }
 },
 "nbformat": 4,
 "nbformat_minor": 0
}
