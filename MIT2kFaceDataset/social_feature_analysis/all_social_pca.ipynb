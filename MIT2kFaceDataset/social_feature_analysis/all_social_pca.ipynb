{
 "cells": [
  {
   "cell_type": "code",
   "execution_count": 3,
   "metadata": {
    "collapsed": false
   },
   "outputs": [],
   "source": [
    "import pandas as pd\n",
    "import numpy as np\n",
    "from sklearn import linear_model\n",
    "from sklearn.metrics import explained_variance_score\n",
    "from sklearn.decomposition import PCA\n",
    "from sklearn import cross_validation\n",
    "from scipy.stats import spearmanr\n",
    "from sklearn import preprocessing\n",
    "import seaborn as sns\n",
    "import matplotlib.pyplot as plt\n",
    "sns.set(context=\"paper\", font=\"monospace\")\n",
    "\n",
    "# psycho_excel_path = '../Full Attribute Scores/psychology attributes/psychology-attributes.xlsx'\n",
    "# df = pd.read_excel(open(psycho_excel_path, 'rb'), sheetname='Final Values')\n",
    "# keep_list = ['attractive', 'caring', 'aggressive', 'kind', 'sociable', 'happy', 'mean', 'responsible',\n",
    "#                  'cold', 'trustworthy', 'friendly','atypical', 'boring', 'calm', 'common', 'confident', 'egotistic',\n",
    "#                          'emotUnstable', 'forgettable',\n",
    "#                          'intelligent', 'introverted', 'unattractive', 'unemotional', 'unfamiliar', 'unfriendly',\n",
    "#                          'unhappy', 'weird',\n",
    "#                          'emotStable',\n",
    "#                          'emotional', 'familiar', 'humble', 'interesting', 'irresponsible', 'memorable', 'normal',\n",
    "#                          'typical', 'uncertain', 'uncommon', 'unintelligent', 'untrustworthy']\n",
    "# select_df = df[keep_list]\n",
    "# select_df.to_pickle('social_all_list')"
   ]
  },
  {
   "cell_type": "code",
   "execution_count": 4,
   "metadata": {
    "collapsed": false
   },
   "outputs": [],
   "source": [
    "select_df = pd.read_pickle('social_all_list')"
   ]
  },
  {
   "cell_type": "code",
   "execution_count": 8,
   "metadata": {
    "collapsed": true
   },
   "outputs": [],
   "source": [
    "feat_matrix = select_df.as_matrix()"
   ]
  },
  {
   "cell_type": "code",
   "execution_count": 9,
   "metadata": {
    "collapsed": true
   },
   "outputs": [],
   "source": [
    "def simple_pca(feature_x):\n",
    "    pca = PCA()\n",
    "    pca_feat = pca.fit_transform(feature_x)\n",
    "    pca_score = pca.explained_variance_ratio_\n",
    "    pca_component = pca.components_\n",
    "    return pca_feat, pca_score, pca_component"
   ]
  },
  {
   "cell_type": "code",
   "execution_count": 10,
   "metadata": {
    "collapsed": true
   },
   "outputs": [],
   "source": [
    "pca_feat, pca_score, pca_component = simple_pca(feat_matrix)"
   ]
  },
  {
   "cell_type": "code",
   "execution_count": null,
   "metadata": {
    "collapsed": false
   },
   "outputs": [],
   "source": [
    "n = len(pca_score.cumsum())\n",
    "x = np.arange(1, n+1)\n",
    "\n",
    "fig, ax = plt.subplots()\n",
    "ax.plot(x, pca_score.cumsum(), 'r:', alpha=0.9, label='Cumulated explained variance')\n",
    "\n",
    "# Now add the legend with some customizations.\n",
    "legend = ax.legend(loc='lower right', shadow=True)\n",
    "\n",
    "# The frame is matplotlib.patches.Rectangle instance surrounding the legend.\n",
    "frame = legend.get_frame()\n",
    "frame.set_facecolor('0.90')\n",
    "\n",
    "# Set the fontsize\n",
    "for label in legend.get_texts():\n",
    "    label.set_fontsize('large')\n",
    "\n",
    "for label in legend.get_lines():\n",
    "    label.set_linewidth(1.5)  # the legend line width\n",
    "plt.xticks(fontsize = 10)\n",
    "plt.yticks(fontsize = 10)\n",
    "plt.xlabel('Number of PCA features', fontsize=18)\n",
    "\n",
    "plt.show()"
   ]
  },
  {
   "cell_type": "code",
   "execution_count": null,
   "metadata": {
    "collapsed": true
   },
   "outputs": [],
   "source": [
    "for i, cum_s in enumerate(pca_score.cumsum()):\n",
    "    print i, cum_s\n"
   ]
  },
  {
   "cell_type": "code",
   "execution_count": 11,
   "metadata": {
    "collapsed": false
   },
   "outputs": [
    {
     "data": {
      "text/plain": [
       "(2222, 40)"
      ]
     },
     "execution_count": 11,
     "metadata": {},
     "output_type": "execute_result"
    }
   ],
   "source": [
    "pca_feat.shape"
   ]
  },
  {
   "cell_type": "code",
   "execution_count": 12,
   "metadata": {
    "collapsed": false
   },
   "outputs": [
    {
     "data": {
      "text/plain": [
       "(40,)"
      ]
     },
     "execution_count": 12,
     "metadata": {},
     "output_type": "execute_result"
    }
   ],
   "source": [
    "pca_score.shape"
   ]
  },
  {
   "cell_type": "code",
   "execution_count": 13,
   "metadata": {
    "collapsed": true
   },
   "outputs": [],
   "source": [
    "t = pca_score.cumsum()"
   ]
  },
  {
   "cell_type": "code",
   "execution_count": 14,
   "metadata": {
    "collapsed": false
   },
   "outputs": [
    {
     "data": {
      "text/plain": [
       "(40,)"
      ]
     },
     "execution_count": 14,
     "metadata": {},
     "output_type": "execute_result"
    }
   ],
   "source": [
    "t.shape"
   ]
  },
  {
   "cell_type": "code",
   "execution_count": 15,
   "metadata": {
    "collapsed": false
   },
   "outputs": [
    {
     "name": "stdout",
     "output_type": "stream",
     "text": [
      "0 0.626967903054\n",
      "1 0.710242565492\n",
      "2 0.752456987048\n",
      "3 0.788264188046\n",
      "4 0.813846731126\n",
      "5 0.836042029338\n",
      "6 0.851297820324\n",
      "7 0.862557489721\n",
      "8 0.871622769937\n",
      "9 0.880365011299\n",
      "10 0.888140821827\n",
      "11 0.895400097051\n",
      "12 0.902047547655\n",
      "13 0.908227110928\n",
      "14 0.914077841436\n",
      "15 0.919798660446\n",
      "16 0.925173285466\n",
      "17 0.930092710655\n",
      "18 0.934775314397\n",
      "19 0.939255152246\n",
      "20 0.943465804435\n",
      "21 0.947625491896\n",
      "22 0.951673620766\n",
      "23 0.955436070109\n",
      "24 0.959160532736\n",
      "25 0.962723211254\n",
      "26 0.966050099416\n",
      "27 0.969239741067\n",
      "28 0.972373683904\n",
      "29 0.975358033886\n",
      "30 0.978301856438\n",
      "31 0.981110131552\n",
      "32 0.983843644669\n",
      "33 0.98638702708\n",
      "34 0.988910975845\n",
      "35 0.991337166205\n",
      "36 0.993716319088\n",
      "37 0.995925155559\n",
      "38 0.998047178959\n",
      "39 1.0\n"
     ]
    }
   ],
   "source": [
    "for i, cum_s in enumerate(t):\n",
    "    print i, cum_s"
   ]
  },
  {
   "cell_type": "code",
   "execution_count": 16,
   "metadata": {
    "collapsed": false
   },
   "outputs": [
    {
     "data": {
      "text/plain": [
       "array([ 0.6269679 ,  0.08327466,  0.04221442,  0.0358072 ,  0.02558254,\n",
       "        0.0221953 ,  0.01525579,  0.01125967,  0.00906528,  0.00874224,\n",
       "        0.00777581,  0.00725928,  0.00664745,  0.00617956,  0.00585073,\n",
       "        0.00572082,  0.00537463,  0.00491943,  0.0046826 ,  0.00447984,\n",
       "        0.00421065,  0.00415969,  0.00404813,  0.00376245,  0.00372446,\n",
       "        0.00356268,  0.00332689,  0.00318964,  0.00313394,  0.00298435,\n",
       "        0.00294382,  0.00280828,  0.00273351,  0.00254338,  0.00252395,\n",
       "        0.00242619,  0.00237915,  0.00220884,  0.00212202,  0.00195282])"
      ]
     },
     "execution_count": 16,
     "metadata": {},
     "output_type": "execute_result"
    }
   ],
   "source": [
    "pca_score"
   ]
  },
  {
   "cell_type": "code",
   "execution_count": null,
   "metadata": {
    "collapsed": true
   },
   "outputs": [],
   "source": []
  }
 ],
 "metadata": {
  "kernelspec": {
   "display_name": "Python 2",
   "language": "python",
   "name": "python2"
  },
  "language_info": {
   "codemirror_mode": {
    "name": "ipython",
    "version": 2
   },
   "file_extension": ".py",
   "mimetype": "text/x-python",
   "name": "python",
   "nbconvert_exporter": "python",
   "pygments_lexer": "ipython2",
   "version": "2.7.6"
  }
 },
 "nbformat": 4,
 "nbformat_minor": 0
}
