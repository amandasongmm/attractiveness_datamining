{
 "cells": [
  {
   "cell_type": "code",
   "execution_count": 53,
   "metadata": {
    "collapsed": true
   },
   "outputs": [],
   "source": [
    "import numpy as np\n",
    "import pandas as pd\n",
    "from sklearn.cross_validation import train_test_split\n",
    "from scipy.stats import pearsonr, spearmanr\n",
    "from sklearn import cross_validation\n",
    "from sklearn import linear_model\n",
    "__author__ = 'amanda'\n",
    "\n",
    "\n",
    "# positive_list = ['happy', 'friendly', 'sociable', 'kind', 'caring', 'calm', 'trustworthy', 'responsible', \n",
    "#                 'confident', 'humble', 'emotStable', 'normal', 'intelligent', 'interesting', 'emotional',\n",
    "#                 'memorable', 'typical', 'familiar', 'common']\n",
    "# negative_list = ['unhappy', 'unfriendly', 'introverted', 'mean', 'cold', 'aggressive', 'untrustworthy', 'irresponsible',\n",
    "#                 'uncertain', 'egotistic', 'emotUnstable', 'weird', 'unintelligent', 'boring', 'unemotional', \n",
    "#                  'forgettable', 'atypical', 'unfamiliar', 'uncommon']\n",
    "\n",
    "# np.savez('../clean_data/pos_neg_list', positive_list = positive_list, negative_list=negative_list)\n",
    "\n",
    "tmp_file = np.load('../clean_data/pos_neg_list.npz')\n",
    "pos_list = tmp_file['positive_list']\n",
    "neg_list = tmp_file['negative_list']"
   ]
  },
  {
   "cell_type": "code",
   "execution_count": 66,
   "metadata": {
    "collapsed": false
   },
   "outputs": [],
   "source": [
    "social_feats = pd.read_csv('../clean_data/reordered_social_feature.csv')\n",
    "# pos_feature = social_feats[positive_list]\n",
    "# neg_feature = social_feats[negative_list]\n",
    "attract_y = social_feats['attractive'].values\n",
    "feature_x = social_feats.drop(['attractive', 'unattractive'], axis=1)"
   ]
  },
  {
   "cell_type": "code",
   "execution_count": 65,
   "metadata": {
    "collapsed": false
   },
   "outputs": [],
   "source": [
    "def comp_coefficient(feature_x, attract_y):\n",
    "    \n",
    "    feat_names = list(feature_x.columns.values)\n",
    "    feature_x = feature_x.values\n",
    "\n",
    "    # run ridge regression\n",
    "    itr_num = 50\n",
    "    coef_list = np.zeros((len(feat_names), itr_num))\n",
    "    test_corr_list = np.zeros((itr_num, 1))\n",
    "\n",
    "    for cur_itr in range(itr_num):\n",
    "        x_train, x_test, y_train, y_test = cross_validation.train_test_split(feature_x, attract_y, test_size=0.5)\n",
    "        clf = linear_model.RidgeCV(alphas=np.logspace(-3, 1, num=20))\n",
    "        clf.fit(x_train, y_train)\n",
    "\n",
    "        coef_list[:, cur_itr] = clf.coef_\n",
    "        y_test_pred = clf.predict(x_test)\n",
    "        corr = spearmanr(y_test, y_test_pred)\n",
    "        test_corr_list[cur_itr] = corr[0]\n",
    "\n",
    "    coef_mean = coef_list.mean(axis=1)\n",
    "    df_coef = pd.DataFrame(coef_mean, index=feat_names, columns=['coefficient'])\n",
    "    return df_coef, test_corr_list.mean()"
   ]
  },
  {
   "cell_type": "code",
   "execution_count": 67,
   "metadata": {
    "collapsed": false
   },
   "outputs": [
    {
     "name": "stdout",
     "output_type": "stream",
     "text": [
      "cur social feature pair: happy unhappy\n",
      "correlation with all feature 0.819696360626\n",
      "correlation without happy 0.819196988043\n",
      "correlation without unhappy 0.818241879164\n",
      "correlation without both 0.816892888057\n",
      "cur social feature pair: friendly unfriendly\n",
      "correlation with all feature 0.817667049068\n",
      "correlation without friendly 0.817306948429\n",
      "correlation without unfriendly 0.817965795191\n",
      "correlation without both 0.818602869513\n",
      "cur social feature pair: sociable introverted\n",
      "correlation with all feature 0.817441049688\n",
      "correlation without sociable 0.815919220233\n",
      "correlation without introverted 0.817546574143\n",
      "correlation without both 0.81606455704\n",
      "cur social feature pair: kind mean\n",
      "correlation with all feature 0.817125500633\n",
      "correlation without kind 0.816895258376\n",
      "correlation without mean 0.815547468956\n",
      "correlation without both 0.817917657221\n",
      "cur social feature pair: caring cold\n",
      "correlation with all feature 0.819423637056\n",
      "correlation without caring 0.816170915357\n",
      "correlation without cold 0.816893109983\n",
      "correlation without both 0.81859056976\n",
      "cur social feature pair: calm aggressive\n",
      "correlation with all feature 0.817519555524\n",
      "correlation without calm 0.817980668034\n",
      "correlation without aggressive 0.818351759821\n",
      "correlation without both 0.817773744054\n",
      "cur social feature pair: trustworthy untrustworthy\n",
      "correlation with all feature 0.818868199602\n",
      "correlation without trustworthy 0.81805629118\n",
      "correlation without untrustworthy 0.819238479741\n",
      "correlation without both 0.818947602806\n",
      "cur social feature pair: responsible irresponsible\n",
      "correlation with all feature 0.818891644884\n",
      "correlation without responsible 0.816376925099\n",
      "correlation without irresponsible 0.813739581049\n",
      "correlation without both 0.808029263324\n",
      "cur social feature pair: confident uncertain\n",
      "correlation with all feature 0.817222321288\n",
      "correlation without confident 0.818959075309\n",
      "correlation without uncertain 0.81500836946\n",
      "correlation without both 0.815680079775\n",
      "cur social feature pair: humble egotistic\n",
      "correlation with all feature 0.817115058147\n",
      "correlation without humble 0.811218183971\n",
      "correlation without egotistic 0.816535162854\n",
      "correlation without both 0.808761843694\n",
      "cur social feature pair: emotStable emotUnstable\n",
      "correlation with all feature 0.818384094127\n",
      "correlation without emotStable 0.817477604858\n",
      "correlation without emotUnstable 0.816043938044\n",
      "correlation without both 0.817699169848\n",
      "cur social feature pair: normal weird\n",
      "correlation with all feature 0.818149515714\n",
      "correlation without normal 0.81127953346\n",
      "correlation without weird 0.802206558054\n",
      "correlation without both 0.79091735885\n",
      "cur social feature pair: intelligent unintelligent\n",
      "correlation with all feature 0.818174756548\n",
      "correlation without intelligent 0.816630486843\n",
      "correlation without unintelligent 0.817005865863\n",
      "correlation without both 0.811855750636\n",
      "cur social feature pair: interesting boring\n",
      "correlation with all feature 0.817142962731\n",
      "correlation without interesting 0.810114142676\n",
      "correlation without boring 0.812124351648\n",
      "correlation without both 0.802924249929\n",
      "cur social feature pair: emotional unemotional\n",
      "correlation with all feature 0.816692034112\n",
      "correlation without emotional 0.819875349455\n",
      "correlation without unemotional 0.81572067584\n",
      "correlation without both 0.818392132338\n",
      "cur social feature pair: memorable forgettable\n",
      "correlation with all feature 0.818293436779\n",
      "correlation without memorable 0.814292885299\n",
      "correlation without forgettable 0.816175716382\n",
      "correlation without both 0.810737677729\n",
      "cur social feature pair: typical atypical\n",
      "correlation with all feature 0.819480775581\n",
      "correlation without typical 0.815644694647\n",
      "correlation without atypical 0.818804436695\n",
      "correlation without both 0.819256389169\n",
      "cur social feature pair: familiar unfamiliar\n",
      "correlation with all feature 0.818697685716\n",
      "correlation without familiar 0.814865142232\n",
      "correlation without unfamiliar 0.817325536425\n",
      "correlation without both 0.815702155897\n",
      "cur social feature pair: common uncommon\n",
      "correlation with all feature 0.818333743233\n",
      "correlation without common 0.815756064815\n",
      "correlation without uncommon 0.816541719534\n",
      "correlation without both 0.816974290506\n"
     ]
    }
   ],
   "source": [
    "for delete_feature_itr in range(19):\n",
    "    cur_pos = positive_list[delete_feature_itr]\n",
    "    cur_neg = negative_list[delete_feature_itr]\n",
    "    \n",
    "    drop_pos = feature_x.drop([cur_pos], axis=1)\n",
    "    drop_neg = feature_x.drop([cur_neg], axis=1)\n",
    "    drop_both = feature_x.drop([cur_pos, cur_neg], axis=1)\n",
    "    \n",
    "    df_coef_withall, test_corr_withall = comp_coefficient(feature_x, attract_y)\n",
    "    df_coef_wo_pos, test_corr_wo_pos = comp_coefficient(drop_pos, attract_y)\n",
    "    df_coef_wo_neg, test_corr_wo_neg = comp_coefficient(drop_neg, attract_y)\n",
    "    df_coef_wo_both, test_corr_wo_both = comp_coefficient(drop_both, attract_y)\n",
    "    \n",
    "    print 'cur social feature pair:', cur_pos, cur_neg\n",
    "    print 'correlation with all feature', test_corr_withall\n",
    "    print 'correlation without', cur_pos, test_corr_wo_pos\n",
    "    print 'correlation without', cur_neg, test_corr_wo_neg\n",
    "    print 'correlation without both', test_corr_wo_both"
   ]
  },
  {
   "cell_type": "code",
   "execution_count": null,
   "metadata": {
    "collapsed": false
   },
   "outputs": [],
   "source": []
  },
  {
   "cell_type": "code",
   "execution_count": null,
   "metadata": {
    "collapsed": true
   },
   "outputs": [],
   "source": []
  }
 ],
 "metadata": {
  "kernelspec": {
   "display_name": "Python 2",
   "language": "python",
   "name": "python2"
  },
  "language_info": {
   "codemirror_mode": {
    "name": "ipython",
    "version": 2
   },
   "file_extension": ".py",
   "mimetype": "text/x-python",
   "name": "python",
   "nbconvert_exporter": "python",
   "pygments_lexer": "ipython2",
   "version": "2.7.6"
  }
 },
 "nbformat": 4,
 "nbformat_minor": 0
}
