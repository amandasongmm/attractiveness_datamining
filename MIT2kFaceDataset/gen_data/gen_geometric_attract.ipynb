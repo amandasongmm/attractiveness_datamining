{
 "cells": [
  {
   "cell_type": "code",
   "execution_count": null,
   "metadata": {},
   "outputs": [],
   "source": [
    "import numpy as np\n",
    "import pandas as pd\n",
    "from sklearn import linear_model\n",
    "from sklearn.metrics import explained_variance_score\n",
    "from sklearn import cross_validation\n",
    "from scipy.stats import spearmanr\n",
    "\n",
    "\n",
    "file_name = '../Full Attribute Scores/psychology attributes/psychology-attributes.xlsx'\n",
    "xl_file = pd.ExcelFile(file_name)\n",
    "dfs = {sheet_name: xl_file.parse(sheet_name) for sheet_name in xl_file.sheet_names}\n",
    "df = dfs['Final Values']  # only use the group average data\n",
    "\n",
    "# delete_list = ['Albert_Belk_5_oval.jpg',\n",
    "#  'Google_1_Amy Shull_7_oval.jpg',\n",
    "#  'Google_1_Dale Villalpando_11_oval.jpg',\n",
    "#  'Google_1_Douglas Macarthur_1_oval.jpg',\n",
    "#  'Google_1_Earl Oh_5_oval.jpg',\n",
    "#  'Google_1_Ernest Crump_3_oval.jpg',\n",
    "#  'Google_1_Genevieve Springs_19_oval.jpg',\n",
    "#  'Google_1_Georgia Dingess_11_oval.jpg',\n",
    "# #  'Google_1_Gertrude Bayne_11_oval.jpg',\n",
    "#                'Google_1_Geraldine Riggs_15_oval.jpg',\n",
    "#  'Google_1_Jeffrey Chao_1_oval.jpg',\n",
    "#  'Google_1_Jonathan Wille_10_oval.jpg',\n",
    "#  'Google_1_Lori Weisman_12_oval.jpg',\n",
    "#  'Google_1_Louis Tillis_19_oval.jpg',\n",
    "#  'Google_1_Marjorie Mahon_1_oval.jpg',\n",
    "#  'Google_1_Philip Winfield_9_oval.jpg']"
   ]
  },
  {
   "cell_type": "code",
   "execution_count": 6,
   "metadata": {},
   "outputs": [],
   "source": [
    "filenames = df['Filename']\n",
    "new_attract = df[['attractive','Filename']]\n",
    "new_attract.to_csv('../clean_data/geometric_attract.csv')  # save as a csv file"
   ]
  },
  {
   "cell_type": "code",
   "execution_count": 4,
   "metadata": {},
   "outputs": [
    {
     "data": {
      "text/plain": [
       "(2222, 52)"
      ]
     },
     "execution_count": 4,
     "output_type": "execute_result",
     "metadata": {}
    }
   ],
   "source": [
    "df.shape"
   ]
  },
  {
   "cell_type": "code",
   "execution_count": 5,
   "metadata": {},
   "outputs": [
    {
     "data": {
      "text/plain": [
       "2092"
      ]
     },
     "execution_count": 5,
     "output_type": "execute_result",
     "metadata": {}
    }
   ],
   "source": [
    "filenames.values.tolist().index('Google_1_Gertrude Bayne_11_oval.jpg')"
   ]
  },
  {
   "cell_type": "code",
   "execution_count": null,
   "metadata": {},
   "outputs": [],
   "source": [
    ""
   ]
  }
 ],
 "metadata": {
  "kernelspec": {
   "display_name": "Python 2",
   "language": "python",
   "name": "python2"
  },
  "language_info": {
   "codemirror_mode": {
    "name": "ipython",
    "version": 2.0
   },
   "file_extension": ".py",
   "mimetype": "text/x-python",
   "name": "python",
   "nbconvert_exporter": "python",
   "pygments_lexer": "ipython2",
   "version": "2.7.6"
  }
 },
 "nbformat": 4,
 "nbformat_minor": 0
}