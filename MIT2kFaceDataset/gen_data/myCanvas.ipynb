{
 "cells": [
  {
   "cell_type": "code",
   "execution_count": 70,
   "metadata": {
    "collapsed": true
   },
   "outputs": [],
   "source": [
    "import numpy as np\n",
    "import pandas as pd\n",
    "from sklearn.cross_validation import train_test_split\n",
    "from scipy.stats import pearsonr\n",
    "__author__ = 'amanda'\n",
    "\n",
    "\n",
    "def comp_correlation():\n",
    "    full_soci_feats = pd.read_csv('../clean_data/reordered_social_feature.csv')\n",
    "    attr = full_soci_feats['attractive'].values\n",
    "\n",
    "    corr = []\n",
    "    for cur_feat_ind in range(full_soci_feats.shape[1]):\n",
    "        cur_feat = full_soci_feats.ix[:, cur_feat_ind].values\n",
    "        corr.append(pearsonr(cur_feat, attr)[0])\n",
    "\n",
    "    df_corr = pd.DataFrame(corr, index=feat_names, columns=['correlation'])\n",
    "    df_corr.to_csv('../clean_data/correlation_with_attr.csv')\n",
    "    \n",
    "comp_correlation()"
   ]
  },
  {
   "cell_type": "code",
   "execution_count": null,
   "metadata": {
    "collapsed": true
   },
   "outputs": [],
   "source": []
  }
 ],
 "metadata": {
  "kernelspec": {
   "display_name": "Python 2",
   "language": "python",
   "name": "python2"
  },
  "language_info": {
   "codemirror_mode": {
    "name": "ipython",
    "version": 2
   },
   "file_extension": ".py",
   "mimetype": "text/x-python",
   "name": "python",
   "nbconvert_exporter": "python",
   "pygments_lexer": "ipython2",
   "version": "2.7.6"
  }
 },
 "nbformat": 4,
 "nbformat_minor": 0
}
