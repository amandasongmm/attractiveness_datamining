{
 "cells": [
  {
   "cell_type": "code",
   "execution_count": 7,
   "metadata": {
    "collapsed": false,
    "scrolled": true
   },
   "outputs": [
    {
     "name": "stdout",
     "output_type": "stream",
     "text": [
      "unfamiliar:  0.18\n",
      "common:  0.23\n",
      "uncommon:  0.23\n",
      "atypical:  0.24\n",
      "familiar:  0.24\n",
      "forgettable:  0.27\n",
      "typical:  0.28\n",
      "memorable:  0.30\n",
      "emotional:  0.33\n",
      "boring:  0.38\n",
      "calm:  0.41\n",
      "interesting:  0.42\n",
      "unintelligent:  0.43\n",
      "uncertain:  0.45\n",
      "intelligent:  0.49\n",
      "normal:  0.49\n",
      "emotUnstable:  0.50\n",
      "introverted:  0.50\n",
      "egotistic:  0.52\n",
      "weird:  0.52\n",
      "emotStable:  0.53\n",
      "irresponsible:  0.54\n",
      "humble:  0.55\n",
      "confident:  0.55\n",
      "unemotional:  0.56\n",
      "responsible:  0.58\n",
      "untrustworthy:  0.61\n",
      "unattractive:  0.62\n",
      "trustworthy:  0.62\n",
      "aggressive:  0.65\n",
      "mean:  0.69\n",
      "cold:  0.71\n",
      "attractive:  0.71\n",
      "caring:  0.72\n",
      "unfriendly:  0.72\n",
      "kind:  0.72\n",
      "sociable:  0.74\n",
      "unhappy:  0.75\n",
      "friendly:  0.78\n",
      "happy:  0.84\n"
     ]
    }
   ],
   "source": [
    "import pandas as pd\n",
    "import simplejson\n",
    "import pickle\n",
    "import numpy as np\n",
    "from sklearn.cross_validation import train_test_split\n",
    "from scipy.stats import pearsonr\n",
    "import matplotlib.pyplot as plt\n",
    "\n",
    "__author__ = 'amanda'\n",
    "\n",
    "file_name = '../Full Attribute Scores/psychology attributes/psychology-attributes.xlsx'\n",
    "df = pd.read_excel(open(file_name, 'rb'), sheetname=0)  # index starts from 0, which means the first sheet\n",
    "\n",
    "\n",
    "''' Clean the data, delete irrelevant information, delete nan entries'''\n",
    "delete_field_list = ['Filename', 'catch', 'catchAns', 'subage', 'submale', 'subrace',\n",
    "                     'catch.1', 'catchAns.1', 'subage.1', 'submale.1', 'subrace.1']\n",
    "df.drop(delete_field_list, inplace=True, axis=1)  # shortlist\n",
    "df.dropna(axis=0, how='any', inplace=True)  # delete any row that contains a nan\n",
    "\n",
    "\n",
    "''' randomly divide subjects into 2 groups. calculate the average for each group '''\n",
    "num_im = df['Image #'].max()\n",
    "head_list = list(df.columns.values)\n",
    "feature_list = head_list[1:]\n",
    "num_feature = len(feature_list)\n",
    "\n",
    "ave_1 = np.zeros((num_im, num_feature))\n",
    "ave_2 = np.zeros((num_im, num_feature))\n",
    "\n",
    "for cur_im in range(1, num_im+1):\n",
    "    tmp_data = df[df['Image #'] == cur_im]\n",
    "    group_1, group_2 = train_test_split(tmp_data.values[:, 1:], test_size=0.5, random_state=42)\n",
    "    ave_1[cur_im-1, :], ave_2[cur_im-1, :] = group_1.mean(axis=0), group_2.mean(axis=0)\n",
    "\n",
    "\n",
    "''' Now calculate the correlation for each feature '''\n",
    "correlation_array = np.zeros((num_feature, 2))\n",
    "for cur_feature in range(num_feature):\n",
    "    correlation_array[cur_feature, :] = pearsonr(ave_1[:, cur_feature], ave_2[:, cur_feature])\n",
    "\n",
    "# for i in range(num_feature):\n",
    "#     if correlation_array[i, 0] > 0.4 and correlation_array[i, 1] < 0.05:\n",
    "#         print '%s:  %.2f' % (feature_list[i], correlation_array[i, 0])\n",
    "\n",
    "\n",
    "\n",
    "correlation = correlation_array[:, 0]\n",
    "\n",
    "list1, list2 = zip(*sorted(zip(correlation, feature_list)))\n",
    "\n",
    "for i in range(num_feature):\n",
    "        print '%s:  %.2f' % (list2[i], list1[i])"
   ]
  },
  {
   "cell_type": "code",
   "execution_count": null,
   "metadata": {
    "collapsed": true
   },
   "outputs": [],
   "source": [
    "# now load the averaged attractiveness data. "
   ]
  }
 ],
 "metadata": {
  "kernelspec": {
   "display_name": "Python 2",
   "language": "python",
   "name": "python2"
  },
  "language_info": {
   "codemirror_mode": {
    "name": "ipython",
    "version": 2
   },
   "file_extension": ".py",
   "mimetype": "text/x-python",
   "name": "python",
   "nbconvert_exporter": "python",
   "pygments_lexer": "ipython2",
   "version": "2.7.6"
  }
 },
 "nbformat": 4,
 "nbformat_minor": 0
}
