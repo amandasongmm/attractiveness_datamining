{
 "cells": [
  {
   "cell_type": "code",
   "execution_count": 2,
   "metadata": {
    "collapsed": true
   },
   "outputs": [],
   "source": [
    "import numpy as np\n",
    "import pandas as pd\n",
    "from sklearn import linear_model\n",
    "from sklearn.metrics import explained_variance_score\n",
    "from sklearn import cross_validation\n",
    "from scipy.stats import spearmanr"
   ]
  },
  {
   "cell_type": "code",
   "execution_count": 2,
   "metadata": {
    "collapsed": true
   },
   "outputs": [],
   "source": [
    "# load the feature array\n",
    "field_names = pd.read_csv('./clean_data/feature_field_list.txt')\n",
    "feature_arr = pd.read_pickle('./clean_data/feature_array')\n",
    "\n",
    "feature_x = feature_arr.drop(['attractive','unattractive'], axis=1)\n",
    "feature_x = feature_x.values\n",
    "\n",
    "attract_y = feature_arr['attractive']\n",
    "attract_y = attract_y.values"
   ]
  },
  {
   "cell_type": "code",
   "execution_count": 14,
   "metadata": {
    "collapsed": false
   },
   "outputs": [
    {
     "data": {
      "text/plain": [
       "0.81771792355737516"
      ]
     },
     "execution_count": 14,
     "metadata": {},
     "output_type": "execute_result"
    }
   ],
   "source": [
    "# Run linear regression multiple times. \n",
    "itr_num = 25\n",
    "random_seed = np.random.randint(1, 1000, size=itr_num)\n",
    "test_corr_list = np.zeros((itr_num, 1))\n",
    "\n",
    "for cur_itr in range(itr_num):\n",
    "    x_train, x_test, y_train, y_test = cross_validation.train_test_split(feature_x, attract_y, test_size=0.5, random_state=random_seed[cur_itr])\n",
    "    clf = linear_model.RidgeCV(alphas=np.logspace(-3, 1, num=20), fit_intercept=True)\n",
    "    clf.fit(x_train, y_train)\n",
    "    y_test_pred = clf.predict(x_test)\n",
    "    corr = spearmanr(y_test, y_test_pred)\n",
    "    test_corr_list[cur_itr] = corr[0]\n",
    "\n",
    "test_corr_list.mean()"
   ]
  },
  {
   "cell_type": "code",
   "execution_count": 3,
   "metadata": {
    "collapsed": false
   },
   "outputs": [],
   "source": [
    "# Now use geometric features to predict facial attractiveness\n",
    "file_name = './Full Attribute Scores/psychology attributes/psychology-attributes.xlsx'\n",
    "xl_file = pd.ExcelFile(file_name)\n",
    "dfs = {sheet_name: xl_file.parse(sheet_name) for sheet_name in xl_file.sheet_names}\n",
    "df = dfs['Final Values']  # only use the group average data"
   ]
  },
  {
   "cell_type": "code",
   "execution_count": 4,
   "metadata": {
    "collapsed": false
   },
   "outputs": [
    {
     "data": {
      "text/html": [
       "<div>\n",
       "<table border=\"1\" class=\"dataframe\">\n",
       "  <thead>\n",
       "    <tr style=\"text-align: right;\">\n",
       "      <th></th>\n",
       "      <th>Filename</th>\n",
       "      <th>Image #</th>\n",
       "      <th>atypical</th>\n",
       "      <th>boring</th>\n",
       "      <th>calm</th>\n",
       "      <th>catch</th>\n",
       "      <th>catchAns</th>\n",
       "      <th>cold</th>\n",
       "      <th>common</th>\n",
       "      <th>confident</th>\n",
       "      <th>...</th>\n",
       "      <th>normal</th>\n",
       "      <th>sociable</th>\n",
       "      <th>subage.1</th>\n",
       "      <th>submale.1</th>\n",
       "      <th>subrace.1</th>\n",
       "      <th>typical</th>\n",
       "      <th>uncertain</th>\n",
       "      <th>uncommon</th>\n",
       "      <th>unintelligent</th>\n",
       "      <th>untrustworthy</th>\n",
       "    </tr>\n",
       "  </thead>\n",
       "  <tbody>\n",
       "    <tr>\n",
       "      <th>0</th>\n",
       "      <td>Google_1_Danielle Goble_5_oval.jpg</td>\n",
       "      <td>1</td>\n",
       "      <td>3.933333</td>\n",
       "      <td>6.000000</td>\n",
       "      <td>6.285714</td>\n",
       "      <td>5.933333</td>\n",
       "      <td>5.933333</td>\n",
       "      <td>4.133333</td>\n",
       "      <td>5.533333</td>\n",
       "      <td>5.666667</td>\n",
       "      <td>...</td>\n",
       "      <td>5.933333</td>\n",
       "      <td>4.666667</td>\n",
       "      <td>4.00</td>\n",
       "      <td>0.00</td>\n",
       "      <td>1.0</td>\n",
       "      <td>5.400000</td>\n",
       "      <td>4.266667</td>\n",
       "      <td>4.666667</td>\n",
       "      <td>3.333333</td>\n",
       "      <td>3.666667</td>\n",
       "    </tr>\n",
       "    <tr>\n",
       "      <th>1</th>\n",
       "      <td>Google_1_Phillip Owensby_9_oval.jpg</td>\n",
       "      <td>2</td>\n",
       "      <td>2.933333</td>\n",
       "      <td>3.866667</td>\n",
       "      <td>6.466667</td>\n",
       "      <td>5.000000</td>\n",
       "      <td>5.000000</td>\n",
       "      <td>2.066667</td>\n",
       "      <td>5.933333</td>\n",
       "      <td>6.533333</td>\n",
       "      <td>...</td>\n",
       "      <td>7.333333</td>\n",
       "      <td>6.600000</td>\n",
       "      <td>3.50</td>\n",
       "      <td>0.50</td>\n",
       "      <td>1.0</td>\n",
       "      <td>5.733333</td>\n",
       "      <td>2.600000</td>\n",
       "      <td>2.600000</td>\n",
       "      <td>2.666667</td>\n",
       "      <td>2.600000</td>\n",
       "    </tr>\n",
       "    <tr>\n",
       "      <th>2</th>\n",
       "      <td>Google_1_Douglas Ziegler_3_oval.jpg</td>\n",
       "      <td>3</td>\n",
       "      <td>2.866667</td>\n",
       "      <td>4.200000</td>\n",
       "      <td>6.666667</td>\n",
       "      <td>4.733333</td>\n",
       "      <td>4.733333</td>\n",
       "      <td>3.200000</td>\n",
       "      <td>5.733333</td>\n",
       "      <td>6.066667</td>\n",
       "      <td>...</td>\n",
       "      <td>6.200000</td>\n",
       "      <td>6.666667</td>\n",
       "      <td>2.75</td>\n",
       "      <td>0.75</td>\n",
       "      <td>1.0</td>\n",
       "      <td>5.933333</td>\n",
       "      <td>3.266667</td>\n",
       "      <td>3.333333</td>\n",
       "      <td>2.733333</td>\n",
       "      <td>2.733333</td>\n",
       "    </tr>\n",
       "    <tr>\n",
       "      <th>3</th>\n",
       "      <td>Google_1_Donald Sauls_11_oval.jpg</td>\n",
       "      <td>4</td>\n",
       "      <td>4.785714</td>\n",
       "      <td>4.733333</td>\n",
       "      <td>5.400000</td>\n",
       "      <td>4.400000</td>\n",
       "      <td>4.400000</td>\n",
       "      <td>5.400000</td>\n",
       "      <td>5.571429</td>\n",
       "      <td>4.800000</td>\n",
       "      <td>...</td>\n",
       "      <td>5.200000</td>\n",
       "      <td>3.266667</td>\n",
       "      <td>3.00</td>\n",
       "      <td>1.00</td>\n",
       "      <td>1.0</td>\n",
       "      <td>5.000000</td>\n",
       "      <td>4.800000</td>\n",
       "      <td>2.933333</td>\n",
       "      <td>4.533333</td>\n",
       "      <td>5.466667</td>\n",
       "    </tr>\n",
       "    <tr>\n",
       "      <th>4</th>\n",
       "      <td>Google_1_Eric Harman_5_oval.jpg</td>\n",
       "      <td>5</td>\n",
       "      <td>4.066667</td>\n",
       "      <td>4.933333</td>\n",
       "      <td>5.866667</td>\n",
       "      <td>4.466667</td>\n",
       "      <td>4.466667</td>\n",
       "      <td>4.600000</td>\n",
       "      <td>5.533333</td>\n",
       "      <td>6.666667</td>\n",
       "      <td>...</td>\n",
       "      <td>6.200000</td>\n",
       "      <td>5.333333</td>\n",
       "      <td>3.00</td>\n",
       "      <td>0.00</td>\n",
       "      <td>1.0</td>\n",
       "      <td>6.266667</td>\n",
       "      <td>4.200000</td>\n",
       "      <td>2.600000</td>\n",
       "      <td>2.666667</td>\n",
       "      <td>4.733333</td>\n",
       "    </tr>\n",
       "  </tbody>\n",
       "</table>\n",
       "<p>5 rows × 52 columns</p>\n",
       "</div>"
      ],
      "text/plain": [
       "                              Filename  Image #  atypical    boring      calm  \\\n",
       "0   Google_1_Danielle Goble_5_oval.jpg        1  3.933333  6.000000  6.285714   \n",
       "1  Google_1_Phillip Owensby_9_oval.jpg        2  2.933333  3.866667  6.466667   \n",
       "2  Google_1_Douglas Ziegler_3_oval.jpg        3  2.866667  4.200000  6.666667   \n",
       "3    Google_1_Donald Sauls_11_oval.jpg        4  4.785714  4.733333  5.400000   \n",
       "4      Google_1_Eric Harman_5_oval.jpg        5  4.066667  4.933333  5.866667   \n",
       "\n",
       "      catch  catchAns      cold    common  confident      ...          normal  \\\n",
       "0  5.933333  5.933333  4.133333  5.533333   5.666667      ...        5.933333   \n",
       "1  5.000000  5.000000  2.066667  5.933333   6.533333      ...        7.333333   \n",
       "2  4.733333  4.733333  3.200000  5.733333   6.066667      ...        6.200000   \n",
       "3  4.400000  4.400000  5.400000  5.571429   4.800000      ...        5.200000   \n",
       "4  4.466667  4.466667  4.600000  5.533333   6.666667      ...        6.200000   \n",
       "\n",
       "   sociable  subage.1  submale.1  subrace.1   typical  uncertain  uncommon  \\\n",
       "0  4.666667      4.00       0.00        1.0  5.400000   4.266667  4.666667   \n",
       "1  6.600000      3.50       0.50        1.0  5.733333   2.600000  2.600000   \n",
       "2  6.666667      2.75       0.75        1.0  5.933333   3.266667  3.333333   \n",
       "3  3.266667      3.00       1.00        1.0  5.000000   4.800000  2.933333   \n",
       "4  5.333333      3.00       0.00        1.0  6.266667   4.200000  2.600000   \n",
       "\n",
       "   unintelligent  untrustworthy  \n",
       "0       3.333333       3.666667  \n",
       "1       2.666667       2.600000  \n",
       "2       2.733333       2.733333  \n",
       "3       4.533333       5.466667  \n",
       "4       2.666667       4.733333  \n",
       "\n",
       "[5 rows x 52 columns]"
      ]
     },
     "execution_count": 4,
     "metadata": {},
     "output_type": "execute_result"
    }
   ],
   "source": [
    "df.head()"
   ]
  },
  {
   "cell_type": "code",
   "execution_count": 5,
   "metadata": {
    "collapsed": true
   },
   "outputs": [],
   "source": [
    "delete_list = ['Albert_Belk_5_oval.jpg',\n",
    " 'Google_1_Amy Shull_7_oval.jpg',\n",
    " 'Google_1_Dale Villalpando_11_oval.jpg',\n",
    " 'Google_1_Douglas Macarthur_1_oval.jpg',\n",
    " 'Google_1_Earl Oh_5_oval.jpg',\n",
    " 'Google_1_Ernest Crump_3_oval.jpg',\n",
    " 'Google_1_Genevieve Springs_19_oval.jpg',\n",
    " 'Google_1_Georgia Dingess_11_oval.jpg',\n",
    " 'Google_1_Gertrude Bayne_11_oval.jpg',\n",
    " 'Google_1_Jeffrey Chao_1_oval.jpg',\n",
    " 'Google_1_Jonathan Wille_10_oval.jpg',\n",
    " 'Google_1_Lori Weisman_12_oval.jpg',\n",
    " 'Google_1_Louis Tillis_19_oval.jpg',\n",
    " 'Google_1_Marjorie Mahon_1_oval.jpg',\n",
    " 'Google_1_Philip Winfield_9_oval.jpg']"
   ]
  },
  {
   "cell_type": "code",
   "execution_count": 6,
   "metadata": {
    "collapsed": false
   },
   "outputs": [],
   "source": [
    "filename = df['Filename']"
   ]
  },
  {
   "cell_type": "code",
   "execution_count": 13,
   "metadata": {
    "collapsed": false
   },
   "outputs": [],
   "source": [
    "delete_idx = []\n",
    "for idx, item in enumerate(filename):\n",
    "    if item in delete_list:\n",
    "        delete_idx.append(idx)"
   ]
  },
  {
   "cell_type": "code",
   "execution_count": 14,
   "metadata": {
    "collapsed": false
   },
   "outputs": [
    {
     "data": {
      "text/plain": [
       "[161,\n",
       " 302,\n",
       " 315,\n",
       " 450,\n",
       " 828,\n",
       " 900,\n",
       " 978,\n",
       " 1395,\n",
       " 1602,\n",
       " 1645,\n",
       " 1725,\n",
       " 1726,\n",
       " 2086,\n",
       " 2092,\n",
       " 2210]"
      ]
     },
     "execution_count": 14,
     "metadata": {},
     "output_type": "execute_result"
    }
   ],
   "source": [
    "delete_idx"
   ]
  },
  {
   "cell_type": "code",
   "execution_count": 16,
   "metadata": {
    "collapsed": false
   },
   "outputs": [
    {
     "data": {
      "text/plain": [
       "161         Google_1_Marjorie Mahon_1_oval.jpg\n",
       "302              Google_1_Amy Shull_7_oval.jpg\n",
       "315       Google_1_Georgia Dingess_11_oval.jpg\n",
       "450      Google_1_Douglas Macarthur_1_oval.jpg\n",
       "828                Google_1_Earl Oh_5_oval.jpg\n",
       "900                     Albert_Belk_5_oval.jpg\n",
       "978          Google_1_Louis Tillis_19_oval.jpg\n",
       "1395          Google_1_Ernest Crump_3_oval.jpg\n",
       "1602     Google_1_Dale Villalpando_11_oval.jpg\n",
       "1645       Google_1_Philip Winfield_9_oval.jpg\n",
       "1725    Google_1_Genevieve Springs_19_oval.jpg\n",
       "1726          Google_1_Jeffrey Chao_1_oval.jpg\n",
       "2086       Google_1_Jonathan Wille_10_oval.jpg\n",
       "2092       Google_1_Gertrude Bayne_11_oval.jpg\n",
       "2210         Google_1_Lori Weisman_12_oval.jpg\n",
       "Name: Filename, dtype: object"
      ]
     },
     "execution_count": 16,
     "metadata": {},
     "output_type": "execute_result"
    }
   ],
   "source": [
    "filename[delete_idx]"
   ]
  },
  {
   "cell_type": "code",
   "execution_count": null,
   "metadata": {
    "collapsed": true
   },
   "outputs": [],
   "source": []
  }
 ],
 "metadata": {
  "kernelspec": {
   "display_name": "Python 2",
   "language": "python",
   "name": "python2"
  },
  "language_info": {
   "codemirror_mode": {
    "name": "ipython",
    "version": 2
   },
   "file_extension": ".py",
   "mimetype": "text/x-python",
   "name": "python",
   "nbconvert_exporter": "python",
   "pygments_lexer": "ipython2",
   "version": "2.7.6"
  }
 },
 "nbformat": 4,
 "nbformat_minor": 0
}
