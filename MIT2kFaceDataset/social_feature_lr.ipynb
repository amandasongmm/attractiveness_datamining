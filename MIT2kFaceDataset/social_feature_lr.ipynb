{
 "cells": [
  {
   "cell_type": "code",
   "execution_count": 49,
   "metadata": {
    "collapsed": true
   },
   "outputs": [],
   "source": [
    "import numpy as np\n",
    "import pandas as pd\n",
    "from sklearn import linear_model\n",
    "from sklearn.metrics import explained_variance_score\n",
    "from sklearn import cross_validation\n",
    "from scipy.stats import spearmanr\n",
    "\n",
    "import matplotlib.pyplot as plt\n",
    "%matplotlib inline\n"
   ]
  },
  {
   "cell_type": "code",
   "execution_count": 46,
   "metadata": {
    "collapsed": false
   },
   "outputs": [],
   "source": [
    "# load the feature array\n",
    "# x_fields = pd.read_csv('./clean_data/feature_field_list.txt')\n",
    "feature_arr = pd.read_pickle('./clean_data/feature_array')\n",
    "\n",
    "attract_y = feature_arr['attractive']\n",
    "attract_y = attract_y.values\n",
    "\n",
    "feature_x = feature_arr.drop(['attractive','unattractive'], axis=1)\n",
    "x_fields = list(feature_x.columns.values)\n",
    "feature_x = feature_x.values"
   ]
  },
  {
   "cell_type": "code",
   "execution_count": 47,
   "metadata": {
    "collapsed": false
   },
   "outputs": [
    {
     "name": "stdout",
     "output_type": "stream",
     "text": [
      "0\n",
      "1\n",
      "2\n",
      "3\n",
      "4\n",
      "5\n",
      "6\n",
      "7\n",
      "8\n",
      "9\n",
      "10\n",
      "11\n",
      "12\n",
      "13\n",
      "14\n",
      "15\n",
      "16\n",
      "17\n",
      "18\n",
      "19\n",
      "20\n",
      "21\n",
      "22\n",
      "23\n",
      "24\n",
      "25\n",
      "26\n",
      "27\n",
      "28\n",
      "29\n",
      "30\n",
      "31\n",
      "32\n",
      "33\n",
      "34\n",
      "35\n",
      "36\n",
      "37\n",
      "38\n",
      "39\n",
      "40\n",
      "41\n",
      "42\n",
      "43\n",
      "44\n",
      "45\n",
      "46\n",
      "47\n",
      "48\n",
      "49\n"
     ]
    },
    {
     "data": {
      "text/plain": [
       "0.8186406344105448"
      ]
     },
     "execution_count": 47,
     "metadata": {},
     "output_type": "execute_result"
    }
   ],
   "source": [
    "# Run linear regression multiple times. \n",
    "itr_num = 50\n",
    "random_seed = np.random.randint(1, 1000, size=itr_num)\n",
    "test_corr_list = np.zeros((itr_num, 1))\n",
    "\n",
    "coef_list = np.zeros((len(x_fields), itr_num))\n",
    "intercept_list = np.zeros((itr_num, 1))\n",
    "alpha_list = np.zeros((itr_num, 1))\n",
    "\n",
    "\n",
    "for cur_itr in range(itr_num):\n",
    "    print cur_itr\n",
    "    x_train, x_test, y_train, y_test = cross_validation.train_test_split(feature_x, attract_y, test_size=0.5, random_state=random_seed[cur_itr])\n",
    "    clf = linear_model.RidgeCV(alphas=np.logspace(-3, 1, num=20), fit_intercept=True)\n",
    "    clf.fit(x_train, y_train)\n",
    "    \n",
    "    coef_list[:, cur_itr] = clf.coef_\n",
    "    intercept_list[cur_itr] = clf.intercept_\n",
    "    alpha_list[cur_itr] = clf.alpha_    \n",
    "        \n",
    "    y_test_pred = clf.predict(x_test)\n",
    "    corr = spearmanr(y_test, y_test_pred)\n",
    "    test_corr_list[cur_itr] = corr[0]\n",
    "\n",
    "test_corr_list.mean()"
   ]
  },
  {
   "cell_type": "code",
   "execution_count": 57,
   "metadata": {
    "collapsed": false
   },
   "outputs": [
    {
     "data": {
      "image/png": "[encoded data removed]",
      "text/plain": [
       "<matplotlib.figure.Figure at 0x7f815de98550>"
      ]
     },
     "metadata": {},
     "output_type": "display_data"
    }
   ],
   "source": [
    "# Now plot the social features with error bar. \n",
    "coef_mean = coef_list.mean(axis=1)\n",
    "coef_std = coef_list.std(axis=1)\n",
    "\n",
    "# plot\n",
    "n = len(coef_mean)  # number of data entries\n",
    "ind = np.arange(n)  # the x locations for the groups\n",
    "width = 0.35 # bar width\n",
    "\n",
    "fig, ax = plt.subplots()\n",
    "\n",
    "rects1 = ax.bar(ind, coef_mean,                  # data\n",
    "                width,                          # bar width\n",
    "                color='MediumSlateBlue',        # bar colour\n",
    "                yerr=coef_std,                  # data for error bars\n",
    "                error_kw={'ecolor':'Tomato',    # error-bars colour\n",
    "                          'linewidth':2})       # error-bar width\n",
    "\n",
    "axes = plt.gca()\n",
    "axes.set_ylim([-0.5, 0.5])\n",
    "\n",
    "\n",
    "ax.set_ylabel('coefficient')\n",
    "ax.set_title('coefficients of every social feature')\n",
    "\n",
    "ax.set_xticks(ind + width)\n",
    "ax.set_xticklabels(x_fields, rotation=90)\n",
    "plt.tick_params(labelsize=5)\n",
    "plt.savefig('./figs/social_feature_bargraph.png')\n",
    "plt.show()"
   ]
  },
  {
   "cell_type": "code",
   "execution_count": 54,
   "metadata": {
    "collapsed": false
   },
   "outputs": [
    {
     "data": {
      "text/plain": [
       "(1111, 38)"
      ]
     },
     "execution_count": 54,
     "metadata": {},
     "output_type": "execute_result"
    }
   ],
   "source": [
    "x_test.shape"
   ]
  },
  {
   "cell_type": "code",
   "execution_count": null,
   "metadata": {
    "collapsed": true
   },
   "outputs": [],
   "source": []
  }
 ],
 "metadata": {
  "kernelspec": {
   "display_name": "Python 2",
   "language": "python",
   "name": "python2"
  },
  "language_info": {
   "codemirror_mode": {
    "name": "ipython",
    "version": 2
   },
   "file_extension": ".py",
   "mimetype": "text/x-python",
   "name": "python",
   "nbconvert_exporter": "python",
   "pygments_lexer": "ipython2",
   "version": "2.7.6"
  }
 },
 "nbformat": 4,
 "nbformat_minor": 0
}
