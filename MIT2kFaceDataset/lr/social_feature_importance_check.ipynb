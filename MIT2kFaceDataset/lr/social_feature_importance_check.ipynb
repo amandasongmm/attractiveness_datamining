{
 "cells": [
  {
   "cell_type": "code",
   "execution_count": 24,
   "metadata": {
    "collapsed": true
   },
   "outputs": [],
   "source": [
    "import numpy as np\n",
    "import pandas as pd\n",
    "from sklearn import linear_model\n",
    "from sklearn.metrics import explained_variance_score\n",
    "from sklearn import cross_validation\n",
    "from scipy.stats import spearmanr\n",
    "from sklearn.decomposition import PCA\n",
    "import matplotlib.pyplot as plt\n",
    "%matplotlib inline"
   ]
  },
  {
   "cell_type": "code",
   "execution_count": 2,
   "metadata": {
    "collapsed": true
   },
   "outputs": [],
   "source": [
    "# load the feature array\n",
    "feature_arr = pd.read_csv('../clean_data/reordered_social_feature.csv')\n",
    "\n",
    "attract_y = feature_arr['attractive']\n",
    "attract_y = attract_y.values\n",
    "\n",
    "feature_x = feature_arr.drop(['attractive','unattractive'], axis=1)\n",
    "x_fields = list(feature_x.columns.values)\n",
    "feature_x = feature_x.values"
   ]
  },
  {
   "cell_type": "code",
   "execution_count": 8,
   "metadata": {
    "collapsed": false
   },
   "outputs": [
    {
     "name": "stdout",
     "output_type": "stream",
     "text": [
      "38 social features, prediction results 0.816456683794\n"
     ]
    }
   ],
   "source": [
    "# Run linear regression on 38 social features. \n",
    "itr_num = 50\n",
    "test_corr_list = np.zeros((itr_num, 1))\n",
    "coef_list = np.zeros((len(x_fields), itr_num))\n",
    "\n",
    "for cur_itr in range(itr_num):\n",
    "    x_train, x_test, y_train, y_test = cross_validation.train_test_split(feature_x, attract_y, test_size=0.5)\n",
    "    clf = linear_model.RidgeCV(alphas=np.logspace(-3, 1, num=20), fit_intercept=True)\n",
    "    clf.fit(x_train, y_train) \n",
    "    \n",
    "    coef_list[:, cur_itr] = clf.coef_\n",
    "    \n",
    "    y_test_pred = clf.predict(x_test)\n",
    "    corr = spearmanr(y_test, y_test_pred)\n",
    "    test_corr_list[cur_itr] = corr[0]\n",
    "\n",
    "print '38 social features, prediction results', test_corr_list.mean()"
   ]
  },
  {
   "cell_type": "code",
   "execution_count": 21,
   "metadata": {
    "collapsed": false
   },
   "outputs": [],
   "source": [
    "# Now delete each social feature one by one, see how that affect the final predictions results\n",
    "short_list_error = np.zeros((feature_x.shape[1], 1))\n",
    "itr_num = 50\n",
    "for cur_delete_ind in range(feature_x.shape[1]):\n",
    "    \n",
    "    short_feature = np.delete(feature_x, [cur_delete_ind], axis=1)\n",
    "    tep_test_corr_list = np.zeros((itr_num, 1))\n",
    "    \n",
    "    for cur_itr in range(itr_num):\n",
    "        x_train, x_test, y_train, y_test = cross_validation.train_test_split(short_feature, attract_y, test_size=0.5)\n",
    "        clf = linear_model.RidgeCV(alphas=np.logspace(-3, 1, num=20))\n",
    "        clf.fit(x_train, y_train) \n",
    "\n",
    "        y_test_pred = clf.predict(x_test)\n",
    "        corr = spearmanr(y_test, y_test_pred)\n",
    "        tep_test_corr_list[cur_itr] = corr[0]\n",
    "    \n",
    "    short_list_error[cur_delete_ind] = tep_test_corr_list.mean()"
   ]
  },
  {
   "cell_type": "code",
   "execution_count": 27,
   "metadata": {
    "collapsed": false
   },
   "outputs": [],
   "source": [
    "# Now run pca on social features, see how many pcs are necessary. \n",
    "pca = PCA()\n",
    "pca_feature = pca.fit_transform(feature_x)"
   ]
  },
  {
   "cell_type": "code",
   "execution_count": 42,
   "metadata": {
    "collapsed": false
   },
   "outputs": [
    {
     "name": "stdout",
     "output_type": "stream",
     "text": [
      "cur_feature_num 1\n",
      "cur_feature_num 2\n",
      "cur_feature_num 3\n",
      "cur_feature_num 4\n",
      "cur_feature_num 5\n",
      "cur_feature_num 6\n",
      "cur_feature_num 7\n",
      "cur_feature_num 8\n",
      "cur_feature_num 9\n",
      "cur_feature_num 10\n",
      "cur_feature_num 11\n",
      "cur_feature_num 12\n",
      "cur_feature_num 13\n",
      "cur_feature_num 14\n",
      "cur_feature_num 15\n",
      "cur_feature_num 16\n",
      "cur_feature_num 17\n",
      "cur_feature_num 18\n",
      "cur_feature_num 19\n",
      "cur_feature_num 20\n",
      "cur_feature_num 21\n",
      "cur_feature_num 22\n",
      "cur_feature_num 23\n",
      "cur_feature_num 24\n",
      "cur_feature_num 25\n",
      "cur_feature_num 26\n",
      "cur_feature_num 27\n",
      "cur_feature_num 28\n",
      "cur_feature_num 29\n",
      "cur_feature_num 30\n",
      "cur_feature_num 31\n",
      "cur_feature_num 32\n",
      "cur_feature_num 33\n",
      "cur_feature_num 34\n",
      "cur_feature_num 35\n",
      "cur_feature_num 36\n",
      "cur_feature_num 37\n",
      "cur_feature_num 38\n"
     ]
    }
   ],
   "source": [
    "total_feature_num = feature_x.shape[1]\n",
    "pca_error = np.zeros((feature_x.shape[1], 1))\n",
    "itr_num = 50\n",
    "\n",
    "for cur_keep_ind in range(total_feature_num):\n",
    "    print 'cur_feature_num', (cur_keep_ind+1)\n",
    "    cur_feature = pca_feature[:, :cur_keep_ind+1]    \n",
    "    tep_test_corr_list = np.zeros((itr_num, 1))\n",
    "    \n",
    "    for cur_itr in range(itr_num):\n",
    "        x_train, x_test, y_train, y_test = cross_validation.train_test_split(cur_feature, attract_y, test_size=0.5)\n",
    "        clf = linear_model.RidgeCV(alphas=np.logspace(-3, 1, num=20))\n",
    "        clf.fit(x_train, y_train) \n",
    "\n",
    "        y_test_pred = clf.predict(x_test)\n",
    "        corr = spearmanr(y_test, y_test_pred)\n",
    "        tep_test_corr_list[cur_itr] = corr[0]\n",
    "    \n",
    "    pca_error[cur_keep_ind] = tep_test_corr_list.mean()    "
   ]
  },
  {
   "cell_type": "code",
   "execution_count": 43,
   "metadata": {
    "collapsed": false
   },
   "outputs": [
    {
     "data": {
      "text/plain": [
       "[<matplotlib.lines.Line2D at 0x7f0923d291d0>]"
      ]
     },
     "execution_count": 43,
     "metadata": {},
     "output_type": "execute_result"
    },
    {
     "data": {
      "image/png": "[encoded data removed]",
      "text/plain": [
       "<matplotlib.figure.Figure at 0x7f0923e43450>"
      ]
     },
     "metadata": {},
     "output_type": "display_data"
    }
   ],
   "source": [
    "plt.plot(np.arange(total_feature_num), pca_error)"
   ]
  },
  {
   "cell_type": "code",
   "execution_count": 39,
   "metadata": {
    "collapsed": false
   },
   "outputs": [],
   "source": [
    "pca1 = pca_feature[:, 0]"
   ]
  },
  {
   "cell_type": "code",
   "execution_count": 45,
   "metadata": {
    "collapsed": false
   },
   "outputs": [
    {
     "data": {
      "text/plain": [
       "SpearmanrResult(correlation=-0.39628576673915444, pvalue=6.7911137221820871e-84)"
      ]
     },
     "execution_count": 45,
     "metadata": {},
     "output_type": "execute_result"
    }
   ],
   "source": [
    "spearmanr(pca_feature[:, 1], attract_y)"
   ]
  },
  {
   "cell_type": "code",
   "execution_count": null,
   "metadata": {
    "collapsed": true
   },
   "outputs": [],
   "source": []
  }
 ],
 "metadata": {
  "kernelspec": {
   "display_name": "Python 2",
   "language": "python",
   "name": "python2"
  },
  "language_info": {
   "codemirror_mode": {
    "name": "ipython",
    "version": 2
   },
   "file_extension": ".py",
   "mimetype": "text/x-python",
   "name": "python",
   "nbconvert_exporter": "python",
   "pygments_lexer": "ipython2",
   "version": "2.7.6"
  }
 },
 "nbformat": 4,
 "nbformat_minor": 0
}
