{
 "cells": [
  {
   "cell_type": "code",
   "execution_count": 1,
   "metadata": {
    "collapsed": true
   },
   "outputs": [],
   "source": [
    "import numpy as np\n",
    "import pandas as pd\n",
    "from sklearn import linear_model\n",
    "from sklearn.metrics import explained_variance_score\n",
    "from sklearn.decomposition import PCA\n",
    "from sklearn import cross_validation\n",
    "from scipy.stats import spearmanr\n",
    "from sklearn import preprocessing\n",
    "import seaborn as sns\n",
    "import matplotlib.pyplot as plt\n",
    "sns.set(context=\"paper\", font=\"monospace\")\n",
    "\n",
    "from bokeh.plotting import figure, show, output_file\n",
    "\n"
   ]
  },
  {
   "cell_type": "code",
   "execution_count": 10,
   "metadata": {
    "collapsed": false
   },
   "outputs": [],
   "source": [
    "def load_new_geo():\n",
    "    geometric_all = pd.read_csv('../clean_data/geometric_wSmoothness.csv')\n",
    "    x = geometric_all.drop(['imgName', 'attractive'], axis=1)\n",
    "    field_names = list(x.columns.values)\n",
    "    feature_x = x.values\n",
    "    feature_x = preprocessing.scale(feature_x)\n",
    "    attract_y = geometric_all['attractive'].values\n",
    "    return feature_x, attract_y, field_names\n",
    "\n",
    "\n",
    "def ridge_regression(X, y):\n",
    "    itr_num = 100\n",
    "    test_corr_list = np.zeros((itr_num, 1))\n",
    "    coef_list = np.zeros((X.shape[1], itr_num))\n",
    "\n",
    "    alphas = np.logspace(-4, 3, num=40)\n",
    "\n",
    "    for cur_itr in range(itr_num):\n",
    "        x_train, x_test, y_train, y_test = cross_validation.train_test_split(X, y, test_size=0.5)\n",
    "        clf = linear_model.RidgeCV(alphas=alphas, fit_intercept=True)\n",
    "        clf.fit(x_train, y_train)\n",
    "\n",
    "        y_test_pred = clf.predict(x_test)\n",
    "\n",
    "        corr = spearmanr(y_test, y_test_pred)\n",
    "        test_corr_list[cur_itr] = corr[0]\n",
    "\n",
    "        coef_list[:, cur_itr] = clf.coef_\n",
    "\n",
    "    return test_corr_list.mean(), coef_list, alphas"
   ]
  },
  {
   "cell_type": "code",
   "execution_count": 18,
   "metadata": {
    "collapsed": false
   },
   "outputs": [
    {
     "name": "stdout",
     "output_type": "stream",
     "text": [
      "0.527458369445\n"
     ]
    }
   ],
   "source": [
    "feature_x, attract_y, field_names = load_new_geo()\n",
    "test_corr_mean, coef_list, alphas = ridge_regression(feature_x, attract_y)\n",
    "print test_corr_mean"
   ]
  },
  {
   "cell_type": "code",
   "execution_count": 3,
   "metadata": {
    "collapsed": false
   },
   "outputs": [],
   "source": [
    "# First apply PCA on geometric features only, then concatenate hsv and smoothness features into it. \n",
    "geometric_all = pd.read_csv('../clean_data/geometric_wSmoothness.csv')\n",
    "only_geo_feature = geometric_all.drop(['imgName', 'attractive', 'h', 's', 'v', 'smoothness'], axis=1)"
   ]
  },
  {
   "cell_type": "code",
   "execution_count": 4,
   "metadata": {
    "collapsed": true
   },
   "outputs": [],
   "source": [
    "hsv_smooth_feature = geometric_all[['h', 's', 'v', 'smoothness']]"
   ]
  },
  {
   "cell_type": "code",
   "execution_count": 19,
   "metadata": {
    "collapsed": false
   },
   "outputs": [
    {
     "data": {
      "text/plain": [
       "(2207, 32)"
      ]
     },
     "execution_count": 19,
     "metadata": {},
     "output_type": "execute_result"
    }
   ],
   "source": [
    "pca = PCA()\n",
    "pca_feat = pca.fit_transform(only_geo_feature.values)\n",
    "pca_feat.shape"
   ]
  },
  {
   "cell_type": "code",
   "execution_count": 20,
   "metadata": {
    "collapsed": true
   },
   "outputs": [],
   "source": [
    "new_feature = np.hstack((pca_feat, hsv_smooth_feature.values))"
   ]
  },
  {
   "cell_type": "code",
   "execution_count": 8,
   "metadata": {
    "collapsed": false
   },
   "outputs": [
    {
     "data": {
      "text/plain": [
       "(2207, 9)"
      ]
     },
     "execution_count": 8,
     "metadata": {},
     "output_type": "execute_result"
    }
   ],
   "source": [
    "new_feature.shape"
   ]
  },
  {
   "cell_type": "code",
   "execution_count": 21,
   "metadata": {
    "collapsed": false
   },
   "outputs": [
    {
     "name": "stdout",
     "output_type": "stream",
     "text": [
      "0.525635838153\n"
     ]
    }
   ],
   "source": [
    "attract_y = geometric_all['attractiv']\n",
    "test_corr_mean, coef_list, alphas = ridge_regression(new_feature, attract_y)\n",
    "print test_corr_mean"
   ]
  },
  {
   "cell_type": "code",
   "execution_count": null,
   "metadata": {
    "collapsed": false
   },
   "outputs": [],
   "source": [
    "# Plot the heat map.\n",
    "relevant_feature = geometric_all.drop(['imgName'], axis=1)\n",
    "corrmat = relevant_feature.corr() \n",
    "f, ax = plt.subplots(figsize=(16, 16))\n",
    "\n",
    "# Draw the heatmap using seaborn\n",
    "sns.heatmap(corrmat, square=True, vmin=-1, vmax=1)\n",
    "locs, labels = plt.xticks(rotation=9)\n",
    "plt.setp(labels, rotation=90)\n",
    "plt.tick_params(labelsize=10)\n",
    "plt.savefig('../figs/geometric_feature_correlation_heatmap_all.png')\n",
    "plt.show()"
   ]
  },
  {
   "cell_type": "code",
   "execution_count": null,
   "metadata": {
    "collapsed": true
   },
   "outputs": [],
   "source": []
  }
 ],
 "metadata": {
  "kernelspec": {
   "display_name": "Python 2",
   "language": "python",
   "name": "python2"
  },
  "language_info": {
   "codemirror_mode": {
    "name": "ipython",
    "version": 2
   },
   "file_extension": ".py",
   "mimetype": "text/x-python",
   "name": "python",
   "nbconvert_exporter": "python",
   "pygments_lexer": "ipython2",
   "version": "2.7.6"
  }
 },
 "nbformat": 4,
 "nbformat_minor": 0
}
