{
 "cells": [
  {
   "cell_type": "code",
   "execution_count": 1,
   "metadata": {
    "collapsed": true
   },
   "outputs": [],
   "source": [
    "import pandas as pd\n",
    "import simplejson\n",
    "import pickle\n",
    "\n",
    "__author__ = 'amanda'\n",
    "\n",
    "social_feature = pd.read_csv('social_feature_including_filename.csv')\n",
    "\n",
    "geometric_feature = pd.read_csv('../clean_data/geometric_features.csv')\n",
    "geo_raw_name_list = geometric_feature['imgName']\n",
    "geo_name_list = []\n",
    "for i in range(len(geo_raw_name_list)):\n",
    "        geo_name_list.append(geo_raw_name_list[i][34:])\n",
    "        \n",
    "        \n",
    "# get an mapping index\n",
    "social_name_list = social_feature['Filename']\n",
    "mapping_index = []\n",
    "for cur_file_name in geo_name_list:\n",
    "    match_index = social_name_list.values.tolist().index(cur_file_name)\n",
    "    mapping_index.append(match_index)\n",
    "    \n",
    "    \n",
    "reordered_social_feature_df = social_feature.ix[mapping_index]\n",
    "delete_field_list = ['Unnamed: 0', 'Filename', 'Image #', 'catch', 'catchAns', 'subage', 'submale', 'subrace',\n",
    "                     'catch.1', 'catchAns.1', 'subage.1', 'submale.1', 'subrace.1']\n",
    "reordered_social_feature_df.drop(delete_field_list, axis=1, inplace=True)\n",
    "\n",
    "reordered_social_feature_df.to_csv('reordered_social_feature.csv',  index = False)"
   ]
  },
  {
   "cell_type": "code",
   "execution_count": null,
   "metadata": {
    "collapsed": true
   },
   "outputs": [],
   "source": []
  }
 ],
 "metadata": {
  "kernelspec": {
   "display_name": "Python 2",
   "language": "python",
   "name": "python2"
  },
  "language_info": {
   "codemirror_mode": {
    "name": "ipython",
    "version": 2
   },
   "file_extension": ".py",
   "mimetype": "text/x-python",
   "name": "python",
   "nbconvert_exporter": "python",
   "pygments_lexer": "ipython2",
   "version": "2.7.6"
  }
 },
 "nbformat": 4,
 "nbformat_minor": 0
}
