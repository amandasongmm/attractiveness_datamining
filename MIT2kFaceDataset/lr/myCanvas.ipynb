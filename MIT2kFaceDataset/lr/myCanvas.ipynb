{
 "cells": [
  {
   "cell_type": "code",
   "execution_count": 1,
   "metadata": {
    "collapsed": false
   },
   "outputs": [
    {
     "name": "stdout",
     "output_type": "stream",
     "text": [
      "fa mean 715.317549851 std 49.7980554117 ca mean 118.36106054 std 17.6575016102\n"
     ]
    }
   ],
   "source": [
    "import numpy as np\n",
    "import pandas as pd\n",
    "from sklearn import linear_model\n",
    "from sklearn.metrics import explained_variance_score\n",
    "from sklearn import cross_validation\n",
    "from scipy.stats import spearmanr\n",
    "from sklearn import preprocessing\n",
    "import matplotlib.pyplot as plt\n",
    "import seaborn as sns\n",
    "import matplotlib.pyplot as plt\n",
    "sns.set(context=\"paper\", font=\"monospace\")\n",
    "\n",
    "\n",
    "\n",
    "# load x and y \n",
    "geometric_all = pd.read_csv('../clean_data/geometric_all.csv')\n",
    "\n",
    "x = geometric_all.drop(['imgName', 'Unnamed: 0', 'attractive'], axis=1)\n",
    "x_fields = list(x.columns.values)\n",
    "feature_x = x.values\n",
    "\n",
    "fa = feature_x[:, -3]\n",
    "ca = feature_x[:, -2]\n",
    "print 'fa mean', fa.mean(), 'std', fa.std(), 'ca mean', ca.mean(), 'std', ca.std()"
   ]
  },
  {
   "cell_type": "code",
   "execution_count": null,
   "metadata": {
    "collapsed": false
   },
   "outputs": [],
   "source": []
  },
  {
   "cell_type": "code",
   "execution_count": 10,
   "metadata": {
    "collapsed": false
   },
   "outputs": [
    {
     "data": {
      "text/plain": [
       "Index([u'nose_width', u'nose_length', u'lip_thickness', u'face_length',\n",
       "       u'eye_height', u'eye_width', u'face_width_prom', u'face_width_mouth',\n",
       "       u'forehead_length', u'distance_btw_pupils', u'dist_btw_pupils_top',\n",
       "       u'dist_btw_pupils_lip', u'chin_length', u'length_cheek_to_chin',\n",
       "       u'brow_to_hair', u'fWHR', u'face_shape', u'heartshapeness',\n",
       "       u'nose_shape', u'lip_fullness', u'eye_shape', u'eye_size',\n",
       "       u'upper_head_len', u'midface_len', u'chin_size', u'forehead_height',\n",
       "       u'cheek_height', u'cheek_prominence', u'face_roundness', u'FA', u'CA',\n",
       "       u'AV'],\n",
       "      dtype='object')"
      ]
     },
     "execution_count": 10,
     "metadata": {},
     "output_type": "execute_result"
    }
   ],
   "source": [
    "x.columns"
   ]
  },
  {
   "cell_type": "code",
   "execution_count": 11,
   "metadata": {
    "collapsed": false
   },
   "outputs": [
    {
     "data": {
      "text/plain": [
       "10"
      ]
     },
     "execution_count": 11,
     "metadata": {},
     "output_type": "execute_result"
    }
   ],
   "source": [
    "x.columns.get_loc('dist_btw_pupils_top')"
   ]
  },
  {
   "cell_type": "code",
   "execution_count": 12,
   "metadata": {
    "collapsed": true
   },
   "outputs": [],
   "source": [
    "new_arr = np.delete(feature_x, 10, 1)"
   ]
  },
  {
   "cell_type": "code",
   "execution_count": 14,
   "metadata": {
    "collapsed": false
   },
   "outputs": [
    {
     "data": {
      "text/plain": [
       "0.51645671048703734"
      ]
     },
     "execution_count": 14,
     "metadata": {},
     "output_type": "execute_result"
    }
   ],
   "source": [
    "attract_y = geometric_all['attractive'].values\n",
    "itr_num = 50\n",
    "random_seed = np.random.randint(1, 1000, size=itr_num)\n",
    "test_corr_list = np.zeros((itr_num, 1))\n",
    "coef_list = np.zeros((new_arr.shape[1], itr_num))\n",
    "intercept_list = np.zeros((itr_num, 1))\n",
    "alpha_list = np.zeros((itr_num, 1))\n",
    "alphas = np.logspace(-3, 2, num=20)\n",
    "# alphas = [0.0000001, 1, 2, 3, 4, 5, 6, 7, 8, 9, 10,30]\n",
    "\n",
    "for cur_itr in range(itr_num):\n",
    "#     print cur_itr\n",
    "    x_train, x_test, y_train, y_test = cross_validation.train_test_split(new_arr, attract_y, test_size=0.5, random_state=random_seed[cur_itr])\n",
    "    clf = linear_model.RidgeCV(alphas=alphas, fit_intercept=True)\n",
    "#     clf = linear_model.LassoCV()\n",
    "    clf.fit(x_train, y_train)\n",
    "    \n",
    "    coef_list[:, cur_itr] = clf.coef_\n",
    "    intercept_list[cur_itr] = clf.intercept_\n",
    "    alpha_list[cur_itr] = clf.alpha_\n",
    "    \n",
    "    y_test_pred = clf.predict(x_test)\n",
    "    corr = spearmanr(y_test, y_test_pred)\n",
    "    test_corr_list[cur_itr] = corr[0]\n",
    "\n",
    "test_corr_list.mean()"
   ]
  },
  {
   "cell_type": "code",
   "execution_count": null,
   "metadata": {
    "collapsed": true
   },
   "outputs": [],
   "source": []
  }
 ],
 "metadata": {
  "kernelspec": {
   "display_name": "Python 2",
   "language": "python",
   "name": "python2"
  },
  "language_info": {
   "codemirror_mode": {
    "name": "ipython",
    "version": 2
   },
   "file_extension": ".py",
   "mimetype": "text/x-python",
   "name": "python",
   "nbconvert_exporter": "python",
   "pygments_lexer": "ipython2",
   "version": "2.7.6"
  }
 },
 "nbformat": 4,
 "nbformat_minor": 0
}
