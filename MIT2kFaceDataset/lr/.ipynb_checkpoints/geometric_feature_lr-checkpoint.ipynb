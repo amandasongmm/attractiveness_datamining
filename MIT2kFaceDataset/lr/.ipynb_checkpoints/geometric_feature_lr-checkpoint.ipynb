{
 "cells": [
  {
   "cell_type": "code",
   "execution_count": 143,
   "metadata": {
    "collapsed": true
   },
   "outputs": [],
   "source": [
    "import numpy as np\n",
    "import pandas as pd\n",
    "from sklearn import linear_model\n",
    "from sklearn.metrics import explained_variance_score\n",
    "from sklearn import cross_validation\n",
    "from scipy.stats import spearmanr\n",
    "from sklearn import preprocessing\n",
    "import matplotlib.pyplot as plt"
   ]
  },
  {
   "cell_type": "code",
   "execution_count": 54,
   "metadata": {
    "collapsed": false
   },
   "outputs": [],
   "source": [
    "## How we generate the geometric_all dataframe. \n",
    "\n",
    "def gen_geometric_all():\n",
    "    attract = pd.read_csv('../clean_data/geometric_attract.csv')\n",
    "    geometric_feature = pd.read_csv('../clean_data/geometric_features.csv')\n",
    "\n",
    "    imgName_feature = geometric_feature['imgName']\n",
    "    imgName_att = attract['Filename']\n",
    "\n",
    "    for i in range(len(imgName_feature)):\n",
    "        imgName_feature[i] = imgName_feature[i][34:]    \n",
    "\n",
    "    # Create a new line on geometric feature list. \n",
    "    geometric_attract = np.zeros((len(imgName_feature), 1))\n",
    "    for idx, file_name in enumerate(imgName_feature):\n",
    "        try:\n",
    "            match_index = imgName_att.values.tolist().index(file_name)\n",
    "            geometric_attract[idx] = attract['attractive'][match_index]\n",
    "        except ValueError:\n",
    "            print(file_name)\n",
    "\n",
    "    new_attract = [item for sublist in geometric_attract for item in sublist]\n",
    "    geometric_all = geometric_feature\n",
    "    geometric_all['attractive'] = new_attract\n",
    "    geometric_all.to_csv('../clean_data/geometric_all.csv')\n",
    "    return \n"
   ]
  },
  {
   "cell_type": "code",
   "execution_count": 98,
   "metadata": {
    "collapsed": true
   },
   "outputs": [],
   "source": [
    "# load x and y \n",
    "geometric_all = pd.read_csv('../clean_data/geometric_all.csv')\n",
    "\n",
    "x = geometric_all.drop(['imgName', 'Unnamed: 0', 'attractive'], axis=1)\n",
    "x_fields = list(x.columns.values)\n",
    "feature_x = x.values\n",
    "feature_x = preprocessing.scale(feature_x)  # normalize the feature matrix. \n",
    "\n",
    "attract_y = geometric_all['attractive'].values"
   ]
  },
  {
   "cell_type": "code",
   "execution_count": null,
   "metadata": {
    "collapsed": false
   },
   "outputs": [],
   "source": [
    "# Run linear regression multiple times. \n",
    "itr_num = 50\n",
    "random_seed = np.random.randint(1, 1000, size=itr_num)\n",
    "test_corr_list = np.zeros((itr_num, 1))\n",
    "coef_list = np.zeros((len(x_fields), itr_num))\n",
    "intercept_list = np.zeros((itr_num, 1))\n",
    "alpha_list = np.zeros((itr_num, 1))\n",
    "\n",
    "for cur_itr in range(itr_num):\n",
    "    x_train, x_test, y_train, y_test = cross_validation.train_test_split(feature_x, attract_y, test_size=0.5, random_state=random_seed[cur_itr])\n",
    "    clf = linear_model.RidgeCV(alphas=np.logspace(-3, 1, num=20), fit_intercept=True)\n",
    "    clf.fit(x_train, y_train)\n",
    "    \n",
    "    coef_list[:, cur_itr] = clf.coef_\n",
    "    intercept_list[cur_itr] = clf.intercept_\n",
    "    alpha_list[cur_itr] = clf.alpha_\n",
    "    \n",
    "    y_test_pred = clf.predict(x_test)\n",
    "    corr = spearmanr(y_test, y_test_pred)\n",
    "    test_corr_list[cur_itr] = corr[0]\n",
    "\n",
    "test_corr_list.mean()"
   ]
  },
  {
   "cell_type": "code",
   "execution_count": 142,
   "metadata": {
    "collapsed": false
   },
   "outputs": [],
   "source": [
    "# Now plot the social features with error bar. \n",
    "coef_mean = coef_list.mean(axis=1)\n",
    "coef_std = coef_list.std(axis=1)\n",
    "\n",
    "# plot\n",
    "n = len(coef_mean)  # number of data entries\n",
    "ind = np.arange(n)  # the x locations for the groups\n",
    "width = 0.35 # bar width\n",
    "\n",
    "fig, ax = plt.subplots()\n",
    "\n",
    "rects1 = ax.bar(ind, coef_mean,                  # data\n",
    "                width,                          # bar width\n",
    "                color='MediumSlateBlue',        # bar colour\n",
    "                yerr=coef_std,                  # data for error bars\n",
    "                error_kw={'ecolor':'Tomato',    # error-bars colour\n",
    "                          'linewidth':2})       # error-bar width\n",
    "\n",
    "axes = plt.gca()\n",
    "axes.set_ylim([-1, 1])\n",
    "\n",
    "\n",
    "ax.set_ylabel('coefficient')\n",
    "ax.set_title('coefficients of every geometric feature')\n",
    "\n",
    "ax.set_xticks(ind + width)\n",
    "ax.set_xticklabels(x_fields, rotation='vertical')\n",
    "plt.tick_params(labelsize=10)\n",
    "plt.show()"
   ]
  },
  {
   "cell_type": "code",
   "execution_count": null,
   "metadata": {
    "collapsed": true
   },
   "outputs": [],
   "source": []
  }
 ],
 "metadata": {
  "kernelspec": {
   "display_name": "Python 2",
   "language": "python",
   "name": "python2"
  },
  "language_info": {
   "codemirror_mode": {
    "name": "ipython",
    "version": 2
   },
   "file_extension": ".py",
   "mimetype": "text/x-python",
   "name": "python",
   "nbconvert_exporter": "python",
   "pygments_lexer": "ipython2",
   "version": "2.7.6"
  }
 },
 "nbformat": 4,
 "nbformat_minor": 0
}
