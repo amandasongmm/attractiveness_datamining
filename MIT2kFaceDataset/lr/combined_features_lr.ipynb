{
 "cells": [
  {
   "cell_type": "code",
   "execution_count": 1,
   "metadata": {
    "collapsed": true
   },
   "outputs": [],
   "source": [
    "import numpy as np\n",
    "import pandas as pd\n",
    "from sklearn import linear_model\n",
    "from sklearn.metrics import explained_variance_score\n",
    "from sklearn.decomposition import PCA\n",
    "from sklearn import cross_validation\n",
    "from scipy.stats import spearmanr\n",
    "from sklearn import preprocessing\n",
    "import seaborn as sns\n",
    "import matplotlib.pyplot as plt\n",
    "sns.set(context=\"paper\", font=\"monospace\")\n",
    "\n",
    "from bokeh.plotting import figure, show, output_file"
   ]
  },
  {
   "cell_type": "code",
   "execution_count": 11,
   "metadata": {
    "collapsed": true
   },
   "outputs": [],
   "source": [
    "def ridge_regression(X, y):\n",
    "    itr_num = 50\n",
    "    test_corr_list = np.zeros((itr_num, 1))\n",
    "    coef_list = np.zeros((X.shape[1], itr_num))\n",
    "\n",
    "    alphas = np.logspace(-3, 2, num=20)\n",
    "\n",
    "    for cur_itr in range(itr_num):\n",
    "        x_train, x_test, y_train, y_test = cross_validation.train_test_split(X, y, test_size=0.5)\n",
    "        clf = linear_model.RidgeCV(alphas=alphas, fit_intercept=True)\n",
    "        clf.fit(x_train, y_train)\n",
    "\n",
    "        y_test_pred = clf.predict(x_test)\n",
    "\n",
    "        corr = spearmanr(y_test, y_test_pred)\n",
    "        test_corr_list[cur_itr] = corr[0]\n",
    "\n",
    "        coef_list[:, cur_itr] = clf.coef_\n",
    "\n",
    "    return test_corr_list.mean(), coef_list"
   ]
  },
  {
   "cell_type": "code",
   "execution_count": 7,
   "metadata": {
    "collapsed": true
   },
   "outputs": [],
   "source": [
    "def load_all_feat():\n",
    "    geometric_all = pd.read_csv('../clean_data/geometric_wSmoothness.csv')\n",
    "    x_1 = geometric_all.drop(['imgName', 'attractive'], axis=1)\n",
    "\n",
    "    social_all = pd.read_csv('../clean_data/reordered_social_feature.csv')\n",
    "    x_2 = social_all.drop(['attractive', 'unattractive'], axis=1)\n",
    "\n",
    "    \n",
    "    feature_x = np.hstack((x_1.values, x_2.values))\n",
    "    feature_x = preprocessing.scale(feature_x)\n",
    "    \n",
    "    field_names = list(x_1.columns.values) + list(x_2.columns.values)\n",
    "    attract_y = geometric_all['attractive'].values\n",
    "    return feature_x, attract_y, field_names\n"
   ]
  },
  {
   "cell_type": "code",
   "execution_count": 8,
   "metadata": {
    "collapsed": false
   },
   "outputs": [],
   "source": [
    "feature_x, attract_y, field_names = load_all_feat()"
   ]
  },
  {
   "cell_type": "code",
   "execution_count": 12,
   "metadata": {
    "collapsed": false
   },
   "outputs": [],
   "source": [
    "test_mean, coef = ridge_regression(feature_x, attract_y)"
   ]
  },
  {
   "cell_type": "code",
   "execution_count": 13,
   "metadata": {
    "collapsed": false
   },
   "outputs": [
    {
     "name": "stdout",
     "output_type": "stream",
     "text": [
      "0.845448398276\n"
     ]
    }
   ],
   "source": [
    "print test_mean"
   ]
  },
  {
   "cell_type": "code",
   "execution_count": null,
   "metadata": {
    "collapsed": true
   },
   "outputs": [],
   "source": []
  }
 ],
 "metadata": {
  "kernelspec": {
   "display_name": "Python 2",
   "language": "python",
   "name": "python2"
  },
  "language_info": {
   "codemirror_mode": {
    "name": "ipython",
    "version": 2
   },
   "file_extension": ".py",
   "mimetype": "text/x-python",
   "name": "python",
   "nbconvert_exporter": "python",
   "pygments_lexer": "ipython2",
   "version": "2.7.6"
  }
 },
 "nbformat": 4,
 "nbformat_minor": 0
}
