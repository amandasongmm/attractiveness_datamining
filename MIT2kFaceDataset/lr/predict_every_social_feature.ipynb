{
 "cells": [
  {
   "cell_type": "code",
<<<<<<< HEAD
   "execution_count": 2,
=======
   "execution_count": 66,
>>>>>>> 51fc916ddddefcd8005744d754508caef99821de
   "metadata": {
    "collapsed": true
   },
   "outputs": [],
   "source": [
    "import numpy as np\n",
    "import pandas as pd\n",
    "from sklearn import linear_model\n",
    "from sklearn.metrics import explained_variance_score\n",
    "from sklearn import cross_validation\n",
    "from scipy.stats import spearmanr\n",
    "from sklearn import preprocessing\n",
    "import matplotlib.pyplot as plt\n",
    "import seaborn as sns\n",
    "import matplotlib.pyplot as plt\n",
    "sns.set(context=\"paper\", font=\"monospace\")\n",
    "%matplotlib inline"
   ]
  },
  {
   "cell_type": "code",
<<<<<<< HEAD
   "execution_count": 4,
   "metadata": {
    "collapsed": false
=======
   "execution_count": 42,
   "metadata": {
    "collapsed": true
>>>>>>> 51fc916ddddefcd8005744d754508caef99821de
   },
   "outputs": [],
   "source": [
    "social_feature = pd.read_csv('../clean_data/reordered_social_feature.csv')\n",
    "geometric_feature = pd.read_csv('../clean_data/geometric_features.csv')\n",
    "geometric_feature.drop(['imgName'], axis=1, inplace=True)"
   ]
  },
  {
   "cell_type": "code",
<<<<<<< HEAD
   "execution_count": 5,
=======
   "execution_count": 69,
>>>>>>> 51fc916ddddefcd8005744d754508caef99821de
   "metadata": {
    "collapsed": true
   },
   "outputs": [],
   "source": [
    "geofeature_fields = list(geometric_feature.columns.values)\n",
    "feature_x = geometric_feature.values\n",
    "feature_x = preprocessing.scale(feature_x)  # normalize the feature matrix."
   ]
  },
  {
   "cell_type": "code",
<<<<<<< HEAD
   "execution_count": 6,
=======
   "execution_count": 67,
>>>>>>> 51fc916ddddefcd8005744d754508caef99821de
   "metadata": {
    "collapsed": true
   },
   "outputs": [],
   "source": [
    "# Prepare parameters for ridge regression\n",
    "itr_num = 50\n",
    "random_seed = np.random.randint(1, 1000, size=itr_num)"
   ]
  },
  {
   "cell_type": "code",
<<<<<<< HEAD
   "execution_count": 9,
   "metadata": {
    "collapsed": false
   },
   "outputs": [],
=======
   "execution_count": 70,
   "metadata": {
    "collapsed": false
   },
   "outputs": [
    {
     "name": "stdout",
     "output_type": "stream",
     "text": [
      "atypical 0.335177673075\n",
      "boring 0.45921514156\n",
      "calm 0.322099541106\n",
      "cold 0.670713552459\n",
      "common 0.299396628375\n",
      "confident 0.449025945293\n",
      "egotistic 0.452982796961\n",
      "emotUnstable 0.470349188091\n",
      "forgettable 0.315014768085\n",
      "intelligent 0.387927631862\n",
      "introverted 0.568739949631\n",
      "kind 0.652866841569\n",
      "responsible 0.485362880866\n",
      "trustworthy 0.5637703231\n",
      "unattractive 0.485234003402\n",
      "unemotional 0.657738507487\n",
      "unfamiliar 0.331490135467\n",
      "unfriendly 0.662232382747\n",
      "unhappy 0.683555630917\n",
      "weird 0.408092660947\n",
      "aggressive 0.54102207294\n",
      "attractive 0.52518612857\n",
      "caring 0.629612937276\n",
      "emotStable 0.49520125549\n",
      "emotional 0.532345099183\n",
      "familiar 0.356516152192\n",
      "friendly 0.691214579202\n",
      "happy 0.735539932109\n",
      "humble 0.467060244959\n",
      "interesting 0.43336534892\n",
      "irresponsible 0.45070326992\n",
      "mean 0.585285090233\n",
      "memorable 0.303485153397\n",
      "normal 0.450686023093\n",
      "sociable 0.657483677902\n",
      "typical 0.342438938183\n",
      "uncertain 0.5287648791\n",
      "uncommon 0.304350613725\n",
      "unintelligent 0.383504409286\n",
      "untrustworthy 0.530074131769\n"
     ]
    }
   ],
>>>>>>> 51fc916ddddefcd8005744d754508caef99821de
   "source": [
    "for cur_ind in range(social_feature.shape[1]):\n",
    "    cur_feature = social_feature.ix[:,cur_ind]\n",
    "    cur_feature_name = cur_feature.name\n",
    "    y = cur_feature.values\n",
    "        \n",
    "    test_corr_list = np.zeros((itr_num, 1))\n",
    "    coef_list = np.zeros((feature_x.shape[1], itr_num))\n",
    "    intercept_list = np.zeros((itr_num, 1))\n",
    "    alpha_list = np.zeros((itr_num, 1))\n",
    "    alphas = np.logspace(-3, 2, num=20)\n",
    "\n",
    "    for cur_itr in range(itr_num):\n",
    "        x_train, x_test, y_train, y_test = cross_validation.train_test_split(feature_x, y, test_size=0.5, random_state=random_seed[cur_itr])\n",
    "        clf = linear_model.RidgeCV(alphas=alphas, fit_intercept=True)\n",
    "        clf.fit(x_train, y_train)\n",
    "\n",
    "        coef_list[:, cur_itr] = clf.coef_\n",
    "        intercept_list[cur_itr] = clf.intercept_\n",
    "        alpha_list[cur_itr] = clf.alpha_\n",
    "\n",
    "        y_test_pred = clf.predict(x_test)\n",
    "        y_all = clf.predict(feature_x)\n",
    "        corr = spearmanr(y_test, y_test_pred)\n",
    "        test_corr_list[cur_itr] = corr[0]\n",
    "\n",
    "#     print cur_feature_name, test_corr_list.mean()"
   ]
  },
  {
   "cell_type": "code",
   "execution_count": 12,
   "metadata": {
    "collapsed": false
   },
   "outputs": [
    {
     "data": {
      "text/plain": [
       "(2207, 40)"
      ]
     },
     "execution_count": 12,
     "metadata": {},
     "output_type": "execute_result"
    }
   ],
   "source": [
    "# \n",
    "estimated_social_feature = np.zeros((social_feature.shape))\n",
    "estimated_social_feature.shape"
   ]
  },
  {
   "cell_type": "code",
<<<<<<< HEAD
   "execution_count": 13,
=======
   "execution_count": 72,
>>>>>>> 51fc916ddddefcd8005744d754508caef99821de
   "metadata": {
    "collapsed": true
   },
   "outputs": [],
   "source": [
    "itr_num = 1\n",
    "estimated_social_feature = np.zeros((social_feature.shape))\n",
    "for cur_ind in range(social_feature.shape[1]):\n",
    "    cur_feature = social_feature.ix[:,cur_ind]\n",
    "    cur_feature_name = cur_feature.name\n",
    "    y = cur_feature.values\n",
    "        \n",
    "    test_corr_list = np.zeros((itr_num, 1))\n",
    "    coef_list = np.zeros((feature_x.shape[1], itr_num))\n",
    "    intercept_list = np.zeros((itr_num, 1))\n",
    "    alpha_list = np.zeros((itr_num, 1))\n",
    "    alphas = np.logspace(-3, 2, num=20)\n",
    "\n",
    "    for cur_itr in range(itr_num):\n",
    "        x_train, x_test, y_train, y_test = cross_validation.train_test_split(feature_x, y, test_size=0.5)\n",
    "        clf = linear_model.RidgeCV(alphas=alphas, fit_intercept=True)\n",
    "        clf.fit(x_train, y_train)\n",
    "\n",
    "        coef_list[:, cur_itr] = clf.coef_\n",
    "        intercept_list[cur_itr] = clf.intercept_\n",
    "        alpha_list[cur_itr] = clf.alpha_\n",
    "\n",
    "        y_test_pred = clf.predict(x_test)\n",
    "        y_all = clf.predict(feature_x)\n",
    "        \n",
    "        estimated_social_feature[:, cur_ind] = y_all"
   ]
  },
  {
   "cell_type": "code",
<<<<<<< HEAD
   "execution_count": 14,
=======
   "execution_count": 79,
>>>>>>> 51fc916ddddefcd8005744d754508caef99821de
   "metadata": {
    "collapsed": false
   },
   "outputs": [
    {
     "data": {
      "text/plain": [
       "21"
      ]
     },
     "execution_count": 14,
     "metadata": {},
     "output_type": "execute_result"
    }
   ],
   "source": [
    "social_feature.columns.get_loc(\"attractive\")"
   ]
  },
  {
   "cell_type": "code",
<<<<<<< HEAD
   "execution_count": 18,
   "metadata": {
    "collapsed": false
   },
   "outputs": [
    {
     "data": {
      "text/plain": [
       "(2207, 40)"
      ]
     },
     "execution_count": 18,
     "metadata": {},
     "output_type": "execute_result"
    }
   ],
=======
   "execution_count": 75,
   "metadata": {
    "collapsed": true
   },
   "outputs": [],
>>>>>>> 51fc916ddddefcd8005744d754508caef99821de
   "source": [
    "\n",
    "estimated_social_feature_cp = estimated_social_feature\n",
    "estimated_social_feature.shape"
   ]
  },
  {
   "cell_type": "code",
<<<<<<< HEAD
   "execution_count": 20,
=======
   "execution_count": 78,
>>>>>>> 51fc916ddddefcd8005744d754508caef99821de
   "metadata": {
    "collapsed": false
   },
   "outputs": [
    {
     "data": {
      "text/plain": [
       "(2207, 39)"
      ]
     },
<<<<<<< HEAD
     "execution_count": 20,
=======
     "execution_count": 78,
>>>>>>> 51fc916ddddefcd8005744d754508caef99821de
     "metadata": {},
     "output_type": "execute_result"
    }
   ],
   "source": [
    "new = np.delete(estimated_social_feature_cp, [21], axis=1)\n",
    "new.shape"
   ]
  },
  {
   "cell_type": "code",
<<<<<<< HEAD
   "execution_count": 22,
   "metadata": {
    "collapsed": false
   },
   "outputs": [
    {
     "data": {
      "text/plain": [
       "0.54001577187392547"
      ]
     },
     "execution_count": 22,
     "metadata": {},
     "output_type": "execute_result"
    }
   ],
   "source": [
    "# Run linear regression multiple times. \n",
    "itr_num = 50\n",
    "test_corr_list = np.zeros((itr_num, 1))\n",
    "alphas = np.logspace(-3, 2, num=20)\n",
    "\n",
    "attract_y = social_feature.ix[:,21].values\n",
    "\n",
    "for cur_itr in range(itr_num):\n",
    "#     print cur_itr\n",
    "    x_train, x_test, y_train, y_test = cross_validation.train_test_split(new, attract_y, test_size=0.5)\n",
    "    clf = linear_model.RidgeCV(alphas=alphas, fit_intercept=True)\n",
    "\n",
    "    clf.fit(x_train, y_train)\n",
    "    \n",
    "    y_test_pred = clf.predict(x_test)\n",
    "    corr = spearmanr(y_test, y_test_pred)\n",
    "    test_corr_list[cur_itr] = corr[0]\n",
    "\n",
    "test_corr_list.mean()"
   ]
  },
  {
   "cell_type": "code",
=======
>>>>>>> 51fc916ddddefcd8005744d754508caef99821de
   "execution_count": null,
   "metadata": {
    "collapsed": true
   },
   "outputs": [],
   "source": []
  }
 ],
 "metadata": {
  "kernelspec": {
   "display_name": "Python 2",
   "language": "python",
   "name": "python2"
  },
  "language_info": {
   "codemirror_mode": {
    "name": "ipython",
    "version": 2
   },
   "file_extension": ".py",
   "mimetype": "text/x-python",
   "name": "python",
   "nbconvert_exporter": "python",
   "pygments_lexer": "ipython2",
   "version": "2.7.6"
  }
 },
 "nbformat": 4,
 "nbformat_minor": 0
}
