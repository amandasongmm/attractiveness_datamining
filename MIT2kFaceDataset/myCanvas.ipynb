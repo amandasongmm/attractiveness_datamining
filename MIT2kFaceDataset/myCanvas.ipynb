{
 "cells": [
  {
   "cell_type": "code",
   "execution_count": 4,
   "metadata": {
    "collapsed": false
   },
   "outputs": [],
   "source": [
    "# L2 norm\n",
    "import numpy as np\n",
    "import pandas as pd\n",
    "from sklearn import linear_model\n",
    "from sklearn.metrics import explained_variance_score\n",
    "from sklearn import cross_validation\n",
    "\n",
    "field_names = pd.read_csv('./clean_data/feature_field_list.txt')\n",
    "feature_arr = pd.read_pickle('./clean_data/feature_array')\n",
    "\n",
    "# save feature array\n",
    "feature_x = feature_arr.drop('attractive', axis=1)\n",
    "feature_x = feature_x.drop('unattractive', axis=1)\n",
    "attract_y = feature_arr['attractive']\n",
    "feature_x = feature_x.values\n",
    "attract_y = attract_y.values\n",
    "\n",
    "random_seed = 1\n",
    "x_train, x_test, y_train, y_test = cross_validation.train_test_split(feature_x, attract_y, test_size=0.1, random_state=random_seed)"
   ]
  },
  {
   "cell_type": "code",
   "execution_count": 5,
   "metadata": {
    "collapsed": false
   },
   "outputs": [
    {
     "name": "stdout",
     "output_type": "stream",
     "text": [
      "0.808809031875\n"
     ]
    }
   ],
   "source": [
    "# R2-regression\n",
    "clf = linear_model.RidgeCV(alphas=(1, 5, 10, 20, 50, 100), \n",
    "                           fit_intercept=True)\n",
    "clf.fit(x_train, y_train)\n",
    "y_test_pred = clf.predict(x_test)\n",
    "corr = np.corrcoef(y_test, y_test_pred)\n",
    "print corr[0, 1]"
   ]
  },
  {
   "cell_type": "code",
   "execution_count": 6,
   "metadata": {
    "collapsed": false
   },
   "outputs": [
    {
     "name": "stdout",
     "output_type": "stream",
     "text": [
      "K-nn\n",
      "MSE: 0.58\n",
      "Variance score: 0.59\n",
      "Correlation: 0.78\n",
      "Extra trees\n",
      "MSE: 0.55\n",
      "Variance score: 0.61\n",
      "Correlation: 0.78\n",
      "Lasso Least Angle Regression\n",
      "MSE: 0.49\n",
      "Variance score: 0.65\n",
      "Correlation: 0.81\n",
      "Ridge\n",
      "MSE: 0.49\n",
      "Variance score: 0.65\n",
      "Correlation: 0.81\n",
      "Lasso\n",
      "MSE: 0.49\n",
      "Variance score: 0.65\n",
      "Correlation: 0.81\n",
      "SVR\n",
      "MSE: 0.43\n",
      "Variance score: 0.69\n",
      "Correlation: 0.83\n",
      "Kernel ridge\n",
      "MSE: 0.49\n",
      "Variance score: 0.65\n",
      "Correlation: 0.81\n",
      "Linear regression\n",
      "MSE: 0.49\n",
      "Variance score: 0.65\n",
      "Correlation: 0.81\n"
     ]
    }
   ],
   "source": [
    "# Fit estimators\n",
    "from sklearn.utils.validation import check_random_state\n",
    "from sklearn.ensemble import ExtraTreesRegressor\n",
    "from sklearn.neighbors import KNeighborsRegressor\n",
    "from sklearn.linear_model import LinearRegression\n",
    "from sklearn.linear_model import RidgeCV\n",
    "from sklearn.svm import SVR\n",
    "from sklearn.kernel_ridge import KernelRidge\n",
    "from sklearn import linear_model\n",
    "\n",
    "ESTIMATORS = {\n",
    "    \"Extra trees\": ExtraTreesRegressor(n_estimators=10, max_features=32,\n",
    "                                       random_state=0),\n",
    "    \"K-nn\": KNeighborsRegressor(),\n",
    "    \"Linear regression\": LinearRegression(),\n",
    "    \"Ridge\": RidgeCV(),\n",
    "    \"SVR\": SVR(), \n",
    "    \"Kernel ridge\": KernelRidge(),\n",
    "    \"Lasso\": linear_model.LassoCV(),\n",
    "    \"Lasso Least Angle Regression\": linear_model.LassoLarsCV(),\n",
    "#     \"Perceptron\": linear_model.Perceptron(),\n",
    "# #     \"SGD Regressor\": linear_model.SGDRegressor(),\n",
    "}\n",
    "\n",
    "y_test_predict = dict()\n",
    "for name, estimator in ESTIMATORS.items():\n",
    "    estimator.fit(x_train, y_train)\n",
    "    y_test_predict[name] = estimator.predict(x_test)\n",
    "    \n",
    "    print name\n",
    "    \n",
    "    # The mean square error\n",
    "    print(\"MSE: %.2f\"\n",
    "      % np.mean((estimator.predict(x_test) - y_test) ** 2))\n",
    "    \n",
    "    # Explained variance score: 1 is perfect prediction\n",
    "    print('Variance score: %.2f' % estimator.score(x_test, y_test))\n",
    "\n",
    "    # correlation\n",
    "    print('Correlation: %.2f' % np.corrcoef(y_test, estimator.predict(x_test))[0,1])"
   ]
  },
  {
   "cell_type": "code",
   "execution_count": 7,
   "metadata": {
    "collapsed": false
   },
   "outputs": [
    {
     "name": "stdout",
     "output_type": "stream",
     "text": [
      "svr_lin\n",
      "MSE: 0.52\n",
      "Variance score: 0.63\n",
      "Correlation: 0.80\n",
      "\n",
      "svr_rbf\n",
      "MSE: 0.47\n",
      "Variance score: 0.67\n",
      "Correlation: 0.82\n",
      "\n",
      "SVR\n",
      "MSE: 0.43\n",
      "Variance score: 0.69\n",
      "Correlation: 0.83\n",
      "\n"
     ]
    }
   ],
   "source": [
    "# Fit estimators\n",
    "from sklearn.utils.validation import check_random_state\n",
    "from sklearn.ensemble import ExtraTreesRegressor\n",
    "from sklearn.neighbors import KNeighborsRegressor\n",
    "from sklearn.linear_model import LinearRegression\n",
    "from sklearn.linear_model import RidgeCV\n",
    "from sklearn.svm import SVR\n",
    "from sklearn.kernel_ridge import KernelRidge\n",
    "from sklearn import linear_model\n",
    "\n",
    "ESTIMATORS = {\n",
    "    \"SVR\": SVR(),\n",
    "    \"svr_rbf\": SVR(kernel='rbf', C=1e3, gamma=0.1),\n",
    "    \"svr_lin\": SVR(kernel='linear', C=1e3),\n",
    "}\n",
    "\n",
    "y_test_predict = dict()\n",
    "for name, estimator in ESTIMATORS.items():\n",
    "    estimator.fit(x_train, y_train)\n",
    "    y_test_predict[name] = estimator.predict(x_test)\n",
    "    \n",
    "    print name\n",
    "    \n",
    "    # The mean square error\n",
    "    print(\"MSE: %.2f\"\n",
    "      % np.mean((estimator.predict(x_test) - y_test) ** 2))\n",
    "    \n",
    "    # Explained variance score: 1 is perfect prediction\n",
    "    print('Variance score: %.2f' % estimator.score(x_test, y_test))\n",
    "    \n",
    "    \n",
    "    # correlation\n",
    "    print('Correlation: %.2f\\n' % np.corrcoef(y_test, estimator.predict(x_test))[0,1])\n"
   ]
  },
  {
   "cell_type": "code",
   "execution_count": null,
   "metadata": {
    "collapsed": true
   },
   "outputs": [],
   "source": []
  }
 ],
 "metadata": {
  "kernelspec": {
   "display_name": "Python 2",
   "language": "python",
   "name": "python2"
  },
  "language_info": {
   "codemirror_mode": {
    "name": "ipython",
    "version": 2
   },
   "file_extension": ".py",
   "mimetype": "text/x-python",
   "name": "python",
   "nbconvert_exporter": "python",
   "pygments_lexer": "ipython2",
   "version": "2.7.6"
  }
 },
 "nbformat": 4,
 "nbformat_minor": 0
}
