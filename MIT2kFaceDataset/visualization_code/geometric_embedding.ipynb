{
 "cells": [
  {
   "cell_type": "code",
   "execution_count": 6,
   "metadata": {
    "collapsed": true
   },
   "outputs": [],
   "source": [
    "import numpy as np\n",
    "import pandas as pd\n",
    "from sklearn import linear_model\n",
    "from sklearn.metrics import explained_variance_score\n",
    "from sklearn.decomposition import PCA\n",
    "from sklearn import cross_validation\n",
    "from scipy.stats import spearmanr\n",
    "from sklearn import preprocessing\n",
    "import seaborn as sns\n",
    "import matplotlib.pyplot as plt\n",
    "sns.set(context=\"paper\", font=\"monospace\")\n",
    "from bokeh.io import output_notebook\n",
    "from bokeh.plotting import figure, show, output_file\n"
   ]
  },
  {
   "cell_type": "code",
   "execution_count": 2,
   "metadata": {
    "collapsed": true
   },
   "outputs": [],
   "source": [
    "def load_geo():\n",
    "    geometric_all = pd.read_csv('../clean_data/geometric_all.csv')\n",
    "    x = geometric_all.drop(['imgName', 'Unnamed: 0', 'attractive'], axis=1)\n",
    "    field_names = list(x.columns.values)\n",
    "    feature_x = x.values\n",
    "    feature_x = preprocessing.scale(feature_x)  # normalize the feature matrix.\n",
    "    attract_y = geometric_all['attractive'].values\n",
    "    return feature_x, attract_y, field_names\n",
    "\n",
    "\n",
    "def simple_pca(feature_x):\n",
    "    pca = PCA()\n",
    "    pca_feat = pca.fit_transform(feature_x)\n",
    "    pca_score = pca.explained_variance_ratio_\n",
    "    pca_component = pca.components_\n",
    "    return pca_feat, pca_score, pca_component"
   ]
  },
  {
   "cell_type": "code",
   "execution_count": 8,
   "metadata": {
    "collapsed": false
   },
   "outputs": [],
   "source": [
    "feature_x, _, field_names = load_geo()\n",
    "pca_feat, _, _ = simple_pca(feature_x)\n",
    "ratio_non_ratio_list = np.array([])\n",
    "color_list = []\n",
    "for i in ratio_non_ratio_list:\n",
    "    if i == 0:\n",
    "        color_list.append('red')\n",
    "    else:\n",
    "        color_list.append('green')\n",
    "\n",
    "output_notebook()\n",
    "# plot\n",
    "p = figure(title='geometric feature embedding')\n",
    "x, y = pca_feat[:, 0], pca_feat[:, 1]\n",
    "\n",
    "def mtext(p, x, y, textstr, color):\n",
    "    p.text(x, y, text=[textstr], text_color=color, text_align=\"center\", text_font_size=\"10pt\")\n",
    "    return\n",
    "\n",
    "for cur_x, cur_y, cur_text, cur_color in zip(x, y, field_names, color_list):\n",
    "    mtext(p, cur_x, cur_y, cur_text, cur_color)\n",
    "\n",
    "\n",
    "show(p)"
   ]
  },
  {
   "cell_type": "code",
   "execution_count": null,
   "metadata": {
    "collapsed": true
   },
   "outputs": [],
   "source": []
  },
  {
   "cell_type": "code",
   "execution_count": null,
   "metadata": {
    "collapsed": true
   },
   "outputs": [],
   "source": [
    "def mtext(p, x, y, textstr, color):\n",
    "    p.text(x, y, text=[textstr],\n",
    "         text_color=color, text_align=\"center\", text_font_size=\"10pt\")\n",
    "\n",
    "\n",
    "good_bad_list = np.array([0, 0, 1, 0, 1,\n",
    "                          1, 0, 0, 0, 1, \n",
    "                          0, 1, 1, 1, 0, \n",
    "                          0, 0, 0, 0, 0, \n",
    "                          0, 1, 1, 1, 1, \n",
    "                          1, 1, 1, 1, 1, \n",
    "                          0, 0, 1, 1, 1, \n",
    "                          1, 0, 0, 0, 0])\n",
    "\n",
    "color_list = []\n",
    "for i in good_bad_list:\n",
    "    if i == 0:\n",
    "        color_list.append('red')\n",
    "    else:\n",
    "        color_list.append('green')\n",
    " \n",
    "\n",
    "output_notebook()\n",
    "p = figure(title=\"social feature embedding_tsne\") \n",
    "\n",
    "        \n",
    "x, y, field_names = load_data()\n",
    "for cur_x, cur_y, cur_text, cur_color in zip(x, y, field_names, color_list):\n",
    "    mtext(p, cur_x, cur_y, cur_text[:5], cur_color)\n",
    "\n",
    "\n",
    "show(p)  # open a browser"
   ]
  },
  {
   "cell_type": "code",
   "execution_count": 20,
   "metadata": {
    "collapsed": false
   },
   "outputs": [
    {
     "data": {
      "text/plain": [
       "['nose_width', 'nose_length', 'lip_thickness', 'face_length', 'eye_height']"
      ]
     },
     "execution_count": 20,
     "metadata": {},
     "output_type": "execute_result"
    }
   ],
   "source": [
    "field_names[0:5]"
   ]
  },
  {
   "cell_type": "code",
   "execution_count": null,
   "metadata": {
    "collapsed": true
   },
   "outputs": [],
   "source": []
  }
 ],
 "metadata": {
  "kernelspec": {
   "display_name": "Python 2",
   "language": "python",
   "name": "python2"
  },
  "language_info": {
   "codemirror_mode": {
    "name": "ipython",
    "version": 2
   },
   "file_extension": ".py",
   "mimetype": "text/x-python",
   "name": "python",
   "nbconvert_exporter": "python",
   "pygments_lexer": "ipython2",
   "version": "2.7.6"
  }
 },
 "nbformat": 4,
 "nbformat_minor": 0
}
