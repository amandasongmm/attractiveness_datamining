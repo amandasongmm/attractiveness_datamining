{
 "cells": [
  {
   "cell_type": "code",
   "execution_count": 35,
   "metadata": {
    "collapsed": false
   },
   "outputs": [],
   "source": [
    "import numpy as np\n",
    "\n",
    "__author__ = 'amanda'\n",
    "\n",
    "\n",
    "tmp = np.load('../tmp/clean_rating_data.npz')\n",
    "full_rating = tmp['full_rating']\n",
    "\n",
    "rater_num, face_num = full_rating.shape\n",
    "\n",
    "face_pair_uncertainty_array = np.zeros((face_num*(face_num-1)/2, 3))\n",
    "\n",
    "counter = 0\n",
    "for id1 in range(face_num):\n",
    "    for id2 in range(id1+1, face_num):\n",
    "        for rater_id in range(rater_num):\n",
    "            if full_rating[rater_id, id1] > full_rating[rater_id, id2]:\n",
    "                face_pair_uncertainty_array[counter, 0] += 1\n",
    "            elif full_rating[rater_id, id1] == full_rating[rater_id, id2]:\n",
    "                face_pair_uncertainty_array[counter, 1] += 1\n",
    "            else:\n",
    "                face_pair_uncertainty_array[counter, 2] += 1\n",
    "        counter += 1\n",
    "\n",
    "row_sum = face_pair_uncertainty_array.sum(axis=1)\n",
    "face_pair_uncertainty_array = face_pair_uncertainty_array / row_sum[:, np.newaxis]"
   ]
  },
  {
   "cell_type": "code",
   "execution_count": 36,
   "metadata": {
    "collapsed": false
   },
   "outputs": [],
   "source": [
    "from scipy import stats"
   ]
  },
  {
   "cell_type": "code",
   "execution_count": 41,
   "metadata": {
    "collapsed": false
   },
   "outputs": [],
   "source": [
    "a = stats.entropy(face_pair_uncertainty_array.T)"
   ]
  },
  {
   "cell_type": "code",
   "execution_count": 59,
   "metadata": {
    "collapsed": false
   },
   "outputs": [],
   "source": [
    "import scipy.special\n",
    "\n",
    "from bokeh.plotting import figure, show, output_file, vplot\n",
    "\n",
    "p1 = figure(title=\"Entropy Histogram\",tools=\"save\", background_fill_color=\"#E8DDCB\")\n",
    "\n",
    "mu, sigma = 0, 0.5\n",
    "\n",
    "\n",
    "hist, edges = np.histogram(a, density=True, bins=50)\n",
    "\n",
    "p1.quad(top=hist/hist.sum(), bottom=0, left=edges[:-1], right=edges[1:],\n",
    "        fill_color=\"#036564\", line_color=\"#033649\")\n",
    "\n",
    "p1.xaxis.axis_label = 'x'\n",
    "p1.yaxis.axis_label = 'Pr(x)'\n",
    "\n",
    "output_file('histogram.html', title=\"histogram.py example\")\n",
    "\n",
    "show(p1)"
   ]
  },
  {
   "cell_type": "code",
   "execution_count": 51,
   "metadata": {
    "collapsed": false
   },
   "outputs": [
    {
     "data": {
      "text/plain": [
       "1.0985126170507196"
      ]
     },
     "execution_count": 51,
     "metadata": {},
     "output_type": "execute_result"
    }
   ],
   "source": [
    "stats.entropy([0.33, 0.33, 0.34])"
   ]
  },
  {
   "cell_type": "code",
   "execution_count": 58,
   "metadata": {
    "collapsed": false
   },
   "outputs": [
    {
     "data": {
      "text/plain": [
       "array([ 0.00025126,  0.00105528,  0.00246231,  0.00386935,  0.00457286,\n",
       "        0.00557789,  0.00748744,  0.00668342,  0.00668342,  0.00773869,\n",
       "        0.00763819,  0.00909548,  0.01075377,  0.01140704,  0.01155779,\n",
       "        0.01165829,  0.01211055,  0.01251256,  0.01447236,  0.01236181,\n",
       "        0.01311558,  0.0138191 ,  0.01502513,  0.01512563,  0.01502513,\n",
       "        0.01301508,  0.01477387,  0.01552764,  0.01527638,  0.01638191,\n",
       "        0.01673367,  0.01728643,  0.01869347,  0.01839196,  0.02125628,\n",
       "        0.02      ,  0.02125628,  0.02376884,  0.02291457,  0.02467337,\n",
       "        0.02703518,  0.02959799,  0.03155779,  0.03261307,  0.03688442,\n",
       "        0.04      ,  0.04859296,  0.05844221,  0.07306533,  0.11020101])"
      ]
     },
     "execution_count": 58,
     "metadata": {},
     "output_type": "execute_result"
    }
   ],
   "source": [
    "hist/hist.sum()"
   ]
  },
  {
   "cell_type": "code",
   "execution_count": null,
   "metadata": {
    "collapsed": true
   },
   "outputs": [],
   "source": []
  }
 ],
 "metadata": {
  "kernelspec": {
   "display_name": "Python 2",
   "language": "python",
   "name": "python2"
  },
  "language_info": {
   "codemirror_mode": {
    "name": "ipython",
    "version": 2
   },
   "file_extension": ".py",
   "mimetype": "text/x-python",
   "name": "python",
   "nbconvert_exporter": "python",
   "pygments_lexer": "ipython2",
   "version": "2.7.6"
  }
 },
 "nbformat": 4,
 "nbformat_minor": 0
}
