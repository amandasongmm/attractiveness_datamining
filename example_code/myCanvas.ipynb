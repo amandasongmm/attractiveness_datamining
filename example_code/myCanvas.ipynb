{
 "cells": [
  {
   "cell_type": "code",
   "execution_count": 44,
   "metadata": {
    "collapsed": false
   },
   "outputs": [],
   "source": [
    "import numpy as np\n",
    "import pandas as pd\n",
    "\n",
    "__author__ = 'amanda'\n",
    "\n",
    "# Load the rating data\n",
    "tmp = np.load('tmp/clean_rating_data.npz')\n",
    "orig_rating = tmp['full_rating']  # 1540 * 200\n",
    "\n",
    "# Plot a histogram of the face ratings for each dataset.\n",
    "columns = ['rating', 'dataset_ind']\n",
    "hist_df = pd.DataFrame(columns=columns)\n",
    "for cur_dataset_ind in range(4):\n",
    "    face_num = 50\n",
    "    rater_num = orig_rating.shape[0]\n",
    "    cur_rating = orig_rating[:, cur_dataset_ind*50:50+cur_dataset_ind*50]\n",
    "    cur_rating = np.reshape(cur_rating, (face_num*rater_num, 1))\n",
    "    dataset_ind = np.ones((face_num*rater_num, 1))*(cur_dataset_ind+1)\n",
    "    cur_df = pd.DataFrame(np.hstack((cur_rating, dataset_ind)), columns=columns)\n",
    "    hist_df = hist_df.append(cur_df, ignore_index=True)"
   ]
  },
  {
   "cell_type": "code",
   "execution_count": 53,
   "metadata": {
    "collapsed": false
   },
   "outputs": [
    {
     "ename": "NameError",
     "evalue": "name 'vplot' is not defined",
     "output_type": "error",
     "traceback": [
      "\u001b[1;31m---------------------------------------------------------------------------\u001b[0m",
      "\u001b[1;31mNameError\u001b[0m                                 Traceback (most recent call last)",
      "\u001b[1;32m<ipython-input-53-36826b88611d>\u001b[0m in \u001b[0;36m<module>\u001b[1;34m()\u001b[0m\n\u001b[0;32m     21\u001b[0m \u001b[1;33m\u001b[0m\u001b[0m\n\u001b[0;32m     22\u001b[0m \u001b[0moutput_file\u001b[0m\u001b[1;33m(\u001b[0m\u001b[1;34m'histograms.html'\u001b[0m\u001b[1;33m)\u001b[0m\u001b[1;33m\u001b[0m\u001b[0m\n\u001b[1;32m---> 23\u001b[1;33m \u001b[0mshow\u001b[0m\u001b[1;33m(\u001b[0m\u001b[0mvplot\u001b[0m\u001b[1;33m(\u001b[0m\u001b[0mhplot\u001b[0m\u001b[1;33m(\u001b[0m\u001b[0mhist1\u001b[0m\u001b[1;33m,\u001b[0m \u001b[0mhist2\u001b[0m\u001b[1;33m)\u001b[0m\u001b[1;33m,\u001b[0m \u001b[0mhplot\u001b[0m\u001b[1;33m(\u001b[0m\u001b[0mhist3\u001b[0m\u001b[1;33m,\u001b[0m \u001b[0mhist4\u001b[0m\u001b[1;33m)\u001b[0m\u001b[1;33m)\u001b[0m\u001b[1;33m)\u001b[0m\u001b[1;33m\u001b[0m\u001b[0m\n\u001b[0m",
      "\u001b[1;31mNameError\u001b[0m: name 'vplot' is not defined"
     ]
    }
   ],
   "source": [
    "from bokeh.charts import Histogram\n",
    "from bokeh.charts import defaults, vplot, hplot, show, output_file\n",
    "\n",
    "def df_gen(orig_rating, cur_dataset_ind):\n",
    "    face_num = 50\n",
    "    rater_num = orig_rating.shape[0]\n",
    "    cur_rating = orig_rating[:, cur_dataset_ind*50:50+cur_dataset_ind*50]\n",
    "    cur_rating = np.reshape(cur_rating, (face_num*rater_num, 1))\n",
    "    cur_df = pd.DataFrame(cur_rating, columns=['rating'])\n",
    "    return cur_df\n",
    "    \n",
    "tmp = np.load('tmp/clean_rating_data.npz')\n",
    "orig_rating = tmp['full_rating']  # 1540 * 200\n",
    "\n",
    "\n",
    "df1 = df_gen(orig_rating, 0)\n",
    "df2 = df_gen(orig_rating, 1)\n",
    "df3 = df_gen(orig_rating, 2)\n",
    "df4 = df_gen(orig_rating, 3)\n",
    "hist1 = Histogram(df1['rating'],title='dataset 1')\n",
    "hist2 = Histogram(df2['rating'], title='dataset 2')\n",
    "hist3 = Histogram(df3['rating'], title='dataset 3')\n",
    "hist4 = Histogram(df4['rating'], title='dataset 4')\n",
    "\n",
    "output_file('histograms.html')\n",
    "show(vplot(hplot(hist1, hist2), hplot(hist3, hist4)))\n"
   ]
  },
  {
   "cell_type": "code",
   "execution_count": 54,
   "metadata": {
    "collapsed": true
   },
   "outputs": [],
   "source": [
    "from bokeh.charts import Histogram\n",
    "from bokeh.charts import defaults, vplot, hplot, show, output_file\n",
    "show(vplot(hplot(hist1, hist2), hplot(hist3, hist4)))"
   ]
  },
  {
   "cell_type": "code",
   "execution_count": null,
   "metadata": {
    "collapsed": true
   },
   "outputs": [],
   "source": []
  }
 ],
 "metadata": {
  "kernelspec": {
   "display_name": "Python 2",
   "language": "python",
   "name": "python2"
  },
  "language_info": {
   "codemirror_mode": {
    "name": "ipython",
    "version": 2
   },
   "file_extension": ".py",
   "mimetype": "text/x-python",
   "name": "python",
   "nbconvert_exporter": "python",
   "pygments_lexer": "ipython2",
   "version": "2.7.6"
  }
 },
 "nbformat": 4,
 "nbformat_minor": 0
}
