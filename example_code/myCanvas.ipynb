{
 "cells": [
  {
   "cell_type": "code",
   "execution_count": 70,
   "metadata": {
    "collapsed": false
   },
   "outputs": [
    {
     "name": "stdout",
     "output_type": "stream",
     "text": [
      "-0.0932676218427 0.695721337819\n"
     ]
    }
   ],
   "source": [
    "import numpy as np\n",
    "import scipy.stats as sp\n",
    "x = np.random.randn(20, 3)\n",
    "y = np.random.randn(20, 4)\n",
    "\n",
    "cor_coef, pvalue = sp.pearsonr(x[:,1], x[:,0])\n",
    "print cor_coef, pvalue"
   ]
  },
  {
   "cell_type": "code",
   "execution_count": 77,
   "metadata": {
    "collapsed": false
   },
   "outputs": [],
   "source": [
    "corr_array = np.zeros((x.shape[1], y.shape[1]))\n",
    "pvalue_array = np.zeros((x.shape[1], y.shape[1]))\n",
    "for cur_x_ind in range(x.shape[1]):\n",
    "    for cur_y_ind in range(y.shape[1]):\n",
    "        cor_coef, pvalue = sp.pearsonr(x[:,cur_x_ind],y[:,cur_y_ind])\n",
    "        corr_array[cur_x_ind,cur_y_ind] = cor_coef\n",
    "        pvalue_array[cur_x_ind, cur_y_ind] = pvalue"
   ]
  },
  {
   "cell_type": "code",
   "execution_count": 78,
   "metadata": {
    "collapsed": false
   },
   "outputs": [
    {
     "data": {
      "text/plain": [
       "(3, 4)"
      ]
     },
     "execution_count": 78,
     "metadata": {},
     "output_type": "execute_result"
    }
   ],
   "source": [
    "corr_array.shape"
   ]
  },
  {
   "cell_type": "code",
   "execution_count": 81,
   "metadata": {
    "collapsed": false
   },
   "outputs": [],
   "source": [
    "from bokeh.charts import HeatMap, output_file, show\n"
   ]
  },
  {
   "cell_type": "code",
   "execution_count": 84,
   "metadata": {
    "collapsed": false
   },
   "outputs": [],
   "source": [
    "# output_file(\"cat_heatmap.html\")\n",
    "\n",
    "# hm = HeatMap(corr_array, title=\"categorical heatmap\")\n",
    "\n",
    "# show(hm)"
   ]
  },
  {
   "cell_type": "code",
   "execution_count": 87,
   "metadata": {
    "collapsed": false
   },
   "outputs": [],
   "source": [
    "orig_feature_arr = pd.read_csv('data/allFeatures.csv', delimiter=',')\n"
   ]
  },
  {
   "cell_type": "code",
   "execution_count": null,
   "metadata": {
    "collapsed": false
   },
   "outputs": [],
   "source": []
  },
  {
   "cell_type": "code",
   "execution_count": 90,
   "metadata": {
    "collapsed": false
   },
   "outputs": [],
   "source": [
    "a = list(orig_feature_arr.columns.values)"
   ]
  },
  {
   "cell_type": "code",
   "execution_count": 95,
   "metadata": {
    "collapsed": false
   },
   "outputs": [],
   "source": [
    "columns = a[2:]"
   ]
  },
  {
   "cell_type": "code",
   "execution_count": 101,
   "metadata": {
    "collapsed": false
   },
   "outputs": [],
   "source": [
    "import pandas as pd\n",
    "values = np.random.randn(8,29)\n",
    "index = ['pc1', 'pc2','pc3','pc4','pc5','pc6','pc7','pc8']\n",
    "df2 = pd.DataFrame(values, columns=columns,index=index)"
   ]
  },
  {
   "cell_type": "code",
   "execution_count": 104,
   "metadata": {
    "collapsed": false
   },
   "outputs": [],
   "source": [
    "from bokeh.charts import HeatMap, output_file, show\n",
    "output_file('heatmap.html')\n",
    "p = HeatMap(df2, title='Fruits')\n",
    "show(p)"
   ]
  },
  {
   "cell_type": "code",
   "execution_count": 103,
   "metadata": {
    "collapsed": false,
    "scrolled": false
   },
   "outputs": [
    {
     "data": {
      "text/html": [
       "<div>\n",
       "<table border=\"1\" class=\"dataframe\">\n",
       "  <thead>\n",
       "    <tr style=\"text-align: right;\">\n",
       "      <th></th>\n",
       "      <th>nose_width</th>\n",
       "      <th>nose_length</th>\n",
       "      <th>lip_thickness</th>\n",
       "      <th>face_length</th>\n",
       "      <th>eye_height</th>\n",
       "      <th>eye_width</th>\n",
       "      <th>face_width_prom</th>\n",
       "      <th>face_width_mouth</th>\n",
       "      <th>forehead_length</th>\n",
       "      <th>distance_btw_pupils</th>\n",
       "      <th>...</th>\n",
       "      <th>lip_fullness</th>\n",
       "      <th>eye_shape</th>\n",
       "      <th>eye_size</th>\n",
       "      <th>upper_head_len</th>\n",
       "      <th>midface_len</th>\n",
       "      <th>chin_size</th>\n",
       "      <th>forehead_height</th>\n",
       "      <th>cheek_height</th>\n",
       "      <th>cheek_prominence</th>\n",
       "      <th>face_roundness</th>\n",
       "    </tr>\n",
       "  </thead>\n",
       "  <tbody>\n",
       "    <tr>\n",
       "      <th>pc1</th>\n",
       "      <td>-0.335546</td>\n",
       "      <td>0.407041</td>\n",
       "      <td>-0.365535</td>\n",
       "      <td>0.347482</td>\n",
       "      <td>-0.917596</td>\n",
       "      <td>-0.698723</td>\n",
       "      <td>-0.303933</td>\n",
       "      <td>-1.506460</td>\n",
       "      <td>-0.025779</td>\n",
       "      <td>-1.089215</td>\n",
       "      <td>...</td>\n",
       "      <td>0.283805</td>\n",
       "      <td>-0.136569</td>\n",
       "      <td>-0.738244</td>\n",
       "      <td>-0.531633</td>\n",
       "      <td>1.045899</td>\n",
       "      <td>0.952582</td>\n",
       "      <td>-0.244271</td>\n",
       "      <td>1.399602</td>\n",
       "      <td>-1.357393</td>\n",
       "      <td>1.433450</td>\n",
       "    </tr>\n",
       "    <tr>\n",
       "      <th>pc2</th>\n",
       "      <td>-0.483912</td>\n",
       "      <td>-0.458084</td>\n",
       "      <td>-0.524682</td>\n",
       "      <td>0.012549</td>\n",
       "      <td>-0.898298</td>\n",
       "      <td>-0.683145</td>\n",
       "      <td>-0.064094</td>\n",
       "      <td>-1.531392</td>\n",
       "      <td>-0.371147</td>\n",
       "      <td>0.387651</td>\n",
       "      <td>...</td>\n",
       "      <td>1.178566</td>\n",
       "      <td>0.226517</td>\n",
       "      <td>-0.431469</td>\n",
       "      <td>-0.306300</td>\n",
       "      <td>-1.174602</td>\n",
       "      <td>1.911434</td>\n",
       "      <td>-0.776480</td>\n",
       "      <td>2.580754</td>\n",
       "      <td>-0.530866</td>\n",
       "      <td>-0.112958</td>\n",
       "    </tr>\n",
       "    <tr>\n",
       "      <th>pc3</th>\n",
       "      <td>-1.808570</td>\n",
       "      <td>1.997696</td>\n",
       "      <td>1.308811</td>\n",
       "      <td>0.928091</td>\n",
       "      <td>-1.960389</td>\n",
       "      <td>-0.533936</td>\n",
       "      <td>-0.144430</td>\n",
       "      <td>0.829716</td>\n",
       "      <td>0.540948</td>\n",
       "      <td>-0.057073</td>\n",
       "      <td>...</td>\n",
       "      <td>0.035179</td>\n",
       "      <td>1.077870</td>\n",
       "      <td>1.583923</td>\n",
       "      <td>0.555262</td>\n",
       "      <td>-0.679674</td>\n",
       "      <td>0.271000</td>\n",
       "      <td>-0.490199</td>\n",
       "      <td>-0.220425</td>\n",
       "      <td>-0.751402</td>\n",
       "      <td>-0.414498</td>\n",
       "    </tr>\n",
       "    <tr>\n",
       "      <th>pc4</th>\n",
       "      <td>0.485082</td>\n",
       "      <td>-1.747705</td>\n",
       "      <td>1.454843</td>\n",
       "      <td>1.006130</td>\n",
       "      <td>0.231136</td>\n",
       "      <td>1.009124</td>\n",
       "      <td>-1.651442</td>\n",
       "      <td>0.917734</td>\n",
       "      <td>-0.245930</td>\n",
       "      <td>1.046604</td>\n",
       "      <td>...</td>\n",
       "      <td>0.750489</td>\n",
       "      <td>0.390706</td>\n",
       "      <td>-1.242780</td>\n",
       "      <td>-1.426524</td>\n",
       "      <td>-0.530906</td>\n",
       "      <td>0.252413</td>\n",
       "      <td>-1.841103</td>\n",
       "      <td>-1.587111</td>\n",
       "      <td>-0.283000</td>\n",
       "      <td>0.348649</td>\n",
       "    </tr>\n",
       "    <tr>\n",
       "      <th>pc5</th>\n",
       "      <td>-0.728242</td>\n",
       "      <td>1.205416</td>\n",
       "      <td>0.461366</td>\n",
       "      <td>-0.570722</td>\n",
       "      <td>-0.147524</td>\n",
       "      <td>-1.351820</td>\n",
       "      <td>-2.180428</td>\n",
       "      <td>1.562143</td>\n",
       "      <td>1.227253</td>\n",
       "      <td>1.223731</td>\n",
       "      <td>...</td>\n",
       "      <td>-1.177689</td>\n",
       "      <td>-0.859617</td>\n",
       "      <td>0.589728</td>\n",
       "      <td>3.189816</td>\n",
       "      <td>0.025281</td>\n",
       "      <td>-1.391388</td>\n",
       "      <td>-1.159398</td>\n",
       "      <td>0.779952</td>\n",
       "      <td>0.046816</td>\n",
       "      <td>-0.567406</td>\n",
       "    </tr>\n",
       "    <tr>\n",
       "      <th>pc6</th>\n",
       "      <td>-0.202145</td>\n",
       "      <td>-1.379333</td>\n",
       "      <td>-0.245645</td>\n",
       "      <td>-1.678979</td>\n",
       "      <td>1.415817</td>\n",
       "      <td>-1.506741</td>\n",
       "      <td>1.695737</td>\n",
       "      <td>0.689498</td>\n",
       "      <td>-0.352064</td>\n",
       "      <td>0.825654</td>\n",
       "      <td>...</td>\n",
       "      <td>-0.403190</td>\n",
       "      <td>-0.293953</td>\n",
       "      <td>1.517666</td>\n",
       "      <td>-1.118543</td>\n",
       "      <td>0.254602</td>\n",
       "      <td>-0.430591</td>\n",
       "      <td>0.229408</td>\n",
       "      <td>0.877590</td>\n",
       "      <td>0.093747</td>\n",
       "      <td>0.713532</td>\n",
       "    </tr>\n",
       "    <tr>\n",
       "      <th>pc7</th>\n",
       "      <td>-0.092699</td>\n",
       "      <td>0.953914</td>\n",
       "      <td>0.699131</td>\n",
       "      <td>-0.062086</td>\n",
       "      <td>-0.251543</td>\n",
       "      <td>-0.276991</td>\n",
       "      <td>-0.367015</td>\n",
       "      <td>0.476837</td>\n",
       "      <td>1.594832</td>\n",
       "      <td>-1.153026</td>\n",
       "      <td>...</td>\n",
       "      <td>0.763529</td>\n",
       "      <td>-0.688156</td>\n",
       "      <td>-0.465564</td>\n",
       "      <td>-0.780307</td>\n",
       "      <td>0.905736</td>\n",
       "      <td>2.191438</td>\n",
       "      <td>1.051902</td>\n",
       "      <td>1.011919</td>\n",
       "      <td>-0.892000</td>\n",
       "      <td>0.787532</td>\n",
       "    </tr>\n",
       "    <tr>\n",
       "      <th>pc8</th>\n",
       "      <td>0.170767</td>\n",
       "      <td>-0.207836</td>\n",
       "      <td>0.740629</td>\n",
       "      <td>0.837551</td>\n",
       "      <td>-0.577616</td>\n",
       "      <td>1.355056</td>\n",
       "      <td>-0.641408</td>\n",
       "      <td>-0.676836</td>\n",
       "      <td>1.056364</td>\n",
       "      <td>1.066749</td>\n",
       "      <td>...</td>\n",
       "      <td>1.577719</td>\n",
       "      <td>-2.368787</td>\n",
       "      <td>0.993787</td>\n",
       "      <td>1.421356</td>\n",
       "      <td>1.040893</td>\n",
       "      <td>-1.082704</td>\n",
       "      <td>-0.193494</td>\n",
       "      <td>-1.211051</td>\n",
       "      <td>0.471247</td>\n",
       "      <td>-0.128471</td>\n",
       "    </tr>\n",
       "  </tbody>\n",
       "</table>\n",
       "<p>8 rows × 29 columns</p>\n",
       "</div>"
      ],
      "text/plain": [
       "     nose_width  nose_length  lip_thickness  face_length  eye_height  \\\n",
       "pc1   -0.335546     0.407041      -0.365535     0.347482   -0.917596   \n",
       "pc2   -0.483912    -0.458084      -0.524682     0.012549   -0.898298   \n",
       "pc3   -1.808570     1.997696       1.308811     0.928091   -1.960389   \n",
       "pc4    0.485082    -1.747705       1.454843     1.006130    0.231136   \n",
       "pc5   -0.728242     1.205416       0.461366    -0.570722   -0.147524   \n",
       "pc6   -0.202145    -1.379333      -0.245645    -1.678979    1.415817   \n",
       "pc7   -0.092699     0.953914       0.699131    -0.062086   -0.251543   \n",
       "pc8    0.170767    -0.207836       0.740629     0.837551   -0.577616   \n",
       "\n",
       "     eye_width  face_width_prom  face_width_mouth  forehead_length  \\\n",
       "pc1  -0.698723        -0.303933         -1.506460        -0.025779   \n",
       "pc2  -0.683145        -0.064094         -1.531392        -0.371147   \n",
       "pc3  -0.533936        -0.144430          0.829716         0.540948   \n",
       "pc4   1.009124        -1.651442          0.917734        -0.245930   \n",
       "pc5  -1.351820        -2.180428          1.562143         1.227253   \n",
       "pc6  -1.506741         1.695737          0.689498        -0.352064   \n",
       "pc7  -0.276991        -0.367015          0.476837         1.594832   \n",
       "pc8   1.355056        -0.641408         -0.676836         1.056364   \n",
       "\n",
       "     distance_btw_pupils       ...        lip_fullness  eye_shape  eye_size  \\\n",
       "pc1            -1.089215       ...            0.283805  -0.136569 -0.738244   \n",
       "pc2             0.387651       ...            1.178566   0.226517 -0.431469   \n",
       "pc3            -0.057073       ...            0.035179   1.077870  1.583923   \n",
       "pc4             1.046604       ...            0.750489   0.390706 -1.242780   \n",
       "pc5             1.223731       ...           -1.177689  -0.859617  0.589728   \n",
       "pc6             0.825654       ...           -0.403190  -0.293953  1.517666   \n",
       "pc7            -1.153026       ...            0.763529  -0.688156 -0.465564   \n",
       "pc8             1.066749       ...            1.577719  -2.368787  0.993787   \n",
       "\n",
       "     upper_head_len  midface_len  chin_size  forehead_height  cheek_height  \\\n",
       "pc1       -0.531633     1.045899   0.952582        -0.244271      1.399602   \n",
       "pc2       -0.306300    -1.174602   1.911434        -0.776480      2.580754   \n",
       "pc3        0.555262    -0.679674   0.271000        -0.490199     -0.220425   \n",
       "pc4       -1.426524    -0.530906   0.252413        -1.841103     -1.587111   \n",
       "pc5        3.189816     0.025281  -1.391388        -1.159398      0.779952   \n",
       "pc6       -1.118543     0.254602  -0.430591         0.229408      0.877590   \n",
       "pc7       -0.780307     0.905736   2.191438         1.051902      1.011919   \n",
       "pc8        1.421356     1.040893  -1.082704        -0.193494     -1.211051   \n",
       "\n",
       "     cheek_prominence  face_roundness  \n",
       "pc1         -1.357393        1.433450  \n",
       "pc2         -0.530866       -0.112958  \n",
       "pc3         -0.751402       -0.414498  \n",
       "pc4         -0.283000        0.348649  \n",
       "pc5          0.046816       -0.567406  \n",
       "pc6          0.093747        0.713532  \n",
       "pc7         -0.892000        0.787532  \n",
       "pc8          0.471247       -0.128471  \n",
       "\n",
       "[8 rows x 29 columns]"
      ]
     },
     "execution_count": 103,
     "metadata": {},
     "output_type": "execute_result"
    }
   ],
   "source": [
    "df2"
   ]
  },
  {
   "cell_type": "code",
   "execution_count": null,
   "metadata": {
    "collapsed": true
   },
   "outputs": [],
   "source": []
  }
 ],
 "metadata": {
  "kernelspec": {
   "display_name": "Python 2",
   "language": "python",
   "name": "python2"
  },
  "language_info": {
   "codemirror_mode": {
    "name": "ipython",
    "version": 2
   },
   "file_extension": ".py",
   "mimetype": "text/x-python",
   "name": "python",
   "nbconvert_exporter": "python",
   "pygments_lexer": "ipython2",
   "version": "2.7.6"
  }
 },
 "nbformat": 4,
 "nbformat_minor": 0
}
