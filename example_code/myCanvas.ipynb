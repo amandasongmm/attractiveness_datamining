{
 "cells": [
  {
   "cell_type": "code",
   "execution_count": 27,
   "metadata": {
    "collapsed": false
   },
   "outputs": [
    {
     "name": "stdout",
     "output_type": "stream",
     "text": [
      "0.4\n"
     ]
    },
    {
     "data": {
      "text/plain": [
       "0.4"
      ]
     },
     "execution_count": 27,
     "metadata": {},
     "output_type": "execute_result"
    }
   ],
   "source": [
    "import Bio.Cluster\n",
    "x = [5.05, 6.75, 3.21, 2.66]\n",
    "y = [1.65, 26.5, -5.93, 7.96]\n",
    "print 1 - Bio.Cluster.distancematrix((x,y), dist=\"s\")[1][0]"
   ]
  },
  {
   "cell_type": "code",
   "execution_count": 30,
   "metadata": {
    "collapsed": false
   },
   "outputs": [],
   "source": [
    "import scipy as sp\n",
    "x1 = [12, 2, 1, 12, 2]\n",
    "x2 = [1, 4, 7, 1, 0]\n",
    "tau, p_value = sp.stats.kendalltau(x1, x2)"
   ]
  },
  {
   "cell_type": "code",
   "execution_count": 31,
   "metadata": {
    "collapsed": false
   },
   "outputs": [
    {
     "name": "stdout",
     "output_type": "stream",
     "text": [
      "-0.471404520791 0.248213091575\n"
     ]
    }
   ],
   "source": [
    "print tau, p_value"
   ]
  },
  {
   "cell_type": "code",
   "execution_count": 33,
   "metadata": {
    "collapsed": false
   },
   "outputs": [
    {
     "name": "stdout",
     "output_type": "stream",
     "text": [
      "-0.471404520791\n"
     ]
    }
   ],
   "source": [
    "import Bio.Cluster\n",
    "x1 = [12, 2, 1, 12, 2]\n",
    "x2 = [1, 4, 7, 1, 0]\n",
    "print 1 - Bio.Cluster.distancematrix((x1,x2), dist=\"k\")[1][0]"
   ]
  },
  {
   "cell_type": "code",
   "execution_count": 2,
   "metadata": {
    "collapsed": false
   },
   "outputs": [
    {
     "data": {
      "text/plain": [
       "(1540, 200)"
      ]
     },
     "execution_count": 2,
     "metadata": {},
     "output_type": "execute_result"
    }
   ],
   "source": [
    "import numpy as np\n",
    "rating_data = np.load('tmp/clean_rating_data.npz')\n",
    "orig_rating = rating_data['full_rating']\n",
    "orig_rating.shape\n",
    "\n",
    "a1 = orig_rating[:,1]\n",
    "a2 = orig_rating[:, 2]\n",
    "\n",
    "\n",
    "import numpy as np\n",
    "import scipy.stats as ss\n",
    "import pandas as pd\n",
    "import matplotlib.pyplot as plt\n",
    "import time\n",
    "\n",
    "start = time.time()\n",
    "# run your code\n",
    "end = time.time()\n",
    "\n",
    "elapsed = end - start\n",
    "\n",
    "def load_data():\n",
    "    # Load the rating data\n",
    "    rating_data = np.load('tmp/clean_rating_data.npz')\n",
    "    orig_rating = rating_data['full_rating']   # after transpose, the dimension is 200*1540\n",
    "    return orig_rating  # 1540*200\n",
    "\n",
    "\n",
    "def cal_correlation(method):\n",
    "    print 'Now computing {} correlation...\\n'.format(method)\n",
    "    orig_rating = load_data()\n",
    "    frame = pd.DataFrame(orig_rating)\n",
    "    correlation_matrix = frame.corr(method=method)\n",
    "    return correlation_matrix\n",
    "\n",
    "start = time.time()\n",
    "pearson_cor = cal_correlation('pearson')\n",
    "np.savez('./tmp/rater_correlation', pearson_cor=pearson_cor)\n",
    "end = time.time()\n",
    "elapsed = end - start\n",
    "print 'elapsed time is {}.\\n'.format(elapsed)\n",
    "\n",
    "def load_data():\n",
    "    data = np.load('tmp/rater_correlation.npz')\n",
    "    corr = data['pearson_cor']\n",
    "    return corr\n",
    "\n",
    "def plot_correlation_heatmap():\n",
    "    cor_arr = load_data()\n",
    "\n",
    "    fig, ax = plt.subplots()\n",
    "    heatmap = ax.pcolor(cor_arr, cmap=plt.cm.bwr, alpha=0.8)\n",
    "    plt.colorbar(heatmap)\n",
    "    plt.show()\n",
    "    plt.savefig('test.jpg', dpi=120, pad_inches=30)\n",
    "    return cor_arr\n",
    "\n",
    "cor_arr = plot_correlation_heatmap()\n",
    "\n",
    "savefig(test.png')"
   ]
  },
  {
   "cell_type": "code",
   "execution_count": null,
   "metadata": {
    "collapsed": true
   },
   "outputs": [],
   "source": []
  }
 ],
 "metadata": {
  "kernelspec": {
   "display_name": "Python 2",
   "language": "python",
   "name": "python2"
  },
  "language_info": {
   "codemirror_mode": {
    "name": "ipython",
    "version": 2
   },
   "file_extension": ".py",
   "mimetype": "text/x-python",
   "name": "python",
   "nbconvert_exporter": "python",
   "pygments_lexer": "ipython2",
   "version": "2.7.6"
  }
 },
 "nbformat": 4,
 "nbformat_minor": 0
}
