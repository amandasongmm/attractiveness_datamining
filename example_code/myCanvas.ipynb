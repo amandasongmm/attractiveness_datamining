{
 "cells": [
  {
   "cell_type": "code",
   "execution_count": 3,
   "metadata": {
    "collapsed": true
   },
   "outputs": [],
   "source": [
    "import matplotlib.pyplot as plt\n",
    "import numpy as np\n",
    "\n",
    "feature_a = np.random.rand(20,4)\n",
    "\n",
    "\n",
    "column_labels = list('ABCD')\n",
    "row_labels = list('WXYZ')\n",
    "\n",
    "data = np.random.rand(20,4)\n",
    "fig, ax = plt.subplots()\n",
    "heatmap = ax.pcolor(data)\n",
    "\n",
    "# put the major ticks at the middle of each cell, notice \"reverse\" use of dimension\n",
    "ax.set_yticks(np.arange(data.shape[0])+0.5, minor=False)\n",
    "ax.set_xticks(np.arange(data.shape[1])+0.5, minor=False)\n",
    "\n",
    "\n",
    "ax.set_xticklabels(row_labels, minor=False)\n",
    "ax.set_yticklabels(column_labels, minor=False)\n",
    "plt.show()"
   ]
  },
  {
   "cell_type": "code",
   "execution_count": 4,
   "metadata": {
    "collapsed": true
   },
   "outputs": [],
   "source": [
    "feature_a = np.random.rand(20,4)\n",
    "mask_a = np.random.rand(20,4)\n"
   ]
  },
  {
   "cell_type": "code",
   "execution_count": 10,
   "metadata": {
    "collapsed": false
   },
   "outputs": [],
   "source": [
    "data[np.where(mask_a<0.05)]= 0\n"
   ]
  },
  {
   "cell_type": "code",
   "execution_count": 14,
   "metadata": {
    "collapsed": false
   },
   "outputs": [
    {
     "data": {
      "text/plain": [
       "array([[ 0.59385563,  0.85458247,  0.85058477,  0.13041395,  0.89281055,\n",
       "         0.8615761 ,  0.15150273,  0.85704086,  0.80396122,  0.74237768,\n",
       "         0.24610732,  0.09196439,  0.41328088,  0.43762116,  0.25123115,\n",
       "         0.37915848,  0.22336858,  0.94045385,  0.94021892,  0.10643278],\n",
       "       [ 0.1362489 ,  0.56599236,  0.5506852 ,  0.49096336,  0.2891577 ,\n",
       "         0.63324578,  0.66152514,  0.84803013,  0.90019099,  0.02193864,\n",
       "         0.42937485,  0.77678271,  0.45358749,  0.12680394,  0.00386542,\n",
       "         0.06279468,  0.        ,  0.6307809 ,  0.16959009,  0.35759141],\n",
       "       [ 0.63361965,  0.8912977 ,  0.0733136 ,  0.74438098,  0.75577588,\n",
       "         0.56688642,  0.41771438,  0.03779068,  0.43596625,  0.02284636,\n",
       "         0.36322473,  0.55638753,  0.60871188,  0.48841663,  0.53626332,\n",
       "         0.57119788,  0.38636645,  0.93736704,  0.        ,  0.35097754],\n",
       "       [ 0.79126334,  0.07763199,  0.64975294,  0.63729632,  0.31439103,\n",
       "         0.31093075,  0.03233584,  0.76958406,  0.        ,  0.6792365 ,\n",
       "         0.66783951,  0.95934209,  0.8163795 ,  0.39906338,  0.60014155,\n",
       "         0.13774743,  0.34019225,  0.8365274 ,  0.73399529,  0.25099513]])"
      ]
     },
     "execution_count": 14,
     "metadata": {},
     "output_type": "execute_result"
    }
   ],
   "source": [
    "data.T"
   ]
  },
  {
   "cell_type": "code",
   "execution_count": 13,
   "metadata": {
    "collapsed": true
   },
   "outputs": [],
   "source": []
  },
  {
   "cell_type": "code",
   "execution_count": null,
   "metadata": {
    "collapsed": true
   },
   "outputs": [],
   "source": []
  }
 ],
 "metadata": {
  "kernelspec": {
   "display_name": "Python 2",
   "language": "python",
   "name": "python2"
  },
  "language_info": {
   "codemirror_mode": {
    "name": "ipython",
    "version": 2
   },
   "file_extension": ".py",
   "mimetype": "text/x-python",
   "name": "python",
   "nbconvert_exporter": "python",
   "pygments_lexer": "ipython2",
   "version": "2.7.6"
  }
 },
 "nbformat": 4,
 "nbformat_minor": 0
}
