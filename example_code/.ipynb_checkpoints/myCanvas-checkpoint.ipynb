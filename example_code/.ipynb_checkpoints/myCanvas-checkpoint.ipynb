{
 "cells": [
  {
   "cell_type": "code",
   "execution_count": 23,
   "metadata": {
    "collapsed": false
   },
   "outputs": [],
   "source": []
  },
  {
   "cell_type": "code",
   "execution_count": null,
   "metadata": {
    "collapsed": false
   },
   "outputs": [],
   "source": []
  },
  {
   "cell_type": "code",
   "execution_count": 56,
   "metadata": {
    "collapsed": false
   },
   "outputs": [
    {
     "name": "stderr",
     "output_type": "stream",
     "text": [
      "ERROR:/usr/local/lib/python2.7/dist-packages/bokeh/core/validation/check.pyc:W-1001 (NO_DATA_RENDERERS): Plot has no data renderers: Figure, ViewModel:Plot, ref _id: 473f4542-e54d-4476-a626-246694bdcba2\n",
      "ERROR:/usr/local/lib/python2.7/dist-packages/bokeh/core/validation/check.pyc:W-1001 (NO_DATA_RENDERERS): Plot has no data renderers: Figure, ViewModel:Plot, ref _id: 473f4542-e54d-4476-a626-246694bdcba2\n"
     ]
    },
    {
     "name": "stdout",
     "output_type": "stream",
     "text": [
      "(50, 12)\n"
     ]
    }
   ],
   "source": [
    "import numpy as np\n",
    "from sklearn.decomposition import PCA\n",
    "from sklearn import preprocessing\n",
    "from bokeh.charts import Bar, output_file, show\n",
    "import pandas as pd\n",
    "import matplotlib.pyplot as matplt\n",
    "import scipy.stats as spstat\n",
    "import bokeh.plotting as plt\n",
    "import numpy as np\n",
    "import sklearn.manifold as manifold\n",
    "import ujson\n",
    "\n",
    "\n",
    "def load_feature_data(file_path):\n",
    "    npz_data = np.load(file_path)\n",
    "    feature_arr = npz_data['feature_arr']\n",
    "    return feature_arr\n",
    "\n",
    "\n",
    "def do_pca(feature_arr, explained_var=0.99):\n",
    "    # preprocess the data\n",
    "#     fea_scaled = preprocessing.scale(feature_arr)\n",
    "    fea_scaled = feature_arr\n",
    "    \n",
    "    # Compute PCA features\n",
    "    pca = PCA(n_components=explained_var, whiten=True)\n",
    "    pca_feature_arr = pca.fit_transform(fea_scaled)\n",
    "    sorted_ind = np.argsort(pca_feature_arr, axis=1)\n",
    "    return pca_feature_arr, sorted_ind\n",
    "\n",
    "\n",
    "def embed_show(img_list, feats, html_file='dataset1_pc1.html'):\n",
    "    # mapper = manifold.TSNE()\n",
    "    # locs = mapper.fit_transform(feats)\n",
    "    cur_pc_dim = 1\n",
    "    print feats.shape\n",
    "    locs = feats\n",
    "    p = plt.figure(plot_width=2400, plot_height=1300)\n",
    "    p.image_url(x=locs[:, cur_pc_dim]*2, y=locs[:, cur_pc_dim]*0.5, url=img_list, w=0.4, h=0.5, anchor=\"center\")\n",
    "    p.circle(x=locs[:, 0], y=locs[:, 1])\n",
    "\n",
    "    plt.output_file(html_file, title=\"dataset, pc dim\")\n",
    "    plt.save(p)\n",
    "    plt.show(p) \n",
    "    return \n",
    "\n",
    "    \n",
    "def my_main(curInd):\n",
    "    with open('data/imagePathFile.json') as data_file:\n",
    "        image_list = ujson.load(data_file)\n",
    "    feature_list = load_feature_data('tmp/original_ConfiguralFeatures.npz')\n",
    "    sub_fea = feature_list[0+curInd*50:50+curInd*50, :]\n",
    "    pca_fea, sorted_ind = do_pca(sub_fea) \n",
    "    embed_show(image_list[0+curInd*50:50+curInd*50], pca_fea)\n",
    "    return \n",
    "\n",
    "my_main(3)"
   ]
  },
  {
   "cell_type": "code",
   "execution_count": null,
   "metadata": {
    "collapsed": false
   },
   "outputs": [],
   "source": []
  },
  {
   "cell_type": "code",
   "execution_count": null,
   "metadata": {
    "collapsed": false
   },
   "outputs": [],
   "source": []
  },
  {
   "cell_type": "code",
   "execution_count": null,
   "metadata": {
    "collapsed": false
   },
   "outputs": [],
   "source": []
  },
  {
   "cell_type": "code",
   "execution_count": null,
   "metadata": {
    "collapsed": false
   },
   "outputs": [],
   "source": []
  },
  {
   "cell_type": "code",
   "execution_count": null,
   "metadata": {
    "collapsed": false
   },
   "outputs": [],
   "source": []
  },
  {
   "cell_type": "code",
   "execution_count": null,
   "metadata": {
    "collapsed": false
   },
   "outputs": [],
   "source": []
  },
  {
   "cell_type": "code",
   "execution_count": null,
   "metadata": {
    "collapsed": false
   },
   "outputs": [],
   "source": []
  },
  {
   "cell_type": "code",
   "execution_count": null,
   "metadata": {
    "collapsed": false
   },
   "outputs": [],
   "source": []
  },
  {
   "cell_type": "code",
   "execution_count": null,
   "metadata": {
    "collapsed": false
   },
   "outputs": [],
   "source": []
  },
  {
   "cell_type": "code",
   "execution_count": null,
   "metadata": {
    "collapsed": true
   },
   "outputs": [],
   "source": []
  },
  {
   "cell_type": "code",
   "execution_count": 3,
   "metadata": {
    "collapsed": true
   },
   "outputs": [],
   "source": []
  },
  {
   "cell_type": "code",
   "execution_count": 4,
   "metadata": {
    "collapsed": true
   },
   "outputs": [],
   "source": []
  },
  {
   "cell_type": "code",
   "execution_count": null,
   "metadata": {
    "collapsed": true
   },
   "outputs": [],
   "source": []
  },
  {
   "cell_type": "code",
   "execution_count": 6,
   "metadata": {
    "collapsed": true
   },
   "outputs": [],
   "source": []
  },
  {
   "cell_type": "code",
   "execution_count": null,
   "metadata": {
    "collapsed": true
   },
   "outputs": [],
   "source": []
  },
  {
   "cell_type": "code",
   "execution_count": 16,
   "metadata": {
    "collapsed": true
   },
   "outputs": [],
   "source": []
  },
  {
   "cell_type": "code",
   "execution_count": null,
   "metadata": {
    "collapsed": true
   },
   "outputs": [],
   "source": []
  },
  {
   "cell_type": "code",
   "execution_count": 15,
   "metadata": {
    "collapsed": true
   },
   "outputs": [],
   "source": []
  },
  {
   "cell_type": "code",
   "execution_count": null,
   "metadata": {
    "collapsed": true
   },
   "outputs": [],
   "source": []
  }
 ],
 "metadata": {
  "kernelspec": {
   "display_name": "Python 2",
   "language": "python",
   "name": "python2"
  },
  "language_info": {
   "codemirror_mode": {
    "name": "ipython",
    "version": 2
   },
   "file_extension": ".py",
   "mimetype": "text/x-python",
   "name": "python",
   "nbconvert_exporter": "python",
   "pygments_lexer": "ipython2",
   "version": "2.7.6"
  }
 },
 "nbformat": 4,
 "nbformat_minor": 0
}
