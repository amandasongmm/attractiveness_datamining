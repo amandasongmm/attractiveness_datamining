{
 "cells": [
  {
   "cell_type": "code",
   "execution_count": 9,
   "metadata": {
    "collapsed": true
   },
   "outputs": [],
   "source": [
    "# import environment\n",
    "\n",
    "import ujson\n",
    "import numpy as np\n",
    "from bokeh.plotting import figure, output_file, show, ColumnDataSource\n",
    "from bokeh.charts import Bar, output_file, show\n",
    "from bokeh.models import HoverTool\n",
    "from sklearn.decomposition import PCA\n",
    "from sklearn import preprocessing\n",
    "from bokeh.charts import Bar, output_file, show\n",
    "from bokeh.models import Range1d"
   ]
  },
  {
   "cell_type": "code",
   "execution_count": 3,
   "metadata": {
    "collapsed": true
   },
   "outputs": [],
   "source": [
    "# Load data\n",
    "npz_data = np.load('tmp/full_rating.npz')\n",
    "feature_arr = npz_data['feature_arr']"
   ]
  },
  {
   "cell_type": "code",
   "execution_count": 13,
   "metadata": {
    "collapsed": false
   },
   "outputs": [],
   "source": [
    "# Plot the variance figures\n",
    "dataset_list = ['MIT','Glasgow','Mixed','genHead']\n",
    "explained_var = 0.95\n",
    "for cur_dataset_ind in range(1):\n",
    "    \n",
    "        cur_fea = feature_arr[0+50*cur_dataset_ind: 49+cur_dataset_ind*50, :]    \n",
    "        cur_fea = preprocessing.scale(cur_fea)  # Preprocess the data, standardilzation.\n",
    "        cur_title = \"Explained variance by each PC from \"+dataset_list[cur_dataset_ind]+\" Dataset.html\"\n",
    "        save_title = \"PCA Explained variance \" + dataset_list[cur_dataset_ind]\n",
    "        pca = PCA(n_components=explained_var)\n",
    "\n",
    "        pca.fit(cur_fea)\n",
    "        explained_ratio = pca.explained_variance_ratio_\n",
    "        plot = Bar(explained_ratio[:5], title=cur_title, xlabel=\"pc\", ylabel=\"explainedVariance\")\n",
    "        plot.y_range = Range1d(0, 1)\n",
    "        output_file(save_title)\n",
    "        show(plot)\n",
    "        a = 12"
   ]
  },
  {
   "cell_type": "code",
   "execution_count": null,
   "metadata": {
    "collapsed": true
   },
   "outputs": [],
   "source": []
  }
 ],
 "metadata": {
  "kernelspec": {
   "display_name": "Python 2",
   "language": "python",
   "name": "python2"
  },
  "language_info": {
   "codemirror_mode": {
    "name": "ipython",
    "version": 2
   },
   "file_extension": ".py",
   "mimetype": "text/x-python",
   "name": "python",
   "nbconvert_exporter": "python",
   "pygments_lexer": "ipython2",
   "version": "2.7.6"
  }
 },
 "nbformat": 4,
 "nbformat_minor": 0
}
