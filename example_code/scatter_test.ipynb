{
 "cells": [
  {
   "cell_type": "code",
   "execution_count": 1,
   "metadata": {
    "collapsed": true
   },
   "outputs": [],
   "source": [
    "from bokeh.sampledata.iris import flowers\n",
    "from bokeh.plotting import figure, show, output_file\n",
    "from bokeh.sampledata.iris import flowers\n",
    "\n",
    "colormap = {'setosa': 'red', 'versicolor': 'green', 'virginica': 'blue'}\n",
    "colors = [colormap[x] for x in flowers['species']]\n",
    "\n",
    "p = figure(title = \"Iris Morphology\")\n",
    "p.xaxis.axis_label = 'Petal Length'\n",
    "p.yaxis.axis_label = 'Petal Width'\n",
    "\n",
    "p.circle(flowers[\"petal_length\"], flowers[\"petal_width\"],\n",
    "         color=colors, fill_alpha=0.2, size=10)\n",
    "\n",
    "output_file(\"iris.html\", title=\"iris.py example\")\n",
    "\n",
    "show(p)"
   ]
  },
  {
   "cell_type": "code",
   "execution_count": null,
   "metadata": {
    "collapsed": false
   },
   "outputs": [],
   "source": []
  },
  {
   "cell_type": "code",
   "execution_count": 17,
   "metadata": {
    "collapsed": false
   },
   "outputs": [],
   "source": [
    "import numpy as np\n",
    "from sklearn import preprocessing, linear_model\n",
    "from sklearn.decomposition import PCA\n",
    "from sklearn.cross_validation import LeaveOneOut\n",
    "from itertools import chain\n",
    "import pandas as pd\n",
    "\n",
    "explained_var = 0.95\n",
    "\n",
    "# Load data\n",
    "npz_data = np.load('tmp/full_rating.npz')\n",
    "full_rating = npz_data['full_rating']\n",
    "feature_arr = npz_data['feature_arr']\n",
    "\n",
    "dataset_list = ['MIT', 'Glasgow', 'Mixed', 'genHead']\n",
    "prediction_full = []\n",
    "\n",
    "# Visualize the datasets with their labels.\n",
    "for cur_dataset_ind in range(4):\n",
    "    # Prepare feature array\n",
    "    cur_fea = feature_arr[0+50*cur_dataset_ind: 50+cur_dataset_ind*50, :]\n",
    "    cur_fea = preprocessing.scale(cur_fea)  # Preprocess the data, standardilzation.\n",
    "    pca = PCA(n_components=explained_var)\n",
    "    pca.fit(cur_fea)\n",
    "    cur_fea = pca.transform(cur_fea)\n",
    "\n",
    "    # Prepare rating array\n",
    "    cur_rating = full_rating[:, 0+50*cur_dataset_ind: 50+cur_dataset_ind*50]\n",
    "    # First, just fit an averaged model.\n",
    "    ave_rating = np.mean(cur_rating, axis=0)\n",
    "\n",
    "    # Linear regression\n",
    "    regr = linear_model.LinearRegression()\n",
    "    regr.fit(cur_fea, ave_rating)\n",
    "    rating_predict = regr.predict(cur_fea)\n",
    "    \n",
    "    # Put them into the prediction_full\n",
    "    prediction_full.append(rating_predict)   "
   ]
  },
  {
   "cell_type": "code",
   "execution_count": 25,
   "metadata": {
    "collapsed": false
   },
   "outputs": [],
   "source": [
    "prediction_list = list(chain.from_iterable(prediction_full))\n",
    "gt_list = np.mean(full_rating, axis=0)\n"
   ]
  },
  {
   "cell_type": "code",
   "execution_count": 28,
   "metadata": {
    "collapsed": false
   },
   "outputs": [],
   "source": [
    "df = pd.DataFrame({'a':prediction_list,'b':gt_list})"
   ]
  },
  {
   "cell_type": "code",
   "execution_count": null,
   "metadata": {
    "collapsed": false
   },
   "outputs": [],
   "source": []
  },
  {
   "cell_type": "code",
   "execution_count": null,
   "metadata": {
    "collapsed": true
   },
   "outputs": [],
   "source": []
  }
 ],
 "metadata": {
  "kernelspec": {
   "display_name": "Python 2",
   "language": "python",
   "name": "python2"
  },
  "language_info": {
   "codemirror_mode": {
    "name": "ipython",
    "version": 2
   },
   "file_extension": ".py",
   "mimetype": "text/x-python",
   "name": "python",
   "nbconvert_exporter": "python",
   "pygments_lexer": "ipython2",
   "version": "2.7.6"
  }
 },
 "nbformat": 4,
 "nbformat_minor": 0
}
