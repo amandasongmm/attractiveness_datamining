{
 "cells": [
  {
   "cell_type": "code",
   "execution_count": 15,
   "metadata": {
    "collapsed": true
   },
   "outputs": [],
   "source": [
    "import numpy as np\n",
    "import json\n",
    "\n",
    "# load features\n",
    "def load_data():\n",
    "    data = np.load('tmp/feature_arr.npz')\n",
    "    fea_arr = data['feature_arr']\n",
    "    return fea_arr\n",
    "\n",
    "fea_arr = load_data()\n",
    "# cheek prominence\n",
    "cheek_prominence = fea_arr[:, -2]"
   ]
  },
  {
   "cell_type": "code",
   "execution_count": 2,
   "metadata": {
    "collapsed": false
   },
   "outputs": [
    {
     "data": {
      "text/plain": [
       "(200, 29)"
      ]
     },
     "execution_count": 2,
     "metadata": {},
     "output_type": "execute_result"
    }
   ],
   "source": [
    "fea_arr.shape"
   ]
  },
  {
   "cell_type": "code",
   "execution_count": null,
   "metadata": {
    "collapsed": true
   },
   "outputs": [],
   "source": [
    "# Now sort cheek prominence from low to high, get the index\n",
    "sort_by_cheek_ind = np.argsort(cheek_prominence)\n"
   ]
  },
  {
   "cell_type": "code",
   "execution_count": 8,
   "metadata": {
    "collapsed": false
   },
   "outputs": [],
   "source": [
    "import pandas as pd\n",
    "df = pd.read_csv('data/allConfiguralFeatures.csv')"
   ]
  },
  {
   "cell_type": "code",
   "execution_count": 9,
   "metadata": {
    "collapsed": false
   },
   "outputs": [
    {
     "data": {
      "text/html": [
       "<div>\n",
       "<table border=\"1\" class=\"dataframe\">\n",
       "  <thead>\n",
       "    <tr style=\"text-align: right;\">\n",
       "      <th></th>\n",
       "      <th>dataset</th>\n",
       "      <th>img_num</th>\n",
       "      <th>nose_width</th>\n",
       "      <th>nose_length</th>\n",
       "      <th>lip_thickness</th>\n",
       "      <th>face_length</th>\n",
       "      <th>eye_height</th>\n",
       "      <th>eye_width</th>\n",
       "      <th>face_width_prom</th>\n",
       "      <th>face_width_mouth</th>\n",
       "      <th>...</th>\n",
       "      <th>lip_fullness</th>\n",
       "      <th>eye_shape</th>\n",
       "      <th>eye_size</th>\n",
       "      <th>upper_head_len</th>\n",
       "      <th>midface_len</th>\n",
       "      <th>chin_size</th>\n",
       "      <th>forehead_height</th>\n",
       "      <th>cheek_height</th>\n",
       "      <th>cheek_prominence</th>\n",
       "      <th>face_roundness</th>\n",
       "    </tr>\n",
       "  </thead>\n",
       "  <tbody>\n",
       "    <tr>\n",
       "      <th>0</th>\n",
       "      <td>mit</td>\n",
       "      <td>0</td>\n",
       "      <td>28.017851</td>\n",
       "      <td>51.000000</td>\n",
       "      <td>14.531129</td>\n",
       "      <td>200.000000</td>\n",
       "      <td>9.513185</td>\n",
       "      <td>27.544925</td>\n",
       "      <td>153.081678</td>\n",
       "      <td>124.064499</td>\n",
       "      <td>...</td>\n",
       "      <td>0.072656</td>\n",
       "      <td>0.345370</td>\n",
       "      <td>0.047566</td>\n",
       "      <td>0.350036</td>\n",
       "      <td>0.355337</td>\n",
       "      <td>0.230000</td>\n",
       "      <td>0.265047</td>\n",
       "      <td>0.532405</td>\n",
       "      <td>0.145086</td>\n",
       "      <td>0.620322</td>\n",
       "    </tr>\n",
       "    <tr>\n",
       "      <th>1</th>\n",
       "      <td>mit</td>\n",
       "      <td>1</td>\n",
       "      <td>27.018512</td>\n",
       "      <td>52.038447</td>\n",
       "      <td>20.500000</td>\n",
       "      <td>201.039797</td>\n",
       "      <td>10.772681</td>\n",
       "      <td>29.609255</td>\n",
       "      <td>145.279042</td>\n",
       "      <td>117.106789</td>\n",
       "      <td>...</td>\n",
       "      <td>0.101970</td>\n",
       "      <td>0.363828</td>\n",
       "      <td>0.053585</td>\n",
       "      <td>0.392989</td>\n",
       "      <td>0.348408</td>\n",
       "      <td>0.169194</td>\n",
       "      <td>0.278652</td>\n",
       "      <td>0.527455</td>\n",
       "      <td>0.140133</td>\n",
       "      <td>0.582506</td>\n",
       "    </tr>\n",
       "    <tr>\n",
       "      <th>2</th>\n",
       "      <td>mit</td>\n",
       "      <td>2</td>\n",
       "      <td>26.000000</td>\n",
       "      <td>55.009090</td>\n",
       "      <td>16.000000</td>\n",
       "      <td>200.000000</td>\n",
       "      <td>9.552487</td>\n",
       "      <td>25.742625</td>\n",
       "      <td>143.031465</td>\n",
       "      <td>121.016528</td>\n",
       "      <td>...</td>\n",
       "      <td>0.080000</td>\n",
       "      <td>0.371077</td>\n",
       "      <td>0.047762</td>\n",
       "      <td>0.385000</td>\n",
       "      <td>0.361844</td>\n",
       "      <td>0.180069</td>\n",
       "      <td>0.282511</td>\n",
       "      <td>0.537901</td>\n",
       "      <td>0.110075</td>\n",
       "      <td>0.605083</td>\n",
       "    </tr>\n",
       "    <tr>\n",
       "      <th>3</th>\n",
       "      <td>mit</td>\n",
       "      <td>3</td>\n",
       "      <td>28.017851</td>\n",
       "      <td>52.009614</td>\n",
       "      <td>22.038405</td>\n",
       "      <td>201.009950</td>\n",
       "      <td>10.274938</td>\n",
       "      <td>28.586305</td>\n",
       "      <td>145.124085</td>\n",
       "      <td>117.068356</td>\n",
       "      <td>...</td>\n",
       "      <td>0.109638</td>\n",
       "      <td>0.359436</td>\n",
       "      <td>0.051117</td>\n",
       "      <td>0.413035</td>\n",
       "      <td>0.324980</td>\n",
       "      <td>0.159507</td>\n",
       "      <td>0.293897</td>\n",
       "      <td>0.512844</td>\n",
       "      <td>0.139574</td>\n",
       "      <td>0.582401</td>\n",
       "    </tr>\n",
       "    <tr>\n",
       "      <th>4</th>\n",
       "      <td>mit</td>\n",
       "      <td>4</td>\n",
       "      <td>27.000000</td>\n",
       "      <td>55.000000</td>\n",
       "      <td>17.000000</td>\n",
       "      <td>201.002488</td>\n",
       "      <td>11.278113</td>\n",
       "      <td>29.085998</td>\n",
       "      <td>145.013792</td>\n",
       "      <td>119.016806</td>\n",
       "      <td>...</td>\n",
       "      <td>0.084576</td>\n",
       "      <td>0.387751</td>\n",
       "      <td>0.056109</td>\n",
       "      <td>0.378105</td>\n",
       "      <td>0.373511</td>\n",
       "      <td>0.179171</td>\n",
       "      <td>0.248753</td>\n",
       "      <td>0.534498</td>\n",
       "      <td>0.129337</td>\n",
       "      <td>0.592116</td>\n",
       "    </tr>\n",
       "  </tbody>\n",
       "</table>\n",
       "<p>5 rows × 31 columns</p>\n",
       "</div>"
      ],
      "text/plain": [
       "  dataset  img_num  nose_width  nose_length  lip_thickness  face_length  \\\n",
       "0     mit        0   28.017851    51.000000      14.531129   200.000000   \n",
       "1     mit        1   27.018512    52.038447      20.500000   201.039797   \n",
       "2     mit        2   26.000000    55.009090      16.000000   200.000000   \n",
       "3     mit        3   28.017851    52.009614      22.038405   201.009950   \n",
       "4     mit        4   27.000000    55.000000      17.000000   201.002488   \n",
       "\n",
       "   eye_height  eye_width  face_width_prom  face_width_mouth       ...        \\\n",
       "0    9.513185  27.544925       153.081678        124.064499       ...         \n",
       "1   10.772681  29.609255       145.279042        117.106789       ...         \n",
       "2    9.552487  25.742625       143.031465        121.016528       ...         \n",
       "3   10.274938  28.586305       145.124085        117.068356       ...         \n",
       "4   11.278113  29.085998       145.013792        119.016806       ...         \n",
       "\n",
       "   lip_fullness  eye_shape  eye_size  upper_head_len  midface_len  chin_size  \\\n",
       "0      0.072656   0.345370  0.047566        0.350036     0.355337   0.230000   \n",
       "1      0.101970   0.363828  0.053585        0.392989     0.348408   0.169194   \n",
       "2      0.080000   0.371077  0.047762        0.385000     0.361844   0.180069   \n",
       "3      0.109638   0.359436  0.051117        0.413035     0.324980   0.159507   \n",
       "4      0.084576   0.387751  0.056109        0.378105     0.373511   0.179171   \n",
       "\n",
       "   forehead_height  cheek_height  cheek_prominence  face_roundness  \n",
       "0         0.265047      0.532405          0.145086        0.620322  \n",
       "1         0.278652      0.527455          0.140133        0.582506  \n",
       "2         0.282511      0.537901          0.110075        0.605083  \n",
       "3         0.293897      0.512844          0.139574        0.582401  \n",
       "4         0.248753      0.534498          0.129337        0.592116  \n",
       "\n",
       "[5 rows x 31 columns]"
      ]
     },
     "execution_count": 9,
     "metadata": {},
     "output_type": "execute_result"
    }
   ],
   "source": [
    "df.head()"
   ]
  },
  {
   "cell_type": "code",
   "execution_count": 12,
   "metadata": {
    "collapsed": false
   },
   "outputs": [],
   "source": [
    "a = list(df.columns.values)"
   ]
  },
  {
   "cell_type": "code",
   "execution_count": 14,
   "metadata": {
    "collapsed": false
   },
   "outputs": [
    {
     "data": {
      "text/plain": [
       "'cheek_prominence'"
      ]
     },
     "execution_count": 14,
     "metadata": {},
     "output_type": "execute_result"
    }
   ],
   "source": [
    "a[-2]"
   ]
  },
  {
   "cell_type": "code",
   "execution_count": null,
   "metadata": {
    "collapsed": true
   },
   "outputs": [],
   "source": []
  }
 ],
 "metadata": {
  "kernelspec": {
   "display_name": "Python 2",
   "language": "python",
   "name": "python2"
  },
  "language_info": {
   "codemirror_mode": {
    "name": "ipython",
    "version": 2
   },
   "file_extension": ".py",
   "mimetype": "text/x-python",
   "name": "python",
   "nbconvert_exporter": "python",
   "pygments_lexer": "ipython2",
   "version": "2.7.6"
  }
 },
 "nbformat": 4,
 "nbformat_minor": 0
}
