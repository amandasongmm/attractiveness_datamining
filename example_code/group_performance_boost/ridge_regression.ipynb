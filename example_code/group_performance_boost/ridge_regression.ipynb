{
 "cells": [
  {
   "cell_type": "code",
   "execution_count": 34,
   "metadata": {
    "collapsed": false
   },
   "outputs": [
    {
     "name": "stdout",
     "output_type": "stream",
     "text": [
      "Ridge\n",
      "[ 0.14839561  0.19584775  0.433925    0.23706595  0.1377556   0.13401471\n",
      "  0.30756033  0.18602091  0.46530518  0.19753111]\n",
      "K-nn\n",
      "[ 0.3170519   0.09909138  0.28267922  0.1125815  -0.48924928 -0.13560508\n",
      "  0.20111675  0.00468427  0.24530657  0.02829938]\n",
      "Extra trees\n",
      "[ 0.19740106  0.19146068  0.36235779  0.16944499 -0.13489705 -0.04301468\n",
      "  0.17240085 -0.18456174  0.26688219 -0.09677614]\n",
      "Linear regression\n",
      "[  8.21838525e-02  -6.47944001e-01   3.52706117e-02   2.62173255e-01\n",
      "  -4.43820648e-01   1.43728089e-03   1.32926403e-01   1.24245327e-01\n",
      "  -1.07710752e-01  -7.70261922e+00]\n"
     ]
    }
   ],
   "source": [
    "import numpy as np\n",
    "from sklearn import preprocessing\n",
    "\n",
    "from sklearn.ensemble import ExtraTreesRegressor\n",
    "from sklearn.neighbors import KNeighborsRegressor\n",
    "from sklearn.linear_model import LinearRegression\n",
    "from sklearn.linear_model import RidgeCV\n",
    "from sklearn import cross_validation\n",
    "\n",
    "__author__ = 'amanda'\n",
    "\n",
    "\n",
    "def preprocess_data():\n",
    "    rating = np.load('./data_ready_to_use/clean_rating_data.npz')\n",
    "    rating = rating['full_rating']\n",
    "    average_rating = rating.mean(axis=0)\n",
    "\n",
    "    feature_arr = np.load('./data_ready_to_use/clean_features.npz')\n",
    "    feature_arr = feature_arr['feature_arr']\n",
    "\n",
    "    gender_list = np.load('./data_ready_to_use/gender_list.npz')\n",
    "    gender_list = gender_list['gender_list']\n",
    "\n",
    "    gender_list = gender_list[:, np.newaxis]\n",
    "    feature_arr = np.hstack((gender_list, feature_arr))\n",
    "    feature_arr = preprocessing.scale(feature_arr)\n",
    "    return average_rating, feature_arr\n",
    "\n",
    "# Load the preprocessed data.\n",
    "rating, feature_arr = preprocess_data()\n",
    "\n",
    "\n",
    "cv = cross_validation.ShuffleSplit(200, n_iter=10, test_size=0.15, random_state=0)\n",
    "\n",
    "\n",
    "# Fit estimators\n",
    "ESTIMATORS = {\"Extra trees\": ExtraTreesRegressor(n_estimators=10, max_features=32, random_state=0),\n",
    "              \"K-nn\": KNeighborsRegressor(),\n",
    "              \"Linear regression\": LinearRegression(),\n",
    "              \"Ridge\": RidgeCV()}\n",
    "\n",
    "y_test_predict = dict()\n",
    "y_overall_predict = dict()\n",
    "for name, estimator in ESTIMATORS.items():\n",
    "    print name\n",
    "    a = cross_validation.cross_val_score(estimator, feature_arr, rating, cv=cv)\n",
    "    print a"
   ]
  },
  {
   "cell_type": "code",
   "execution_count": null,
   "metadata": {
    "collapsed": true
   },
   "outputs": [],
   "source": []
  }
 ],
 "metadata": {
  "kernelspec": {
   "display_name": "Python 2",
   "language": "python",
   "name": "python2"
  },
  "language_info": {
   "codemirror_mode": {
    "name": "ipython",
    "version": 2
   },
   "file_extension": ".py",
   "mimetype": "text/x-python",
   "name": "python",
   "nbconvert_exporter": "python",
   "pygments_lexer": "ipython2",
   "version": "2.7.6"
  }
 },
 "nbformat": 4,
 "nbformat_minor": 0
}
