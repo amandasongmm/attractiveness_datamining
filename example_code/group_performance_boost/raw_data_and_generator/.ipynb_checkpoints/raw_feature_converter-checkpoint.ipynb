{
 "cells": [
  {
   "cell_type": "code",
   "execution_count": 3,
   "metadata": {
    "collapsed": false
   },
   "outputs": [],
   "source": [
    "import numpy as np\n",
    "\n",
    "# preprocess the feature data. \n",
    "\n",
    "feature_arr = np.genfromtxt('allFeatures.csv', delimiter=',')[1:, :]\n",
    "feature_arr = feature_arr[:, 2:]\n",
    "np.savez('../data_ready_to_use/clean_features', feature_arr=feature_arr)"
   ]
  },
  {
   "cell_type": "code",
   "execution_count": null,
   "metadata": {
    "collapsed": true
   },
   "outputs": [],
   "source": []
  }
 ],
 "metadata": {
  "kernelspec": {
   "display_name": "Python 2",
   "language": "python",
   "name": "python2"
  },
  "language_info": {
   "codemirror_mode": {
    "name": "ipython",
    "version": 2
   },
   "file_extension": ".py",
   "mimetype": "text/x-python",
   "name": "python",
   "nbconvert_exporter": "python",
   "pygments_lexer": "ipython2",
   "version": "2.7.6"
  }
 },
 "nbformat": 4,
 "nbformat_minor": 0
}
