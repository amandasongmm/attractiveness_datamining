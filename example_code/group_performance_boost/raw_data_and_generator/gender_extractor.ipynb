{
 "cells": [
  {
   "cell_type": "code",
   "execution_count": 45,
   "metadata": {
    "collapsed": true
   },
   "outputs": [],
   "source": [
    "import pandas as pd\n",
    "import ujson\n",
    "import numpy as np\n",
    "\n",
    "df = pd.read_excel('sortedImageRawList.xlsx', sheetname='Sheet1')\n",
    "gender_list = []\n",
    "for idx, row in df.iterrows():\n",
    "    new_row = row.str.strip('\"')\n",
    "    if 'male' in str(new_row):\n",
    "        gender_list.append(1)\n",
    "    elif 'female' in str(new_row):\n",
    "        gender_list.append(0)\n",
    "    else:\n",
    "        print 'error'\n",
    "\n",
    "np.savez('gender_list', gender_list=gender_list)       "
   ]
  }
 ],
 "metadata": {
  "kernelspec": {
   "display_name": "Python 2",
   "language": "python",
   "name": "python2"
  },
  "language_info": {
   "codemirror_mode": {
    "name": "ipython",
    "version": 2
   },
   "file_extension": ".py",
   "mimetype": "text/x-python",
   "name": "python",
   "nbconvert_exporter": "python",
   "pygments_lexer": "ipython2",
   "version": "2.7.6"
  }
 },
 "nbformat": 4,
 "nbformat_minor": 0
}
