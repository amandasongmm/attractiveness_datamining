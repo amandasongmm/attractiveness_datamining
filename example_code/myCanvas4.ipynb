{
 "cells": [
  {
   "cell_type": "code",
   "execution_count": 27,
   "metadata": {
    "collapsed": true
   },
   "outputs": [],
   "source": [
    "import numpy as np\n",
    "import json\n",
    "from sklearn import preprocessing\n",
    "\n",
    "__author__ = 'amanda'\n",
    "\n",
    "\n",
    "# load the rating matrix\n",
    "def prepare_rating_data():\n",
    "\n",
    "    # Load the rating data\n",
    "    rating_data = np.load('tmp/clean_rating_data.npz')\n",
    "    orig_rating = rating_data['full_rating']   # 1540 * 200\n",
    "\n",
    "    # Z-score to make everyone's ratings have zeros mean and unit std.\n",
    "    scaler = preprocessing.StandardScaler().fit(orig_rating.T)  # it only fit according to the second dim. So we need to flap it first.\n",
    "    dataset_mean = scaler.mean_\n",
    "    dataset_std = scaler.scale_\n",
    "    \n",
    "    z_scored_rating = scaler.transform(orig_rating.T)\n",
    "    z_scored_rating = z_scored_rating.T\n",
    "\n",
    "    # randomly permute\n",
    "    return z_scored_rating\n",
    "\n",
    "z_scored_rating = prepare_rating_data()"
   ]
  },
  {
   "cell_type": "code",
   "execution_count": 31,
   "metadata": {
    "collapsed": false
   },
   "outputs": [
    {
     "data": {
      "text/plain": [
       "(1540,)"
      ]
     },
     "execution_count": 31,
     "metadata": {},
     "output_type": "execute_result"
    }
   ],
   "source": [
    "z_scored_rating.std(axis=1).shape"
   ]
  },
  {
   "cell_type": "code",
   "execution_count": 35,
   "metadata": {
    "collapsed": false
   },
   "outputs": [
    {
     "name": "stdout",
     "output_type": "stream",
     "text": [
      "[[17  7 16  0]\n",
      " [ 6  5  0  4]]\n",
      "----\n",
      "[[16 17  7  0]\n",
      " [ 0  6  5  4]]\n"
     ]
    }
   ],
   "source": [
    "a = np.random.randint(20, size=(2, 4))\n",
    "print a \n",
    "print '----'\n",
    "permuted_rating = a[:, np.random.permutation(a.shape[1])]\n",
    "print permuted_rating"
   ]
  },
  {
   "cell_type": "code",
   "execution_count": 46,
   "metadata": {
    "collapsed": false
   },
   "outputs": [],
   "source": [
    "a = np.random.randint(10, size=(5,4))\n",
    "p = a.mean(axis=0)\n",
    "mean = p.mean()\n",
    "std = p.std()"
   ]
  },
  {
   "cell_type": "code",
   "execution_count": 47,
   "metadata": {
    "collapsed": false
   },
   "outputs": [],
   "source": [
    "z = (p - mean)/std"
   ]
  },
  {
   "cell_type": "code",
   "execution_count": 50,
   "metadata": {
    "collapsed": false
   },
   "outputs": [
    {
     "data": {
      "text/plain": [
       "array([ 0.49656353, -0.49656353,  1.32416942, -1.32416942])"
      ]
     },
     "execution_count": 50,
     "metadata": {},
     "output_type": "execute_result"
    }
   ],
   "source": [
    "z"
   ]
  },
  {
   "cell_type": "code",
   "execution_count": null,
   "metadata": {
    "collapsed": true
   },
   "outputs": [],
   "source": []
  }
 ],
 "metadata": {
  "kernelspec": {
   "display_name": "Python 2",
   "language": "python",
   "name": "python2"
  },
  "language_info": {
   "codemirror_mode": {
    "name": "ipython",
    "version": 2
   },
   "file_extension": ".py",
   "mimetype": "text/x-python",
   "name": "python",
   "nbconvert_exporter": "python",
   "pygments_lexer": "ipython2",
   "version": "2.7.6"
  }
 },
 "nbformat": 4,
 "nbformat_minor": 0
}
