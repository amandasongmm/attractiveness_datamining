{
 "cells": [
  {
   "cell_type": "code",
   "execution_count": 4,
   "metadata": {
    "collapsed": false
   },
   "outputs": [],
   "source": [
    "import numpy as np\n",
    "import bokeh.plotting as plt\n",
    "import sklearn.manifold as manifold\n",
    "import ujson\n",
    "import time\n",
    "from sklearn.metrics import mean_squared_error\n",
    "import pickle\n",
    "np.seterr(divide='ignore', invalid='ignore')\n",
    "from bokeh.plotting import figure, show, output_file\n",
    "\n",
    "\n",
    "def load_data():\n",
    "    # Load the rating data\n",
    "    rating_data = np.load('tmp/clean_rating_data.npz')\n",
    "    orig_rating = rating_data['full_rating']   #\n",
    "    return orig_rating  # 1540 * 200\n",
    "\n",
    "def load_ave_rating_data():\n",
    "    # Load the rating data\n",
    "    rating_data = np.load('tmp/clean_rating_data.npz')\n",
    "    orig_rating = rating_data['full_rating']   #\n",
    "    mean = np.mean(orig_rating, axis=0)\n",
    "    return mean.tolist()  # len = 200 list \n",
    "\n",
    "\n",
    "def svd_reconstruct(num_dim):\n",
    "    rating = load_data()\n",
    "    u, s, v = np.linalg.svd(rating, full_matrices=False)     # U.shape = [1540*200],s.shape = (200,) V.shape = 200*200\n",
    "    s_diagonal = np.diag(s)\n",
    "\n",
    "    # reduce dimensions of Rater matrix and face matrix\n",
    "    user = u[:, 0:num_dim]\n",
    "    face = np.dot(s_diagonal[0:num_dim, 0:num_dim], v[0:num_dim, :])  \n",
    "    return user, face.T  # (1540, num_dim), (200, num_dim)\n",
    "\n",
    "\n",
    "def embed_show(x, y, title):\n",
    "    with open('data/imagePathFile.json') as data_file:\n",
    "        img_list = ujson.load(data_file)\n",
    "    \n",
    "    p = plt.figure()\n",
    "    p.image_url(x=x, y=y, url=img_list, w=1, h=22, anchor=\"center\")\n",
    "\n",
    "    p.circle(x=x, y=y)\n",
    "\n",
    "    plt.output_file(title, title=title)\n",
    "    plt.save(p)\n",
    "    plt.show(p)\n",
    "    return\n",
    "\n",
    "\n",
    "def main_correlation_scatter():\n",
    "    _, face_svd = svd_reconstruct(2)\n",
    "    att_average = load_ave_rating_data()\n",
    "    with open('data/imagePathFile.json') as data_file:\n",
    "        image_list = ujson.load(data_file)\n",
    "    embed_show(att_average, face_svd[:, 0], 'ave_att_vs_svd_dim1.html')\n",
    "    embed_show(att_average, face_svd[:, 1], 'ave_att_vs_svd_dim2.html')\n",
    "    return\n",
    "\n",
    "main_correlation_scatter()\n",
    "    \n",
    "\n",
    "    "
   ]
  },
  {
   "cell_type": "code",
   "execution_count": 5,
   "metadata": {
    "collapsed": true
   },
   "outputs": [],
   "source": [
    "_, face_svd = svd_reconstruct(2)\n",
    "att_average = load_ave_rating_data()"
   ]
  },
  {
   "cell_type": "code",
   "execution_count": 9,
   "metadata": {
    "collapsed": false
   },
   "outputs": [
    {
     "data": {
      "text/plain": [
       "-0.97054668120246557"
      ]
     },
     "execution_count": 9,
     "metadata": {},
     "output_type": "execute_result"
    }
   ],
   "source": [
    "cov = np.corrcoef(att_average, face_svd[:,1])\n",
    "cov[0, 1]"
   ]
  },
  {
   "cell_type": "code",
   "execution_count": 12,
   "metadata": {
    "collapsed": false
   },
   "outputs": [
    {
     "data": {
      "text/plain": [
       "[0, 1, 2, 3, 4, 5, 6, 7, 8, 9]"
      ]
     },
     "execution_count": 12,
     "metadata": {},
     "output_type": "execute_result"
    }
   ],
   "source": [
    "range(10)"
   ]
  },
  {
   "cell_type": "code",
   "execution_count": 13,
   "metadata": {
    "collapsed": true
   },
   "outputs": [],
   "source": [
    "def load_data():\n",
    "    # Load the rating data\n",
    "    rating_data = np.load('tmp/clean_rating_data.npz')\n",
    "    orig_rating = rating_data['full_rating']   #\n",
    "    return orig_rating  # 1540 * 200\n",
    "\n",
    "orig_rating = load_data()\n",
    "\n",
    "def cal_correlation():\n",
    "    orig_rating = load_data()\n",
    "    att_average = load_ave_rating_data()\n",
    "    \n",
    "    correlation_array = []\n",
    "    for i in range(orig_rating.shape[0]):\n",
    "        cov = np.corrcoef(att_average, orig_rating[i, :])\n",
    "        correlation_array.append(cov[0, 1])\n",
    "    return correlation_array\n",
    "\n",
    "correlation_array = cal_correlation()\n",
    "    "
   ]
  },
  {
   "cell_type": "code",
   "execution_count": 15,
   "metadata": {
    "collapsed": false
   },
   "outputs": [
    {
     "data": {
      "text/plain": [
       "0.72433785360271086"
      ]
     },
     "execution_count": 15,
     "metadata": {},
     "output_type": "execute_result"
    }
   ],
   "source": [
    "correlation_array.mean()"
   ]
  },
  {
   "cell_type": "code",
   "execution_count": 18,
   "metadata": {
    "collapsed": false
   },
   "outputs": [
    {
     "data": {
      "text/plain": [
       "<matplotlib.text.Text at 0x7fd3fcbfa450>"
      ]
     },
     "execution_count": 18,
     "metadata": {},
     "output_type": "execute_result"
    },
    {
     "data": {
      "image/png": "[encoded data removed]",
      "text/plain": [
       "<matplotlib.figure.Figure at 0x7fd428248190>"
      ]
     },
     "metadata": {},
     "output_type": "display_data"
    }
   ],
   "source": [
    "import matplotlib.pyplot as plt\n",
    "%matplotlib inline\n",
    "plt.hist(correlation_array)\n",
    "plt.title(\"Histogram\")"
   ]
  },
  {
   "cell_type": "code",
   "execution_count": 35,
   "metadata": {
    "collapsed": false
   },
   "outputs": [],
   "source": [
    "def cal_correlation():\n",
    "    orig_rating = load_data()\n",
    "    att_average = load_ave_rating_data()\n",
    "    \n",
    "    correlation_array = []\n",
    "    for i in range(orig_rating.shape[0]):\n",
    "        cov = np.corrcoef(att_average, orig_rating[i, :])\n",
    "        correlation_array.append(cov[0, 1])\n",
    "    return correlation_array\n",
    "\n",
    "correlation_array = cal_correlation()\n",
    "sort_ind = np.argsort(correlation_array)"
   ]
  },
  {
   "cell_type": "code",
   "execution_count": 36,
   "metadata": {
    "collapsed": false
   },
   "outputs": [
    {
     "data": {
      "text/plain": [
       "array([ 263,  845, 1290, ..., 1069,  179,   79])"
      ]
     },
     "execution_count": 36,
     "metadata": {},
     "output_type": "execute_result"
    }
   ],
   "source": [
    "sort_ind"
   ]
  },
  {
   "cell_type": "code",
   "execution_count": 40,
   "metadata": {
    "collapsed": false
   },
   "outputs": [
    {
     "data": {
      "text/plain": [
       "0.084091218994753719"
      ]
     },
     "execution_count": 40,
     "metadata": {},
     "output_type": "execute_result"
    }
   ],
   "source": [
    "correlation_array[sort_ind[1]]"
   ]
  },
  {
   "cell_type": "code",
   "execution_count": 41,
   "metadata": {
    "collapsed": false
   },
   "outputs": [
    {
     "data": {
      "text/plain": [
       "845"
      ]
     },
     "execution_count": 41,
     "metadata": {},
     "output_type": "execute_result"
    }
   ],
   "source": [
    "sort_ind[1]"
   ]
  },
  {
   "cell_type": "code",
   "execution_count": 42,
   "metadata": {
    "collapsed": false,
    "scrolled": true
   },
   "outputs": [
    {
     "data": {
      "text/plain": [
       "array([ 2.,  2.,  2.,  2.,  2.,  2.,  2.,  2.,  2.,  2.,  2.,  2.,  2.,\n",
       "        2.,  2.,  2.,  2.,  2.,  2.,  2.,  2.,  2.,  2.,  2.,  2.,  2.,\n",
       "        2.,  2.,  2.,  2.,  2.,  2.,  2.,  2.,  2.,  2.,  2.,  2.,  2.,\n",
       "        2.,  2.,  2.,  2.,  2.,  2.,  2.,  2.,  2.,  2.,  2.,  4.,  4.,\n",
       "        4.,  4.,  4.,  4.,  4.,  4.,  4.,  4.,  4.,  4.,  4.,  4.,  4.,\n",
       "        4.,  4.,  4.,  4.,  4.,  4.,  4.,  4.,  4.,  4.,  4.,  4.,  4.,\n",
       "        4.,  4.,  4.,  4.,  4.,  4.,  4.,  4.,  4.,  4.,  4.,  4.,  4.,\n",
       "        4.,  4.,  4.,  4.,  4.,  4.,  4.,  4.,  4.,  5.,  5.,  5.,  5.,\n",
       "        5.,  5.,  5.,  5.,  5.,  5.,  5.,  5.,  5.,  5.,  5.,  5.,  5.,\n",
       "        5.,  5.,  5.,  5.,  5.,  5.,  5.,  5.,  5.,  5.,  5.,  5.,  5.,\n",
       "        5.,  5.,  5.,  5.,  5.,  5.,  5.,  5.,  5.,  5.,  5.,  5.,  5.,\n",
       "        5.,  5.,  5.,  5.,  5.,  5.,  5.,  4.,  4.,  4.,  4.,  4.,  4.,\n",
       "        4.,  4.,  4.,  4.,  4.,  4.,  4.,  4.,  4.,  4.,  4.,  4.,  4.,\n",
       "        4.,  4.,  4.,  4.,  4.,  4.,  4.,  4.,  4.,  4.,  4.,  4.,  4.,\n",
       "        4.,  4.,  4.,  4.,  4.,  4.,  4.,  4.,  4.,  4.,  4.,  4.,  4.,\n",
       "        4.,  4.,  4.,  4.,  4.])"
      ]
     },
     "execution_count": 42,
     "metadata": {},
     "output_type": "execute_result"
    }
   ],
   "source": [
    "orig_rating[845,:]"
   ]
  },
  {
   "cell_type": "code",
   "execution_count": null,
   "metadata": {
    "collapsed": true
   },
   "outputs": [],
   "source": []
  }
 ],
 "metadata": {
  "kernelspec": {
   "display_name": "Python 2",
   "language": "python",
   "name": "python2"
  },
  "language_info": {
   "codemirror_mode": {
    "name": "ipython",
    "version": 2
   },
   "file_extension": ".py",
   "mimetype": "text/x-python",
   "name": "python",
   "nbconvert_exporter": "python",
   "pygments_lexer": "ipython2",
   "version": "2.7.6"
  }
 },
 "nbformat": 4,
 "nbformat_minor": 0
}
