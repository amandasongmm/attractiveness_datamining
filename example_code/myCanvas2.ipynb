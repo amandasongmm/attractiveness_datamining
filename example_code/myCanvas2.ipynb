{
 "cells": [
  {
   "cell_type": "code",
   "execution_count": null,
   "metadata": {
    "collapsed": true
   },
   "outputs": [],
   "source": [
    "import numpy as np\n",
    "from sklearn import preprocessing, linear_model\n",
    "from sklearn.decomposition import PCA\n",
    "from sklearn.metrics import r2_score, mean_squared_error, mean_absolute_error\n",
    "from sklearn.cross_validation import train_test_split\n",
    "import matplotlib.pyplot as plt\n",
    "import ujson\n",
    "from scipy.stats import pearsonr\n",
    "import pandas as pd\n",
    "\n",
    "__author__ = 'amanda'\n",
    "\n",
    "\n",
    "def load_data():\n",
    "    # Load the rating data\n",
    "    rating_data = np.load('./tmp/clean_rating_data.npz')\n",
    "    orig_rating = rating_data['full_rating']   # after transpose, the dimension is 1540 * 200.\n",
    "\n",
    "    with open('./data/imagePathFile.json') as data_file:\n",
    "        image_list = ujson.load(data_file)\n",
    "    return orig_rating, image_list\n",
    "\n",
    "# Sort the ratings \n",
    "orig_rating, image_list = load_data()\n",
    "rating_mean = np.mean(orig_rating, axis=0)\n",
    "rating_sort_ind = np.argsort(rating_mean)\n",
    "\n",
    "rating_std = np.std(orig_rating, axis=0)\n",
    "std_sort_ind = np.argsort(rating_std)\n",
    "\n",
    "high_score = rating_mean[rating_sort_ind[-1]]\n",
    "high_name = image_list[rating_sort_ind[-1]]\n",
    "\n",
    "high_score1 = rating_mean[rating_sort_ind[-2]]\n",
    "high_name1 = image_list[rating_sort_ind[-2]]\n",
    "\n",
    "low_score = rating_mean[rating_sort_ind[1]]\n",
    "low_name = image_list[rating_sort_ind[1]]\n",
    "\n"
   ]
  },
  {
   "cell_type": "code",
   "execution_count": null,
   "metadata": {
    "collapsed": false
   },
   "outputs": [],
   "source": [
    "# plot a Heat map of the ratings\n",
    "fig, ax = plt.subplots()\n",
    "heatmap = ax.pcolor(data, cmap=plt.cm.Blues)\n",
    "\n",
    "heatmap = ax.pcolor(orig_rating, cmap=plt.cm.bwr, alpha=0.8, vmin=1, vmax=7)\n",
    "plt.colorbar(heatmap)\n",
    "plt.title('Rating Heatmap')\n",
    "plt.savefig('./misc_fig/rating_heatmap')\n",
    "plt.show()"
   ]
  },
  {
   "cell_type": "code",
   "execution_count": 18,
   "metadata": {
    "collapsed": false
   },
   "outputs": [
    {
     "data": {
      "text/plain": [
       "array([ 4.,  5.,  5.,  4.,  4.,  3.,  2.,  2.,  1.,  2.])"
      ]
     },
     "execution_count": 18,
     "metadata": {},
     "output_type": "execute_result"
    }
   ],
   "source": [
    "p2 = orig_rating[1, 0:10]\n",
    "p2"
   ]
  },
  {
   "cell_type": "code",
   "execution_count": 19,
   "metadata": {
    "collapsed": false
   },
   "outputs": [
    {
     "data": {
      "text/plain": [
       "array([ 5.,  4.,  5.,  6.,  5.,  5.,  4.,  3.,  2.,  4.])"
      ]
     },
     "execution_count": 19,
     "metadata": {},
     "output_type": "execute_result"
    }
   ],
   "source": [
    "p3 = orig_rating[2, 0:10]\n",
    "p3"
   ]
  },
  {
   "cell_type": "code",
   "execution_count": 20,
   "metadata": {
    "collapsed": false
   },
   "outputs": [
    {
     "data": {
      "text/plain": [
       "[[u'../imageData/mit/males/i1.jpg'],\n",
       " [u'../imageData/mit/females/i3.jpg'],\n",
       " [u'../imageData/mit/males/i4.jpg'],\n",
       " [u'../imageData/mit/females/i5.jpg'],\n",
       " [u'../imageData/mit/females/i6.jpg'],\n",
       " [u'../imageData/mit/males/i7.jpg'],\n",
       " [u'../imageData/mit/males/i10.jpg'],\n",
       " [u'../imageData/mit/males/i12.jpg'],\n",
       " [u'../imageData/mit/males/i13.jpg'],\n",
       " [u'../imageData/mit/females/i14.jpg']]"
      ]
     },
     "execution_count": 20,
     "metadata": {},
     "output_type": "execute_result"
    }
   ],
   "source": [
    "image_list[0:10]"
   ]
  },
  {
   "cell_type": "code",
   "execution_count": null,
   "metadata": {
    "collapsed": true
   },
   "outputs": [],
   "source": []
  }
 ],
 "metadata": {
  "kernelspec": {
   "display_name": "Python 2",
   "language": "python",
   "name": "python2"
  },
  "language_info": {
   "codemirror_mode": {
    "name": "ipython",
    "version": 2
   },
   "file_extension": ".py",
   "mimetype": "text/x-python",
   "name": "python",
   "nbconvert_exporter": "python",
   "pygments_lexer": "ipython2",
   "version": "2.7.6"
  }
 },
 "nbformat": 4,
 "nbformat_minor": 0
}
