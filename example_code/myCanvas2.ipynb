{
 "cells": [
  {
   "cell_type": "code",
   "execution_count": 28,
   "metadata": {
    "collapsed": false
   },
   "outputs": [],
   "source": [
    "import numpy as np\n",
    "from sklearn import preprocessing, linear_model\n",
    "from sklearn.decomposition import PCA\n",
    "from sklearn.metrics import r2_score, mean_squared_error, mean_absolute_error\n",
    "from sklearn.cross_validation import train_test_split\n",
    "import matplotlib.pyplot as plt\n",
    "import ujson\n",
    "from scipy.stats import pearsonr\n",
    "import pandas as pd\n",
    "\n",
    "__author__ = 'amanda'\n",
    "\n",
    "\n",
    "def load_data():\n",
    "    # Load the rating data\n",
    "    rating_data = np.load('./tmp/clean_rating_data.npz')\n",
    "    orig_rating = rating_data['full_rating']   # after transpose, the dimension is 1540 * 200.\n",
    "\n",
    "    with open('./data/imagePathFile.json') as data_file:\n",
    "        image_list = ujson.load(data_file)\n",
    "    return orig_rating, image_list\n",
    "\n",
    "\n",
    "orig_rating, image_list = load_data()\n",
    "rating_mean = np.mean(orig_rating, axis=0)\n",
    "rating_sort_ind = np.argsort(rating_mean)\n",
    "\n",
    "rating_std = np.std(orig_rating, axis=0)\n",
    "std_sort_ind = np.argsort(rating_std)\n",
    "\n",
    "high_score = rating_mean[rating_sort_ind[-1]]\n",
    "high_name = image_list[rating_sort_ind[-1]]\n",
    "\n",
    "high_score1 = rating_mean[rating_sort_ind[-2]]\n",
    "high_name1 = image_list[rating_sort_ind[-2]]\n",
    "\n",
    "low_score = rating_mean[rating_sort_ind[0]]\n",
    "low_name = image_list[rating_sort_ind[0]]\n"
   ]
  },
  {
   "cell_type": "code",
   "execution_count": null,
   "metadata": {
    "collapsed": false
   },
   "outputs": [],
   "source": [
    "fig, ax = plt.subplots()\n",
    "heatmap = ax.pcolor(data, cmap=plt.cm.Blues)\n",
    "\n",
    "heatmap = ax.pcolor(orig_rating, cmap=plt.cm.bwr, alpha=0.8, vmin=1, vmax=7)\n",
    "plt.colorbar(heatmap)\n",
    "plt.title('Rating Heatmap')\n",
    "plt.savefig('./misc_fig/rating_heatmap')\n",
    "plt.show()\n",
    "\n"
   ]
  },
  {
   "cell_type": "code",
   "execution_count": null,
   "metadata": {
    "collapsed": true
   },
   "outputs": [],
   "source": []
  }
 ],
 "metadata": {
  "kernelspec": {
   "display_name": "Python 2",
   "language": "python",
   "name": "python2"
  },
  "language_info": {
   "codemirror_mode": {
    "name": "ipython",
    "version": 2
   },
   "file_extension": ".py",
   "mimetype": "text/x-python",
   "name": "python",
   "nbconvert_exporter": "python",
   "pygments_lexer": "ipython2",
   "version": "2.7.6"
  }
 },
 "nbformat": 4,
 "nbformat_minor": 0
}
