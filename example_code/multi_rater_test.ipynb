{
 "cells": [
  {
   "cell_type": "code",
   "execution_count": 89,
   "metadata": {
    "collapsed": false
   },
   "outputs": [],
   "source": [
    "import numpy as np\n",
    "from sklearn import preprocessing, linear_model\n",
    "# from sklearn.decomposition import PCA\n",
    "# from sklearn.cross_validation import LeaveOneOut\n",
    "# from itertools import chain\n",
    "# import pandas as pd\n",
    "from bokeh.charts import output_file, show, Histogram\n",
    "from sklearn.cross_validation import train_test_split\n",
    "\n",
    "\n",
    "npz_data = np.load('tmp/full_rating.npz')\n",
    "full_rating = npz_data['full_rating']\n",
    "feature_arr = npz_data['feature_arr']\n",
    "full_rating = full_rating.T  # after transpose, the dimension is 200*1545\n",
    "\n",
    "\n",
    "correlation_list_acc = []\n",
    "itr_num = 10  # Do cross validation for itr_num of times. Then plot all the correlations\n",
    "for cur_itr in range(itr_num):\n",
    "    x_train, x_test, y_train, y_test = train_test_split(feature_arr, full_rating, test_size=0.1)\n",
    "    regr = linear_model.LinearRegression()\n",
    "    regr.fit(x_train, y_train)\n",
    "    rating_predict = regr.predict(x_test)\n",
    "    rater_num = full_rating.shape[1]\n",
    "    correlation_list = np.zeros((rater_num, 1))\n",
    "\n",
    "    # Compute the correlation\n",
    "    for i in range(rater_num):\n",
    "        correlation_list[i] = np.corrcoef(rating_predict[:, i], y_test[:, i])[0, 1]\n",
    "\n",
    "    # Flatten the list\n",
    "    correlation_list = [item for sublist in correlation_list for item in sublist]\n",
    "    correlation_list_acc = correlation_list + correlation_list_acc\n"
   ]
  },
  {
   "cell_type": "code",
   "execution_count": 95,
   "metadata": {
    "collapsed": false
   },
   "outputs": [],
   "source": [
    "a = np.nonzero(np.isnan(correlation_list_acc))"
   ]
  },
  {
   "cell_type": "code",
   "execution_count": 96,
   "metadata": {
    "collapsed": true
   },
   "outputs": [],
   "source": [
    "p = np.delete(correlation_list_acc, a)"
   ]
  },
  {
   "cell_type": "code",
   "execution_count": 98,
   "metadata": {
    "collapsed": false
   },
   "outputs": [
    {
     "data": {
      "text/plain": [
       "0.23288400425797326"
      ]
     },
     "execution_count": 98,
     "metadata": {},
     "output_type": "execute_result"
    }
   ],
   "source": [
    "np.std(p)"
   ]
  },
  {
   "cell_type": "code",
   "execution_count": 99,
   "metadata": {
    "collapsed": false
   },
   "outputs": [
    {
     "data": {
      "text/plain": [
       "0.39234999269524223"
      ]
     },
     "execution_count": 99,
     "metadata": {},
     "output_type": "execute_result"
    }
   ],
   "source": [
    "np.mean(p)"
   ]
  },
  {
   "cell_type": "code",
   "execution_count": null,
   "metadata": {
    "collapsed": true
   },
   "outputs": [],
   "source": []
  }
 ],
 "metadata": {
  "kernelspec": {
   "display_name": "Python 2",
   "language": "python",
   "name": "python2"
  },
  "language_info": {
   "codemirror_mode": {
    "name": "ipython",
    "version": 2
   },
   "file_extension": ".py",
   "mimetype": "text/x-python",
   "name": "python",
   "nbconvert_exporter": "python",
   "pygments_lexer": "ipython2",
   "version": "2.7.6"
  }
 },
 "nbformat": 4,
 "nbformat_minor": 0
}
