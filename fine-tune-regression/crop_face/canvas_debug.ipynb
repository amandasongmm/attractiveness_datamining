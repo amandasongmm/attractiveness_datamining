{
 "cells": [
  {
   "cell_type": "code",
   "execution_count": 8,
   "metadata": {
    "collapsed": false
   },
   "outputs": [
    {
     "name": "stdout",
     "output_type": "stream",
     "text": [
      "36\n",
      "0 qiuyu_peng.jpg\n",
      "1 ruben_eupen.jpg\n",
      "2 mengting_gu.jpg\n",
      "3 yingjie_weng.jpg\n",
      "4 yusuke_asada.jpg\n",
      "5 yixing_lao.jpg\n",
      "6 handong_ma.jpg\n",
      "7 bohan_shao.jpg\n",
      "8 ruize_zhao.jpg\n",
      "9 catherine_zheng.jpg\n",
      "10 shunfei_yan.jpg\n",
      "11 ian_chen.jpg\n",
      "12 eric_bekkers.jpg\n",
      "13 lengsen_meng.jpg\n",
      "14 minhong_lin.jpg\n",
      "15 jiani_yin.jpg\n",
      "16 eva_zhang.jpg\n",
      "17 lingfeng_cheng.jpg\n",
      "18 issue_liu.jpg\n",
      "19 ning_ma.jpg\n",
      "20 candy_mao.jpg\n",
      "21 chao_zhang.jpg\n",
      "22 christof_chlebek.jpg\n",
      "23 feng_zhou.jpg\n",
      "24 fangzhou_liu.jpg\n",
      "25 gabrielle_girardeau.jpg\n",
      "26 jiaying_gu.jpg\n",
      "27 long_jin.jpg\n",
      "28 qianying_yao.jpg\n",
      "29 yu_an.jpg\n",
      "30 pangqu_wang.jpg\n",
      "31 ruijun_wang.jpg\n",
      "32 peipei_tang.jpg\n",
      "33 anmol_aggarwal.jpg\n",
      "34 elva_uap.jpg\n",
      "35 jingwei_sun.jpg\n"
     ]
    }
   ],
   "source": [
    "import os\n",
    "import cv2\n",
    "import sys\n",
    "from os import listdir\n",
    "from os.path import isfile, join\n",
    "import PIL\n",
    "from PIL import Image\n",
    "import pandas as pd\n",
    "\n",
    "\n",
    "df = pd.read_csv('Amanda_friend_list - facebook.csv')\n",
    "load_dir = 'facebook_img_resized/'\n",
    "im_files = [f for f in listdir(load_dir) if isfile(join(load_dir, f))]\n",
    "\n",
    "lst1 = open('../file_source/facebook.lst', 'wb')\n",
    "print len(im_files)\n",
    "for ind, im_file in enumerate(im_files):\n",
    "    print ind, im_file\n",
    "    friend_num = df.loc[df['image_name'] == im_file, 'friends number'].values[0]\n",
    "    # friend_num = df[df['image_name'] == im_file]['friends number'].item()\n",
    "    one_line = '{}\\t{}\\t{}\\n'.format(ind, friend_num, im_file)\n",
    "    lst1.write(one_line)\n"
   ]
  },
  {
   "cell_type": "code",
   "execution_count": null,
   "metadata": {
    "collapsed": true
   },
   "outputs": [],
   "source": []
  }
 ],
 "metadata": {
  "kernelspec": {
   "display_name": "Python 2",
   "language": "python",
   "name": "python2"
  },
  "language_info": {
   "codemirror_mode": {
    "name": "ipython",
    "version": 2
   },
   "file_extension": ".py",
   "mimetype": "text/x-python",
   "name": "python",
   "nbconvert_exporter": "python",
   "pygments_lexer": "ipython2",
   "version": "2.7.6"
  }
 },
 "nbformat": 4,
 "nbformat_minor": 0
}
