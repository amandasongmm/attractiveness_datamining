{
 "cells": [
  {
   "cell_type": "code",
   "execution_count": 7,
   "metadata": {
    "collapsed": false
   },
   "outputs": [],
   "source": [
    "from PIL import Image\n",
    "import random\n",
    "def get_white_noise_image(width, height):\n",
    "    pil_map = Image.new(\"RGBA\", (width, height), 255)\n",
    "    random_grid = map(lambda x: (\n",
    "            int(random.random() * 256),\n",
    "            int(random.random() * 256),\n",
    "            int(random.random() * 256)\n",
    "        ), [0] * width * height)\n",
    "    pil_map.putdata(random_grid)\n",
    "    return pil_map\n",
    "f1 = get_white_noise_image(224,224)\n",
    "import cv2\n",
    "from matplotlib.pyplot import imshow\n",
    "import matplotlib.pyplot as plt\n",
    "%matplotlib inline\n",
    "\n",
    "num_Im = 10000\n",
    "for i in range(1, num_Im+1):\n",
    "    f1 = get_white_noise_image(224,224)\n",
    "    f1.save('./white_noise_image/white_noise_'+str(i)+'.png')"
   ]
  },
  {
   "cell_type": "code",
   "execution_count": null,
   "metadata": {
    "collapsed": true
   },
   "outputs": [],
   "source": []
  }
 ],
 "metadata": {
  "kernelspec": {
   "display_name": "Python 2",
   "language": "python",
   "name": "python2"
  },
  "language_info": {
   "codemirror_mode": {
    "name": "ipython",
    "version": 2
   },
   "file_extension": ".py",
   "mimetype": "text/x-python",
   "name": "python",
   "nbconvert_exporter": "python",
   "pygments_lexer": "ipython2",
   "version": "2.7.6"
  }
 },
 "nbformat": 4,
 "nbformat_minor": 0
}
