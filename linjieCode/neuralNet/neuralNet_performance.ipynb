{
 "cells": [
  {
   "cell_type": "code",
   "execution_count": 5,
   "metadata": {
    "collapsed": false
   },
   "outputs": [
    {
     "name": "stdout",
     "output_type": "stream",
     "text": [
      "mean-subtracted values: [('B', 104.0069879317889), ('G', 116.66876761696767), ('R', 122.6789143406786)]\n",
      "Defining the net!\n",
      "conv1_1\t(64, 3, 3, 3) (64,)\n",
      "conv1_2\t(64, 64, 3, 3) (64,)\n",
      "conv2_1\t(128, 64, 3, 3) (128,)\n",
      "conv2_2\t(128, 128, 3, 3) (128,)\n",
      "conv3_1\t(256, 128, 3, 3) (256,)\n",
      "conv3_2\t(256, 256, 3, 3) (256,)\n",
      "conv3_3\t(256, 256, 3, 3) (256,)\n",
      "conv4_1\t(512, 256, 3, 3) (512,)\n",
      "conv4_2\t(512, 512, 3, 3) (512,)\n",
      "conv4_3\t(512, 512, 3, 3) (512,)\n",
      "conv5_1\t(512, 512, 3, 3) (512,)\n",
      "conv5_2\t(512, 512, 3, 3) (512,)\n",
      "fc_pca\t(255, 100352) (255,)\n",
      "fc_out\t(1, 255) (1,)\n"
     ]
    }
   ],
   "source": [
    "'''\n",
    "This is code for extracting NN features of face image data \n",
    "and then fit a linear model to predict attractiveness of a face\n",
    "Available dataset: TWIN, CHICAGO and MIT\n",
    "Available NN feature: 'caffeNet','vgg16','vggFace' and 'faceSNN'\n",
    "\n",
    "BY Linjie Li\n",
    "Please run this code on guru2 server\n",
    "'''\n",
    "import numpy as np\n",
    "import matplotlib.pyplot as plt\n",
    "%matplotlib inline\n",
    "import os\n",
    "\n",
    "from sklearn.decomposition import PCA as sklearnPCA\n",
    "\n",
    "# Make sure that caffe is on the python path:\n",
    "caffe_root = '/home/lli-ms/caffe/'\n",
    "pretrained_model_root = '/home/lli-ms/caffe/'\n",
    "\n",
    "# run this line one time only!\n",
    "import sys\n",
    "caffePython = pretrained_model_root + 'python'\n",
    "if caffePython not in sys.path:\n",
    "    sys.path.insert(0, caffePython)\n",
    "\n",
    "\n",
    "import caffe\n",
    "# Load mean\n",
    "mu = np.load(caffe_root + 'python/caffe/imagenet/ilsvrc_2012_mean.npy')\n",
    "mu = mu.mean(1).mean(1)  # average over pixels to obtain the mean (BGR) pixel values\n",
    "print 'mean-subtracted values:', zip('BGR', mu)\n",
    "\n",
    "# Load the trained net\n",
    "MODEL = 'vgg16_attr' #'caffeNet','vgg16','vggFace' or 'faceSNN'\n",
    "\n",
    "# saveFigPath = '../Result/'+Dataset+'/'+MODEL\n",
    "# if not os.path.exists(saveFigPath):\n",
    "#     os.makedirs(saveFigPath)\n",
    "    \n",
    "if MODEL == 'vgg16_attr':\n",
    "    MODEL_FILE ='../neuralNet/VGG16/vgg16_attr_deploy.prototxt'\n",
    "    PRETRAINED_FILE = caffe_root + 'models/vgg16_attr/snapshots/first_train_iter_2000.caffemodel'\n",
    "elif MODEL == 'caffeNet':\n",
    "    MODEL_FILE = caffe_root + 'models/bvlc_reference_caffenet/deploy.prototxt'\n",
    "    PRETRAINED_FILE = caffe_root + 'models/bvlc_reference_caffenet/bvlc_reference_caffenet.caffemodel'\n",
    "elif MODEL == 'vggFace':\n",
    "    MODEL_FILE = caffe_root + 'models/VGGFACE/VGG_CNN_F_deploy.prototxt'\n",
    "    PRETRAINED_FILE = caffe_root + 'models/VGGFACE/VGG_CNN_F.caffemodel'\n",
    "    MEAN_FILE = caffe_root + 'models/VGGFACE/VGG_mean.binaryproto'\n",
    "else:\n",
    "    MODEL = 'faceSNN'\n",
    "    MODEL_FILE = caffe_root +'models/sraonet/siamese_lecun_deploy.prototxt'\n",
    "    PRETRAINED_FILE = caffe_root + 'models/sraonet/snapshots/sraonet_lecun_gd_sub2_iter_100000.caffemodel'\n",
    "    \n",
    "caffe.set_device(2)\n",
    "caffe.set_mode_gpu()\n",
    "if not os.path.isfile(PRETRAINED_FILE):\n",
    "    print(\"No caffemodel!!!\")\n",
    "elif not os.path.isfile(MODEL_FILE):\n",
    "    print(\"No MODEL !!!\")\n",
    "else:\n",
    "    print \"Defining the net!\"\n",
    "    net = caffe.Net(MODEL_FILE,\n",
    "                PRETRAINED_FILE,\n",
    "                caffe.TEST)\n",
    "# input preprocessing: 'data' is the name of the input blob == net.inputs[0]\n",
    "transformer = caffe.io.Transformer({'data': net.blobs['data'].data.shape})\n",
    "if MODEL != 'faceSNN':\n",
    "    # subtract the dataset-mean value in each channel\n",
    "    transformer.set_mean('data', mu)\n",
    "layersParam = dict()\n",
    "for layer_name, param in net.params.iteritems():\n",
    "    print layer_name + '\\t' + str(param[0].data.shape), str(param[1].data.shape)\n",
    "    layersParam[layer_name]=param\n",
    "transformer.set_transpose('data', (2,0,1))\n",
    "# the reference model operates on images in [0,255] range instead of [0,1]\n",
    "transformer.set_raw_scale('data', 255) \n",
    "# the reference model has channels in BGR order instead of RGB\n",
    "transformer.set_channel_swap('data', (2,1,0))\n",
    "if MODEL == 'vgg16_attr':\n",
    "    imgeReshape = [224,224]\n",
    "    featureLayer = 'fc_out' \n",
    "if 'fc' in featureLayer:\n",
    "    featureNum = net.params[featureLayer][1].data.shape[0]\n",
    "else:\n",
    "    featureNum = net.blobs[featureLayer].data.flatten().shape[0]/net.blobs[featureLayer].data.shape[0]"
   ]
  },
  {
   "cell_type": "code",
   "execution_count": 14,
   "metadata": {
    "collapsed": false
   },
   "outputs": [
    {
     "data": {
      "text/plain": [
       "(array([10, 10, 10, 10, 10, 10, 10, 10, 10, 10, 10, 10, 10, 10, 10, 10, 10,\n",
       "        10, 10, 10, 10, 10, 10, 10, 10, 10, 10, 10, 10, 10, 10, 10, 10, 10,\n",
       "        10, 10, 10, 10, 10, 10, 10, 10, 10, 10, 10, 10, 10, 10, 10, 10, 10,\n",
       "        10, 10, 10, 10, 10, 10, 10, 10, 10, 10, 10, 10, 10, 10, 10, 10, 10,\n",
       "        10, 10, 10, 10, 10, 10, 10, 10, 10, 10, 10, 10, 10, 10, 10, 10, 10,\n",
       "        10, 10, 10, 10, 10, 10, 10, 10, 10, 10, 10, 10, 10, 10, 10]),\n",
       " array([ 1752,  4769,  4770,  4783,  4784,  5031,  5032,  5046,  8083,\n",
       "         8189,  8203,  9651,  9792,  9793,  9794, 10389, 11276, 11277,\n",
       "        12873, 12874, 13585, 24239, 24380, 24381, 24395, 24396, 24409,\n",
       "        24410, 24518, 27855, 27949, 28073, 30486, 30500, 32443, 34616,\n",
       "        34777, 34791, 34802, 35498, 35499, 42084, 42879, 42893, 43228,\n",
       "        43684, 43685, 43686, 43704, 43705, 59073, 59074, 61192, 61205,\n",
       "        61206, 62074, 63172, 63173, 63176, 63186, 63190, 63338, 63344,\n",
       "        63800, 67281, 68114, 69149, 72475, 72681, 73457, 74006, 74195,\n",
       "        74209, 74319, 74320, 77054, 77676, 77689, 77690, 80332, 83242,\n",
       "        83570, 86867, 89292, 89691, 89692, 90673, 90674, 90686, 90687,\n",
       "        90765, 92160, 92161, 92166, 93587, 93588, 97240, 98982, 98994, 99810]))"
      ]
     },
     "execution_count": 14,
     "metadata": {},
     "output_type": "execute_result"
    }
   ],
   "source": [
    "fc_pcaWeight = layersParam['fc_pca'][0].data\n",
    "np.nonzero(fc_pcaWeight)"
   ]
  },
  {
   "cell_type": "code",
   "execution_count": 2,
   "metadata": {
    "collapsed": false
   },
   "outputs": [],
   "source": [
    "test_file = '../data_list/val_list.txt'\n",
    "train_file = '../data_list/train_list.txt'\n",
    "def readFile(fName):\n",
    "    text_file = open(fName, \"r\")\n",
    "    lines = text_file.read().split('\\n')\n",
    "    text_file.close()\n",
    "    imList = []\n",
    "    ratingList = []\n",
    "    for l in lines:\n",
    "        if len(l) > 2:\n",
    "            l_split = l.split('.jpg ')\n",
    "            #print l_split\n",
    "            imList.append(l_split[0]+'.jpg')\n",
    "            ratingList.append(float(l_split[1]))\n",
    "    return imList,ratingList\n",
    "\n",
    "testIm, testRating = readFile(test_file)\n",
    "trainIm, trainRating = readFile(train_file)\n",
    "from scipy.stats import spearmanr as spearmanr\n",
    "\n",
    "\n",
    "test_predict = np.zeros([len(testIm)])\n",
    "totalNum = 0\n",
    "for img in testIm:\n",
    "    imgName = os.path.basename(img)\n",
    "    if imgName.endswith(('.jpg','.png')):\n",
    "        input_image = caffe.io.load_image(img)\n",
    "        net.blobs['data'].reshape(1,3,imgeReshape[0],imgeReshape[1])\n",
    "        net.blobs['data'].data[...] = transformer.preprocess('data', input_image)\n",
    "        out = net.forward()\n",
    "        feat = net.blobs[featureLayer].data\n",
    "        test_predict[totalNum] = feat.flatten()\n",
    "        #print features[totalNum]\n",
    "        totalNum +=1\n",
    "    else:\n",
    "        print img\n",
    "cor = np.corrcoef(testRating, test_predict)\n",
    "print cor[0,1]\n",
    "rcor = spearmanr(testRating, test_predict)\n",
    "print rcor\n",
    "\n",
    "train_predict = np.zeros([len(trainIm)])\n",
    "totalNum = 0\n",
    "for img in trainIm:\n",
    "    imgName = os.path.basename(img)\n",
    "    if imgName.endswith(('.jpg','.png')):\n",
    "        input_image = caffe.io.load_image(img)\n",
    "        net.blobs['data'].reshape(1,3,imgeReshape[0],imgeReshape[1])\n",
    "        net.blobs['data'].data[...] = transformer.preprocess('data', input_image)\n",
    "        out = net.forward()\n",
    "        feat = net.blobs[featureLayer].data\n",
    "        train_predict[totalNum] = feat.flatten()\n",
    "        #print features[totalNum]\n",
    "        totalNum +=1\n",
    "    else:\n",
    "        print img\n",
    "cor = np.corrcoef(trainRating, train_predict)\n",
    "print cor[0,1]\n",
    "rcor = spearmanr(trainRating, train_predict)\n",
    "print rcor\n",
    "\n",
    "allPredict = np.concatenate([train_predict,test_predict]).tolist()\n",
    "allIm = trainIm + testIm\n",
    "sortedIm = [x for (y,x) in sorted(zip(allPredict,allIm))]\n",
    "sortedRating = [y for (y,x) in sorted(zip(allPredict,allIm))]\n",
    "\n",
    "print sortedRating[0]\n",
    "print sortedRating[-1]"
   ]
  },
  {
   "cell_type": "code",
   "execution_count": 6,
   "metadata": {
    "collapsed": false
   },
   "outputs": [
    {
     "name": "stdout",
     "output_type": "stream",
     "text": [
      "10000\n"
     ]
    }
   ],
   "source": [
    "#pink image \n",
    "# Load image dataset#\n",
    "Dataset = 'pinkImage' # 'twin', 'chicago' or 'mit', 'zhihu' or 'funnyFace'\n",
    "if Dataset == 'twin':\n",
    "    imPath = '../../processing/imageProcessing/paddedImages/'\n",
    "    ext = '.png'\n",
    "elif Dataset == 'chicago':\n",
    "    imPath = '../../ChicagoFaceDataset/CFD Version 2.0/CFD 2.0 Images/'\n",
    "    ext = 'N.jpg'\n",
    "elif Dataset == 'mit':\n",
    "    imPath = '../../MIT2kFaceDataset/2kfaces/'\n",
    "    ext = '.jpg'\n",
    "elif Dataset =='funnyFace':\n",
    "    imPath = '../funnyFace/'\n",
    "    ext = '.png'\n",
    "else:\n",
    "    imPath = '../pink_noise_image/'\n",
    "    ext = '.png'\n",
    "imList = []\n",
    "for dirpath, dirnames, filenames in os.walk(imPath):\n",
    "    for filename in [f for f in filenames if f.endswith(ext)]:\n",
    "        imList.append(os.path.join(dirpath, filename))\n",
    "imList.sort()\n",
    "print len(imList)"
   ]
  },
  {
   "cell_type": "code",
   "execution_count": 7,
   "metadata": {
    "collapsed": false
   },
   "outputs": [],
   "source": [
    "def writeFile(fName,data):\n",
    "    text_file = open(fName, \"w\")\n",
    "    for d in data:\n",
    "        d = d + '\\n'\n",
    "        text_file.write(d)\n",
    "    text_file.close()\n",
    "fName = '../data_list/pink_image_list.txt'    \n",
    "writeFile(fName, imList)"
   ]
  },
  {
   "cell_type": "code",
   "execution_count": 8,
   "metadata": {
    "collapsed": false
   },
   "outputs": [],
   "source": [
    "pink_predict = np.zeros([len(imList)])\n",
    "totalNum = 0\n",
    "for img in imList:\n",
    "    imgName = os.path.basename(img)\n",
    "    if imgName.endswith(('.jpg','.png')):\n",
    "        input_image = caffe.io.load_image(img)\n",
    "        net.blobs['data'].reshape(1,3,imgeReshape[0],imgeReshape[1])\n",
    "        net.blobs['data'].data[...] = transformer.preprocess('data', input_image)\n",
    "        out = net.forward()\n",
    "        feat = net.blobs[featureLayer].data\n",
    "        pink_predict[totalNum] = feat.flatten()\n",
    "        #print features[totalNum]\n",
    "        totalNum +=1\n",
    "    else:\n",
    "        print img"
   ]
  },
  {
   "cell_type": "code",
   "execution_count": 12,
   "metadata": {
    "collapsed": false
   },
   "outputs": [
    {
     "data": {
      "image/png": "[encoded data removed]",
      "text/plain": [
       "<matplotlib.figure.Figure at 0x7efcd6383090>"
      ]
     },
     "metadata": {},
     "output_type": "display_data"
    }
   ],
   "source": [
    "def autolabel(rects,ser):\n",
    "    # attach some text labels\n",
    "    max_label = max(ser)\n",
    "    for rect, var in zip(rects, range(len(ser))):\n",
    "        height = ser[var]\n",
    "        if height > 0:\n",
    "            ypos = 1.02*height\n",
    "        else:\n",
    "            ypos = 1.2*height\n",
    "        if height == max_label:\n",
    "            ax.text((rect.get_x() + rect.get_width()), ypos,\n",
    "                    '(%.5f)' % (height), \n",
    "                    ha='center', va='bottom',fontsize = lSize-13)\n",
    "\n",
    "N = pink_predict[::100].shape[0]\n",
    "lSize = 35\n",
    "ind = np.arange(N)  # the x locations for the groups\n",
    "width = 0.5       # the width of the bars\n",
    "\n",
    "fig, ax = plt.subplots()\n",
    "fig.set_size_inches(30, 10)\n",
    "rects1 = ax.bar(ind, np.absolute(pink_predict[::100]), width, color='r')\n",
    "\n",
    "#add some text for labels, title and axes ticks\n",
    "ax.set_ylabel('Attractiveness',fontsize = lSize)\n",
    "ax.set_title('Predicted Attractiveness Ratings of Random Pink Images',fontsize = lSize)\n",
    "ax.get_xaxis().set_visible(False)\n",
    "ymin = 0.95*min(pink_predict[::100])\n",
    "ymax = 1.05*max(pink_predict[::100])\n",
    "ax.set_ylim([ymin,ymax])\n",
    "# ax.set_xticks((ind + width/2)[::10])\n",
    "# ax.set_xticklabels(range(1,N+1)[::10],fontsize = lSize-8,rotation=70)\n",
    "ax.tick_params(axis='y', labelsize=lSize-8)\n",
    "\n",
    "#autolabel(rects1,np.absolute(pink_predict[::100]))\n",
    "plt.show()\n",
    "#fig.savefig('../pink_noise_image/predicted_rating.png')\n",
    "\n",
    "\n",
    "sortedIm = [x for (y,x) in sorted(zip(pink_predict,imList))]\n",
    "sortedRating = [y for (y,x) in sorted(zip(pink_predict,imList))]\n"
   ]
  },
  {
   "cell_type": "code",
   "execution_count": 23,
   "metadata": {
    "collapsed": false
   },
   "outputs": [
    {
     "name": "stdout",
     "output_type": "stream",
     "text": [
      "0.432426005602\n",
      "1.54349005222\n"
     ]
    },
    {
     "data": {
      "text/plain": [
       "(174, 1)"
      ]
     },
     "execution_count": 23,
     "metadata": {},
     "output_type": "execute_result"
    }
   ],
   "source": [
    "print sortedRating[0]\n",
    "print sortedRating[-1]\n",
    "sortedRating = np.asarray(sortedRating)\n",
    "np.argwhere(sortedRating>1.2).shape"
   ]
  },
  {
   "cell_type": "code",
   "execution_count": null,
   "metadata": {
    "collapsed": false
   },
   "outputs": [
    {
     "name": "stderr",
     "output_type": "stream",
     "text": [
      "/usr/local/lib/python2.7/dist-packages/ipykernel/__main__.py:19: VisibleDeprecationWarning: converting an array with ndim > 0 to an index will result in an error in the future\n"
     ]
    }
   ],
   "source": [
    "from PIL import Image\n",
    "from matplotlib.pyplot import imshow\n",
    "import cv2\n",
    "\n",
    "def PIL2array(img):\n",
    "    return np.array(img.getdata(),\n",
    "                    np.uint8).reshape(img.size[1], img.size[0], 3)\n",
    "def array2PIL(arr, size):\n",
    "    mode = 'RGBA'\n",
    "    arr = arr.reshape(arr.shape[0]*arr.shape[1], arr.shape[2])\n",
    "    if len(arr[0]) == 3:\n",
    "        arr = np.c_[arr, 255*np.ones((len(arr),1), np.uint8)]\n",
    "    return Image.frombuffer(mode, size, arr.tostring(), 'raw', mode, 0, 1)\n",
    "\n",
    "\n",
    "def sum_images(minRating):\n",
    "    sum_arr = np.zeros((336,336,3))\n",
    "    for index in  np.argwhere(sortedRating>minRating):\n",
    "        imName = sortedIm[index]\n",
    "        #img = Image.open(imName)\n",
    "        im = cv2.imread(imName)\n",
    "#         arr = PIL2array(img)\n",
    "        sum_arr = sum_arr +im\n",
    "#     img = loadImage('foo.jpg')\n",
    "#     arr = PIL2array(img)\n",
    "    #img2 = array2PIL(sum_arr, img.size)\n",
    "    cv2.imshow('Color image',sum_arr)\n",
    "    #img2.save('sum'+str(minRating)+'.jpg')\n",
    "minRating = 1.2\n",
    "sum_images(minRating)"
   ]
  },
  {
   "cell_type": "code",
   "execution_count": null,
   "metadata": {
    "collapsed": true
   },
   "outputs": [],
   "source": []
  },
  {
   "cell_type": "code",
   "execution_count": null,
   "metadata": {
    "collapsed": true
   },
   "outputs": [],
   "source": []
  }
 ],
 "metadata": {
  "kernelspec": {
   "display_name": "Python 2",
   "language": "python",
   "name": "python2"
  },
  "language_info": {
   "codemirror_mode": {
    "name": "ipython",
    "version": 2
   },
   "file_extension": ".py",
   "mimetype": "text/x-python",
   "name": "python",
   "nbconvert_exporter": "python",
   "pygments_lexer": "ipython2",
   "version": "2.7.6"
  }
 },
 "nbformat": 4,
 "nbformat_minor": 0
}
