{
 "cells": [
  {
   "cell_type": "code",
   "execution_count": 99,
   "metadata": {
    "collapsed": false
   },
   "outputs": [],
   "source": [
    "import numpy as np\n",
    "import pandas as pd\n",
    "import matplotlib.pyplot as plt\n",
    "%matplotlib inline\n",
    "# Chicago Dataset #\n",
    "filePath = '../../ChicagoFaceDataset/CFD Version 2.0/'\n",
    "savePath = '../Result/chicago/'\n",
    "import os\n",
    "for files in os.listdir(filePath):\n",
    "    if files.endswith(\".xlsx\"):\n",
    "        xlsx = pd.ExcelFile(filePath+files)\n",
    "        measurements = pd.read_excel(xlsx,index = False)\n",
    "\n",
    "measurements.columns = measurements.iloc[3,:]\n",
    "measurements.columns.name = ''\n",
    "measurements.index = measurements.iloc[:,0]\n",
    "measurements = measurements.iloc[4:,1:]\n",
    "measurements.index.name = ''\n",
    "measurements.to_csv(savePath+'fullMeasure.csv')\n",
    "# extract configural measurements #\n",
    "configIndex = measurements.columns.tolist().index(u'Nose_Width')\n",
    "configMeasure = measurements.iloc[:,configIndex:]\n",
    "# save configMeasure #\n",
    "configMeasure.to_csv(savePath+'configMeasure.csv')\n",
    "\n",
    "# extract attractiveness rating #\n",
    "attrIndex = measurements.columns.tolist().index(u'Attractive')\n",
    "attrRating = measurements.iloc[:,attrIndex:attrIndex+1][:]\n",
    "attrRating.to_csv(savePath+'meanRating.csv')\n",
    "\n",
    "# other features #\n",
    "otherFeatures = measurements.iloc[:,:configIndex]\n",
    "otherFeatures = otherFeatures.drop('Attractive', 1)\n",
    "otherFeatures.to_csv(savePath+'otherMeasures.csv')"
   ]
  },
  {
   "cell_type": "code",
   "execution_count": 96,
   "metadata": {
    "collapsed": false
   },
   "outputs": [],
   "source": [
    "# Twin Dataset #\n",
    "filePath = '../rating_matrix.csv'\n",
    "ratings = pd.read_csv(filePath,delimiter='\\t')\n",
    "ratings = ratings.drop('Unnamed: 0',1)\n",
    "savePath = '../Result/twin/'\n",
    "ratings.to_csv(savePath+'rating_matrix.csv')\n",
    "mean_rating = pd.DataFrame(ratings.mean())\n",
    "mean_rating.columns = ['Attractive']\n",
    "mean_rating.to_csv(savePath+'meanRating.csv')"
   ]
  },
  {
   "cell_type": "code",
   "execution_count": 120,
   "metadata": {
    "collapsed": false
   },
   "outputs": [
    {
     "name": "stdout",
     "output_type": "stream",
     "text": [
      "                                       attractive\n",
      "                                                 \n",
      "Aaron_Dollar_13_oval.jpg                 5.666667\n",
      "Aaron_Mink_9_oval.jpg                    3.666667\n",
      "Aaron_Turner_13_oval.jpg                 5.066667\n",
      "Ada_Galbreath_19_oval.jpg                5.466667\n",
      "Ada_Riddick_15_oval.jpg                  6.000000\n",
      "Adam_Cauthen_11_oval.jpg                 4.933333\n",
      "Adam_Cowart_5_oval.jpg                   6.133333\n",
      "Adam_Cuthbertson_3_oval.jpg              4.800000\n",
      "Adam_Koester_12_oval.jpg                 3.866667\n",
      "Adam_Koester_6_oval.jpg                  4.687500\n",
      "Adrienne_Blaney_15_oval.jpg              6.333333\n",
      "Adrienne_Blaney_1_oval.jpg               4.733333\n",
      "Adrienne_Coen_13_oval.jpg                6.066667\n",
      "Agnes_Castellanos_11_oval.jpg            4.357143\n",
      "Alan_Abbey_19_oval.jpg                   3.866667\n",
      "Alan_Gamerson_7_oval.jpg                 5.933333\n",
      "Alan_Infante_11_oval.jpg                 3.666667\n",
      "Alan_Rainwater_15_oval.jpg               3.733333\n",
      "Albert_Belk_12_oval.jpg                  5.133333\n",
      "Albert_Belk_5_oval.jpg                   4.400000\n",
      "Albert_Carbaugh_3_oval.jpg               6.400000\n",
      "Albert_Cardoza_5_oval.jpg                6.533333\n",
      "Albert_Carlyle_5_oval.jpg                7.200000\n",
      "Albert_Dobson_9_oval.jpg                 5.333333\n",
      "Albert_Neu_11_oval.jpg                   4.600000\n",
      "Albert_Neu_7_oval.jpg                    5.000000\n",
      "Albert_Rohr_5_oval.jpg                   4.400000\n",
      "Albert_Waring_1_oval.jpg                 5.133333\n",
      "Alberta_Akins_7_oval.jpg                 6.600000\n",
      "Alberta_Herbst_3_oval.jpg                4.866667\n",
      "...                                           ...\n",
      "Google_1_Willie Deangelis_11_oval.jpg    5.857143\n",
      "Google_1_Willie Garrity_7_oval.jpg       5.533333\n",
      "Google_1_Willie Hahn_9_oval.jpg          7.066667\n",
      "Google_1_Willie Hamer_11_oval.jpg        5.800000\n",
      "Google_1_Willie Mapes_11_oval.jpg        4.266667\n",
      "Google_1_Willie Robins_11_oval.jpg       4.533333\n",
      "Google_1_Willie Weems_15_oval.jpg        3.533333\n",
      "Google_1_Willie Weems_9_oval.jpg         6.200000\n",
      "Google_1_Wilma Allman_15_oval.jpg        4.000000\n",
      "Google_1_Wilma Irvin_15_oval.jpg         3.666667\n",
      "Google_1_Wilma Trigg_13_oval.jpg         4.933333\n",
      "Google_1_Yolanda Cobb_142_oval.jpg       4.266667\n",
      "Google_1_Yolanda Cobb_7_oval.jpg         6.933333\n",
      "Google_1_Yolanda Pittman_18_oval.jpg     5.933333\n",
      "Google_1_Yolanda Scully_3_oval.jpg       6.000000\n",
      "Google_1_Yvette Hardwick_14_oval.jpg     3.666667\n",
      "Google_1_Yvette Slaton_1_oval.jpg        5.400000\n",
      "Gwendolyn_Hook_19_oval.jpg               4.600000\n",
      "Harold_Meyers_5_oval.jpg                 4.666667\n",
      "Heather_Stroup_13_oval.jpg               3.666667\n",
      "Jeremy_Bowlin_15_oval.jpg                5.266667\n",
      "Joann_Pickering_16_oval.jpg              4.666667\n",
      "John_Hemingway_1_oval.jpg                5.600000\n",
      "Jonathan_DArden_13_oval.jpg              5.066667\n",
      "Josephine_Anderson_17_oval.jpg           5.666667\n",
      "Joshua_Serato_1_oval.jpg                 4.266667\n",
      "Joshua_Sides_19_oval.jpg                 5.466667\n",
      "Juan_Edmiston_11_oval.jpg                5.333333\n",
      "Kelli_Hetrick_11_oval.jpg                3.200000\n",
      "wilma-1_oval.jpg                         5.000000\n",
      "\n",
      "[2222 rows x 1 columns]\n"
     ]
    }
   ],
   "source": [
    "# MIT Dataset #\n",
    "filePath = '../../MIT2kFaceDataset/Full Attribute Scores/psychology attributes/'\n",
    "xlsx = pd.ExcelFile(filePath+'psychology-attributes.xlsx')\n",
    "measurements = pd.read_excel(xlsx,sheetname = 1,index = False)\n",
    "measurements.index = measurements.iloc[:,0]\n",
    "measurements = measurements.iloc[:,1:]\n",
    "measurements.index.name = ''\n",
    "\n",
    "# attractiveness rating #\n",
    "savePath = '../Result/mit/'\n",
    "attrIndex = measurements.columns.tolist().index('attractive')\n",
    "attrRating = measurements.iloc[:,attrIndex:attrIndex+1][:]\n",
    "attrRatingSorted = attrRating.sort_index()\n",
    "print attrRatingSorted\n",
    "attrRatingSorted.to_csv(savePath+'meanRating.csv')\n",
    "\n",
    "# social attributes #\n",
    "measurements = measurements.drop('Image #',1)\n",
    "measurements = measurements.sort_index()\n",
    "measurements.to_csv(savePath+'socialMeasures.csv')\n"
   ]
  },
  {
   "cell_type": "code",
   "execution_count": null,
   "metadata": {
    "collapsed": true
   },
   "outputs": [],
   "source": []
  }
 ],
 "metadata": {
  "kernelspec": {
   "display_name": "Python 2",
   "language": "python",
   "name": "python2"
  },
  "language_info": {
   "codemirror_mode": {
    "name": "ipython",
    "version": 2
   },
   "file_extension": ".py",
   "mimetype": "text/x-python",
   "name": "python",
   "nbconvert_exporter": "python",
   "pygments_lexer": "ipython2",
   "version": "2.7.10"
  }
 },
 "nbformat": 4,
 "nbformat_minor": 0
}
