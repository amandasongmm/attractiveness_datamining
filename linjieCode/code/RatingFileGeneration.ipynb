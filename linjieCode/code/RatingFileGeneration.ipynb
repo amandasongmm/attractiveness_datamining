{
 "cells": [
  {
   "cell_type": "code",
   "execution_count": 70,
   "metadata": {
    "collapsed": false
   },
   "outputs": [],
   "source": [
    "import numpy as np\n",
    "import pandas as pd\n",
    "import matplotlib.pyplot as plt\n",
    "%matplotlib inline\n",
    "\n",
    "filePath = '../../ChicagoFaceDataset/CFD Version 2.0/'\n",
    "savePath = '../Result/chicago/'\n",
    "import os\n",
    "for files in os.listdir(filePath):\n",
    "    if files.endswith(\".xlsx\"):\n",
    "        xlsx = pd.ExcelFile(filePath+files)\n",
    "        measurements = pd.read_excel(xlsx,index = False)\n",
    "\n",
    "measurements.columns = measurements.iloc[3,:]\n",
    "measurements.columns.name = ''\n",
    "measurements.index = measurements.iloc[:,0]\n",
    "measurements = measurements.iloc[4:,1:]\n",
    "measurements.index.name = ''\n",
    "measurements.to_csv(savePath+'fullMeasure.csv')\n",
    "# extract configural measurements #\n",
    "configIndex = measurements.columns.tolist().index(u'Nose_Width')\n",
    "configMeasure = measurements.iloc[:,configIndex:]\n",
    "# save configMeasure #\n",
    "configMeasure.to_csv(savePath+'configMeasure.csv')\n",
    "\n",
    "# extract attractiveness rating #\n",
    "attrIndex = measurements.columns.tolist().index(u'Attractive')\n",
    "attrRating = measurements.iloc[:,attrIndex:attrIndex+1]\n",
    "attrRating.to_csv(savePath+'meanRating.csv')\n",
    "\n",
    "# other features #\n",
    "otherFeatures = measurements.iloc[:,:configIndex]\n",
    "otherFeatures = otherFeatures.drop('Attractive', 1)\n",
    "otherFeatures.to_csv(savePath+'otherMeasures.csv')"
   ]
  },
  {
   "cell_type": "code",
   "execution_count": 79,
   "metadata": {
    "collapsed": false
   },
   "outputs": [
    {
     "name": "stdout",
     "output_type": "stream",
     "text": [
      "img1      4.141100\n",
      "img2      4.105502\n",
      "img3      4.585761\n",
      "img4      4.591586\n",
      "img5      4.488026\n",
      "img6      4.251780\n",
      "img7      3.704854\n",
      "img8      2.455016\n",
      "img9      2.382524\n",
      "img10     3.943689\n",
      "img11     2.889968\n",
      "img12     3.638188\n",
      "img13     2.448544\n",
      "img14     3.405825\n",
      "img15     4.040129\n",
      "img16     3.998058\n",
      "img17     4.794175\n",
      "img18     4.677023\n",
      "img19     4.408414\n",
      "img20     2.630421\n",
      "img21     4.016828\n",
      "img22     3.922330\n",
      "img23     3.694498\n",
      "img24     3.578641\n",
      "img25     2.682201\n",
      "img26     2.776699\n",
      "img27     2.350809\n",
      "img28     2.203236\n",
      "img29     2.476375\n",
      "img30     4.671845\n",
      "            ...   \n",
      "img171    5.330744\n",
      "img172    4.759871\n",
      "img173    3.736570\n",
      "img174    4.675728\n",
      "img175    4.920388\n",
      "img176    5.198058\n",
      "img177    4.410356\n",
      "img178    5.035599\n",
      "img179    4.853722\n",
      "img180    4.914563\n",
      "img181    3.254369\n",
      "img182    3.297735\n",
      "img183    2.991586\n",
      "img184    3.049191\n",
      "img185    4.363754\n",
      "img186    3.763107\n",
      "img187    3.296440\n",
      "img188    3.690615\n",
      "img189    3.719094\n",
      "img190    3.383819\n",
      "img191    3.424595\n",
      "img192    3.882201\n",
      "img193    4.544984\n",
      "img194    4.108738\n",
      "img195    4.695146\n",
      "img196    4.910032\n",
      "img197    3.726861\n",
      "img198    4.639482\n",
      "img199    4.618770\n",
      "img200    3.132686\n",
      "dtype: float64\n"
     ]
    }
   ],
   "source": [
    "filePath = '../rating_matrix.csv'\n",
    "ratings = pd.read_csv(filePath,delimiter='\\t')\n",
    "ratings = ratings.drop('Unnamed: 0',1)\n",
    "savePath = '../Result/twin/'\n",
    "ratings.to_csv(savePath+'rating_matrix.csv')\n",
    "mean_rating = ratings.mean()#[:, None]\n",
    "mean_rating.to_csv(savePath+'meanRating.csv')"
   ]
  },
  {
   "cell_type": "code",
   "execution_count": null,
   "metadata": {
    "collapsed": true
   },
   "outputs": [],
   "source": []
  }
 ],
 "metadata": {
  "kernelspec": {
   "display_name": "Python 2",
   "language": "python",
   "name": "python2"
  },
  "language_info": {
   "codemirror_mode": {
    "name": "ipython",
    "version": 2
   },
   "file_extension": ".py",
   "mimetype": "text/x-python",
   "name": "python",
   "nbconvert_exporter": "python",
   "pygments_lexer": "ipython2",
   "version": "2.7.10"
  }
 },
 "nbformat": 4,
 "nbformat_minor": 0
}
