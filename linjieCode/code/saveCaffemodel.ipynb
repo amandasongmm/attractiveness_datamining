{
 "cells": [
  {
   "cell_type": "code",
   "execution_count": 1,
   "metadata": {
    "collapsed": false
   },
   "outputs": [
    {
     "name": "stderr",
     "output_type": "stream",
     "text": [
      "/usr/lib/python2.7/dist-packages/skimage/io/_plugins/plugin.py:47: DeprecationWarning: You passed a bytestring as `filenames`. This will not work on Python 3. Use `cp.read_file()` or switch to using Unicode strings across the board.\n",
      "  cp.read(f)\n",
      "/usr/lib/python2.7/dist-packages/skimage/io/_plugins/plugin.py:47: DeprecationWarning: You passed a bytestring as `filenames`. This will not work on Python 3. Use `cp.read_file()` or switch to using Unicode strings across the board.\n",
      "  cp.read(f)\n",
      "/usr/lib/python2.7/dist-packages/skimage/io/_plugins/plugin.py:47: DeprecationWarning: You passed a bytestring as `filenames`. This will not work on Python 3. Use `cp.read_file()` or switch to using Unicode strings across the board.\n",
      "  cp.read(f)\n",
      "/usr/lib/python2.7/dist-packages/skimage/io/_plugins/plugin.py:47: DeprecationWarning: You passed a bytestring as `filenames`. This will not work on Python 3. Use `cp.read_file()` or switch to using Unicode strings across the board.\n",
      "  cp.read(f)\n",
      "/usr/lib/python2.7/dist-packages/skimage/io/_plugins/plugin.py:47: DeprecationWarning: You passed a bytestring as `filenames`. This will not work on Python 3. Use `cp.read_file()` or switch to using Unicode strings across the board.\n",
      "  cp.read(f)\n",
      "/usr/lib/python2.7/dist-packages/skimage/io/_plugins/plugin.py:47: DeprecationWarning: You passed a bytestring as `filenames`. This will not work on Python 3. Use `cp.read_file()` or switch to using Unicode strings across the board.\n",
      "  cp.read(f)\n",
      "/usr/lib/python2.7/dist-packages/skimage/io/_plugins/plugin.py:47: DeprecationWarning: You passed a bytestring as `filenames`. This will not work on Python 3. Use `cp.read_file()` or switch to using Unicode strings across the board.\n",
      "  cp.read(f)\n",
      "/usr/lib/python2.7/dist-packages/skimage/io/_plugins/plugin.py:47: DeprecationWarning: You passed a bytestring as `filenames`. This will not work on Python 3. Use `cp.read_file()` or switch to using Unicode strings across the board.\n",
      "  cp.read(f)\n",
      "/usr/lib/python2.7/dist-packages/skimage/io/_plugins/plugin.py:47: DeprecationWarning: You passed a bytestring as `filenames`. This will not work on Python 3. Use `cp.read_file()` or switch to using Unicode strings across the board.\n",
      "  cp.read(f)\n",
      "/usr/lib/python2.7/dist-packages/skimage/io/_plugins/plugin.py:47: DeprecationWarning: You passed a bytestring as `filenames`. This will not work on Python 3. Use `cp.read_file()` or switch to using Unicode strings across the board.\n",
      "  cp.read(f)\n",
      "/usr/lib/python2.7/dist-packages/skimage/io/_plugins/plugin.py:47: DeprecationWarning: You passed a bytestring as `filenames`. This will not work on Python 3. Use `cp.read_file()` or switch to using Unicode strings across the board.\n",
      "  cp.read(f)\n",
      "/usr/lib/python2.7/dist-packages/skimage/io/_plugins/plugin.py:47: DeprecationWarning: You passed a bytestring as `filenames`. This will not work on Python 3. Use `cp.read_file()` or switch to using Unicode strings across the board.\n",
      "  cp.read(f)\n"
     ]
    },
    {
     "name": "stdout",
     "output_type": "stream",
     "text": [
      "mean-subtracted values: [('B', 104.0069879317889), ('G', 116.66876761696767), ('R', 122.6789143406786)]\n",
      "Defining the net!\n",
      "conv1_1\t(64, 3, 3, 3) (64,)\n",
      "conv1_2\t(64, 64, 3, 3) (64,)\n",
      "conv2_1\t(128, 64, 3, 3) (128,)\n",
      "conv2_2\t(128, 128, 3, 3) (128,)\n",
      "conv3_1\t(256, 128, 3, 3) (256,)\n",
      "conv3_2\t(256, 256, 3, 3) (256,)\n",
      "conv3_3\t(256, 256, 3, 3) (256,)\n",
      "conv4_1\t(512, 256, 3, 3) (512,)\n",
      "conv4_2\t(512, 512, 3, 3) (512,)\n",
      "conv4_3\t(512, 512, 3, 3) (512,)\n",
      "conv5_1\t(512, 512, 3, 3) (512,)\n",
      "conv5_2\t(512, 512, 3, 3) (512,)\n",
      "conv5_3\t(512, 512, 3, 3) (512,)\n",
      "fc6\t(4096, 25088) (4096,)\n",
      "fc7\t(4096, 4096) (4096,)\n",
      "fc8\t(1000, 4096) (1000,)\n"
     ]
    }
   ],
   "source": [
    "import numpy as np\n",
    "import matplotlib.pyplot as plt\n",
    "%matplotlib inline\n",
    "import os\n",
    "\n",
    "from sklearn.decomposition import PCA as sklearnPCA\n",
    "\n",
    "# Make sure that caffe is on the python path:\n",
    "caffe_root = '/home/lli-ms/caffe/'\n",
    "pretrained_model_root = '/home/lli-ms/caffe/'\n",
    "\n",
    "# run this line one time only!\n",
    "import sys\n",
    "caffePython = pretrained_model_root + 'python'\n",
    "if caffePython not in sys.path:\n",
    "    sys.path.insert(0, caffePython)\n",
    "\n",
    "import caffe\n",
    "# Load mean\n",
    "mu = np.load(caffe_root + 'python/caffe/imagenet/ilsvrc_2012_mean.npy')\n",
    "mu = mu.mean(1).mean(1)  # average over pixels to obtain the mean (BGR) pixel values\n",
    "print 'mean-subtracted values:', zip('BGR', mu)\n",
    "\n",
    "# Load the trained net\n",
    "MODEL = 'vgg16' #'caffeNet','vgg16','vggFace' or 'faceSNN'\n",
    "\n",
    "savePath = '../caffeModel/'+MODEL\n",
    "if not os.path.exists(savePath):\n",
    "    os.makedirs(savePath)\n",
    "    \n",
    "if MODEL == 'vgg16':\n",
    "    MODEL_FILE = caffe_root +'models/VGG16/VGG_ILSVRC_16_layers_deploy.prototxt'\n",
    "    PRETRAINED_FILE = caffe_root + 'models/VGG16/VGG_ILSVRC_16_layers.caffemodel'\n",
    "elif MODEL == 'caffeNet':\n",
    "    MODEL_FILE = caffe_root + 'models/bvlc_reference_caffenet/deploy.prototxt'\n",
    "    PRETRAINED_FILE = caffe_root + 'models/bvlc_reference_caffenet/bvlc_reference_caffenet.caffemodel'\n",
    "elif MODEL == 'vggFace':\n",
    "    MODEL_FILE = caffe_root + 'models/VGGFACE/VGG_CNN_F_deploy.prototxt'\n",
    "    PRETRAINED_FILE = caffe_root + 'models/VGGFACE/VGG_CNN_F.caffemodel'\n",
    "    MEAN_FILE = caffe_root + 'models/VGGFACE/VGG_mean.binaryproto'\n",
    "else:\n",
    "    MODEL = 'faceSNN'\n",
    "    MODEL_FILE = caffe_root +'models/sraonet/siamese_lecun_deploy.prototxt'\n",
    "    PRETRAINED_FILE = caffe_root + 'models/sraonet/snapshots/sraonet_lecun_gd_sub2_iter_100000.caffemodel'\n",
    "    \n",
    "caffe.set_device(1)\n",
    "caffe.set_mode_gpu()\n",
    "if not os.path.isfile(PRETRAINED_FILE):\n",
    "    print(\"No caffemodel!!!\")\n",
    "elif not os.path.isfile(MODEL_FILE):\n",
    "    print(\"No MODEL !!!\")\n",
    "else:\n",
    "    print \"Defining the net!\"\n",
    "    net = caffe.Net(MODEL_FILE,\n",
    "                PRETRAINED_FILE,\n",
    "                caffe.TEST)\n",
    "# input preprocessing: 'data' is the name of the input blob == net.inputs[0]\n",
    "transformer = caffe.io.Transformer({'data': net.blobs['data'].data.shape})\n",
    "if MODEL != 'faceSNN':\n",
    "    # subtract the dataset-mean value in each channel\n",
    "    transformer.set_mean('data', mu)\n",
    "for layer_name, param in net.params.iteritems():\n",
    "    print layer_name + '\\t' + str(param[0].data.shape), str(param[1].data.shape)\n",
    "transformer.set_transpose('data', (2,0,1))\n",
    "# the reference model operates on images in [0,255] range instead of [0,1]\n",
    "transformer.set_raw_scale('data', 255) \n",
    "# the reference model has channels in BGR order instead of RGB\n",
    "transformer.set_channel_swap('data', (2,1,0))"
   ]
  },
  {
   "cell_type": "code",
   "execution_count": 20,
   "metadata": {
    "collapsed": false
   },
   "outputs": [
    {
     "name": "stdout",
     "output_type": "stream",
     "text": [
      "conv1_1 weights are (64, 3, 3, 3) dimensional and biases are (64,) dimensional\n",
      "conv1_2 weights are (64, 64, 3, 3) dimensional and biases are (64,) dimensional\n",
      "conv2_1 weights are (128, 64, 3, 3) dimensional and biases are (128,) dimensional\n",
      "conv2_2 weights are (128, 128, 3, 3) dimensional and biases are (128,) dimensional\n",
      "conv3_1 weights are (256, 128, 3, 3) dimensional and biases are (256,) dimensional\n",
      "conv3_2 weights are (256, 256, 3, 3) dimensional and biases are (256,) dimensional\n",
      "conv3_3 weights are (256, 256, 3, 3) dimensional and biases are (256,) dimensional\n",
      "conv4_1 weights are (512, 256, 3, 3) dimensional and biases are (512,) dimensional\n",
      "conv4_2 weights are (512, 512, 3, 3) dimensional and biases are (512,) dimensional\n",
      "conv4_3 weights are (512, 512, 3, 3) dimensional and biases are (512,) dimensional\n",
      "conv5_1 weights are (512, 512, 3, 3) dimensional and biases are (512,) dimensional\n",
      "conv5_2 weights are (512, 512, 3, 3) dimensional and biases are (512,) dimensional\n",
      "fc_pca weights are (255, 100352) dimensional and biases are (255,) dimensional\n",
      "fc_out weights are (1, 255) dimensional and biases are (1,) dimensional\n"
     ]
    }
   ],
   "source": [
    "# Load the fully convolutional network to transplant the parameters.\n",
    "net_full_conv = caffe.Net('../neuralNet/VGG16/vgg16_mod.prototxt', \n",
    "                          PRETRAINED_FILE,\n",
    "                          caffe.TEST)\n",
    "params_full_conv = net_full_conv.params.keys()\n",
    "# conv_params = {name: (weights, biases)}\n",
    "conv_params = {pr: (net_full_conv.params[pr][0].data, net_full_conv.params[pr][1].data) for pr in params_full_conv}\n",
    "\n",
    "for conv in params_full_conv:\n",
    "    print '{} weights are {} dimensional and biases are {} dimensional'.format(conv, conv_params[conv][0].shape, \\\n",
    "                                                                               conv_params[conv][1].shape)"
   ]
  },
  {
   "cell_type": "code",
   "execution_count": 5,
   "metadata": {
    "collapsed": false
   },
   "outputs": [
    {
     "name": "stdout",
     "output_type": "stream",
     "text": [
      "(766, 100352)\n"
     ]
    }
   ],
   "source": [
    "weight_file = '/home/lli-ms/features/vgg16_conv5_2_mit_weights.csv'\n",
    "bias_file = '/home/lli-ms/features/vgg16_conv5_2_mit_biases.csv'\n",
    "pca_weight = np.loadtxt(weight_file, delimiter=',')\n",
    "pca_bias = np.loadtxt(bias_file, delimiter = ',')\n",
    "print pca_weight.shape"
   ]
  },
  {
   "cell_type": "code",
   "execution_count": 9,
   "metadata": {
    "collapsed": false
   },
   "outputs": [
    {
     "name": "stdout",
     "output_type": "stream",
     "text": [
      "(255, 100352) (255,)\n"
     ]
    }
   ],
   "source": [
    "convert_weight = pca_weight[:255,:]\n",
    "convert_bias = pca_bias[:255]\n",
    "print convert_weight.shape, convert_bias.shape"
   ]
  },
  {
   "cell_type": "code",
   "execution_count": 11,
   "metadata": {
    "collapsed": false
   },
   "outputs": [
    {
     "name": "stdout",
     "output_type": "stream",
     "text": [
      "conv1_1 weights are (64, 3, 3, 3) dimensional and biases are (64,) dimensional\n",
      "conv1_2 weights are (64, 64, 3, 3) dimensional and biases are (64,) dimensional\n",
      "conv2_1 weights are (128, 64, 3, 3) dimensional and biases are (128,) dimensional\n",
      "conv2_2 weights are (128, 128, 3, 3) dimensional and biases are (128,) dimensional\n",
      "conv3_1 weights are (256, 128, 3, 3) dimensional and biases are (256,) dimensional\n",
      "conv3_2 weights are (256, 256, 3, 3) dimensional and biases are (256,) dimensional\n",
      "conv3_3 weights are (256, 256, 3, 3) dimensional and biases are (256,) dimensional\n",
      "conv4_1 weights are (512, 256, 3, 3) dimensional and biases are (512,) dimensional\n",
      "conv4_2 weights are (512, 512, 3, 3) dimensional and biases are (512,) dimensional\n",
      "conv4_3 weights are (512, 512, 3, 3) dimensional and biases are (512,) dimensional\n",
      "conv5_1 weights are (512, 512, 3, 3) dimensional and biases are (512,) dimensional\n",
      "conv5_2 weights are (512, 512, 3, 3) dimensional and biases are (512,) dimensional\n"
     ]
    }
   ],
   "source": [
    "# Load the original network and extract the fully connected layers' parameters.\n",
    "net = caffe.Net(MODEL_FILE, \n",
    "                PRETRAINED_FILE, \n",
    "                caffe.TEST)\n",
    "params = []\n",
    "for layer_name, param in net.params.iteritems():\n",
    "    if 'fc' not in layer_name and 'conv5_3'not in layer_name:\n",
    "        params.append(layer_name)\n",
    "    \n",
    "# fc_params = {name: (weights, biases)}\n",
    "fc_params = {pr: (net.params[pr][0].data, net.params[pr][1].data) for pr in params}\n",
    "\n",
    "for fc in params:\n",
    "    print '{} weights are {} dimensional and biases are {} dimensional'.format(fc, fc_params[fc][0].shape, fc_params[fc][1].shape)\n"
   ]
  },
  {
   "cell_type": "code",
   "execution_count": 22,
   "metadata": {
    "collapsed": false
   },
   "outputs": [],
   "source": [
    "for pr, pr_conv in zip(params, params_full_conv[:-2]):\n",
    "    conv_params[pr_conv][0].flat = fc_params[pr][0].flat  # flat unrolls the arrays\n",
    "    conv_params[pr_conv][1][...] = fc_params[pr][1]\n",
    "    \n",
    "conv_params['fc_pca'][0].flat = convert_weight.flat  # flat unrolls the arrays\n",
    "conv_params['fc_pca'][1][...] = convert_bias"
   ]
  },
  {
   "cell_type": "code",
   "execution_count": 24,
   "metadata": {
    "collapsed": true
   },
   "outputs": [],
   "source": [
    "net_full_conv.save('/home/lli-ms/caffe/models/vgg16_attr/vgg16_attr_pca.caffemodel')"
   ]
  },
  {
   "cell_type": "code",
   "execution_count": null,
   "metadata": {
    "collapsed": true
   },
   "outputs": [],
   "source": []
  }
 ],
 "metadata": {
  "kernelspec": {
   "display_name": "Python 2",
   "language": "python",
   "name": "python2"
  },
  "language_info": {
   "codemirror_mode": {
    "name": "ipython",
    "version": 2
   },
   "file_extension": ".py",
   "mimetype": "text/x-python",
   "name": "python",
   "nbconvert_exporter": "python",
   "pygments_lexer": "ipython2",
   "version": "2.7.6"
  }
 },
 "nbformat": 4,
 "nbformat_minor": 0
}
