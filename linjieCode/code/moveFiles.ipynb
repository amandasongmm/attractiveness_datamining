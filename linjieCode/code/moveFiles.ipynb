{
 "cells": [
  {
   "cell_type": "code",
   "execution_count": 75,
   "metadata": {
    "collapsed": false
   },
   "outputs": [],
   "source": [
    "import os\n",
    "from shutil import copyfile\n",
    "\n",
    "def readFile(fName):\n",
    "    text_file = open(fName, \"r\")\n",
    "    lines = text_file.read().split('\\n')\n",
    "    data = [None]*len(lines)\n",
    "    for l in range(len(lines)):\n",
    "        data[l] = lines[l].split(' ')[0]\n",
    "    text_file.close()\n",
    "    return data\n",
    "\n",
    "def writeFile(fName,data):\n",
    "    text_file = open(fName, \"w\")\n",
    "    for d in data:\n",
    "        d = d + '\\n'\n",
    "        text_file.write(d)\n",
    "    text_file.close()\n"
   ]
  },
  {
   "cell_type": "code",
   "execution_count": 77,
   "metadata": {
    "collapsed": false
   },
   "outputs": [
    {
     "name": "stdout",
     "output_type": "stream",
     "text": [
      "730\n"
     ]
    }
   ],
   "source": [
    "imList1 = readFile(\"../list/GURUList/guru_simi_trainSub1.txt\")\n",
    "imList2 = readFile(\"../list/GURUList/guru_simi_trainSub2.txt\")\n",
    "imList = list(set(imList1+imList2))\n",
    "imList = filter(None, imList)\n",
    "print len(imList)\n",
    "\n",
    "# newFolder = \"/raid/linjieli/starNow/subTrain19Full\"\n",
    "# if not os.path.isdir(newFolder):\n",
    "#     os.makedirs(newFolder)\n",
    "# for im in imList:\n",
    "#     dst = newFolder+im[22:]\n",
    "#     copyfile(im, dst)\n",
    "fName = '../list/GURUList/subTrainSubList.txt'    \n",
    "writeFile(fName, imList)"
   ]
  },
  {
   "cell_type": "code",
   "execution_count": 66,
   "metadata": {
    "collapsed": false
   },
   "outputs": [
    {
     "name": "stdout",
     "output_type": "stream",
     "text": [
      "200\n",
      "201\n"
     ]
    }
   ],
   "source": [
    "listFile = '/raid/linjieli/attractiveness_datamining/resize_im_pipeline/tmp/imageLocations.csv'\n",
    "def readFile(fName):\n",
    "    text_file = open(fName, \"r\")\n",
    "    lines = text_file.read().split('\\n')\n",
    "    text_file.close()\n",
    "    return lines\n",
    "imList = readFile(listFile)\n",
    "imList = imList[1:-1]\n",
    "print len(imList)\n",
    "fName = '/raid/linjieli/faceSimilarity/attractive/atrrImList.txt'\n",
    "write_to = open(fName,\"w\")\n",
    "for l in imList:\n",
    "    if l[len(l)-1] == ',':\n",
    "        write_to.write(topdir+l[:-1]+'\\n')\n",
    "    else:\n",
    "        write_to.write(topdir+l+'\\n')\n",
    "write_to.close()\n",
    "print len(readFile(fName))"
   ]
  },
  {
   "cell_type": "code",
   "execution_count": null,
   "metadata": {
    "collapsed": true
   },
   "outputs": [],
   "source": [
    "import os\n",
    "ext = [\".jpg\", \".png\", \".bmp\", \".jpeg\", \".eps\", \".tif\"]\n",
    "topdir = \"/raid/linjieli/faceSimilarity/attractive/\"\n",
    "atrrImList = dict()\n",
    "\n",
    "\n",
    "for dirpath, dirnames, files in os.walk(topdir):\n",
    "    for file in os.listdir(dirpath):\n",
    "        if file.endswith(tuple(ext)):\n",
    "            filePath = os.path.join(dirpath,file)\n",
    "            if dirpath not in atrrImList.keys():\n",
    "                atrrImList[dirpath] = [filePath+'\\n']\n",
    "            else:\n",
    "                atrrImList[dirpath].append(filePath+'\\n')\n",
    "    \n",
    "del atrrImList['/raid/linjieli/faceSimilarity/attractive/mit']\n",
    "print atrrImList.keys()\n",
    "\n",
    "\n",
    "                \n",
    "fName = '/raid/linjieli/faceSimilarity/attractive/atrrImList.txt'\n",
    "text_file = open(fName, \"w\")\n",
    "for key in atrrImList.keys():\n",
    "    for entry in atrrImList[key]:\n",
    "        text_file.write(entry)\n",
    "text_file.close()\n",
    "\n",
    "import pickle\n",
    "with open('/raid/linjieli/faceSimilarity/attractive/atrrImList.pickle', 'wb') as handle:\n",
    "    pickle.dump(atrrImList,handle)\n",
    "with open('/raid/linjieli/faceSimilarity/attractive/atrrImList.pickle', 'rb') as handle:\n",
    "    atrrImList = pickle.load(handle)"
   ]
  },
  {
   "cell_type": "code",
   "execution_count": 12,
   "metadata": {
    "collapsed": false
   },
   "outputs": [
    {
     "name": "stdout",
     "output_type": "stream",
     "text": [
      "2207\n"
     ]
    }
   ],
   "source": [
    "import numpy as np\n",
    "import matplotlib.pyplot as plt\n",
    "%matplotlib inline\n",
    "import os\n",
    "import pandas as pd\n",
    "import math\n",
    "# Load image dataset#\n",
    "Dataset = 'mit' # 'twin', 'chicago' or 'mit'\n",
    "if Dataset == 'twin':\n",
    "    imPath = '../../processing/imageProcessing/paddedImages/'\n",
    "    ext = '.png'\n",
    "elif Dataset == 'chicago':\n",
    "    imPath = '../../ChicagoFaceDataset/CFD Version 2.0/CFD 2.0 Images/'\n",
    "    ext = 'N.jpg'\n",
    "else:\n",
    "    imPath = '/home/lli-ms/attractiveness_datamining/MIT2kFaceDataset/2kfaces/'\n",
    "    ext = '.jpg'\n",
    "geometric_matrix = pd.read_csv('../../MIT2kFaceDataset/clean_data/geometric_all.csv',index_col = 0)\n",
    "imList = geometric_matrix.imgName.tolist()\n",
    "imList = [imPath+ imgStr for imgStr in imList]\n",
    "print len(imList)\n",
    "attractiveness_label = geometric_matrix.attractive.as_matrix()\n",
    "\n",
    "import random\n",
    "indexList = range(len(imList))\n",
    "index_random = indexList\n",
    "random.shuffle(index_random)\n",
    "valSize = 0.2\n",
    "\n",
    "imListRandom = [imList[ind] for ind in index_random]\n",
    "attrRandom = [attractiveness_label[ind] for ind in index_random]\n",
    "\n",
    "valIndex = int(math.ceil(len(imList)*valSize))\n",
    "imValSet = imListRandom[:valIndex]\n",
    "imTrainSet = imListRandom[valIndex:]\n",
    "\n",
    "attrVal = attrRandom[:valIndex]\n",
    "attrTrain = attrRandom[valIndex:]\n",
    "\n",
    "def writeFile(fName,img, label):\n",
    "    text_file = open(fName, \"w\")\n",
    "    for d in range(len(img)):\n",
    "        line = img[d] +' '+str(label[d]) + '\\n'\n",
    "        text_file.write(line)\n",
    "    text_file.close()\n",
    "fName = '/home/lli-ms/attractiveness_datamining/linjieCode/data_list/train_list.txt'\n",
    "writeFile(fName, imTrainSet, attrTrain)\n",
    "fName = '/home/lli-ms/attractiveness_datamining/linjieCode/data_list/val_list.txt' \n",
    "writeFile(fName, imValSet, attrVal)"
   ]
  },
  {
   "cell_type": "code",
   "execution_count": null,
   "metadata": {
    "collapsed": true
   },
   "outputs": [],
   "source": []
  }
 ],
 "metadata": {
  "kernelspec": {
   "display_name": "Python 2",
   "language": "python",
   "name": "python2"
  },
  "language_info": {
   "codemirror_mode": {
    "name": "ipython",
    "version": 2
   },
   "file_extension": ".py",
   "mimetype": "text/x-python",
   "name": "python",
   "nbconvert_exporter": "python",
   "pygments_lexer": "ipython2",
   "version": "2.7.6"
  }
 },
 "nbformat": 4,
 "nbformat_minor": 0
}
