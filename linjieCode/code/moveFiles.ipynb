{
 "cells": [
  {
   "cell_type": "code",
   "execution_count": 75,
   "metadata": {
    "collapsed": false
   },
   "outputs": [],
   "source": [
    "import os\n",
    "from shutil import copyfile\n",
    "\n",
    "def readFile(fName):\n",
    "    text_file = open(fName, \"r\")\n",
    "    lines = text_file.read().split('\\n')\n",
    "    data = [None]*len(lines)\n",
    "    for l in range(len(lines)):\n",
    "        data[l] = lines[l].split(' ')[0]\n",
    "    text_file.close()\n",
    "    return data\n",
    "\n",
    "def writeFile(fName,data):\n",
    "    text_file = open(fName, \"w\")\n",
    "    for d in data:\n",
    "        d = d + '\\n'\n",
    "        text_file.write(d)\n",
    "    text_file.close()\n"
   ]
  },
  {
   "cell_type": "code",
   "execution_count": 77,
   "metadata": {
    "collapsed": false
   },
   "outputs": [
    {
     "name": "stdout",
     "output_type": "stream",
     "text": [
      "730\n"
     ]
    }
   ],
   "source": [
    "imList1 = readFile(\"../list/GURUList/guru_simi_trainSub1.txt\")\n",
    "imList2 = readFile(\"../list/GURUList/guru_simi_trainSub2.txt\")\n",
    "imList = list(set(imList1+imList2))\n",
    "imList = filter(None, imList)\n",
    "print len(imList)\n",
    "\n",
    "# newFolder = \"/raid/linjieli/starNow/subTrain19Full\"\n",
    "# if not os.path.isdir(newFolder):\n",
    "#     os.makedirs(newFolder)\n",
    "# for im in imList:\n",
    "#     dst = newFolder+im[22:]\n",
    "#     copyfile(im, dst)\n",
    "fName = '../list/GURUList/subTrainSubList.txt'    \n",
    "writeFile(fName, imList)"
   ]
  },
  {
   "cell_type": "code",
   "execution_count": 66,
   "metadata": {
    "collapsed": false
   },
   "outputs": [
    {
     "name": "stdout",
     "output_type": "stream",
     "text": [
      "200\n",
      "201\n"
     ]
    }
   ],
   "source": [
    "listFile = '/raid/linjieli/attractiveness_datamining/resize_im_pipeline/tmp/imageLocations.csv'\n",
    "def readFile(fName):\n",
    "    text_file = open(fName, \"r\")\n",
    "    lines = text_file.read().split('\\n')\n",
    "    text_file.close()\n",
    "    return lines\n",
    "imList = readFile(listFile)\n",
    "imList = imList[1:-1]\n",
    "print len(imList)\n",
    "fName = '/raid/linjieli/faceSimilarity/attractive/atrrImList.txt'\n",
    "write_to = open(fName,\"w\")\n",
    "for l in imList:\n",
    "    if l[len(l)-1] == ',':\n",
    "        write_to.write(topdir+l[:-1]+'\\n')\n",
    "    else:\n",
    "        write_to.write(topdir+l+'\\n')\n",
    "write_to.close()\n",
    "print len(readFile(fName))"
   ]
  },
  {
   "cell_type": "code",
   "execution_count": null,
   "metadata": {
    "collapsed": true
   },
   "outputs": [],
   "source": [
    "import os\n",
    "ext = [\".jpg\", \".png\", \".bmp\", \".jpeg\", \".eps\", \".tif\"]\n",
    "topdir = \"/raid/linjieli/faceSimilarity/attractive/\"\n",
    "atrrImList = dict()\n",
    "\n",
    "\n",
    "for dirpath, dirnames, files in os.walk(topdir):\n",
    "    for file in os.listdir(dirpath):\n",
    "        if file.endswith(tuple(ext)):\n",
    "            filePath = os.path.join(dirpath,file)\n",
    "            if dirpath not in atrrImList.keys():\n",
    "                atrrImList[dirpath] = [filePath+'\\n']\n",
    "            else:\n",
    "                atrrImList[dirpath].append(filePath+'\\n')\n",
    "    \n",
    "del atrrImList['/raid/linjieli/faceSimilarity/attractive/mit']\n",
    "print atrrImList.keys()\n",
    "\n",
    "\n",
    "                \n",
    "fName = '/raid/linjieli/faceSimilarity/attractive/atrrImList.txt'\n",
    "text_file = open(fName, \"w\")\n",
    "for key in atrrImList.keys():\n",
    "    for entry in atrrImList[key]:\n",
    "        text_file.write(entry)\n",
    "text_file.close()\n",
    "\n",
    "import pickle\n",
    "with open('/raid/linjieli/faceSimilarity/attractive/atrrImList.pickle', 'wb') as handle:\n",
    "    pickle.dump(atrrImList,handle)\n",
    "with open('/raid/linjieli/faceSimilarity/attractive/atrrImList.pickle', 'rb') as handle:\n",
    "    atrrImList = pickle.load(handle)"
   ]
  }
 ],
 "metadata": {
  "kernelspec": {
   "display_name": "Python 2",
   "language": "python",
   "name": "python2"
  },
  "language_info": {
   "codemirror_mode": {
    "name": "ipython",
    "version": 2
   },
   "file_extension": ".py",
   "mimetype": "text/x-python",
   "name": "python",
   "nbconvert_exporter": "python",
   "pygments_lexer": "ipython2",
   "version": "2.7.6"
  }
 },
 "nbformat": 4,
 "nbformat_minor": 0
}
