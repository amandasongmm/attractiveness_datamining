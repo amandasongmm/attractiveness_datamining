{
 "cells": [
  {
   "cell_type": "code",
   "execution_count": 1,
   "metadata": {
    "collapsed": false
   },
   "outputs": [
    {
     "name": "stdout",
     "output_type": "stream",
     "text": [
      "mean-subtracted values: [('B', 104.0069879317889), ('G', 116.66876761696767), ('R', 122.6789143406786)]\n",
      "Defining the net!\n",
      "conv1_1\t(64, 3, 3, 3) (64,)\n",
      "conv1_2\t(64, 64, 3, 3) (64,)\n",
      "conv2_1\t(128, 64, 3, 3) (128,)\n",
      "conv2_2\t(128, 128, 3, 3) (128,)\n",
      "conv3_1\t(256, 128, 3, 3) (256,)\n",
      "conv3_2\t(256, 256, 3, 3) (256,)\n",
      "conv3_3\t(256, 256, 3, 3) (256,)\n",
      "conv4_1\t(512, 256, 3, 3) (512,)\n",
      "conv4_2\t(512, 512, 3, 3) (512,)\n",
      "conv4_3\t(512, 512, 3, 3) (512,)\n",
      "conv5_1\t(512, 512, 3, 3) (512,)\n",
      "conv5_2\t(512, 512, 3, 3) (512,)\n",
      "fc_pca\t(255, 100352) (255,)\n",
      "fc_out\t(1, 255) (1,)\n",
      "conv1_1 outputs are (64, 224, 224) dimensional \n",
      "conv1_2 outputs are (64, 224, 224) dimensional \n",
      "conv2_1 outputs are (128, 112, 112) dimensional \n",
      "conv2_2 outputs are (128, 112, 112) dimensional \n",
      "conv3_1 outputs are (256, 56, 56) dimensional \n",
      "conv3_2 outputs are (256, 56, 56) dimensional \n",
      "conv3_3 outputs are (256, 56, 56) dimensional \n",
      "conv4_1 outputs are (512, 28, 28) dimensional \n",
      "conv4_2 outputs are (512, 28, 28) dimensional \n",
      "conv4_3 outputs are (512, 28, 28) dimensional \n",
      "conv5_1 outputs are (512, 14, 14) dimensional \n",
      "conv5_2 outputs are (512, 14, 14) dimensional \n",
      "fc_pca outputs are (255,) dimensional \n",
      "fc_out outputs are (1,) dimensional \n"
     ]
    }
   ],
   "source": [
    "import numpy as np\n",
    "import matplotlib.pyplot as plt\n",
    "%matplotlib inline\n",
    "\n",
    "# Make sure that caffe is on the python path:\n",
    "caffe_root = '/home/lli-ms/caffe/'\n",
    "pretrained_model_root = '/home/lli-ms/caffe/'\n",
    "\n",
    "import sys\n",
    "caffePython = pretrained_model_root + 'python'\n",
    "if caffePython not in sys.path:\n",
    "    sys.path.insert(0, caffePython)\n",
    "import caffe\n",
    "import os\n",
    "\n",
    "plt.rcParams['figure.figsize'] = (10, 10)\n",
    "plt.rcParams['image.interpolation'] = 'nearest'\n",
    "plt.rcParams['image.cmap'] = 'gray'\n",
    "\n",
    "# Load mean\n",
    "mu = np.load(caffe_root + 'python/caffe/imagenet/ilsvrc_2012_mean.npy')\n",
    "mu = mu.mean(1).mean(1)  # average over pixels to obtain the mean (BGR) pixel values\n",
    "print 'mean-subtracted values:', zip('BGR', mu)\n",
    "\n",
    "MODEL_FILE = '../neuralNet/VGG16/vgg16_attr_deploy.prototxt'\n",
    "PRETRAINED_FILE = caffe_root + 'models/vgg16_attr/snapshots/first_train_iter_2000.caffemodel'\n",
    "#PRETRAINED_FILE = caffe_root + 'models/VGG16/VGG_ILSVRC_16_layers.caffemodel'\n",
    "caffe.set_device(1)\n",
    "caffe.set_mode_gpu()\n",
    "if not os.path.isfile(PRETRAINED_FILE):\n",
    "    print(\"No caffemodel!!!\")\n",
    "elif not os.path.isfile(MODEL_FILE):\n",
    "    print(\"No MODEL !!!\")\n",
    "else:\n",
    "    print \"Defining the net!\"\n",
    "    net = caffe.Net(MODEL_FILE,\n",
    "                PRETRAINED_FILE,\n",
    "                caffe.TEST)\n",
    "# input preprocessing: 'data' is the name of the input blob == net.inputs[0]\n",
    "transformer = caffe.io.Transformer({'data': net.blobs['data'].data.shape})\n",
    "transformer.set_mean('data', mu)\n",
    "layersParam = dict()\n",
    "for layer_name, param in net.params.iteritems():\n",
    "    print layer_name + '\\t' + str(param[0].data.shape), str(param[1].data.shape)\n",
    "    layersParam[layer_name]=param\n",
    "#     maxWeight =   np.max(param[0].data)\n",
    "#     maxIndex = np.argmax(param[0].data)\n",
    "#     print maxIndex, maxWeight\n",
    "conv_blobs = {pr: (net.blobs[pr].data[0]) for pr,param in net.params.iteritems()}\n",
    "for conv,param in net.params.iteritems():\n",
    "    print '{} outputs are {} dimensional '.format(conv, conv_blobs[conv].shape)\n",
    "transformer.set_transpose('data', (2,0,1))\n",
    "# the reference model operates on images in [0,255] range instead of [0,1]\n",
    "transformer.set_raw_scale('data', 255) \n",
    "# the reference model has channels in BGR order instead of RGB\n",
    "transformer.set_channel_swap('data', (2,1,0))"
   ]
  },
  {
   "cell_type": "code",
   "execution_count": 11,
   "metadata": {
    "collapsed": false
   },
   "outputs": [
    {
     "name": "stdout",
     "output_type": "stream",
     "text": [
      "###############fc_out##################\n",
      "MaxIndex: 10  MaxWeight: 0.0022502\n",
      "###############fc_pca##################\n",
      "Min: -0.00353254 Max: 0.00303773\n",
      "10th Min: -0.00303835 10th Max: 0.00268023\n",
      "Max 10 Index: [24395 74195 90687 90686 24380 24381  9793 28073 90673  4769]\n",
      "Min 10 Index: [15253 54439 54425 15268 15254 12397 64827 77259 15267 77260]\n",
      ">>>>>>>>>>>>>>>>>>>>>get the feature maps with max 10 weights\n",
      "0.00303773\n",
      "[(177, 29), (322, 18), (49, 13), (142, 13), (455, 13), (323, 12), (222, 10), (24, 10), (370, 10), (354, 10)]\n",
      "[124, 378, 462, 49, 143, 24, 177, 218, 457, 322]\n",
      ">>>>>>>>>>>>>>>>>>>>>get the feature maps with min 10 weights\n",
      "-0.00353254\n",
      "[(20, 27), (121, 22), (221, 15), (394, 14), (179, 13), (77, 13), (63, 12), (150, 12), (339, 12), (206, 11)]\n",
      "[259, 140, 442, 98, 174, 330, 152, 8, 278, 123]\n",
      "new max Weight: 0.00303772930056\n",
      "###############conv5_2##################\n",
      "(512, 512, 3, 3)\n",
      "(255, 100352)\n"
     ]
    }
   ],
   "source": [
    "from collections import OrderedDict\n",
    "from collections import Counter\n",
    "import operator\n",
    "print '###############fc_out##################'\n",
    "max_outWeight = np.max(layersParam['fc_out'][0].data)\n",
    "max_outIndex = np.argmax(layersParam['fc_out'][0].data)\n",
    "fc_outWeight = layersParam['fc_out'][0].data[0]\n",
    "print 'MaxIndex:',max_outIndex,' MaxWeight:',max_outWeight\n",
    "new_outWeight = np.zeros(layersParam['fc_out'][0].data.shape)\n",
    "new_outWeight[0,max_outIndex] = max_outWeight\n",
    "\n",
    "print '###############fc_pca##################'\n",
    "max_pcaWeight = np.max(layersParam['fc_pca'][0].data[10,:])\n",
    "max_pcaIndex = np.argmax(layersParam['fc_pca'][0].data[10,:])\n",
    "new_pcaWeight = np.zeros(layersParam['fc_pca'][0].data.shape)\n",
    "#new_pcaWeight[10,sorted_fc_pca[-10]] = layersParam['fc_pca'][0].data[10,sorted_fc_pca[-10]]\n",
    "\n",
    "\n",
    "fc_pcaWeight = layersParam['fc_pca'][0].data[10,:]\n",
    "# print fc_pcaWeight.shape\n",
    "sorted_fc_pca_index = np.argsort(fc_pcaWeight)[::-1]\n",
    "sorted_fc_pca  =np.sort(fc_pcaWeight)[::-1]\n",
    "print 'Min:',sorted_fc_pca[-1], 'Max:',sorted_fc_pca[0]\n",
    "print '10th Min:',sorted_fc_pca[-10], '10th Max:',sorted_fc_pca[9]\n",
    "print 'Max 10 Index:',sorted_fc_pca_index[:10]\n",
    "print 'Min 10 Index:', sorted_fc_pca_index[-10:]\n",
    "\n",
    "new_pcaWeight = np.zeros(layersParam['fc_pca'][0].data.shape)\n",
    "new_pcaWeight[10,sorted_fc_pca_index[:10]] = 1*fc_pcaWeight[sorted_fc_pca_index[:10]]\n",
    "#new_pcaWeight[10,sorted_fc_pca_index[:1000]] = fc_pcaWeight[sorted_fc_pca_index[:1000]]\n",
    "#print np.max(new_pcaWeight)\n",
    "\n",
    "\n",
    "print '>>>>>>>>>>>>>>>>>>>>>get the feature maps with max 10 weights'\n",
    "# sorted_first_index = np.asarray(np.unravel_index(sorted_fc_pca_index[:10], (512,14,14)))\n",
    "print sorted_fc_pca[0]\n",
    "sorted_first_index = np.asarray(np.unravel_index(sorted_fc_pca_index[:1000], (512,14,14)))[0,:]\n",
    "index_occurence_counter = Counter(sorted_first_index)\n",
    "index_occurence_counter = {x:c for x, c in index_occurence_counter.items() if c >=10}\n",
    "index_occurence_counter = sorted(index_occurence_counter.items(),\\\n",
    "                                 key=operator.itemgetter(1))[::-1]\n",
    "print index_occurence_counter[:10]\n",
    "sorted_first_index = list(OrderedDict.fromkeys(sorted_first_index))\n",
    "print sorted_first_index[:10]\n",
    "# print 'MaxIndex:',max_pcaIndex,' MaxWeight:',max_pcaWeight\n",
    "\n",
    "print '>>>>>>>>>>>>>>>>>>>>>get the feature maps with min 10 weights'\n",
    "# sorted_first_index = np.asarray(np.unravel_index(sorted_fc_pca_index[:10], (512,14,14)))\n",
    "print sorted_fc_pca[-1]\n",
    "sorted_first_index = np.asarray(np.unravel_index(sorted_fc_pca_index[-1000:], (512,14,14)))[0,:]\n",
    "index_occurence_counter = Counter(sorted_first_index)\n",
    "index_occurence_counter = {x:c for x, c in index_occurence_counter.items() if c >=10}\n",
    "index_occurence_counter = sorted(index_occurence_counter.items(),\\\n",
    "                                 key=operator.itemgetter(1))[::-1]\n",
    "print index_occurence_counter[:10]\n",
    "sorted_first_index = list(OrderedDict.fromkeys(sorted_first_index))\n",
    "print sorted_first_index[-10:]\n",
    "# print 'MaxIndex:',max_pcaIndex,' MaxWeight:',max_pcaWeight\n",
    "# # sum all the weights for a feature map, \n",
    "# # and get the max weighted feature map index;\n",
    "# fc_pcaWeight = np.reshape(fc_pcaWeight,(512,14,14))\n",
    "# sum_weight_bl  = np.argsort(np.sum(np.sum(fc_pcaWeight,axis = 2),axis = 1))[::-1][:10]\n",
    "# print sum_weight_bl\n",
    "print 'new max Weight:',new_pcaWeight.max()\n",
    "\n",
    "\n",
    "print '###############conv5_2##################'\n",
    "new_conv5_2Weight = np.zeros(layersParam['conv5_2'][0].data.shape)\n",
    "print new_conv5_2Weight.shape\n",
    "print new_pcaWeight.shape"
   ]
  },
  {
   "cell_type": "code",
   "execution_count": 346,
   "metadata": {
    "collapsed": false
   },
   "outputs": [
    {
     "data": {
      "image/png": "[encoded data removed]",
      "text/plain": [
       "<matplotlib.figure.Figure at 0x7effa460e710>"
      ]
     },
     "metadata": {},
     "output_type": "display_data"
    }
   ],
   "source": [
    "def autolabel(rects,ser):\n",
    "    # attach some text labels\n",
    "    max_label = max(ser)\n",
    "    for rect, var in zip(rects, range(len(ser))):\n",
    "        height = ser[var]\n",
    "        if height > 0:\n",
    "            ypos = 1.02*height\n",
    "        else:\n",
    "            ypos = 1.2*height\n",
    "        if height == max_label:\n",
    "            ax.text((rect.get_x() + rect.get_width()), ypos,\n",
    "                    '(%.5f)' % (height), \n",
    "                    ha='center', va='bottom',fontsize = lSize-13)\n",
    "\n",
    "N = fc_pcaWeight[::100].shape[0]\n",
    "lSize = 35\n",
    "ind = np.arange(N)  # the x locations for the groups\n",
    "width = 0.5       # the width of the bars\n",
    "\n",
    "fig, ax = plt.subplots()\n",
    "fig.set_size_inches(20, 10)\n",
    "rects1 = ax.bar(ind, fc_pcaWeight[::100], width, color='r')\n",
    "\n",
    "#add some text for labels, title and axes ticks\n",
    "ax.set_ylabel('',fontsize = lSize)\n",
    "ax.set_title('fc_pca layer weights',fontsize = lSize)\n",
    "ax.get_xaxis().set_visible(False)\n",
    "# ax.set_xticks((ind + width/2)[::10])\n",
    "# ax.set_xticklabels(range(1,N+1)[::10],fontsize = lSize-8,rotation=70)\n",
    "ax.tick_params(axis='y', labelsize=lSize-8)\n",
    "\n",
    "#autolabel(rects1,fc_pcaWeight[::100])\n",
    "plt.show()\n",
    "#fig.savefig('../neuralNet/deep-visulization/weights/fc_pcaWeight.png')"
   ]
  },
  {
   "cell_type": "code",
   "execution_count": 366,
   "metadata": {
    "collapsed": false
   },
   "outputs": [
    {
     "name": "stdout",
     "output_type": "stream",
     "text": [
      "['conv5_1', 'fc_out', 'conv5_2', 'conv4_1', 'conv4_2', 'conv4_3', 'conv3_3', 'conv3_2', 'conv3_1', 'conv1_1', 'fc_pca', 'conv1_2', 'conv2_2', 'conv2_1']\n"
     ]
    }
   ],
   "source": [
    "params = []\n",
    "for layer_name, param in net.params.iteritems():\n",
    "    params.append(layer_name)\n",
    "pre_params = {pr: (net.params[pr][0].data, net.params[pr][1].data) for pr in params}\n",
    "print pre_params.keys()"
   ]
  },
  {
   "cell_type": "code",
   "execution_count": 367,
   "metadata": {
    "collapsed": false
   },
   "outputs": [],
   "source": [
    "post_params = pre_params\n",
    "post_params['fc_pca'][0].flat = new_pcaWeight.flat  \n",
    "post_params['fc_pca'][1][...] = pre_params['fc_pca'][1][...]\n",
    "post_params['fc_out'][0].flat = new_outWeight.flat  \n",
    "post_params['fc_out'][1][...] = pre_params['fc_out'][1][...]\n",
    "# print post_params['fc_out']"
   ]
  },
  {
   "cell_type": "code",
   "execution_count": 368,
   "metadata": {
    "collapsed": false
   },
   "outputs": [],
   "source": [
    "net.save('/home/lli-ms/caffe/models/vgg16_attr/vgg16_attr_min_10pca_weight_position.caffemodel')"
   ]
  },
  {
   "cell_type": "code",
   "execution_count": null,
   "metadata": {
    "collapsed": true
   },
   "outputs": [],
   "source": []
  }
 ],
 "metadata": {
  "kernelspec": {
   "display_name": "Python 2",
   "language": "python",
   "name": "python2"
  },
  "language_info": {
   "codemirror_mode": {
    "name": "ipython",
    "version": 2
   },
   "file_extension": ".py",
   "mimetype": "text/x-python",
   "name": "python",
   "nbconvert_exporter": "python",
   "pygments_lexer": "ipython2",
   "version": "2.7.6"
  }
 },
 "nbformat": 4,
 "nbformat_minor": 0
}
