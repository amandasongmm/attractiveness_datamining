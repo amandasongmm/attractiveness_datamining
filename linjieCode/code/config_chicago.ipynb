{
 "cells": [
  {
   "cell_type": "code",
   "execution_count": 53,
   "metadata": {
    "collapsed": false
   },
   "outputs": [
    {
     "name": "stdout",
     "output_type": "stream",
     "text": [
      "Index([u'luminance_median', u'nose_width', u'nose_length', u'lip_thickness',\n",
      "       u'face_length', u'r_eye_h', u'l_eye_h', u'eye_height', u'r_eye_w',\n",
      "       u'l_eye_w', u'eye_width', u'face_width_prom', u'face_width_mouth',\n",
      "       u'forehead_length', u'pupil_top_r', u'pupil_top_l',\n",
      "       u'asymmetry_pupil_top', u'pupil_lip_r', u'pupil_lip_l',\n",
      "       u'asymmetry_pupil_lip', u'bottomlip_chin', u'midcheek_chin_r',\n",
      "       u'midcheek_chin_l', u'cheeks_avg', u'midbrow_hairline_r',\n",
      "       u'midbrow_hairline_l', u'face_shape', u'heartshapeness', u'nose_shape',\n",
      "       u'lip_fullness', u'eye_shape', u'eye_size', u'upper_head_len',\n",
      "       u'midface_len', u'chin_length', u'forehead_height', u'cheek_height',\n",
      "       u'cheek_prominence', u'face_roundness', u'fwhr'],\n",
      "      dtype='object')\n",
      "Index([u'img_num', u'nose_width', u'nose_length', u'lip_thickness',\n",
      "       u'face_length', u'eye_height', u'eye_width', u'face_width_prom',\n",
      "       u'face_width_mouth', u'forehead_length', u'distance_btw_pupils',\n",
      "       u'dist_btw_pupils_top', u'dist_btw_pupils_lip', u'chin_length',\n",
      "       u'length_cheek_to_chin', u'brow_to_hair', u'fwhr', u'face_shape',\n",
      "       u'heartshapeness', u'nose_shape', u'lip_fullness', u'eye_shape',\n",
      "       u'eye_size', u'upper_head_len', u'midface_len', u'chin_size',\n",
      "       u'forehead_height', u'cheek_height', u'cheek_prominence',\n",
      "       u'face_roundness'],\n",
      "      dtype='object')\n",
      "['length_cheek_to_chin', 'chin_size', 'distance_btw_pupils', 'dist_btw_pupils_lip', 'brow_to_hair', 'dist_btw_pupils_top']\n",
      "23\n"
     ]
    }
   ],
   "source": [
    "'''\n",
    "This is code for extracting NN features of face image data \n",
    "and then fit a linear model to predict attractiveness of a face\n",
    "Available dataset: TWIN, CHICAGO and MIT\n",
    "Available NN feature: 'caffeNet','vgg16','vggFace' and 'faceSNN'\n",
    "\n",
    "BY Linjie Li\n",
    "Please run this code on guru2 server\n",
    "'''\n",
    "import numpy as np\n",
    "import matplotlib.pyplot as plt\n",
    "import pandas as pd\n",
    "import numpy as np\n",
    "import pandas as pd\n",
    "from sklearn.decomposition import PCA\n",
    "from sklearn import linear_model\n",
    "%matplotlib inline\n",
    "import os\n",
    "import random\n",
    "from os import listdir\n",
    "from os.path import isfile, join\n",
    "\n",
    "dataInd = [1,0]\n",
    "Dataset = ['twin','chicago','mit']\n",
    "TrainDataset = Dataset[dataInd[0]]\n",
    "TestDataset = Dataset[dataInd[1]]\n",
    "MODEL = 'config'\n",
    "#savePath = '../Result/'+TestDataset+'/'+MODEL\n",
    "saveTrainPath = '../Result/'+TrainDataset+'/'+MODEL\n",
    "TrainFeaPath ='../Result/'+TrainDataset+'/configMeasure.csv'\n",
    "TestFeaPath = '../Result/'+TestDataset +'/configMeasure.csv'\n",
    "\n",
    "if not os.path.exists(saveTrainPath):\n",
    "    os.makedirs(saveTrainPath)\n",
    "\n",
    "TrainFea = pd.read_csv(TrainFeaPath,index_col = 0)\n",
    "TestFea = pd.read_csv(TestFeaPath,index_col = 0)\n",
    "\n",
    "origCol = TrainFea.columns.tolist()\n",
    "origCol = [s.lower() for s in origCol]\n",
    "TrainFea.columns = [u'luminance_median', u'nose_width', u'nose_length', u'lip_thickness',\n",
    "       u'face_length', u'r_eye_h', u'l_eye_h', u'eye_height', u'r_eye_w',\n",
    "       u'l_eye_w', u'eye_width', u'face_width_prom', u'face_width_mouth',\n",
    "       u'forehead_length', u'pupil_top_r', u'pupil_top_l', u'asymmetry_pupil_top',\n",
    "       u'pupil_lip_r', u'pupil_lip_l', u'asymmetry_pupil_lip',\n",
    "       u'bottomlip_chin', u'midcheek_chin_r', u'midcheek_chin_l',\n",
    "       u'cheeks_avg', u'midbrow_hairline_r', u'midbrow_hairline_l',\n",
    "       u'face_shape', u'heartshapeness', u'nose_shape', u'lip_fullness',\n",
    "       u'eye_shape', u'eye_size', u'upper_head_len', u'midface_len',\n",
    "       u'chin_length', u'forehead_height', u'cheek_height',\n",
    "       u'cheek_prominence', u'face_roundness', u'fwhr']\n",
    "\n",
    "origCol = TestFea.columns.tolist()\n",
    "origCol = [s.lower() for s in origCol]\n",
    "TestFea.columns = origCol\n",
    "getCol = origCol[1:]\n",
    "print TrainFea.columns\n",
    "TrainFea = TrainFea.loc[:,getCol]\n",
    "\n",
    "print TestFea.columns\n",
    "TrainFea = TrainFea.dropna(axis=1, how='any', thresh=None, subset=None, inplace=False)\n",
    "\n",
    "#TrainFea = TrainFea.as_matrix()\n",
    "print list(set(TestFea.columns[1:].tolist()) - set(TrainFea.columns.tolist()))\n",
    "TestFea = TestFea.as_matrix()[:,1:]\n",
    "numF = TrainFea.shape[1]\n",
    "print numF"
   ]
  },
  {
   "cell_type": "code",
   "execution_count": 19,
   "metadata": {
    "collapsed": false
   },
   "outputs": [
    {
     "name": "stdout",
     "output_type": "stream",
     "text": [
      "On the training dataset: chicago\n",
      "train mean rating:  3.23186626992\n"
     ]
    },
    {
     "ename": "ValueError",
     "evalue": "Input contains NaN, infinity or a value too large for dtype('float64').",
     "traceback": [
      "\u001b[0;31m---------------------------------------------------------------------------\u001b[0m",
      "\u001b[0;31mValueError\u001b[0m                                Traceback (most recent call last)",
      "\u001b[0;32m<ipython-input-19-b005c4fdcf26>\u001b[0m in \u001b[0;36m<module>\u001b[0;34m()\u001b[0m\n\u001b[1;32m     24\u001b[0m \u001b[0;31m# sigma = np.std(y_train)\u001b[0m\u001b[0;34m\u001b[0m\u001b[0;34m\u001b[0m\u001b[0m\n\u001b[1;32m     25\u001b[0m \u001b[0;31m# y_train_whiten = (y_train - mu)/sigma\u001b[0m\u001b[0;34m\u001b[0m\u001b[0;34m\u001b[0m\u001b[0m\n\u001b[0;32m---> 26\u001b[0;31m \u001b[0mregr\u001b[0m\u001b[0;34m.\u001b[0m\u001b[0mfit\u001b[0m\u001b[0;34m(\u001b[0m\u001b[0mX_train_hat\u001b[0m\u001b[0;34m,\u001b[0m \u001b[0my_train\u001b[0m\u001b[0;34m)\u001b[0m\u001b[0;34m\u001b[0m\u001b[0m\n\u001b[0m\u001b[1;32m     27\u001b[0m \u001b[0mpredicted_rating\u001b[0m \u001b[0;34m=\u001b[0m \u001b[0mregr\u001b[0m\u001b[0;34m.\u001b[0m\u001b[0mpredict\u001b[0m\u001b[0;34m(\u001b[0m\u001b[0mX_test_hat\u001b[0m\u001b[0;34m)\u001b[0m\u001b[0;34m\u001b[0m\u001b[0m\n\u001b[1;32m     28\u001b[0m \u001b[0;31m#predicted_rating = predicted_rating*sigma +mu\u001b[0m\u001b[0;34m\u001b[0m\u001b[0;34m\u001b[0m\u001b[0m\n",
      "\u001b[0;32m/Users/Olivialinlin/anaconda2/lib/python2.7/site-packages/sklearn/linear_model/ridge.pyc\u001b[0m in \u001b[0;36mfit\u001b[0;34m(self, X, y, sample_weight)\u001b[0m\n\u001b[1;32m    508\u001b[0m         \u001b[0mself\u001b[0m \u001b[0;34m:\u001b[0m \u001b[0mreturns\u001b[0m \u001b[0man\u001b[0m \u001b[0minstance\u001b[0m \u001b[0mof\u001b[0m \u001b[0mself\u001b[0m\u001b[0;34m.\u001b[0m\u001b[0;34m\u001b[0m\u001b[0m\n\u001b[1;32m    509\u001b[0m         \"\"\"\n\u001b[0;32m--> 510\u001b[0;31m         \u001b[0;32mreturn\u001b[0m \u001b[0msuper\u001b[0m\u001b[0;34m(\u001b[0m\u001b[0mRidge\u001b[0m\u001b[0;34m,\u001b[0m \u001b[0mself\u001b[0m\u001b[0;34m)\u001b[0m\u001b[0;34m.\u001b[0m\u001b[0mfit\u001b[0m\u001b[0;34m(\u001b[0m\u001b[0mX\u001b[0m\u001b[0;34m,\u001b[0m \u001b[0my\u001b[0m\u001b[0;34m,\u001b[0m \u001b[0msample_weight\u001b[0m\u001b[0;34m=\u001b[0m\u001b[0msample_weight\u001b[0m\u001b[0;34m)\u001b[0m\u001b[0;34m\u001b[0m\u001b[0m\n\u001b[0m\u001b[1;32m    511\u001b[0m \u001b[0;34m\u001b[0m\u001b[0m\n\u001b[1;32m    512\u001b[0m \u001b[0;34m\u001b[0m\u001b[0m\n",
      "\u001b[0;32m/Users/Olivialinlin/anaconda2/lib/python2.7/site-packages/sklearn/linear_model/ridge.pyc\u001b[0m in \u001b[0;36mfit\u001b[0;34m(self, X, y, sample_weight)\u001b[0m\n\u001b[1;32m    380\u001b[0m     \u001b[0;32mdef\u001b[0m \u001b[0mfit\u001b[0m\u001b[0;34m(\u001b[0m\u001b[0mself\u001b[0m\u001b[0;34m,\u001b[0m \u001b[0mX\u001b[0m\u001b[0;34m,\u001b[0m \u001b[0my\u001b[0m\u001b[0;34m,\u001b[0m \u001b[0msample_weight\u001b[0m\u001b[0;34m=\u001b[0m\u001b[0mNone\u001b[0m\u001b[0;34m)\u001b[0m\u001b[0;34m:\u001b[0m\u001b[0;34m\u001b[0m\u001b[0m\n\u001b[1;32m    381\u001b[0m         X, y = check_X_y(X, y, ['csr', 'csc', 'coo'], dtype=np.float,\n\u001b[0;32m--> 382\u001b[0;31m                          multi_output=True, y_numeric=True)\n\u001b[0m\u001b[1;32m    383\u001b[0m \u001b[0;34m\u001b[0m\u001b[0m\n\u001b[1;32m    384\u001b[0m         if ((sample_weight is not None) and\n",
      "\u001b[0;32m/Users/Olivialinlin/anaconda2/lib/python2.7/site-packages/sklearn/utils/validation.pyc\u001b[0m in \u001b[0;36mcheck_X_y\u001b[0;34m(X, y, accept_sparse, dtype, order, copy, force_all_finite, ensure_2d, allow_nd, multi_output, ensure_min_samples, ensure_min_features, y_numeric)\u001b[0m\n\u001b[1;32m    442\u001b[0m     X = check_array(X, accept_sparse, dtype, order, copy, force_all_finite,\n\u001b[1;32m    443\u001b[0m                     \u001b[0mensure_2d\u001b[0m\u001b[0;34m,\u001b[0m \u001b[0mallow_nd\u001b[0m\u001b[0;34m,\u001b[0m \u001b[0mensure_min_samples\u001b[0m\u001b[0;34m,\u001b[0m\u001b[0;34m\u001b[0m\u001b[0m\n\u001b[0;32m--> 444\u001b[0;31m                     ensure_min_features)\n\u001b[0m\u001b[1;32m    445\u001b[0m     \u001b[0;32mif\u001b[0m \u001b[0mmulti_output\u001b[0m\u001b[0;34m:\u001b[0m\u001b[0;34m\u001b[0m\u001b[0m\n\u001b[1;32m    446\u001b[0m         y = check_array(y, 'csr', force_all_finite=True, ensure_2d=False,\n",
      "\u001b[0;32m/Users/Olivialinlin/anaconda2/lib/python2.7/site-packages/sklearn/utils/validation.pyc\u001b[0m in \u001b[0;36mcheck_array\u001b[0;34m(array, accept_sparse, dtype, order, copy, force_all_finite, ensure_2d, allow_nd, ensure_min_samples, ensure_min_features)\u001b[0m\n\u001b[1;32m    350\u001b[0m                              array.ndim)\n\u001b[1;32m    351\u001b[0m         \u001b[0;32mif\u001b[0m \u001b[0mforce_all_finite\u001b[0m\u001b[0;34m:\u001b[0m\u001b[0;34m\u001b[0m\u001b[0m\n\u001b[0;32m--> 352\u001b[0;31m             \u001b[0m_assert_all_finite\u001b[0m\u001b[0;34m(\u001b[0m\u001b[0marray\u001b[0m\u001b[0;34m)\u001b[0m\u001b[0;34m\u001b[0m\u001b[0m\n\u001b[0m\u001b[1;32m    353\u001b[0m \u001b[0;34m\u001b[0m\u001b[0m\n\u001b[1;32m    354\u001b[0m     \u001b[0mshape_repr\u001b[0m \u001b[0;34m=\u001b[0m \u001b[0m_shape_repr\u001b[0m\u001b[0;34m(\u001b[0m\u001b[0marray\u001b[0m\u001b[0;34m.\u001b[0m\u001b[0mshape\u001b[0m\u001b[0;34m)\u001b[0m\u001b[0;34m\u001b[0m\u001b[0m\n",
      "\u001b[0;32m/Users/Olivialinlin/anaconda2/lib/python2.7/site-packages/sklearn/utils/validation.pyc\u001b[0m in \u001b[0;36m_assert_all_finite\u001b[0;34m(X)\u001b[0m\n\u001b[1;32m     50\u001b[0m             and not np.isfinite(X).all()):\n\u001b[1;32m     51\u001b[0m         raise ValueError(\"Input contains NaN, infinity\"\n\u001b[0;32m---> 52\u001b[0;31m                          \" or a value too large for %r.\" % X.dtype)\n\u001b[0m\u001b[1;32m     53\u001b[0m \u001b[0;34m\u001b[0m\u001b[0m\n\u001b[1;32m     54\u001b[0m \u001b[0;34m\u001b[0m\u001b[0m\n",
      "\u001b[0;31mValueError\u001b[0m: Input contains NaN, infinity or a value too large for dtype('float64')."
     ],
     "output_type": "error"
    }
   ],
   "source": [
    "train_ratingPath = '../Result/'+TrainDataset+'/meanRating.csv'\n",
    "train_mean_rating = pd.read_csv(train_ratingPath,index_col = 0).as_matrix()[:,0].tolist()\n",
    "train_mean_rating = map(float, train_mean_rating)\n",
    "train_mean_rating = np.array(train_mean_rating)\n",
    "\n",
    "test_ratingPath = '../Result/'+TestDataset+'/meanRating.csv'\n",
    "test_mean_rating = pd.read_csv(test_ratingPath,index_col = 0).as_matrix()[:,0].tolist()\n",
    "test_mean_rating = map(float, test_mean_rating)\n",
    "test_mean_rating = np.array(test_mean_rating)\n",
    "\n",
    "print 'On the training dataset: '+TrainDataset\n",
    "baseLine = train_mean_rating.mean()\n",
    "print 'train mean rating: ', baseLine\n",
    "\n",
    "# cross validation \n",
    "from sklearn import cross_validation\n",
    "X_train, X_test, y_train, y_test = cross_validation.train_test_split(\\\n",
    "                       TrainFea, train_mean_rating, test_size=0.2, random_state=0)\n",
    "\n",
    "X_train_hat = X_train[:,:numF]\n",
    "X_test_hat = X_test[:,:numF]\n",
    "# Do linear regression on feature_arr and mean_rating\n",
    "regr = linear_model.Ridge(fit_intercept=True)\n",
    "# mu = sum(y_train)*1.0/len(y_train)\n",
    "# sigma = np.std(y_train)\n",
    "# y_train_whiten = (y_train - mu)/sigma\n",
    "regr.fit(X_train_hat, y_train)\n",
    "predicted_rating = regr.predict(X_test_hat)\n",
    "#predicted_rating = predicted_rating*sigma +mu\n",
    "# Calculate the mean square error\n",
    "MSE = np.mean((predicted_rating - y_test) ** 2)\n",
    "\n",
    "# Returns the coefficient of determination R^2 of the prediction.\n",
    "variance_score = regr.score(X_test_hat, y_test)\n",
    "\n",
    "# Calculate the correlation between prediction and actual rating.\n",
    "cor = np.corrcoef(predicted_rating, y_test)\n",
    "\n",
    "print 'Correlation: ', cor[0,1]\n",
    "print 'R^2 score: ',variance_score\n",
    "print 'num of features: ',numF\n",
    "print 'MSE: ',MSE\n",
    "\n",
    "print ''\n",
    "print 'On the testing dataset: '+TestDataset\n",
    "test_baseLine = test_mean_rating.mean()\n",
    "print 'test mean rating: ', test_baseLine\n",
    "# mu = sum(test_mean_rating)*1.0/len(test_mean_rating)\n",
    "# sigma = np.std(test_mean_rating)\n",
    "TestFea_hat = TestFea[:,:numF]\n",
    "predicted_rating = regr.predict(TestFea_hat)\n",
    "#predicted_rating = predicted_rating*sigma +mu\n",
    "# Calculate the mean square error\n",
    "MSE = np.mean((predicted_rating - test_mean_rating) ** 2)\n",
    "\n",
    "# Returns the coefficient of determination R^2 of the prediction.\n",
    "variance_score = regr.score(TestFea_hat, test_mean_rating)\n",
    "\n",
    "# Calculate the correlation between prediction and actual rating.\n",
    "cor = np.corrcoef(predicted_rating, test_mean_rating)\n",
    "print 'Correlation: ', cor[0,1]\n",
    "print 'R^2 score: ',variance_score\n",
    "print 'num of features: ',numF\n",
    "print 'MSE: ',MSE"
   ]
  },
  {
   "cell_type": "code",
   "execution_count": 19,
   "metadata": {
    "collapsed": true
   },
   "outputs": [
    {
     "name": "stdout",
     "output_type": "stream",
     "text": [
      "Into plotting...\n[1, 2, 3, 8, 1, 1, 1, 8, 1, 3, 1, 8, 3, 8, 2, 8, 1, 8, 8, 1, 8, 2, 8, 8, 1, 1, 8, 8, 1, 2, 3, 8, 1, 8, 8, 1, 3, 1, 3, 8]\n[ 7  1 14  5 11 17 10  5  2 14  3 13 14 13  1  5  8  5  5  4  5 16 13 13 19\n 18 13 13 15 16  6  5 20 13 13 12  6  9  6  5]\nFinish dendrogram...\nStart plotting heatmap...\n"
     ]
    },
    {
     "data": {
      "text/plain": [
       "(array([39, 11, 15,  7, 17, 18, 20, 22, 23, 13, 27, 26, 31,  3, 33, 34, 30,\n        12,  9, 38,  2, 36, 29, 21,  1, 14,  6,  5,  4,  8, 19, 10, 16, 24,\n        25, 28, 32, 35, 37,  0]),\n array([ 7,  1, 14,  5, 11, 17, 10,  5,  2, 14,  3, 13, 14, 13,  1,  5,  8,\n         5,  5,  4,  5, 16, 13, 13, 19, 18, 13, 13, 15, 16,  6,  5, 20, 13,\n        13, 12,  6,  9,  6,  5], dtype=int32))"
      ]
     },
     "execution_count": 19,
     "metadata": {},
     "output_type": "execute_result"
    },
    {
     "data": {
      "image/png": "[encoded data removed]",
      "text/plain": [
       "<matplotlib.figure.Figure at 0x1089b1ed0>"
      ]
     },
     "metadata": {},
     "output_type": "display_data"
    }
   ],
   "source": [
    "from plotFunc import plotHeatMap\n",
    "import pandas as pd\n",
    "%matplotlib inline\n",
    "p = pd.read_csv('/Users/Olivialinlin/Documents/Github/attractiveness_datamining/linjieCode/code/correlation_array', index_col = 0)\n",
    "column_name = p.columns.tolist()\n",
    "data = p.as_matrix()\n",
    "#print data\n",
    "cMap='Purples'\n",
    "plotHeatMap(data, figName = 'reorderedCorrelaionMatrix')"
   ]
  },
  {
   "cell_type": "code",
   "execution_count": 26,
   "metadata": {},
   "outputs": [],
   "source": [
    "import sys\n",
    "\n",
    "print sys.path"
   ]
  },
  {
   "cell_type": "code",
   "execution_count": null,
   "metadata": {},
   "outputs": [],
   "source": [
    ""
   ]
  }
 ],
 "metadata": {
  "kernelspec": {
   "display_name": "Python 2",
   "language": "python",
   "name": "python2"
  },
  "language_info": {
   "codemirror_mode": {
    "name": "ipython",
    "version": 2.0
   },
   "file_extension": ".py",
   "mimetype": "text/x-python",
   "name": "python",
   "nbconvert_exporter": "python",
   "pygments_lexer": "ipython2",
   "version": "2.7.10"
  }
 },
 "nbformat": 4,
 "nbformat_minor": 0
}