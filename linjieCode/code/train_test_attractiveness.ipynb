{
 "cells": [
  {
   "cell_type": "code",
   "execution_count": 1,
   "metadata": {
    "collapsed": false
   },
   "outputs": [
    {
     "name": "stdout",
     "output_type": "stream",
     "text": [
      "177\n",
      "(177,) (1600,)\n",
      "(1600, 942) (445, 942) (177, 942)\n",
      "Correlation:  0.734353013443\n",
      "num of features:  726\n",
      "Spearman Correlation:  0.725767290662\n",
      "num of features:  802\n",
      "R^2 score:  0.539074315264\n",
      "num of features:  726\n",
      "MSE:  0.647142039702\n",
      "num of features:  726\n",
      "**************************Result of train and test**************************************\n",
      "number of features: 726\n",
      "On test set:\n",
      "Residual sum of squares: 0.55\n",
      "Variance score is: 0.58\n",
      "Correlation between predicted ratings and actual ratings is: 0.7651\n",
      "Spearman Correlation between predicted ratings and actual ratings is: 0.7641\n",
      " \n",
      "On training set:\n",
      "Residual sum of squares: 0.27\n",
      "Variance score is: 0.82\n",
      "Correlation between predicted ratings and actual ratings is: 0.9071\n",
      "Spearman Correlation between predicted ratings and actual ratings is: 0.9038\n",
      "****************************************************************************************\n"
     ]
    }
   ],
   "source": [
    "# read in image list \n",
    "import numpy as np\n",
    "homePath = '/raid/linjieli'\n",
    "MODEL = 'vgg16'\n",
    "featureLayer = 'conv5_2'\n",
    "Dataset = 'mit'\n",
    "def readRatingFile(fName):\n",
    "    text_file = open(fName, \"r\")\n",
    "    lines = text_file.read().split('\\n')\n",
    "    data = [None]*len(lines)\n",
    "    for l in range(len(lines)):\n",
    "        e = lines[l].split('.jpg ')[-1]\n",
    "        if(e):\n",
    "            data[l] = float(e)\n",
    "    text_file.close()\n",
    "    return data\n",
    "trainRating = np.asarray(readRatingFile('../list/attr_train.txt')[:-1])\n",
    "testRating = np.asarray(readRatingFile('../list/attr_test.txt')[:-1])\n",
    "ratio = 0.1\n",
    "valiNum = int(trainRating.shape[0]*ratio)\n",
    "print valiNum\n",
    "valiRating = trainRating[:int(trainRating.shape[0]*ratio)]\n",
    "trainRating = trainRating[int(trainRating.shape[0]*ratio):]\n",
    "print valiRating.shape,trainRating.shape\n",
    "trainfeature_transf = np.loadtxt(homePath+'/features/'+MODEL+'_'+featureLayer+'_'+Dataset+\\\n",
    "           '_trainFeatures.csv',  delimiter=',')\n",
    "testfeature_transf = np.loadtxt(homePath+'/features/'+MODEL+'_'+featureLayer+'_'+Dataset+\\\n",
    "           '_testFeatures.csv', delimiter=',')\n",
    "valifeature_transf = np.loadtxt(homePath+'/features/'+MODEL+'_'+featureLayer+'_'+Dataset+\\\n",
    "           '_valiFeatures.csv', delimiter=',')\n",
    "print trainfeature_transf.shape,testfeature_transf.shape,valifeature_transf.shape\n",
    "PkgPath = homePath+'attractiveness_datamining/linjieCode/code'\n",
    "import sys\n",
    "if PkgPath not in sys.path:\n",
    "    sys.path.insert(0, PkgPath)\n",
    "#print sys.path\n",
    "from xVal_train_test import Train_Test\n",
    "import pandas as pd\n",
    "import sklearn\n",
    "predictionModel = sklearn.linear_model.RidgeCV(alphas=np.logspace(-3,2,num=20), fit_intercept=True)\n",
    "myModel \\\n",
    "         = Train_Test(trainRating,testRating,valiRating,trainfeature_transf, testfeature_transf,valifeature_transf,\\\n",
    "                      xVal = True,numTrain = 1,pModel = predictionModel,getMaxMin = False,\\\n",
    "                      MODEL= MODEL, plotPredActual = False,returnModel = True)"
   ]
  },
  {
   "cell_type": "code",
   "execution_count": null,
   "metadata": {
    "collapsed": false
   },
   "outputs": [],
   "source": []
  }
 ],
 "metadata": {
  "anaconda-cloud": {},
  "kernelspec": {
   "display_name": "Python 2",
   "language": "python",
   "name": "python2"
  },
  "language_info": {
   "codemirror_mode": {
    "name": "ipython",
    "version": 2
   },
   "file_extension": ".py",
   "mimetype": "text/x-python",
   "name": "python",
   "nbconvert_exporter": "python",
   "pygments_lexer": "ipython2",
   "version": "2.7.12"
  }
 },
 "nbformat": 4,
 "nbformat_minor": 0
}
