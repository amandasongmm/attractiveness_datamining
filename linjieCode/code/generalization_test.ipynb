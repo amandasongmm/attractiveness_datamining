{
 "cells": [
  {
   "cell_type": "code",
   "execution_count": 102,
   "metadata": {
    "collapsed": false
   },
   "outputs": [
    {
     "name": "stdout",
     "output_type": "stream",
     "text": [
      "70\n"
     ]
    }
   ],
   "source": [
    "'''\n",
    "This is code for extracting NN features of face image data \n",
    "and then fit a linear model to predict attractiveness of a face\n",
    "Available dataset: TWIN, CHICAGO and MIT\n",
    "Available NN feature: 'caffeNet','vgg16','vggFace' and 'faceSNN'\n",
    "\n",
    "BY Linjie Li\n",
    "Please run this code on guru2 server\n",
    "'''\n",
    "import numpy as np\n",
    "import matplotlib.pyplot as plt\n",
    "import pandas as pd\n",
    "import numpy as np\n",
    "import pandas as pd\n",
    "from sklearn.decomposition import PCA\n",
    "from sklearn import linear_model\n",
    "%matplotlib inline\n",
    "import os\n",
    "import random\n",
    "from os import listdir\n",
    "from os.path import isfile, join\n",
    "\n",
    "feaNum = [[120,120,150],[40,40,200],[40,70,120], [20,50,20]]\n",
    "dataInd = [1,2]\n",
    "modelInd = 2\n",
    "Dataset = ['twin','chicago','mit']\n",
    "TrainDataset = Dataset[dataInd[0]]\n",
    "TestDataset = Dataset[dataInd[1]]\n",
    "NNs = ['caffeNet','vgg16','vggFace','faceSNN']\n",
    "MODEL = NNs[modelInd]\n",
    "savePath = '../Result/'+TestDataset+'/'+MODEL\n",
    "TrainFeaPath ='../Result/'+TrainDataset+'/'+MODEL+ '/feature_pca_atrr.csv'\n",
    "TestFeaPath = savePath + '/feature_pca_atrr.csv'\n",
    "\n",
    "if not os.path.exists(savePath):\n",
    "    os.makedirs(savePath)\n",
    "\n",
    "TrainFea = pd.read_csv(TrainFeaPath,header=None).as_matrix()\n",
    "TestFea = pd.read_csv(TestFeaPath,header=None).as_matrix()\n",
    "# print TrainFea.shape\n",
    "# print TestFea.shape\n",
    "#numF = feaNum[modelInd][dataInd[0]]\n",
    "numF = min(TrainFea.shape[1],TestFea.shape[1],feaNum[modelInd][dataInd[0]])\n",
    "print numF"
   ]
  },
  {
   "cell_type": "code",
   "execution_count": 103,
   "metadata": {
    "collapsed": false
   },
   "outputs": [
    {
     "name": "stdout",
     "output_type": "stream",
     "text": [
      "On the training dataset: chicago\n",
      "train mean rating:  3.23186626992\n",
      "Correlation:  0.521864192056\n",
      "R^2 score:  0.239792453432\n",
      "num of features:  70\n",
      "MSE:  0.448919565004\n",
      "\n",
      "On the testing dataset: mit\n",
      "test mean rating:  4.938305509\n",
      "Correlation:  -0.21103480096\n",
      "R^2 score:  -2.38794590327\n",
      "num of features:  70\n",
      "MSE:  4.90878242335\n"
     ]
    }
   ],
   "source": [
    "train_ratingPath = '../Result/'+TrainDataset+'/meanRating.csv'\n",
    "train_mean_rating = pd.read_csv(train_ratingPath,index_col = 0).as_matrix()[:,0].tolist()\n",
    "train_mean_rating = map(float, train_mean_rating)\n",
    "train_mean_rating = np.array(train_mean_rating)\n",
    "\n",
    "test_ratingPath = '../Result/'+TestDataset+'/meanRating.csv'\n",
    "test_mean_rating = pd.read_csv(test_ratingPath,index_col = 0).as_matrix()[:,0].tolist()\n",
    "test_mean_rating = map(float, test_mean_rating)\n",
    "test_mean_rating = np.array(test_mean_rating)\n",
    "\n",
    "print 'On the training dataset: '+TrainDataset\n",
    "baseLine = train_mean_rating.mean()\n",
    "print 'train mean rating: ', baseLine\n",
    "\n",
    "# cross validation \n",
    "from sklearn import cross_validation\n",
    "X_train, X_test, y_train, y_test = cross_validation.train_test_split(\\\n",
    "                       TrainFea, train_mean_rating, test_size=0.2, random_state=0)\n",
    "\n",
    "X_train_hat = X_train[:,:numF]\n",
    "X_test_hat = X_test[:,:numF]\n",
    "# Do linear regression on feature_arr and mean_rating\n",
    "regr = linear_model.Ridge(fit_intercept=True)\n",
    "# mu = sum(y_train)*1.0/len(y_train)\n",
    "# sigma = np.std(y_train)\n",
    "# y_train_whiten = (y_train - mu)/sigma\n",
    "regr.fit(X_train_hat, y_train)\n",
    "predicted_rating = regr.predict(X_test_hat)\n",
    "#predicted_rating = predicted_rating*sigma +mu\n",
    "# Calculate the mean square error\n",
    "MSE = np.mean((predicted_rating - y_test) ** 2)\n",
    "\n",
    "# Returns the coefficient of determination R^2 of the prediction.\n",
    "variance_score = regr.score(X_test_hat, y_test)\n",
    "\n",
    "# Calculate the correlation between prediction and actual rating.\n",
    "cor = np.corrcoef(predicted_rating, y_test)\n",
    "\n",
    "print 'Correlation: ', cor[0,1]\n",
    "print 'R^2 score: ',variance_score\n",
    "print 'num of features: ',numF\n",
    "print 'MSE: ',MSE\n",
    "\n",
    "print ''\n",
    "print 'On the testing dataset: '+TestDataset\n",
    "test_baseLine = test_mean_rating.mean()\n",
    "print 'test mean rating: ', test_baseLine\n",
    "# mu = sum(test_mean_rating)*1.0/len(test_mean_rating)\n",
    "# sigma = np.std(test_mean_rating)\n",
    "TestFea_hat = TestFea[:,:numF]\n",
    "predicted_rating = regr.predict(TestFea_hat)\n",
    "#predicted_rating = predicted_rating*sigma +mu\n",
    "# Calculate the mean square error\n",
    "MSE = np.mean((predicted_rating - test_mean_rating) ** 2)\n",
    "\n",
    "# Returns the coefficient of determination R^2 of the prediction.\n",
    "variance_score = regr.score(TestFea_hat, test_mean_rating)\n",
    "\n",
    "# Calculate the correlation between prediction and actual rating.\n",
    "cor = np.corrcoef(predicted_rating, test_mean_rating)\n",
    "print 'Correlation: ', cor[0,1]\n",
    "print 'R^2 score: ',variance_score\n",
    "print 'num of features: ',numF\n",
    "print 'MSE: ',MSE"
   ]
  },
  {
   "cell_type": "code",
   "execution_count": 90,
   "metadata": {
    "collapsed": false
   },
   "outputs": [
    {
     "data": {
      "image/png": "[encoded data removed]",
      "text/plain": [
       "<matplotlib.figure.Figure at 0x10538b050>"
      ]
     },
     "metadata": {},
     "output_type": "display_data"
    },
    {
     "name": "stdout",
     "output_type": "stream",
     "text": [
      "[-0.02944334  0.17523554 -0.31782897  0.00477873  0.04665512 -0.06731115\n",
      "  0.13239687 -0.22521471 -0.02573333 -0.09569966]\n"
     ]
    }
   ],
   "source": [
    "import matplotlib\n",
    "matplotlib.rcParams['text.usetex'] = True\n",
    "matplotlib.rcParams['text.latex.unicode'] = True\n",
    "def barPlotMulti(Data,yStr,figName):\n",
    "    Data = np.asarray(Data)\n",
    "    fig = plt.figure()\n",
    "    a=fig.add_subplot(1,1,1)\n",
    "    barLoc = np.arange(len(Data))\n",
    "\n",
    "    opacity = 0.4\n",
    "    width = 0.35\n",
    "    plt.bar(barLoc, Data,width = width,edgecolor='b',color = 'b',alpha=opacity)\n",
    "    stickFont = 20\n",
    "    minRange = min(Data)*1.02\n",
    "    maxRange = max(Data)*1.02\n",
    "    fig.set_size_inches(15, 7.5)\n",
    "    axes = plt.gca()\n",
    "    plt.tick_params(\n",
    "    axis='x',          # changes apply to the x-axis\n",
    "    which='both',      # both major and minor ticks are affected\n",
    "    bottom='off',      # ticks along the bottom edge are off\n",
    "    top='off',         # ticks along the top edge are off\n",
    "    labelbottom='off') # labels along the bottom edge are off\n",
    "    plt.axis('tight')\n",
    "    plt.ylabel(r'\\textbf{'+yStr+'}',fontsize = 30)\n",
    "   \n",
    "    plt.tick_params(axis='y', labelsize=30)\n",
    "    params = {'legend.fontsize': 30}\n",
    "    plt.rcParams.update(params)\n",
    "    fig.subplots_adjust(left=0.25,top = 0.85)\n",
    "    fig = plt.gcf()\n",
    "    axes = plt.gca()\n",
    "    axes.set_ylim([minRange,maxRange])\n",
    "    fig.savefig(figName+'.jpg', dpi=100)\n",
    "    plt.tight_layout()\n",
    "    plt.show()\n",
    "    return    \n",
    "savePath = '../Result/'+TrainDataset+'/'+MODEL\n",
    "barPlotMulti(regr.coef_, r'Coefficients',savePath+'LR_coefficient')\n",
    "print regr.coef_[:10]"
   ]
  },
  {
   "cell_type": "code",
   "execution_count": null,
   "metadata": {
    "collapsed": true
   },
   "outputs": [],
   "source": []
  }
 ],
 "metadata": {
  "kernelspec": {
   "display_name": "Python 2",
   "language": "python",
   "name": "python2"
  },
  "language_info": {
   "codemirror_mode": {
    "name": "ipython",
    "version": 2
   },
   "file_extension": ".py",
   "mimetype": "text/x-python",
   "name": "python",
   "nbconvert_exporter": "python",
   "pygments_lexer": "ipython2",
   "version": "2.7.10"
  }
 },
 "nbformat": 4,
 "nbformat_minor": 0
}
