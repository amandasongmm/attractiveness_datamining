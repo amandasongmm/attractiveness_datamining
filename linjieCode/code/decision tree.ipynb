{
 "cells": [
  {
   "cell_type": "code",
   "execution_count": 33,
   "metadata": {
    "collapsed": false
   },
   "outputs": [
    {
     "name": "stdout",
     "output_type": "stream",
     "text": [
      "Index([u'atypical', u'boring', u'calm', u'cold', u'common', u'confident',\n",
      "       u'egotistic', u'emotUnstable', u'forgettable', u'intelligent',\n",
      "       u'introverted', u'kind', u'responsible', u'trustworthy', u'unemotional',\n",
      "       u'unfamiliar', u'unfriendly', u'unhappy', u'weird', u'aggressive',\n",
      "       u'caring', u'emotStable', u'emotional', u'familiar', u'friendly',\n",
      "       u'happy', u'humble', u'interesting', u'irresponsible', u'mean',\n",
      "       u'memorable', u'normal', u'sociable', u'typical', u'uncertain',\n",
      "       u'uncommon', u'unintelligent', u'untrustworthy'],\n",
      "      dtype='object')\n",
      "[[ 4.285714  4.2       5.933333 ...,  3.666667  2.933333  2.266667]\n",
      " [ 3.333333  4.733333  5.866667 ...,  4.333333  3.2       3.666667]\n",
      " [ 2.666667  3.866667  5.933333 ...,  3.6       3.8       3.666667]\n",
      " ..., \n",
      " [ 4.066667  5.        6.066667 ...,  3.        2.666667  3.866667]\n",
      " [ 4.4       5.066667  5.066667 ...,  4.066667  3.066667  5.4     ]\n",
      " [ 3.8       3.533333  5.333333 ...,  4.533333  3.733333  3.8     ]]\n"
     ]
    }
   ],
   "source": [
    "'''\n",
    "This is code for extracting NN features of face image data \n",
    "and then fit a linear model to predict attractiveness of a face\n",
    "Available dataset: TWIN, CHICAGO and MIT\n",
    "Available NN feature: 'caffeNet','vgg16','vggFace' and 'faceSNN'\n",
    "\n",
    "BY Linjie Li\n",
    "Please run this code on guru2 server\n",
    "'''\n",
    "import numpy as np\n",
    "import matplotlib.pyplot as plt\n",
    "import pandas as pd\n",
    "%matplotlib inline\n",
    "import os\n",
    "import random\n",
    "from os import listdir\n",
    "from os.path import isfile, join\n",
    "from sklearn.tree import DecisionTreeRegressor\n",
    "# Load image dataset#\n",
    "Dataset = 'mit' # 'twin', 'chicago' or 'mit'\n",
    "ratingPath = '../Result/'+Dataset+'/meanRating.csv'\n",
    "socialFea = '../Result/'+Dataset+'/socialMeasures.csv'\n",
    "mean_rating = pd.read_csv(ratingPath,index_col = 0).as_matrix()[:,0].tolist()\n",
    "mean_rating = map(float, mean_rating)\n",
    "mean_rating = np.array(mean_rating)\n",
    "\n",
    "\n",
    "\n",
    "feature_new = pd.read_csv(socialFea,index_col = 0)\n",
    "#print feature_new.columns\n",
    "feature_new = feature_new.drop([ 'catch', 'catchAns', 'subage', 'submale', 'subrace',\\\n",
    "'catch.1', 'catchAns.1', 'subage.1', 'submale.1', 'subrace.1','unattractive','attractive'],axis = 1)\n",
    "print feature_new.columns\n",
    "feature_new = feature_new.as_matrix()\n",
    "print feature_new"
   ]
  },
  {
   "cell_type": "code",
   "execution_count": 35,
   "metadata": {
    "collapsed": false
   },
   "outputs": [
    {
     "name": "stdout",
     "output_type": "stream",
     "text": [
      "sklearn.cross_validation.KFold(n=2222, n_folds=20, shuffle=True, random_state=None)\n",
      "Residual sum of squares: 1.07\n",
      "Variance score is: 0.25\n",
      "Correlation between predicted ratings and actual ratings is: 0.6226\n"
     ]
    }
   ],
   "source": [
    "corrList = []\n",
    "varList = []\n",
    "mseList = []\n",
    "from sklearn.cross_validation import KFold\n",
    "imgNum = feature_new.shape[0]\n",
    "foldNum = 20\n",
    "kf = KFold(imgNum, n_folds=foldNum, shuffle=True)\n",
    "print(kf)\n",
    "for train_index, test_index in kf:\n",
    "    feature_train, feature_test = feature_new[train_index], feature_new[test_index]\n",
    "    rating_train, rating_test = mean_rating[train_index], mean_rating[test_index]\n",
    "    \n",
    "    # Do linear regression on feature_arr and mean_rating\n",
    "    regr = DecisionTreeRegressor(random_state=0)\n",
    "    regr.fit(feature_train, rating_train)\n",
    "    predicted_rating = regr.predict(feature_test)\n",
    "\n",
    "    # Calculate the mean square error\n",
    "    MSE = np.mean((predicted_rating - rating_test) ** 2)\n",
    "    mseList.append(MSE)\n",
    "    \n",
    "    # Returns the coefficient of determination R^2 of the prediction.\n",
    "    variance_score = regr.score(feature_test, rating_test)\n",
    "    varList.append(variance_score)\n",
    "    \n",
    "    # Calculate the correlation between prediction and actual rating.\n",
    "    cor = np.corrcoef(predicted_rating, rating_test)\n",
    "    corrList.append(cor[0,1])\n",
    "# print mseList\n",
    "# print varList\n",
    "# print corrList\n",
    "print 'Residual sum of squares: %.2f' % (sum(mseList)/foldNum)\n",
    "print 'Variance score is: %.2f' % (sum(varList)/foldNum)\n",
    "print 'Correlation between predicted ratings and actual ratings is: %.4f'%(sum(corrList)/foldNum)\n"
   ]
  },
  {
   "cell_type": "code",
   "execution_count": null,
   "metadata": {
    "collapsed": true
   },
   "outputs": [],
   "source": []
  }
 ],
 "metadata": {
  "kernelspec": {
   "display_name": "Python 2",
   "language": "python",
   "name": "python2"
  },
  "language_info": {
   "codemirror_mode": {
    "name": "ipython",
    "version": 2
   },
   "file_extension": ".py",
   "mimetype": "text/x-python",
   "name": "python",
   "nbconvert_exporter": "python",
   "pygments_lexer": "ipython2",
   "version": "2.7.6"
  }
 },
 "nbformat": 4,
 "nbformat_minor": 0
}
