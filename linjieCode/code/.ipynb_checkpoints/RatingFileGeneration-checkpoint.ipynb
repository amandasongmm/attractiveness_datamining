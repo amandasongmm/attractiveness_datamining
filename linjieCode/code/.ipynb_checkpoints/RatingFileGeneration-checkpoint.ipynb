{
 "cells": [
  {
   "cell_type": "code",
   "execution_count": 99,
   "metadata": {
    "collapsed": false
   },
   "outputs": [],
   "source": [
    "import numpy as np\n",
    "import pandas as pd\n",
    "import matplotlib.pyplot as plt\n",
    "%matplotlib inline\n",
    "# Chicago Dataset #\n",
    "filePath = '../../ChicagoFaceDataset/CFD Version 2.0/'\n",
    "savePath = '../Result/chicago/'\n",
    "import os\n",
    "for files in os.listdir(filePath):\n",
    "    if files.endswith(\".xlsx\"):\n",
    "        xlsx = pd.ExcelFile(filePath+files)\n",
    "        measurements = pd.read_excel(xlsx,index = False)\n",
    "\n",
    "measurements.columns = measurements.iloc[3,:]\n",
    "measurements.columns.name = ''\n",
    "measurements.index = measurements.iloc[:,0]\n",
    "measurements = measurements.iloc[4:,1:]\n",
    "measurements.index.name = ''\n",
    "measurements.to_csv(savePath+'fullMeasure.csv')\n",
    "# extract configural measurements #\n",
    "configIndex = measurements.columns.tolist().index(u'Nose_Width')\n",
    "configMeasure = measurements.iloc[:,configIndex:]\n",
    "# save configMeasure #\n",
    "configMeasure.to_csv(savePath+'configMeasure.csv')\n",
    "\n",
    "# extract attractiveness rating #\n",
    "attrIndex = measurements.columns.tolist().index(u'Attractive')\n",
    "attrRating = measurements.iloc[:,attrIndex:attrIndex+1][:]\n",
    "attrRating.to_csv(savePath+'meanRating.csv')\n",
    "\n",
    "# other features #\n",
    "otherFeatures = measurements.iloc[:,:configIndex]\n",
    "otherFeatures = otherFeatures.drop('Attractive', 1)\n",
    "otherFeatures.to_csv(savePath+'otherMeasures.csv')"
   ]
  },
  {
   "cell_type": "code",
   "execution_count": 96,
   "metadata": {
    "collapsed": false
   },
   "outputs": [],
   "source": [
    "# Twin Dataset #\n",
    "filePath = '../rating_matrix.csv'\n",
    "ratings = pd.read_csv(filePath,delimiter='\\t')\n",
    "ratings = ratings.drop('Unnamed: 0',1)\n",
    "savePath = '../Result/twin/'\n",
    "ratings.to_csv(savePath+'rating_matrix.csv')\n",
    "mean_rating = pd.DataFrame(ratings.mean())\n",
    "mean_rating.columns = ['Attractive']\n",
    "mean_rating.to_csv(savePath+'meanRating.csv')"
   ]
  },
  {
   "cell_type": "code",
   "execution_count": null,
   "metadata": {
    "collapsed": false
   },
   "outputs": [],
   "source": [
    "# MIT Dataset #\n",
    "filePath = '../../MIT2kFaceDataset/Full Attribute Scores/psychology attributes/'\n",
    "xlsx = pd.ExcelFile(filePath+'psychology-attributes.xlsx')\n",
    "measurements = pd.read_excel(xlsx,sheetname = 1,index = False)\n",
    "measurements.index = measurements.iloc[:,0]\n",
    "measurements = measurements.iloc[:,1:]\n",
    "measurements.index.name = ''\n",
    "\n",
    "# attractiveness rating #\n",
    "savePath = '../Result/mit/'\n",
    "attrIndex = measurements.columns.tolist().index('attractive')\n",
    "attrRating = measurements.iloc[:,attrIndex:attrIndex+1][:]\n",
    "attrRating.to_csv(savePath+'meanRating.csv')\n",
    "\n",
    "# social attributes #\n",
    "measurements = measurements.drop('Image #',1)\n",
    "measurements.to_csv(savePath+'socialMeasures.csv')\n"
   ]
  },
  {
   "cell_type": "code",
   "execution_count": null,
   "metadata": {
    "collapsed": true
   },
   "outputs": [],
   "source": []
  }
 ],
 "metadata": {
  "kernelspec": {
   "display_name": "Python 2",
   "language": "python",
   "name": "python2"
  },
  "language_info": {
   "codemirror_mode": {
    "name": "ipython",
    "version": 2
   },
   "file_extension": ".py",
   "mimetype": "text/x-python",
   "name": "python",
   "nbconvert_exporter": "python",
   "pygments_lexer": "ipython2",
   "version": "2.7.10"
  }
 },
 "nbformat": 4,
 "nbformat_minor": 0
}
