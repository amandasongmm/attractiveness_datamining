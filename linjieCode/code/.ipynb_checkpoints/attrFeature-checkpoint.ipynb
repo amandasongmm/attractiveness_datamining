{
 "cells": [
  {
   "cell_type": "code",
   "execution_count": 217,
   "metadata": {
    "collapsed": false
   },
   "outputs": [
    {
     "name": "stdout",
     "output_type": "stream",
     "text": [
      "mean-subtracted values: [('B', 104.0069879317889), ('G', 116.66876761696767), ('R', 122.6789143406786)]\n",
      "Defining the net!\n",
      "(4096,)\n"
     ]
    }
   ],
   "source": [
    "import numpy as np\n",
    "import matplotlib.pyplot as plt\n",
    "%matplotlib inline\n",
    "\n",
    "import os\n",
    "import random\n",
    "\n",
    "# Make sure that caffe is on the python path:\n",
    "caffe_root = '/raid/linjieli/caffe/'  # this file is expected to be in {caffe_root}/examples/siamese\n",
    "pretrained_model_root = '/raid/linjieli/caffe/'\n",
    "import sys\n",
    "sys.path.insert(0, pretrained_model_root + 'python')\n",
    "\n",
    "import caffe\n",
    "\n",
    "#Load the trained net\n",
    "#\n",
    "# Remember to change the MODEL_FILE depending on the architecture !!!\n",
    "#\n",
    "mu = np.load(caffe_root + 'python/caffe/imagenet/ilsvrc_2012_mean.npy')\n",
    "mu = mu.mean(1).mean(1)  # average over pixels to obtain the mean (BGR) pixel values\n",
    "print 'mean-subtracted values:', zip('BGR', mu)\n",
    "\n",
    "MODEL = 'vggFace' #'caffeNet','vgg16','vggFace' or 'faceSNN'\n",
    "if MODEL == 'vgg16':\n",
    "    MODEL_FILE = caffe_root +'models/VGG16/VGG_ILSVRC_16_layers_deploy.prototxt'\n",
    "    PRETRAINED_FILE = caffe_root + 'models/VGG16/VGG_ILSVRC_16_layers.caffemodel'\n",
    "elif MODEL == 'caffeNet':\n",
    "    MODEL_FILE = caffe_root + 'models/bvlc_reference_caffenet/deploy.prototxt'\n",
    "    PRETRAINED_FILE = caffe_root + 'models/bvlc_reference_caffenet/bvlc_reference_caffenet.caffemodel'\n",
    "elif MODEL == 'vggFace':\n",
    "    MODEL_FILE = caffe_root + 'models/VGGFACE/VGG_CNN_F_deploy.prototxt'\n",
    "    PRETRAINED_FILE = caffe_root + 'models/VGGFACE/VGG_CNN_F.caffemodel'\n",
    "    MEAN_FILE = caffe_root + 'models/VGGFACE/VGG_mean.binaryproto'\n",
    "else:\n",
    "    MODEL = 'faceSNN'\n",
    "    MODEL_FILE = caffe_root +'models/sraonet/siamese_lecun_deploy.prototxt'\n",
    "    PRETRAINED_FILE = caffe_root + 'models/sraonet/snapshots/sraonet_lecun_sub_iter_20000.caffemodel'\n",
    "    \n",
    "saveFigPath = '/raid/linjieli/attractiveness_datamining/Result/'+MODEL\n",
    "if not os.path.exists(saveFigPath):\n",
    "    os.makedirs(saveFigPath)\n",
    "# decrease if you want to preview during training \n",
    "\n",
    "caffe.set_device(0)\n",
    "caffe.set_mode_gpu()\n",
    "if not os.path.isfile(PRETRAINED_FILE):\n",
    "    print(\"No caffemodel!!!\")\n",
    "elif not os.path.isfile(MODEL_FILE):\n",
    "    print(\"No MODEL !!!\")\n",
    "else:\n",
    "    print \"Defining the net!\"\n",
    "    net = caffe.Net(MODEL_FILE,\n",
    "                PRETRAINED_FILE,\n",
    "                caffe.TEST)\n",
    "# input preprocessing: 'data' is the name of the input blob == net.inputs[0]\n",
    "transformer = caffe.io.Transformer({'data': net.blobs['data'].data.shape})\n",
    "if MODEL != 'faceSNN':\n",
    "    transformer.set_mean('data', mu)            # subtract the dataset-mean value in each channel\n",
    "transformer.set_transpose('data', (2,0,1))\n",
    "transformer.set_raw_scale('data', 255)  # the reference model operates on images in [0,255] range instead of [0,1]\n",
    "transformer.set_channel_swap('data', (2,1,0))  # the reference model has channels in BGR order instead of RGB\n",
    "\n",
    "print net.params['fc7'][1].data.shape\n"
   ]
  },
  {
   "cell_type": "code",
   "execution_count": 218,
   "metadata": {
    "collapsed": false
   },
   "outputs": [
    {
     "name": "stdout",
     "output_type": "stream",
     "text": [
      "201\n",
      "\n",
      "8\n",
      "200\n",
      "{'mit/males': 25, 'gh/females': 26, 'ngs/males': 21, 'mit/females': 23, 'gs/males': 26, 'gs/females': 22, 'ngs/females': 27, 'gh/males': 22}\n"
     ]
    }
   ],
   "source": [
    "import matplotlib.pyplot as plt\n",
    "import pylab\n",
    "%matplotlib inline\n",
    "plt.rcParams['figure.figsize'] = (10, 10)\n",
    "plt.rcParams['image.interpolation'] = 'nearest'\n",
    "plt.rcParams['image.cmap'] = 'gray'\n",
    "\n",
    "\n",
    "if MODEL == 'vgg16' or MODEL == 'vggFace':\n",
    "    featureNum = 4096\n",
    "    imgeReshape = [224,224]\n",
    "    featureLayer = 'fc7'\n",
    "elif MODEL == 'caffeNet':\n",
    "    featureNum = 4096\n",
    "    imgeReshape = [227,227]\n",
    "    featureLayer = 'fc7'\n",
    "else:\n",
    "    featureNum = 50\n",
    "    imgeReshape = [56,46]\n",
    "    featureLayer = 'fc6'\n",
    "features = np.zeros([8,50,featureNum])\n",
    "img_type_map = {}\n",
    "img_type_index = {}\n",
    "img_name = {}\n",
    "type_index = 0\n",
    "totalNum = 0\n",
    "\n",
    "# read in image list \n",
    "def readFile(fName):\n",
    "    text_file = open(fName, \"r\")\n",
    "    lines = text_file.read().split('\\n')\n",
    "    text_file.close()\n",
    "    return lines\n",
    "imList = readFile(\"../atrrImList.txt\")\n",
    "print len(imList)\n",
    "#print os.path.basename(imList[1])\n",
    "for img2 in imList:\n",
    "    imgName = os.path.basename(img2)\n",
    "    if imgName.lower().endswith(\".jpg\"):\n",
    "        totalNum +=1\n",
    "        img2_type = img2.lower().split('/')[5]+'/'+img2.lower().split('/')[6]\n",
    "        #print img2_type\n",
    "        if img2_type in img_type_map.keys():\n",
    "            img_type_map[img2_type] = img_type_map[img2_type] + 1\n",
    "            img_name[img2_type] = img_name[img2_type] + [img2]\n",
    "        else:\n",
    "            img_type_map[img2_type] = 0\n",
    "            img_name[img2_type] = [img2]\n",
    "            img_type_index[img2_type] = type_index\n",
    "            type_index +=1\n",
    "        input_image = caffe.io.load_image(img2)\n",
    "        net.blobs['data'].reshape(1,3,imgeReshape[0],imgeReshape[1])\n",
    "        net.blobs['data'].data[...] = transformer.preprocess('data', input_image)\n",
    "        out = net.forward()\n",
    "        feat = net.blobs[featureLayer].data#out[featureLayer]\n",
    "        features[img_type_index[img2_type],img_type_map[img2_type]] = feat.flatten()\n",
    "    else:\n",
    "        print img2\n",
    "print len(img_type_map)\n",
    "print totalNum\n",
    "print img_type_map"
   ]
  },
  {
   "cell_type": "code",
   "execution_count": 219,
   "metadata": {
    "collapsed": false
   },
   "outputs": [
    {
     "name": "stdout",
     "output_type": "stream",
     "text": [
      "The number of PCs needed to retain 0.990 variance is 141.\n",
      "[  4.01473130e-01   1.07210491e-01   5.62456617e-02   4.73335425e-02\n",
      "   2.86360557e-02   2.42293419e-02   2.03441118e-02   1.77743743e-02\n",
      "   1.55216087e-02   1.33636197e-02   1.27465550e-02   1.16167047e-02\n",
      "   1.01246381e-02   9.47304113e-03   8.70428162e-03   7.77012505e-03\n",
      "   7.54597442e-03   6.85827568e-03   6.37289059e-03   6.26413830e-03\n",
      "   5.96926320e-03   5.44718103e-03   5.27549984e-03   4.93324732e-03\n",
      "   4.60477796e-03   4.34590633e-03   4.17506404e-03   4.11937815e-03\n",
      "   3.80512877e-03   3.68210889e-03   3.45429418e-03   3.41451321e-03\n",
      "   3.23410475e-03   3.13469732e-03   3.03671941e-03   2.90958715e-03\n",
      "   2.88419549e-03   2.71941873e-03   2.62271003e-03   2.58083610e-03\n",
      "   2.53076572e-03   2.46227097e-03   2.41121685e-03   2.30923253e-03\n",
      "   2.23157349e-03   2.11263604e-03   2.06640662e-03   2.02404382e-03\n",
      "   1.96087027e-03   1.86623782e-03   1.84091790e-03   1.79666737e-03\n",
      "   1.73307440e-03   1.66666374e-03   1.62743886e-03   1.56688200e-03\n",
      "   1.51721139e-03   1.50081071e-03   1.45230776e-03   1.42752171e-03\n",
      "   1.38927925e-03   1.35836530e-03   1.33637966e-03   1.30825980e-03\n",
      "   1.28123687e-03   1.21792040e-03   1.19157417e-03   1.15710388e-03\n",
      "   1.11656736e-03   1.10249597e-03   1.08672219e-03   1.07120357e-03\n",
      "   1.05582847e-03   1.01784002e-03   9.94817535e-04   9.69076378e-04\n",
      "   9.63012335e-04   9.50511361e-04   9.21265739e-04   9.04774096e-04\n",
      "   8.94198017e-04   8.82931682e-04   8.72962636e-04   8.38139163e-04\n",
      "   8.32022911e-04   8.29274480e-04   8.00509698e-04   7.98190833e-04\n",
      "   7.86811329e-04   7.68129052e-04   7.55859193e-04   7.34569094e-04\n",
      "   7.22857543e-04   7.06744843e-04   6.91175955e-04   6.84124869e-04\n",
      "   6.60713086e-04   6.57820927e-04   6.50711443e-04   6.40782504e-04\n",
      "   6.29740173e-04   6.13014959e-04   6.08070806e-04   5.95366405e-04\n",
      "   5.75901418e-04   5.74079941e-04   5.67828639e-04   5.57961800e-04\n",
      "   5.47740517e-04   5.42684414e-04   5.34524613e-04   5.15192912e-04\n",
      "   5.04180655e-04   4.97052630e-04   4.86787797e-04   4.83023621e-04\n",
      "   4.66947104e-04   4.62321718e-04   4.57269559e-04   4.51275955e-04\n",
      "   4.44594134e-04   4.22574850e-04   4.10406042e-04   4.08372814e-04\n",
      "   4.01920813e-04   3.97215299e-04   3.84197320e-04   3.80323589e-04\n",
      "   3.77536723e-04   3.68087634e-04   3.62282688e-04   3.58986046e-04\n",
      "   3.49217412e-04   3.43268161e-04   3.41526465e-04   3.35602905e-04\n",
      "   3.29362458e-04   3.19646196e-04   3.18379508e-04   3.15499464e-04\n",
      "   3.09708807e-04]\n"
     ]
    }
   ],
   "source": [
    "featureMat = np.zeros((totalNum,featureNum))\n",
    "k = 0\n",
    "for i in range(features.shape[0]):\n",
    "    for j in range(features[i].shape[0]):\n",
    "        if sum(features[i,j,:])!=0:\n",
    "            featureMat[k,:] = features[i,j,:]\n",
    "            k +=1\n",
    "from sklearn.decomposition import PCA as sklearnPCA\n",
    "if MODEL != 'faceSNN':\n",
    "    explained_variance = 0.99\n",
    "else:\n",
    "    explained_variance = featureNum\n",
    "\n",
    "sklearn_pca = sklearnPCA(n_components=explained_variance, whiten  = True)\n",
    "sklearn_transf = sklearn_pca.fit_transform(featureMat)\n",
    "print 'The number of PCs needed to retain %.3f variance is %d.' \\\n",
    "      % (explained_variance, sklearn_transf.shape[1])\n",
    "#print sklearn_pca.explained_variance_ratio_\n",
    "#print sklearn_transf"
   ]
  },
  {
   "cell_type": "code",
   "execution_count": 220,
   "metadata": {
    "collapsed": false
   },
   "outputs": [],
   "source": [
    "import pickle\n",
    "np.savetxt(saveFigPath+'/feature_pca_atrr.csv', sklearn_transf, delimiter=',')\n",
    "np.savetxt(saveFigPath+'/feature_atrr.csv',featureMat,delimiter = ',')\n",
    "img_index_name_map = dict()\n",
    "for key in img_name.keys():\n",
    "    img_index_name_map[img_type_index[key]] = img_name[key]\n",
    "with open('../atrr_imgIndex_name.pickle', 'wb') as handle:\n",
    "    pickle.dump(img_index_name_map, handle)"
   ]
  },
  {
   "cell_type": "code",
   "execution_count": 221,
   "metadata": {
    "collapsed": false
   },
   "outputs": [
    {
     "name": "stdout",
     "output_type": "stream",
     "text": [
      "Residual sum of squares: 0.23\n",
      "Variance score is: -15.16\n",
      "0.863043574237\n"
     ]
    },
    {
     "data": {
      "image/png": "[encoded data removed]",
      "text/plain": [
       "<matplotlib.figure.Figure at 0x7ff1aa94c690>"
      ]
     },
     "metadata": {},
     "output_type": "display_data"
    }
   ],
   "source": [
    "# revise the order of the faces in feature_matrix. \n",
    "# make it the same as rating_matrix: MIT, Glas, faceothers, genhead\n",
    "import pandas as pd\n",
    "import numpy as np\n",
    "import pandas as pd\n",
    "from sklearn.decomposition import PCA\n",
    "from sklearn import linear_model\n",
    "full_rating = pd.read_csv('/raid/linjieli/attractiveness_datamining/rating_matrix.csv',\\\n",
    "                          delimiter='\\t')\n",
    "del full_rating['Unnamed: 0']\n",
    "#print full_rating\n",
    "\n",
    "\n",
    "rater_ind = 0  # Later, we will iterate over this number.\n",
    "one_rating = full_rating.mean()[:, None]\n",
    "#one_rating = full_rating.iloc[rater_ind, :][:, None]\n",
    "one_rating = [map(float, x) for x in one_rating]\n",
    "one_rating = np.array(one_rating)\n",
    "#print one_rating\n",
    "mu  = float(sum(one_rating))/len(one_rating)\n",
    "sigma = np.std(one_rating)\n",
    "one_rating_white = (one_rating - mu)/sigma\n",
    "# Do linear regression on feature_arr and one_rating\n",
    "regr = linear_model.LinearRegression(fit_intercept=True)\n",
    "regr.fit(sklearn_transf, one_rating_white)\n",
    "predicted_rating = regr.predict(sklearn_transf)*sigma+mu\n",
    "#rectified_rating = np.around(predicted_rating, decimals=0)\n",
    "\n",
    "# Calculate the mean square error\n",
    "MSE = np.mean((predicted_rating - one_rating) ** 2)\n",
    "print 'Residual sum of squares: %.2f' % MSE\n",
    "\n",
    "# Calculate how much variance is explained\n",
    "variance_score = regr.score(sklearn_transf, one_rating)\n",
    "print 'Variance score is: %.2f' % variance_score\n",
    "\n",
    "# Calculate the correlation between prediction and actual rating.\n",
    "cor = np.corrcoef(predicted_rating[:, 0], one_rating[:, 0])\n",
    "print cor[0, 1]\n",
    "\n",
    "# # Plot prediction vs actual rating.\n",
    "x = predicted_rating[:, 0]\n",
    "y = one_rating[:, 0]\n",
    "fig, ax = plt.subplots()\n",
    "ax.scatter(x, y, alpha=0.5)\n",
    "ax.set_xlim((0, 8))\n",
    "ax.set_ylim((0, 8))\n",
    "x0, x1 = ax.get_xlim()\n",
    "y0, y1 = ax.get_ylim()\n",
    "ax.set_aspect(abs(x1-x0)/abs(y1-y0))\n",
    "ax.grid(b=True, which='major', color='k', linestyle='--')\n",
    "m, b = np.polyfit(x, y, 1)\n",
    "X_plot = np.linspace(ax.get_xlim()[0],ax.get_xlim()[1],100)\n",
    "plt.plot(X_plot, m*X_plot + b, '-r')\n",
    "plt.xlabel('Predicted Ratings',fontsize = 26)\n",
    "plt.ylabel('Actual Ratings',fontsize = 26)\n",
    "plt.title('Predicted VS Actual Ratings',fontsize = 26)\n",
    "plt.savefig(saveFigPath+'/'+MODEL+'_predVsActual.png')\n"
   ]
  },
  {
   "cell_type": "code",
   "execution_count": 223,
   "metadata": {
    "collapsed": false
   },
   "outputs": [
    {
     "data": {
      "text/plain": [
       "array([[ 0.       ,  0.       ,  0.       , ...,  0.       ,  0.       ,\n",
       "         0.       ],\n",
       "       [ 0.       ,  0.       ,  0.       , ...,  0.       ,  0.1817342,\n",
       "         0.       ],\n",
       "       [ 0.       ,  0.       ,  0.       , ...,  0.       ,  0.       ,\n",
       "         0.       ],\n",
       "       ..., \n",
       "       [ 0.       ,  0.       ,  0.       , ...,  0.       ,  0.       ,\n",
       "         0.       ],\n",
       "       [ 0.       ,  0.       ,  0.       , ...,  0.       ,  0.       ,\n",
       "         0.       ],\n",
       "       [ 0.       ,  0.       ,  0.       , ...,  0.       ,  0.       ,\n",
       "         0.       ]])"
      ]
     },
     "execution_count": 223,
     "metadata": {},
     "output_type": "execute_result"
    }
   ],
   "source": [
    "# k-fold#\n",
    "from sklearn.cross_validation import KFold\n",
    "imgNum = \n",
    "kf = KFold(4, n_folds=2)"
   ]
  },
  {
   "cell_type": "code",
   "execution_count": null,
   "metadata": {
    "collapsed": true
   },
   "outputs": [],
   "source": []
  }
 ],
 "metadata": {
  "kernelspec": {
   "display_name": "Python 2",
   "language": "python",
   "name": "python2"
  },
  "language_info": {
   "codemirror_mode": {
    "name": "ipython",
    "version": 2
   },
   "file_extension": ".py",
   "mimetype": "text/x-python",
   "name": "python",
   "nbconvert_exporter": "python",
   "pygments_lexer": "ipython2",
   "version": "2.7.6"
  }
 },
 "nbformat": 4,
 "nbformat_minor": 0
}
