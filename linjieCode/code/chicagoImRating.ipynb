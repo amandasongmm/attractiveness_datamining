{
 "cells": [
  {
   "cell_type": "code",
   "execution_count": 4,
   "metadata": {
    "collapsed": false
   },
   "outputs": [
    {
     "name": "stdout",
     "output_type": "stream",
     "text": [
      "['../../ChicagoFaceDataset/CFD Version 2.0/CFD 2.0 Images/AF-200/CFD-AF-200-228-N.jpg', '../../ChicagoFaceDataset/CFD Version 2.0/CFD 2.0 Images/AF-201/CFD-AF-201-060-N.jpg', '../../ChicagoFaceDataset/CFD Version 2.0/CFD 2.0 Images/AF-202/CFD-AF-202-122-N.jpg', '../../ChicagoFaceDataset/CFD Version 2.0/CFD 2.0 Images/AF-203/CFD-AF-203-077-N.jpg', '../../ChicagoFaceDataset/CFD Version 2.0/CFD 2.0 Images/AF-204/CFD-AF-204-067-N.jpg', '../../ChicagoFaceDataset/CFD Version 2.0/CFD 2.0 Images/AF-205/CFD-AF-205-155-N.jpg', '../../ChicagoFaceDataset/CFD Version 2.0/CFD 2.0 Images/AF-206/CFD-AF-206-079-N.jpg', '../../ChicagoFaceDataset/CFD Version 2.0/CFD 2.0 Images/AF-207/CFD-AF-207-023-N.jpg', '../../ChicagoFaceDataset/CFD Version 2.0/CFD 2.0 Images/AF-208/CFD-AF-208-003-N.jpg', '../../ChicagoFaceDataset/CFD Version 2.0/CFD 2.0 Images/AF-209/CFD-AF-209-006-N.jpg']\n"
     ]
    }
   ],
   "source": [
    "import os\n",
    "import os.path\n",
    "\n"
   ]
  },
  {
   "cell_type": "code",
   "execution_count": null,
   "metadata": {
    "collapsed": true
   },
   "outputs": [],
   "source": []
  }
 ],
 "metadata": {
  "kernelspec": {
   "display_name": "Python 2",
   "language": "python",
   "name": "python2"
  },
  "language_info": {
   "codemirror_mode": {
    "name": "ipython",
    "version": 2
   },
   "file_extension": ".py",
   "mimetype": "text/x-python",
   "name": "python",
   "nbconvert_exporter": "python",
   "pygments_lexer": "ipython2",
   "version": "2.7.6"
  }
 },
 "nbformat": 4,
 "nbformat_minor": 0
}
