{
 "cells": [
  {
   "cell_type": "code",
   "execution_count": 16,
   "metadata": {
    "collapsed": false
   },
   "outputs": [
    {
     "name": "stdout",
     "output_type": "stream",
     "text": [
      "The number of PCs needed to retain 0.990 variance is 6.\n"
     ]
    }
   ],
   "source": [
    "import numpy as np\n",
    "import pandas as pd\n",
    "from sklearn.decomposition import PCA\n",
    "from sklearn import linear_model\n",
    "import matplotlib.pyplot as plt\n",
    "import matplotlib.mlab as mlab\n",
    "%matplotlib inline\n",
    "\n",
    "__author__ = 'amanda'\n",
    "\n",
    "# Load the face feature matrix\n",
    "feature_arr = pd.read_csv('allFeatures.csv')\n",
    "# Remove the irrelevant information\n",
    "del feature_arr['dataset']\n",
    "del feature_arr['img_num']\n",
    "\n",
    "\n",
    "# Do PCA to decorrelate the data\n",
    "explained_variance = 0.99\n",
    "pca = PCA(n_components=explained_variance, whiten='True')\n",
    "new_featureArray = pca.fit_transform(feature_arr)\n",
    "print 'The number of PCs needed to retain %.3f variance is %d.' \\\n",
    "      % (explained_variance, new_featureArray.shape[1])"
   ]
  },
  {
   "cell_type": "code",
   "execution_count": 17,
   "metadata": {
    "collapsed": true
   },
   "outputs": [],
   "source": [
    "pca_score = pca.explained_variance_ratio_"
   ]
  },
  {
   "cell_type": "code",
   "execution_count": 3,
   "metadata": {
    "collapsed": false
   },
   "outputs": [
    {
     "data": {
      "text/plain": [
       "(6,)"
      ]
     },
     "execution_count": 3,
     "metadata": {},
     "output_type": "execute_result"
    }
   ],
   "source": [
    "pca_score.shape"
   ]
  },
  {
   "cell_type": "code",
   "execution_count": 18,
   "metadata": {
    "collapsed": false
   },
   "outputs": [
    {
     "data": {
      "image/png": "[encoded data removed]",
      "text/plain": [
       "<matplotlib.figure.Figure at 0x7efc79edf0d0>"
      ]
     },
     "metadata": {},
     "output_type": "display_data"
    }
   ],
   "source": [
    "# Prepare data\n",
    "y = pca_score\n",
    "N = y.shape[0]  # number of data entries\n",
    "x = np.arange(N)  # the x locations for the groups\n",
    "width = 0.35  # bar width\n",
    "\n",
    "fig, ax = plt.subplots()\n",
    "\n",
    "rect = ax.bar(x, y, # data\n",
    "              width, # bar width\n",
    "              color = 'MediumSlateBlue',  # bar color\n",
    "               error_kw = {'ecolor':'Tomato',\n",
    "                          'linewidth':2})\n",
    "axes = plt.gca()\n",
    "axes.set_ylim([0,1])  # y-axis bounds\n",
    "\n",
    "\n",
    "# Add some text for labels.\n",
    "ax.set_xticks(x+width)\n",
    "ax.set_xticklabels(('PC1','PC2','PC3','PC4','PC5','PC6'))\n",
    "plt.ylabel('Variance explained by each PC')\n",
    "# plt.title('Variance explained by each PC')\n",
    "plt.savefig('PCA_variance.png')\n",
    "plt.show()"
   ]
  },
  {
   "cell_type": "code",
   "execution_count": 10,
   "metadata": {
    "collapsed": false
   },
   "outputs": [
    {
     "data": {
      "text/plain": [
       "<matplotlib.figure.Figure at 0x7efc7a205c10>"
      ]
     },
     "metadata": {},
     "output_type": "display_data"
    }
   ],
   "source": [
    "plt.savefig('PCA.png')"
   ]
  },
  {
   "cell_type": "code",
   "execution_count": null,
   "metadata": {
    "collapsed": true
   },
   "outputs": [],
   "source": []
  }
 ],
 "metadata": {
  "kernelspec": {
   "display_name": "Python 2",
   "language": "python",
   "name": "python2"
  },
  "language_info": {
   "codemirror_mode": {
    "name": "ipython",
    "version": 2
   },
   "file_extension": ".py",
   "mimetype": "text/x-python",
   "name": "python",
   "nbconvert_exporter": "python",
   "pygments_lexer": "ipython2",
   "version": "2.7.6"
  }
 },
 "nbformat": 4,
 "nbformat_minor": 0
}
