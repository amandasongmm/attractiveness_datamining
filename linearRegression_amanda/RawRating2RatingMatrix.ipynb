{
 "cells": [
  {
   "cell_type": "code",
   "execution_count": null,
   "metadata": {
    "collapsed": true
   },
   "outputs": [],
   "source": [
    "import numpy as np\n",
    "import pandas as pd\n",
    "\n",
    "\n",
    "'''\n",
    "This code converts the raw data into a user-by-image rating matrix. The saved txt file 'matrix_form.txt'\n",
    "will be the raw input to the collaborative filtering codes.\n",
    "'''\n",
    "\n",
    "__author__ = 'amanda'\n",
    "\n",
    "raw_csv_path = '../data/germine_CurrentBiology_twinaesthetics_PUBLIC.csv'\n",
    "df = pd.read_csv(raw_csv_path)\n",
    "\n",
    "# MIT 1-50, Glasgow 1-50, Others 1-50, Genhead 1-50, 200 face images in total\n",
    "half1_ind = np.r_[5:55, 70:120, 200:250, 265:315]   # ratings from the first person in a twin pair\n",
    "half2_ind = np.r_[399:449, 464:514, 594:644, 659:709]  # the same format, from the second person in a twin pair\n",
    "\n",
    "df_half1 = df.iloc[:, half1_ind]\n",
    "df_half2 = df.iloc[:, half2_ind]\n",
    "\n",
    "# To rename the column of dataframe1 and dataframe2 into im1 - im200, so we can concatenate them\n",
    "new_column_name = df_half1.columns.values\n",
    "count = 0\n",
    "for i in new_column_name:\n",
    "    new_column_name[count] = 'img'+str(count+1)\n",
    "    count += 1\n",
    "\n",
    "df_half1.columns = new_column_name\n",
    "df_half2.columns = new_column_name\n",
    "df_new = pd.concat([df_half1, df_half2])\n",
    "\n",
    "# save it into the same folder.\n",
    "df_new.to_csv('matrix_form.csv', sep='\\t')\n",
    "\n"
   ]
  }
 ],
 "metadata": {
  "kernelspec": {
   "display_name": "Python 2",
   "language": "python",
   "name": "python2"
  },
  "language_info": {
   "codemirror_mode": {
    "name": "ipython",
    "version": 2
   },
   "file_extension": ".py",
   "mimetype": "text/x-python",
   "name": "python",
   "nbconvert_exporter": "python",
   "pygments_lexer": "ipython2",
   "version": "2.7.6"
  }
 },
 "nbformat": 4,
 "nbformat_minor": 0
}
