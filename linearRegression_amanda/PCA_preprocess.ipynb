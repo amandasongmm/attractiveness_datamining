{
 "cells": [
  {
   "cell_type": "code",
   "execution_count": 9,
   "metadata": {
    "collapsed": true
   },
   "outputs": [],
   "source": [
    "import numpy as np\n",
    "import pandas as pd\n",
    "from sklearn.decomposition import PCA\n",
    "from sklearn import linear_model\n",
    "import matplotlib.pyplot as plt\n",
    "import matplotlib.mlab as mlab\n",
    "%matplotlib inline\n",
    "\n",
    "# Load the face feature matrix\n",
    "feature_arr = pd.read_csv('allFeatures.csv')\n",
    "del feature_arr['dataset']\n",
    "del feature_arr['img_num']\n",
    "feature_mean = feature_arr.mean()\n",
    "feature_std = feature_arr.std()\n"
   ]
  },
  {
   "cell_type": "code",
   "execution_count": 14,
   "metadata": {
    "collapsed": false
   },
   "outputs": [
    {
     "data": {
      "text/plain": [
       "(200, 29)"
      ]
     },
     "execution_count": 14,
     "metadata": {},
     "output_type": "execute_result"
    }
   ],
   "source": [
    "feature_arr.shape"
   ]
  },
  {
   "cell_type": "code",
   "execution_count": 12,
   "metadata": {
    "collapsed": false
   },
   "outputs": [
    {
     "data": {
      "text/plain": [
       "(29,)"
      ]
     },
     "execution_count": 12,
     "metadata": {},
     "output_type": "execute_result"
    }
   ],
   "source": [
    "a.shape"
   ]
  },
  {
   "cell_type": "code",
   "execution_count": 10,
   "metadata": {
    "collapsed": false
   },
   "outputs": [
    {
     "data": {
      "text/plain": [
       "nose_width               38.824862\n",
       "nose_length              72.734416\n",
       "lip_thickness            23.564804\n",
       "face_length             268.509996\n",
       "eye_height               12.449058\n",
       "eye_width                37.875731\n",
       "face_width_prom         204.899733\n",
       "face_width_mouth        170.120482\n",
       "forehead_length          97.390339\n",
       "distance_btw_pupils      92.885492\n",
       "dist_btw_pupils_top     100.879754\n",
       "dist_btw_pupils_lip      96.988734\n",
       "chin_length              52.762538\n",
       "length_cheek_to_chin    146.953907\n",
       "brow_to_hair             67.823665\n",
       "fWHR                      1.634932\n",
       "face_shape                0.766953\n",
       "heartshapeness            1.204205\n",
       "nose_shape                0.535173\n",
       "lip_fullness              0.088460\n",
       "eye_shape                 0.328674\n",
       "eye_size                  0.046624\n",
       "upper_head_len            0.360378\n",
       "midface_len               0.362797\n",
       "chin_size                 0.196896\n",
       "forehead_height           0.249768\n",
       "cheek_height              0.549957\n",
       "cheek_prominence          0.129916\n",
       "face_roundness            0.637037\n",
       "dtype: float64"
      ]
     },
     "execution_count": 10,
     "metadata": {},
     "output_type": "execute_result"
    }
   ],
   "source": [
    "# subtract mean, divide by standard deviation\n",
    "a"
   ]
  },
  {
   "cell_type": "code",
   "execution_count": null,
   "metadata": {
    "collapsed": true
   },
   "outputs": [],
   "source": []
  }
 ],
 "metadata": {
  "kernelspec": {
   "display_name": "Python 2",
   "language": "python",
   "name": "python2"
  },
  "language_info": {
   "codemirror_mode": {
    "name": "ipython",
    "version": 2
   },
   "file_extension": ".py",
   "mimetype": "text/x-python",
   "name": "python",
   "nbconvert_exporter": "python",
   "pygments_lexer": "ipython2",
   "version": "2.7.6"
  }
 },
 "nbformat": 4,
 "nbformat_minor": 0
}
