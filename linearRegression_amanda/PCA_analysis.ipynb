{
 "cells": [
  {
   "cell_type": "code",
   "execution_count": 28,
   "metadata": {
    "collapsed": true
   },
   "outputs": [],
   "source": [
    "# do PCA analysis on the new_feature_matrix.\n",
    "\n",
    "import pandas as pd\n",
    "import numpy as np\n",
    "import matplotlib.pyplot as plt\n",
    "import matplotlib.mlab as mlab\n",
    "%matplotlib inline\n",
    "from sklearn.decomposition import PCA"
   ]
  },
  {
   "cell_type": "code",
   "execution_count": 1,
   "metadata": {
    "collapsed": true
   },
   "outputs": [],
   "source": [
    "# load the new_feature_matrix\n",
    "feature_arr = pd.read_csv('new_feature_matrix.csv')\n",
    "del feature_arr['Unnamed: 0']\n",
    "feature_arr.head()"
   ]
  },
  {
   "cell_type": "code",
   "execution_count": 9,
   "metadata": {
    "collapsed": false
   },
   "outputs": [],
   "source": [
    "# convert the dataframe into a nparray\n",
    "feature_nparray = feature_arr.as_matrix()  # 200 * 24"
   ]
  },
  {
   "cell_type": "code",
   "execution_count": 17,
   "metadata": {
    "collapsed": false
   },
   "outputs": [
    {
     "data": {
      "text/plain": [
       "array([[  4.00842225e+00,   1.71787362e+00,  -1.68652263e+00, ...,\n",
       "         -6.91859735e-05,   5.97172009e-05,  -5.74898865e-05],\n",
       "       [ -1.23455213e+01,   1.82687205e+01,  -3.64795326e+00, ...,\n",
       "          4.28676305e-04,  -1.94819874e-03,  -3.59361207e-04],\n",
       "       [ -1.27392101e+01,   1.38112747e+01,  -7.27994725e+00, ...,\n",
       "         -7.99815034e-04,  -1.11247885e-04,   5.30207838e-04],\n",
       "       ..., \n",
       "       [  4.24691955e+01,  -3.43282120e+01,   4.80540623e-02, ...,\n",
       "          1.08255181e-03,   9.24199908e-04,  -2.00112012e-04],\n",
       "       [  5.98839562e+01,  -2.69580866e+01,  -5.16812198e+00, ...,\n",
       "          2.56689452e-03,  -2.47174607e-04,  -3.32497646e-04],\n",
       "       [  4.16831882e+01,  -2.89572815e+01,  -1.82164123e+01, ...,\n",
       "         -3.54494799e-03,   3.48988673e-03,  -6.59672759e-04]])"
      ]
     },
     "execution_count": 17,
     "metadata": {},
     "output_type": "execute_result"
    }
   ],
   "source": [
    "my_model = PCA()\n",
    "my_model.fit_transform(feature_nparray)"
   ]
  },
  {
   "cell_type": "code",
   "execution_count": 26,
   "metadata": {
    "collapsed": false
   },
   "outputs": [],
   "source": [
    "# print my_model.explained_variance_\n",
    "list = my_model.explained_variance_ratio_\n",
    "# list =  my_model.explained_variance_ratio_.cumsum()"
   ]
  },
  {
   "cell_type": "code",
   "execution_count": 27,
   "metadata": {
    "collapsed": true
   },
   "outputs": [],
   "source": [
    "# draw using bokeh\n",
    "from bokeh.charts import Histogram\n",
    "hist = Histogram(list)\n",
    "show(hist)"
   ]
  },
  {
   "cell_type": "code",
   "execution_count": 30,
   "metadata": {
    "collapsed": false
   },
   "outputs": [
    {
     "data": {
      "text/plain": [
       "(array([ 22.,   1.,   0.,   0.,   0.,   0.,   0.,   0.,   0.,   1.]),\n",
       " array([  5.64639285e-11,   8.09404325e-02,   1.61880865e-01,\n",
       "          2.42821298e-01,   3.23761730e-01,   4.04702162e-01,\n",
       "          4.85642595e-01,   5.66583027e-01,   6.47523460e-01,\n",
       "          7.28463892e-01,   8.09404325e-01]),\n",
       " <a list of 10 Patch objects>)"
      ]
     },
     "execution_count": 30,
     "metadata": {},
     "output_type": "execute_result"
    },
    {
     "data": {
      "image/png": "[encoded data removed]",
      "text/plain": [
       "<matplotlib.figure.Figure at 0x7fcd2d59d050>"
      ]
     },
     "metadata": {},
     "output_type": "display_data"
    }
   ],
   "source": [
    "# draw using matplot\n",
    "plt.hist(list)"
   ]
  },
  {
   "cell_type": "code",
   "execution_count": null,
   "metadata": {
    "collapsed": true
   },
   "outputs": [],
   "source": []
  }
 ],
 "metadata": {
  "kernelspec": {
   "display_name": "Python 2",
   "language": "python",
   "name": "python2"
  },
  "language_info": {
   "codemirror_mode": {
    "name": "ipython",
    "version": 2
   },
   "file_extension": ".py",
   "mimetype": "text/x-python",
   "name": "python",
   "nbconvert_exporter": "python",
   "pygments_lexer": "ipython2",
   "version": "2.7.6"
  }
 },
 "nbformat": 4,
 "nbformat_minor": 0
}
