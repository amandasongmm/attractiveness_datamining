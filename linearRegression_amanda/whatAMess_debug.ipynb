{
 "cells": [
  {
   "cell_type": "code",
   "execution_count": 1,
   "metadata": {
    "collapsed": true
   },
   "outputs": [],
   "source": [
    "import numpy as np\n",
    "import pandas as pd\n",
    "\n",
    "__author__ = 'amanda'\n",
    "\n",
    "raw_csv_path = '../ratingData/germine_CurrentBiology_twinaesthetics_PUBLIC.csv'\n",
    "df = pd.read_csv(raw_csv_path)\n",
    "\n",
    "# MIT 1-50, Glasgow 1-50, Others 1-50, Genhead 1-50, 200 face images in total\n",
    "half1_ind = np.r_[5:55, 70:120, 200:250, 265:315]   # ratings from the first person in a twin pair\n",
    "half2_ind = np.r_[399:449, 464:514, 594:644, 659:709]  # the same format, from the second person in a twin pair\n",
    "\n",
    "df_half1 = df.iloc[:, half1_ind]\n",
    "df_half2 = df.iloc[:, half2_ind]\n",
    "\n",
    "# To rename the column of dataframe1 and dataframe2 into im1 - im200, so we can concatenate them\n",
    "new_column_name = df_half1.columns.values\n",
    "count = 0\n",
    "for i in new_column_name:\n",
    "    new_column_name[count] = 'img'+str(count+1)\n",
    "    count += 1\n",
    "\n",
    "df_half1.columns = new_column_name\n",
    "df_half2.columns = new_column_name\n",
    "df_new = pd.concat([df_half1, df_half2])\n",
    "\n",
    "\n",
    "\n"
   ]
  },
  {
   "cell_type": "code",
   "execution_count": 22,
   "metadata": {
    "collapsed": false
   },
   "outputs": [
    {
     "ename": "ValueError",
     "evalue": "invalid literal for int() with base 10: '['",
     "output_type": "error",
     "traceback": [
      "\u001b[1;31m---------------------------------------------------------------------------\u001b[0m",
      "\u001b[1;31mValueError\u001b[0m                                Traceback (most recent call last)",
      "\u001b[1;32m<ipython-input-22-1344334b0ccd>\u001b[0m in \u001b[0;36m<module>\u001b[1;34m()\u001b[0m\n\u001b[1;32m----> 1\u001b[1;33m \u001b[0mT2\u001b[0m \u001b[1;33m=\u001b[0m \u001b[1;33m[\u001b[0m\u001b[0mmap\u001b[0m\u001b[1;33m(\u001b[0m\u001b[0mint\u001b[0m\u001b[1;33m,\u001b[0m \u001b[0mx\u001b[0m\u001b[1;33m)\u001b[0m \u001b[1;32mfor\u001b[0m \u001b[0mx\u001b[0m \u001b[1;32min\u001b[0m \u001b[0mdf_new\u001b[0m\u001b[1;33m[\u001b[0m\u001b[1;34m'img1'\u001b[0m\u001b[1;33m]\u001b[0m\u001b[1;33m]\u001b[0m\u001b[1;33m\u001b[0m\u001b[0m\n\u001b[0m\u001b[0;32m      2\u001b[0m \u001b[1;31m# df_new['img1'].plot()\u001b[0m\u001b[1;33m\u001b[0m\u001b[1;33m\u001b[0m\u001b[0m\n",
      "\u001b[1;31mValueError\u001b[0m: invalid literal for int() with base 10: '['"
     ]
    }
   ],
   "source": [
    "T2 = [map(int, x) for x in df_new['img1']]\n",
    "# df_new['img1'].plot()"
   ]
  },
  {
   "cell_type": "code",
   "execution_count": null,
   "metadata": {
    "collapsed": false
   },
   "outputs": [],
   "source": []
  },
  {
   "cell_type": "code",
   "execution_count": null,
   "metadata": {
    "collapsed": false
   },
   "outputs": [],
   "source": []
  },
  {
   "cell_type": "code",
   "execution_count": null,
   "metadata": {
    "collapsed": true
   },
   "outputs": [],
   "source": []
  }
 ],
 "metadata": {
  "kernelspec": {
   "display_name": "Python 2",
   "language": "python",
   "name": "python2"
  },
  "language_info": {
   "codemirror_mode": {
    "name": "ipython",
    "version": 2
   },
   "file_extension": ".py",
   "mimetype": "text/x-python",
   "name": "python",
   "nbconvert_exporter": "python",
   "pygments_lexer": "ipython2",
   "version": "2.7.6"
  }
 },
 "nbformat": 4,
 "nbformat_minor": 0
}
