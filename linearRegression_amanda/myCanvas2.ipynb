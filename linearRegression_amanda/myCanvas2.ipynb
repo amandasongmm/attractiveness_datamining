{
 "cells": [
  {
   "cell_type": "code",
   "execution_count": 89,
   "metadata": {
    "collapsed": false
   },
   "outputs": [
    {
     "name": "stdout",
     "output_type": "stream",
     "text": [
      "The number of PCs needed to retain 0.990 variance is 6.\n"
     ]
    }
   ],
   "source": [
    "import numpy as np\n",
    "import pandas as pd\n",
    "from sklearn.decomposition import PCA\n",
    "from sklearn import linear_model\n",
    "import matplotlib.pyplot as plt\n",
    "import matplotlib.mlab as mlab\n",
    "%matplotlib inline\n",
    "\n",
    "__author__ = 'amanda'\n",
    "\n",
    "# Load the face feature matrix\n",
    "feature_arr = pd.read_csv('allFeatures.csv')\n",
    "# Remove the irrelevant information\n",
    "del feature_arr['dataset']\n",
    "del feature_arr['img_num']\n",
    "\n",
    "\n",
    "# Do PCA to decorrelate the data\n",
    "explained_variance = 0.99\n",
    "pca = PCA(n_components=explained_variance)\n",
    "new_featureArray = pca.fit_transform(feature_arr)\n",
    "print 'The number of PCs needed to retain %.3f variance is %d.' \\\n",
    "      % (explained_variance, new_featureArray.shape[1])\n",
    "\n",
    "# Load the rating array\n",
    "full_rating = pd.read_csv('rating_matrix.csv', delimiter='\\t')\n",
    "del full_rating['Unnamed: 0']"
   ]
  },
  {
   "cell_type": "code",
   "execution_count": 99,
   "metadata": {
    "collapsed": false
   },
   "outputs": [],
   "source": [
    "correlation_list = np.zeros((full_rating.shape[0],1))\n",
    "variance_score_list = np.zeros((full_rating.shape[0],1))\n",
    "MSE_list = np.zeros((full_rating.shape[0],1))\n",
    "coefficients_array = np.zeros((full_rating.shape[0],new_featureArray.shape[1]))\n",
    "intercept_array = np.zeros((full_rating.shape[0], 1))\n",
    "\n",
    "for i in range(full_rating.shape[0]):\n",
    "    cur_subInd = i\n",
    "    one_rating = full_rating.iloc[i, :][:, None]\n",
    "    try:\n",
    "        one_rating = [map(int, x) for x in one_rating]\n",
    "    except ValueError:\n",
    "        one_rating = np.ones((200,1))\n",
    "    one_rating = [map(int, x) for x in one_rating]\n",
    "    one_rating = np.array(one_rating)\n",
    "    \n",
    "    # Do linear regression on feature_arr and one_rating\n",
    "    regr = linear_model.LinearRegression(fit_intercept=True)\n",
    "    regr.fit(new_featureArray, one_rating)\n",
    "    \n",
    "    coefficients_array[i, :] = regr.coef_\n",
    "    intercept_array[i] = regr.intercept_\n",
    "    \n",
    "    predicted_rating = regr.predict(new_featureArray)\n",
    "\n",
    "    # Calculate the mean square error\n",
    "    MSE = np.mean((predicted_rating - one_rating) ** 2)\n",
    "    MSE_list[i] = MSE\n",
    "\n",
    "    # Calculate how much variance is explained\n",
    "    variance_score = regr.score(new_featureArray, one_rating)\n",
    "    variance_score_list[i] = variance_score\n",
    "\n",
    "    # Calculate the correlation between prediction and actual rating.\n",
    "    cor = np.corrcoef(predicted_rating[:, 0], one_rating[:, 0])\n",
    "    correlation_list[i] = cor[0, 1]"
   ]
  },
  {
   "cell_type": "code",
   "execution_count": 98,
   "metadata": {
    "collapsed": false
   },
   "outputs": [
    {
     "data": {
      "text/plain": [
       "(1548, 200)"
      ]
     },
     "execution_count": 98,
     "metadata": {},
     "output_type": "execute_result"
    }
   ],
   "source": []
  },
  {
   "cell_type": "code",
   "execution_count": 100,
   "metadata": {
    "collapsed": false
   },
   "outputs": [
    {
     "data": {
      "image/png": "[encoded data removed]",
      "text/plain": [
       "<matplotlib.figure.Figure at 0x7fec84630510>"
      ]
     },
     "metadata": {},
     "output_type": "display_data"
    }
   ],
   "source": [
    "# Prepare data\n",
    "cor_list = filter(lambda v: v==v, correlation_list)\n",
    "cor_ave = np.mean(cor_list)\n",
    "var_score_ave = np.mean(variance_score_list)\n",
    "MSE_ave = np.mean(MSE_list)\n",
    "\n",
    "y = np.array((cor_ave, var_score_ave, MSE_ave))\n",
    "y_std = np.array((np.std(cor_list), np.std(variance_score_list), \\\n",
    "                  np.std(MSE_list)))\n",
    "\n",
    "N = 3  # number of data entries\n",
    "x = np.arange(N)  # the x locations for the groups\n",
    "width = 0.35  # bar width\n",
    "\n",
    "\n",
    "fig, ax = plt.subplots()\n",
    "\n",
    "rect = ax.bar(x, y, # data\n",
    "              width, # bar width\n",
    "              color = 'MediumSlateBlue',  # bar color\n",
    "               yerr = y_std, # data for error bars\n",
    "               error_kw = {'ecolor':'Tomato',\n",
    "                          'linewidth':2})\n",
    "\n",
    "axes = plt.gca()\n",
    "axes.set_ylim([0,3])  # y-axis bounds\n",
    "\n",
    "\n",
    "# Add some text for labels.\n",
    "ax.set_xticks(x+width)\n",
    "ax.set_xticklabels(('Correlation','VarianceScore','MeanSquaredError'))\n",
    "plt.show()\n",
    "# def autolabel(rect):\n",
    "#     height = rect.get_height()\n",
    "#     ax.text(rect.get_x() + rect.get_width()/2., 1.05*height, \n",
    "#            '%d' %int(height),\n",
    "#            ha = 'center',\n",
    "#            va = 'bottom')\n",
    "    \n",
    "# autolabel(rect)"
   ]
  },
  {
   "cell_type": "code",
   "execution_count": 125,
   "metadata": {
    "collapsed": false
   },
   "outputs": [
    {
     "data": {
      "image/png": "[encoded data removed]",
      "text/plain": [
       "<matplotlib.figure.Figure at 0x7fec84967a50>"
      ]
     },
     "metadata": {},
     "output_type": "display_data"
    }
   ],
   "source": [
    "# Prepare data\n",
    "# joint_array = np.concatenate((intercept_array,coefficients_array), axis=1)\n",
    "# joint_mean = np.mean(joint_array, axis=0)\n",
    "# joint_std = np.std(joint_array, axis=0)\n",
    "\n",
    "\n",
    "# y = joint_mean\n",
    "# y_std = joint_std\n",
    "\n",
    "y = np.mean(coefficients_array,axis=0)\n",
    "y_std = np.std(coefficients_array, axis=0)\n",
    "\n",
    "\n",
    "N = y.shape[0]  # number of data entries\n",
    "x = np.arange(N)  # the x locations for the groups\n",
    "width = 0.35  # bar width\n",
    "\n",
    "\n",
    "fig, ax = plt.subplots()\n",
    "\n",
    "rect = ax.bar(x, y, # data\n",
    "              width, # bar width\n",
    "              color = 'MediumSlateBlue',  # bar color\n",
    "               yerr = y_std, # data for error bars\n",
    "               error_kw = {'ecolor':'Tomato',\n",
    "                          'linewidth':2})\n",
    "\n",
    "axes = plt.gca()\n",
    "axes.set_ylim([-0.1,0.1])  # y-axis bounds\n",
    "\n",
    "\n",
    "# Add some text for labels.\n",
    "ax.set_xticks(x+width)\n",
    "ax.set_xticklabels(('PC1','PC2','PC3','PC4','PC5','PC6'))\n",
    "plt.show()"
   ]
  },
  {
   "cell_type": "code",
   "execution_count": 123,
   "metadata": {
    "collapsed": false
   },
   "outputs": [
    {
     "data": {
      "text/plain": [
       "array([-0.00119446, -0.00679796, -0.00865479,  0.05256434, -0.03698898,\n",
       "       -0.04198682])"
      ]
     },
     "execution_count": 123,
     "metadata": {},
     "output_type": "execute_result"
    }
   ],
   "source": [
    "y"
   ]
  },
  {
   "cell_type": "code",
   "execution_count": 112,
   "metadata": {
    "collapsed": false
   },
   "outputs": [
    {
     "data": {
      "text/plain": [
       "(7,)"
      ]
     },
     "execution_count": 112,
     "metadata": {},
     "output_type": "execute_result"
    }
   ],
   "source": []
  },
  {
   "cell_type": "code",
   "execution_count": 115,
   "metadata": {
    "collapsed": false
   },
   "outputs": [],
   "source": []
  },
  {
   "cell_type": "code",
   "execution_count": 117,
   "metadata": {
    "collapsed": false
   },
   "outputs": [
    {
     "data": {
      "text/plain": [
       "7"
      ]
     },
     "execution_count": 117,
     "metadata": {},
     "output_type": "execute_result"
    }
   ],
   "source": []
  },
  {
   "cell_type": "code",
   "execution_count": null,
   "metadata": {
    "collapsed": true
   },
   "outputs": [],
   "source": []
  }
 ],
 "metadata": {
  "kernelspec": {
   "display_name": "Python 2",
   "language": "python",
   "name": "python2"
  },
  "language_info": {
   "codemirror_mode": {
    "name": "ipython",
    "version": 2
   },
   "file_extension": ".py",
   "mimetype": "text/x-python",
   "name": "python",
   "nbconvert_exporter": "python",
   "pygments_lexer": "ipython2",
   "version": "2.7.6"
  }
 },
 "nbformat": 4,
 "nbformat_minor": 0
}
